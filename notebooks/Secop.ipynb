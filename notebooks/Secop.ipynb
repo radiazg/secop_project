{
 "cells": [
  {
   "cell_type": "code",
   "execution_count": 1,
   "outputs": [],
   "source": [
    "import requests\n",
    "import pandas as pd"
   ],
   "metadata": {
    "collapsed": false,
    "ExecuteTime": {
     "start_time": "2023-07-13T15:10:44.710154Z",
     "end_time": "2023-07-13T15:10:46.296077Z"
    }
   }
  },
  {
   "cell_type": "code",
   "execution_count": 2,
   "outputs": [
    {
     "name": "stderr",
     "output_type": "stream",
     "text": [
      "C:\\Users\\caste\\AppData\\Local\\Temp\\ipykernel_35464\\3374636744.py:3: DtypeWarning: Columns (50) have mixed types. Specify dtype option on import or set low_memory=False.\n",
      "  df = pd.read_csv(ruta_archivo)\n"
     ]
    }
   ],
   "source": [
    "ruta_archivo = r\"C:\\Users\\caste\\DataspellProjects\\cf-ml\\ProyectoSECOP2\\datos_filtradosv1.csv\"\n",
    "# Cargamos los datos del CSV a un DataFrame de pandas\n",
    "df = pd.read_csv(ruta_archivo)"
   ],
   "metadata": {
    "collapsed": false,
    "ExecuteTime": {
     "start_time": "2023-07-13T15:10:49.827450Z",
     "end_time": "2023-07-13T15:11:36.982052Z"
    }
   }
  },
  {
   "cell_type": "code",
   "execution_count": 6,
   "outputs": [
    {
     "name": "stdout",
     "output_type": "stream",
     "text": [
      "<class 'pandas.core.frame.DataFrame'>\n",
      "RangeIndex: 2689335 entries, 0 to 2689334\n",
      "Data columns (total 50 columns):\n",
      " #   Column                                                              Dtype  \n",
      "---  ------                                                              -----  \n",
      " 0   Nombre Entidad                                                      object \n",
      " 1   Nit Entidad                                                         int64  \n",
      " 2   Departamento                                                        object \n",
      " 3   Ciudad                                                              object \n",
      " 4   Localización                                                        object \n",
      " 5   Orden                                                               object \n",
      " 6   Sector                                                              object \n",
      " 7   Rama                                                                object \n",
      " 8   Entidad Centralizada                                                object \n",
      " 9   Estado Contrato                                                     object \n",
      " 10  Tipo de Contrato                                                    object \n",
      " 11  Modalidad de Contratacion                                           object \n",
      " 12  Fecha de Firma                                                      object \n",
      " 13  Fecha de Inicio del Contrato                                        object \n",
      " 14  Fecha de Fin del Contrato                                           object \n",
      " 15  Fecha de Inicio de Ejecucion                                        object \n",
      " 16  Fecha de Fin de Ejecucion                                           object \n",
      " 17  Condiciones de Entrega                                              object \n",
      " 18  TipoDocProveedor                                                    object \n",
      " 19  Es Grupo                                                            object \n",
      " 20  Es Pyme                                                             object \n",
      " 21  Habilita Pago Adelantado                                            object \n",
      " 22  Liquidación                                                         object \n",
      " 23  Obligación Ambiental                                                object \n",
      " 24  Obligaciones Postconsumo                                            object \n",
      " 25  Reversion                                                           object \n",
      " 26  Valor del Contrato                                                  int64  \n",
      " 27  Valor de pago adelantado                                            int64  \n",
      " 28  Valor Facturado                                                     int64  \n",
      " 29  Valor Pendiente de Pago                                             int64  \n",
      " 30  Valor Pagado                                                        int64  \n",
      " 31  Valor Amortizado                                                    int64  \n",
      " 32  Valor Pendiente de Amortizacion                                     int64  \n",
      " 33  Valor Pendiente de Ejecucion                                        float64\n",
      " 34  Saldo CDP                                                           int64  \n",
      " 35  Saldo Vigencia                                                      int64  \n",
      " 36  EsPostConflicto                                                     object \n",
      " 37  Destino Gasto                                                       object \n",
      " 38  Origen de los Recursos                                              object \n",
      " 39  Dias Adicionados                                                    int64  \n",
      " 40  Nacionalidad Representante Legal                                    object \n",
      " 41  Género Representante Legal                                          object \n",
      " 42  Presupuesto General de la Nacion – PGN                              int64  \n",
      " 43  Sistema General de Participaciones                                  int64  \n",
      " 44  Sistema General de Regalías                                         int64  \n",
      " 45  Recursos Propios (Alcaldías, Gobernaciones y Resguardos Indígenas)  int64  \n",
      " 46  Recursos de Credito                                                 int64  \n",
      " 47  Recursos Propios                                                    int64  \n",
      " 48  Fecha Inicio Liquidacion                                            object \n",
      " 49  Fecha Fin Liquidacion                                               object \n",
      "dtypes: float64(1), int64(17), object(32)\n",
      "memory usage: 1.0+ GB\n"
     ]
    }
   ],
   "source": [
    "# Seleccionamos las columnas que queremos mantener\n",
    "df = df[['Nombre Entidad', 'Nit Entidad', 'Departamento', 'Ciudad',\n",
    "         'Localización', 'Orden', 'Sector', 'Rama', 'Entidad Centralizada',\n",
    "         'Estado Contrato',\n",
    "         'Tipo de Contrato',\n",
    "         'Modalidad de Contratacion',\n",
    "         'Fecha de Firma', 'Fecha de Inicio del Contrato',\n",
    "         'Fecha de Fin del Contrato', 'Fecha de Inicio de Ejecucion',\n",
    "         'Fecha de Fin de Ejecucion', 'Condiciones de Entrega',\n",
    "         'TipoDocProveedor',\n",
    "         'Es Grupo', 'Es Pyme', 'Habilita Pago Adelantado', 'Liquidación',\n",
    "         'Obligación Ambiental', 'Obligaciones Postconsumo', 'Reversion',\n",
    "         'Valor del Contrato', 'Valor de pago adelantado', 'Valor Facturado',\n",
    "         'Valor Pendiente de Pago', 'Valor Pagado', 'Valor Amortizado',\n",
    "         'Valor Pendiente de Amortizacion', 'Valor Pendiente de Ejecucion',\n",
    "         'Saldo CDP',\n",
    "         'Saldo Vigencia', 'EsPostConflicto', 'Destino Gasto',\n",
    "         'Origen de los Recursos', 'Dias Adicionados',\n",
    "         'Nacionalidad Representante Legal',\n",
    "         'Género Representante Legal',\n",
    "         'Presupuesto General de la Nacion – PGN',\n",
    "         'Sistema General de Participaciones', 'Sistema General de Regalías',\n",
    "         'Recursos Propios (Alcaldías, Gobernaciones y Resguardos Indígenas)',\n",
    "         'Recursos de Credito', 'Recursos Propios',\n",
    "         'Fecha Inicio Liquidacion', 'Fecha Fin Liquidacion'\n",
    "         ]]\n",
    "\n",
    "df.info()"
   ],
   "metadata": {
    "collapsed": false,
    "ExecuteTime": {
     "start_time": "2023-07-13T15:34:40.334722Z",
     "end_time": "2023-07-13T15:34:41.096857Z"
    }
   }
  },
  {
   "cell_type": "markdown",
   "source": [
    "#### Filtrar por el estado del contrato"
   ],
   "metadata": {
    "collapsed": false
   }
  },
  {
   "cell_type": "markdown",
   "source": [
    "#### Conversion de las fechas a DateTime"
   ],
   "metadata": {
    "collapsed": false
   }
  },
  {
   "cell_type": "code",
   "execution_count": 9,
   "outputs": [
    {
     "name": "stderr",
     "output_type": "stream",
     "text": [
      "C:\\Users\\caste\\AppData\\Local\\Temp\\ipykernel_35464\\239712058.py:7: SettingWithCopyWarning: \n",
      "A value is trying to be set on a copy of a slice from a DataFrame.\n",
      "Try using .loc[row_indexer,col_indexer] = value instead\n",
      "\n",
      "See the caveats in the documentation: https://pandas.pydata.org/pandas-docs/stable/user_guide/indexing.html#returning-a-view-versus-a-copy\n",
      "  df[columna] = pd.to_datetime(df[columna], format='%m/%d/%Y', errors='coerce')\n",
      "C:\\Users\\caste\\AppData\\Local\\Temp\\ipykernel_35464\\239712058.py:8: SettingWithCopyWarning: \n",
      "A value is trying to be set on a copy of a slice from a DataFrame.\n",
      "Try using .loc[row_indexer,col_indexer] = value instead\n",
      "\n",
      "See the caveats in the documentation: https://pandas.pydata.org/pandas-docs/stable/user_guide/indexing.html#returning-a-view-versus-a-copy\n",
      "  df[columna] = pd.to_datetime(df[columna], format='%Y-%m-%d %H:%M:%S', errors='coerce')\n",
      "C:\\Users\\caste\\AppData\\Local\\Temp\\ipykernel_35464\\239712058.py:7: SettingWithCopyWarning: \n",
      "A value is trying to be set on a copy of a slice from a DataFrame.\n",
      "Try using .loc[row_indexer,col_indexer] = value instead\n",
      "\n",
      "See the caveats in the documentation: https://pandas.pydata.org/pandas-docs/stable/user_guide/indexing.html#returning-a-view-versus-a-copy\n",
      "  df[columna] = pd.to_datetime(df[columna], format='%m/%d/%Y', errors='coerce')\n",
      "C:\\Users\\caste\\AppData\\Local\\Temp\\ipykernel_35464\\239712058.py:8: SettingWithCopyWarning: \n",
      "A value is trying to be set on a copy of a slice from a DataFrame.\n",
      "Try using .loc[row_indexer,col_indexer] = value instead\n",
      "\n",
      "See the caveats in the documentation: https://pandas.pydata.org/pandas-docs/stable/user_guide/indexing.html#returning-a-view-versus-a-copy\n",
      "  df[columna] = pd.to_datetime(df[columna], format='%Y-%m-%d %H:%M:%S', errors='coerce')\n",
      "C:\\Users\\caste\\AppData\\Local\\Temp\\ipykernel_35464\\239712058.py:7: SettingWithCopyWarning: \n",
      "A value is trying to be set on a copy of a slice from a DataFrame.\n",
      "Try using .loc[row_indexer,col_indexer] = value instead\n",
      "\n",
      "See the caveats in the documentation: https://pandas.pydata.org/pandas-docs/stable/user_guide/indexing.html#returning-a-view-versus-a-copy\n",
      "  df[columna] = pd.to_datetime(df[columna], format='%m/%d/%Y', errors='coerce')\n",
      "C:\\Users\\caste\\AppData\\Local\\Temp\\ipykernel_35464\\239712058.py:8: SettingWithCopyWarning: \n",
      "A value is trying to be set on a copy of a slice from a DataFrame.\n",
      "Try using .loc[row_indexer,col_indexer] = value instead\n",
      "\n",
      "See the caveats in the documentation: https://pandas.pydata.org/pandas-docs/stable/user_guide/indexing.html#returning-a-view-versus-a-copy\n",
      "  df[columna] = pd.to_datetime(df[columna], format='%Y-%m-%d %H:%M:%S', errors='coerce')\n",
      "C:\\Users\\caste\\AppData\\Local\\Temp\\ipykernel_35464\\239712058.py:7: SettingWithCopyWarning: \n",
      "A value is trying to be set on a copy of a slice from a DataFrame.\n",
      "Try using .loc[row_indexer,col_indexer] = value instead\n",
      "\n",
      "See the caveats in the documentation: https://pandas.pydata.org/pandas-docs/stable/user_guide/indexing.html#returning-a-view-versus-a-copy\n",
      "  df[columna] = pd.to_datetime(df[columna], format='%m/%d/%Y', errors='coerce')\n",
      "C:\\Users\\caste\\AppData\\Local\\Temp\\ipykernel_35464\\239712058.py:8: SettingWithCopyWarning: \n",
      "A value is trying to be set on a copy of a slice from a DataFrame.\n",
      "Try using .loc[row_indexer,col_indexer] = value instead\n",
      "\n",
      "See the caveats in the documentation: https://pandas.pydata.org/pandas-docs/stable/user_guide/indexing.html#returning-a-view-versus-a-copy\n",
      "  df[columna] = pd.to_datetime(df[columna], format='%Y-%m-%d %H:%M:%S', errors='coerce')\n",
      "C:\\Users\\caste\\AppData\\Local\\Temp\\ipykernel_35464\\239712058.py:7: SettingWithCopyWarning: \n",
      "A value is trying to be set on a copy of a slice from a DataFrame.\n",
      "Try using .loc[row_indexer,col_indexer] = value instead\n",
      "\n",
      "See the caveats in the documentation: https://pandas.pydata.org/pandas-docs/stable/user_guide/indexing.html#returning-a-view-versus-a-copy\n",
      "  df[columna] = pd.to_datetime(df[columna], format='%m/%d/%Y', errors='coerce')\n",
      "C:\\Users\\caste\\AppData\\Local\\Temp\\ipykernel_35464\\239712058.py:8: SettingWithCopyWarning: \n",
      "A value is trying to be set on a copy of a slice from a DataFrame.\n",
      "Try using .loc[row_indexer,col_indexer] = value instead\n",
      "\n",
      "See the caveats in the documentation: https://pandas.pydata.org/pandas-docs/stable/user_guide/indexing.html#returning-a-view-versus-a-copy\n",
      "  df[columna] = pd.to_datetime(df[columna], format='%Y-%m-%d %H:%M:%S', errors='coerce')\n",
      "C:\\Users\\caste\\AppData\\Local\\Temp\\ipykernel_35464\\239712058.py:7: SettingWithCopyWarning: \n",
      "A value is trying to be set on a copy of a slice from a DataFrame.\n",
      "Try using .loc[row_indexer,col_indexer] = value instead\n",
      "\n",
      "See the caveats in the documentation: https://pandas.pydata.org/pandas-docs/stable/user_guide/indexing.html#returning-a-view-versus-a-copy\n",
      "  df[columna] = pd.to_datetime(df[columna], format='%m/%d/%Y', errors='coerce')\n",
      "C:\\Users\\caste\\AppData\\Local\\Temp\\ipykernel_35464\\239712058.py:8: SettingWithCopyWarning: \n",
      "A value is trying to be set on a copy of a slice from a DataFrame.\n",
      "Try using .loc[row_indexer,col_indexer] = value instead\n",
      "\n",
      "See the caveats in the documentation: https://pandas.pydata.org/pandas-docs/stable/user_guide/indexing.html#returning-a-view-versus-a-copy\n",
      "  df[columna] = pd.to_datetime(df[columna], format='%Y-%m-%d %H:%M:%S', errors='coerce')\n",
      "C:\\Users\\caste\\AppData\\Local\\Temp\\ipykernel_35464\\239712058.py:7: SettingWithCopyWarning: \n",
      "A value is trying to be set on a copy of a slice from a DataFrame.\n",
      "Try using .loc[row_indexer,col_indexer] = value instead\n",
      "\n",
      "See the caveats in the documentation: https://pandas.pydata.org/pandas-docs/stable/user_guide/indexing.html#returning-a-view-versus-a-copy\n",
      "  df[columna] = pd.to_datetime(df[columna], format='%m/%d/%Y', errors='coerce')\n",
      "C:\\Users\\caste\\AppData\\Local\\Temp\\ipykernel_35464\\239712058.py:8: SettingWithCopyWarning: \n",
      "A value is trying to be set on a copy of a slice from a DataFrame.\n",
      "Try using .loc[row_indexer,col_indexer] = value instead\n",
      "\n",
      "See the caveats in the documentation: https://pandas.pydata.org/pandas-docs/stable/user_guide/indexing.html#returning-a-view-versus-a-copy\n",
      "  df[columna] = pd.to_datetime(df[columna], format='%Y-%m-%d %H:%M:%S', errors='coerce')\n"
     ]
    }
   ],
   "source": [
    "columnas_fecha = ['Fecha de Firma', 'Fecha de Inicio del Contrato', 'Fecha de Fin del Contrato',\n",
    "                  'Fecha de Inicio de Ejecucion', 'Fecha de Fin de Ejecucion', 'Fecha Inicio Liquidacion',\n",
    "                  'Fecha Fin Liquidacion']\n",
    "\n",
    "# Iterar sobre las columnas y convertirlas al tipo de dato 'date'\n",
    "for columna in columnas_fecha:\n",
    "    df[columna] = pd.to_datetime(df[columna], format='%m/%d/%Y', errors='coerce')\n",
    "    df[columna] = pd.to_datetime(df[columna], format='%Y-%m-%d %H:%M:%S', errors='coerce')"
   ],
   "metadata": {
    "collapsed": false,
    "ExecuteTime": {
     "start_time": "2023-07-13T15:35:36.094335Z",
     "end_time": "2023-07-13T15:35:39.024351Z"
    }
   }
  },
  {
   "cell_type": "code",
   "execution_count": 10,
   "outputs": [
    {
     "data": {
      "text/plain": "(608240, 50)"
     },
     "execution_count": 10,
     "metadata": {},
     "output_type": "execute_result"
    }
   ],
   "source": [
    "estados_contrato = [\"terminado\", \"Cerrado\", \"cedido\", \"Prorrogado\", \"Suspendido\"]\n",
    "\n",
    "# Filtrar las filas del dataframe basándote en la columna \"Estado Contrato\"\n",
    "df_filtrado = df[df[\"Estado Contrato\"].isin(estados_contrato)]\n",
    "df_filtrado.shape"
   ],
   "metadata": {
    "collapsed": false,
    "ExecuteTime": {
     "start_time": "2023-07-13T15:35:45.376049Z",
     "end_time": "2023-07-13T15:35:45.927049Z"
    }
   }
  },
  {
   "cell_type": "markdown",
   "source": [
    "#### Filtrar por año del contrato"
   ],
   "metadata": {
    "collapsed": false
   }
  },
  {
   "cell_type": "code",
   "execution_count": 12,
   "outputs": [
    {
     "data": {
      "text/plain": "                                            Nombre Entidad  Nit Entidad   \n0                                ALCALDIA DE FLORIDABLANCA    890205176  \\\n2                                  SENA REGIONAL ATLANTICO    899999034   \n3                 MINISTERIO DE HACIENDA Y CREDITO PUBLICO    899999090   \n9                              AGENCIA DE DESARROLLO RURAL    900948958   \n10       INSTITUTO COLOMBIANO PARA LA EVALUACIÓN DE LA ...    860024301   \n...                                                    ...          ...   \n2689323             ASAMBLEA DEPARTAMENTAL DE CUNDINAMARCA    899999716   \n2689327                     POLICIA METROPOLITANA DE NEIVA    900634185   \n2689331   SUBRED INTEGRADA DE SERVICIOS DE SALUD NORTE ESE    900971006   \n2689332  SENAREGIONAL ATLANTICO CENTRO PARA EL DESARROL...    899999034   \n2689333                                 MUNICIPIO DE NEIVA    891180009   \n\n                       Departamento         Ciudad   \n0                         Santander  Floridablanca  \\\n2                         Atlántico   Barranquilla   \n3        Distrito Capital de Bogotá    No Definido   \n9        Distrito Capital de Bogotá    No Definido   \n10       Distrito Capital de Bogotá         Bogotá   \n...                             ...            ...   \n2689323                Cundinamarca    No Definido   \n2689327                       Huila          Neiva   \n2689331  Distrito Capital de Bogotá    No Definido   \n2689332                   Atlántico    Sabanalarga   \n2689333                       Huila          Neiva   \n\n                                 Localización        Orden   \n0          Colombia, Santander, Floridablanca  Territorial  \\\n2        Colombia,  Atlántico ,  Barranquilla     Nacional   \n3                    Colombia, Bogotá, Bogotá     Nacional   \n9                    Colombia, Bogotá, Bogotá     Nacional   \n10                   Colombia, Bogotá, Bogotá     Nacional   \n...                                       ...          ...   \n2689323               Colombia,  Cundinamarca  Territorial   \n2689327                Colombia, Huila, Neiva     Nacional   \n2689331              Colombia, Bogotá, Bogotá  Territorial   \n2689332   Colombia,  Atlántico ,  Sabanalarga     Nacional   \n2689333             Colombia,  Huila ,  Neiva  Territorial   \n\n                             Sector                  Rama   \n0                  Servicio Público             Ejecutivo  \\\n2                Educación Nacional             Ejecutivo   \n3        Hacienda y Crédito Público             Ejecutivo   \n9                       agricultura             Ejecutivo   \n10               Educación Nacional  Corporación Autónoma   \n...                             ...                   ...   \n2689323      No aplica/No pertenece             Ejecutivo   \n2689327                     defensa             Ejecutivo   \n2689331   Salud y Protección Social  Corporación Autónoma   \n2689332                     Trabajo             Ejecutivo   \n2689333            Servicio Público             Ejecutivo   \n\n        Entidad Centralizada Estado Contrato  ...   \n0               Centralizada       terminado  ...  \\\n2               Centralizada          cedido  ...   \n3                No Definido         Cerrado  ...   \n9            Descentralizada       terminado  ...   \n10           Descentralizada       terminado  ...   \n...                      ...             ...  ...   \n2689323      Descentralizada         Cerrado  ...   \n2689327      Descentralizada       terminado  ...   \n2689331      Descentralizada       terminado  ...   \n2689332         Centralizada          cedido  ...   \n2689333         Centralizada         Cerrado  ...   \n\n        Nacionalidad Representante Legal Género Representante Legal   \n0                             COLOMBIANA                     Hombre  \\\n2                             Colombiana                No Definido   \n3                             colombiano                No Definido   \n9                             Colombiana                      Mujer   \n10                            Colombiano                No Definido   \n...                                  ...                        ...   \n2689323                       Colombiana                No Definido   \n2689327                       COLOMBIANA                No Definido   \n2689331                       Colombiana                      Mujer   \n2689332                       colombiana                No Definido   \n2689333                         COLOMBIA                      Mujer   \n\n        Presupuesto General de la Nacion – PGN   \n0                                            0  \\\n2                                            0   \n3                                            0   \n9                                     22032000   \n10                                           0   \n...                                        ...   \n2689323                                      0   \n2689327                               24500000   \n2689331                                      0   \n2689332                               20680000   \n2689333                                      0   \n\n        Sistema General de Participaciones Sistema General de Regalías   \n0                                        0                           0  \\\n2                                        0                           0   \n3                                        0                           0   \n9                                        0                           0   \n10                                       0                           0   \n...                                    ...                         ...   \n2689323                                  0                           0   \n2689327                                  0                           0   \n2689331                                  0                           0   \n2689332                                  0                           0   \n2689333                                  0                           0   \n\n        Recursos Propios (Alcaldías, Gobernaciones y Resguardos Indígenas)   \n0                                                 13750000                  \\\n2                                                        0                   \n3                                                        0                   \n9                                                        0                   \n10                                                       0                   \n...                                                    ...                   \n2689323                                                  0                   \n2689327                                                  0                   \n2689331                                                  0                   \n2689332                                                  0                   \n2689333                                            1800000                   \n\n        Recursos de Credito Recursos Propios Fecha Inicio Liquidacion   \n0                         0                0                      NaT  \\\n2                         0                0                      NaT   \n3                         0                0                      NaT   \n9                         0                0                      NaT   \n10                        0         49500000                      NaT   \n...                     ...              ...                      ...   \n2689323                   0                0                      NaT   \n2689327                   0                0                      NaT   \n2689331                   0          6957491                      NaT   \n2689332                   0                0                      NaT   \n2689333                   0                0                      NaT   \n\n        Fecha Fin Liquidacion  \n0                         NaT  \n2                         NaT  \n3                         NaT  \n9                         NaT  \n10                        NaT  \n...                       ...  \n2689323                   NaT  \n2689327                   NaT  \n2689331                   NaT  \n2689332                   NaT  \n2689333                   NaT  \n\n[607600 rows x 50 columns]",
      "text/html": "<div>\n<style scoped>\n    .dataframe tbody tr th:only-of-type {\n        vertical-align: middle;\n    }\n\n    .dataframe tbody tr th {\n        vertical-align: top;\n    }\n\n    .dataframe thead th {\n        text-align: right;\n    }\n</style>\n<table border=\"1\" class=\"dataframe\">\n  <thead>\n    <tr style=\"text-align: right;\">\n      <th></th>\n      <th>Nombre Entidad</th>\n      <th>Nit Entidad</th>\n      <th>Departamento</th>\n      <th>Ciudad</th>\n      <th>Localización</th>\n      <th>Orden</th>\n      <th>Sector</th>\n      <th>Rama</th>\n      <th>Entidad Centralizada</th>\n      <th>Estado Contrato</th>\n      <th>...</th>\n      <th>Nacionalidad Representante Legal</th>\n      <th>Género Representante Legal</th>\n      <th>Presupuesto General de la Nacion – PGN</th>\n      <th>Sistema General de Participaciones</th>\n      <th>Sistema General de Regalías</th>\n      <th>Recursos Propios (Alcaldías, Gobernaciones y Resguardos Indígenas)</th>\n      <th>Recursos de Credito</th>\n      <th>Recursos Propios</th>\n      <th>Fecha Inicio Liquidacion</th>\n      <th>Fecha Fin Liquidacion</th>\n    </tr>\n  </thead>\n  <tbody>\n    <tr>\n      <th>0</th>\n      <td>ALCALDIA DE FLORIDABLANCA</td>\n      <td>890205176</td>\n      <td>Santander</td>\n      <td>Floridablanca</td>\n      <td>Colombia, Santander, Floridablanca</td>\n      <td>Territorial</td>\n      <td>Servicio Público</td>\n      <td>Ejecutivo</td>\n      <td>Centralizada</td>\n      <td>terminado</td>\n      <td>...</td>\n      <td>COLOMBIANA</td>\n      <td>Hombre</td>\n      <td>0</td>\n      <td>0</td>\n      <td>0</td>\n      <td>13750000</td>\n      <td>0</td>\n      <td>0</td>\n      <td>NaT</td>\n      <td>NaT</td>\n    </tr>\n    <tr>\n      <th>2</th>\n      <td>SENA REGIONAL ATLANTICO</td>\n      <td>899999034</td>\n      <td>Atlántico</td>\n      <td>Barranquilla</td>\n      <td>Colombia,  Atlántico ,  Barranquilla</td>\n      <td>Nacional</td>\n      <td>Educación Nacional</td>\n      <td>Ejecutivo</td>\n      <td>Centralizada</td>\n      <td>cedido</td>\n      <td>...</td>\n      <td>Colombiana</td>\n      <td>No Definido</td>\n      <td>0</td>\n      <td>0</td>\n      <td>0</td>\n      <td>0</td>\n      <td>0</td>\n      <td>0</td>\n      <td>NaT</td>\n      <td>NaT</td>\n    </tr>\n    <tr>\n      <th>3</th>\n      <td>MINISTERIO DE HACIENDA Y CREDITO PUBLICO</td>\n      <td>899999090</td>\n      <td>Distrito Capital de Bogotá</td>\n      <td>No Definido</td>\n      <td>Colombia, Bogotá, Bogotá</td>\n      <td>Nacional</td>\n      <td>Hacienda y Crédito Público</td>\n      <td>Ejecutivo</td>\n      <td>No Definido</td>\n      <td>Cerrado</td>\n      <td>...</td>\n      <td>colombiano</td>\n      <td>No Definido</td>\n      <td>0</td>\n      <td>0</td>\n      <td>0</td>\n      <td>0</td>\n      <td>0</td>\n      <td>0</td>\n      <td>NaT</td>\n      <td>NaT</td>\n    </tr>\n    <tr>\n      <th>9</th>\n      <td>AGENCIA DE DESARROLLO RURAL</td>\n      <td>900948958</td>\n      <td>Distrito Capital de Bogotá</td>\n      <td>No Definido</td>\n      <td>Colombia, Bogotá, Bogotá</td>\n      <td>Nacional</td>\n      <td>agricultura</td>\n      <td>Ejecutivo</td>\n      <td>Descentralizada</td>\n      <td>terminado</td>\n      <td>...</td>\n      <td>Colombiana</td>\n      <td>Mujer</td>\n      <td>22032000</td>\n      <td>0</td>\n      <td>0</td>\n      <td>0</td>\n      <td>0</td>\n      <td>0</td>\n      <td>NaT</td>\n      <td>NaT</td>\n    </tr>\n    <tr>\n      <th>10</th>\n      <td>INSTITUTO COLOMBIANO PARA LA EVALUACIÓN DE LA ...</td>\n      <td>860024301</td>\n      <td>Distrito Capital de Bogotá</td>\n      <td>Bogotá</td>\n      <td>Colombia, Bogotá, Bogotá</td>\n      <td>Nacional</td>\n      <td>Educación Nacional</td>\n      <td>Corporación Autónoma</td>\n      <td>Descentralizada</td>\n      <td>terminado</td>\n      <td>...</td>\n      <td>Colombiano</td>\n      <td>No Definido</td>\n      <td>0</td>\n      <td>0</td>\n      <td>0</td>\n      <td>0</td>\n      <td>0</td>\n      <td>49500000</td>\n      <td>NaT</td>\n      <td>NaT</td>\n    </tr>\n    <tr>\n      <th>...</th>\n      <td>...</td>\n      <td>...</td>\n      <td>...</td>\n      <td>...</td>\n      <td>...</td>\n      <td>...</td>\n      <td>...</td>\n      <td>...</td>\n      <td>...</td>\n      <td>...</td>\n      <td>...</td>\n      <td>...</td>\n      <td>...</td>\n      <td>...</td>\n      <td>...</td>\n      <td>...</td>\n      <td>...</td>\n      <td>...</td>\n      <td>...</td>\n      <td>...</td>\n      <td>...</td>\n    </tr>\n    <tr>\n      <th>2689323</th>\n      <td>ASAMBLEA DEPARTAMENTAL DE CUNDINAMARCA</td>\n      <td>899999716</td>\n      <td>Cundinamarca</td>\n      <td>No Definido</td>\n      <td>Colombia,  Cundinamarca</td>\n      <td>Territorial</td>\n      <td>No aplica/No pertenece</td>\n      <td>Ejecutivo</td>\n      <td>Descentralizada</td>\n      <td>Cerrado</td>\n      <td>...</td>\n      <td>Colombiana</td>\n      <td>No Definido</td>\n      <td>0</td>\n      <td>0</td>\n      <td>0</td>\n      <td>0</td>\n      <td>0</td>\n      <td>0</td>\n      <td>NaT</td>\n      <td>NaT</td>\n    </tr>\n    <tr>\n      <th>2689327</th>\n      <td>POLICIA METROPOLITANA DE NEIVA</td>\n      <td>900634185</td>\n      <td>Huila</td>\n      <td>Neiva</td>\n      <td>Colombia, Huila, Neiva</td>\n      <td>Nacional</td>\n      <td>defensa</td>\n      <td>Ejecutivo</td>\n      <td>Descentralizada</td>\n      <td>terminado</td>\n      <td>...</td>\n      <td>COLOMBIANA</td>\n      <td>No Definido</td>\n      <td>24500000</td>\n      <td>0</td>\n      <td>0</td>\n      <td>0</td>\n      <td>0</td>\n      <td>0</td>\n      <td>NaT</td>\n      <td>NaT</td>\n    </tr>\n    <tr>\n      <th>2689331</th>\n      <td>SUBRED INTEGRADA DE SERVICIOS DE SALUD NORTE ESE</td>\n      <td>900971006</td>\n      <td>Distrito Capital de Bogotá</td>\n      <td>No Definido</td>\n      <td>Colombia, Bogotá, Bogotá</td>\n      <td>Territorial</td>\n      <td>Salud y Protección Social</td>\n      <td>Corporación Autónoma</td>\n      <td>Descentralizada</td>\n      <td>terminado</td>\n      <td>...</td>\n      <td>Colombiana</td>\n      <td>Mujer</td>\n      <td>0</td>\n      <td>0</td>\n      <td>0</td>\n      <td>0</td>\n      <td>0</td>\n      <td>6957491</td>\n      <td>NaT</td>\n      <td>NaT</td>\n    </tr>\n    <tr>\n      <th>2689332</th>\n      <td>SENAREGIONAL ATLANTICO CENTRO PARA EL DESARROL...</td>\n      <td>899999034</td>\n      <td>Atlántico</td>\n      <td>Sabanalarga</td>\n      <td>Colombia,  Atlántico ,  Sabanalarga</td>\n      <td>Nacional</td>\n      <td>Trabajo</td>\n      <td>Ejecutivo</td>\n      <td>Centralizada</td>\n      <td>cedido</td>\n      <td>...</td>\n      <td>colombiana</td>\n      <td>No Definido</td>\n      <td>20680000</td>\n      <td>0</td>\n      <td>0</td>\n      <td>0</td>\n      <td>0</td>\n      <td>0</td>\n      <td>NaT</td>\n      <td>NaT</td>\n    </tr>\n    <tr>\n      <th>2689333</th>\n      <td>MUNICIPIO DE NEIVA</td>\n      <td>891180009</td>\n      <td>Huila</td>\n      <td>Neiva</td>\n      <td>Colombia,  Huila ,  Neiva</td>\n      <td>Territorial</td>\n      <td>Servicio Público</td>\n      <td>Ejecutivo</td>\n      <td>Centralizada</td>\n      <td>Cerrado</td>\n      <td>...</td>\n      <td>COLOMBIA</td>\n      <td>Mujer</td>\n      <td>0</td>\n      <td>0</td>\n      <td>0</td>\n      <td>1800000</td>\n      <td>0</td>\n      <td>0</td>\n      <td>NaT</td>\n      <td>NaT</td>\n    </tr>\n  </tbody>\n</table>\n<p>607600 rows × 50 columns</p>\n</div>"
     },
     "execution_count": 12,
     "metadata": {},
     "output_type": "execute_result"
    }
   ],
   "source": [
    "df_filtradoAnio = df_filtrado[df_filtrado['Fecha de Inicio del Contrato'].dt.year >= 2017]\n",
    "df_filtradoAnio"
   ],
   "metadata": {
    "collapsed": false,
    "ExecuteTime": {
     "start_time": "2023-07-13T15:36:15.557153Z",
     "end_time": "2023-07-13T15:36:16.218153Z"
    }
   }
  }
 ],
 "metadata": {
  "kernelspec": {
   "display_name": "Python 3",
   "language": "python",
   "name": "python3"
  },
  "language_info": {
   "codemirror_mode": {
    "name": "ipython",
    "version": 2
   },
   "file_extension": ".py",
   "mimetype": "text/x-python",
   "name": "python",
   "nbconvert_exporter": "python",
   "pygments_lexer": "ipython2",
   "version": "2.7.6"
  }
 },
 "nbformat": 4,
 "nbformat_minor": 0
}
