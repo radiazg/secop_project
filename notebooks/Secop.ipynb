{
 "cells": [
  {
   "cell_type": "code",
   "execution_count": 1,
   "outputs": [],
   "source": [
    "import requests\n",
    "import pandas as pd"
   ],
   "metadata": {
    "collapsed": false,
    "ExecuteTime": {
     "start_time": "2023-07-18T19:08:44.417382Z",
     "end_time": "2023-07-18T19:08:46.135920Z"
    }
   }
  },
  {
   "cell_type": "code",
   "execution_count": 2,
   "outputs": [
    {
     "name": "stderr",
     "output_type": "stream",
     "text": [
      "C:\\Users\\caste\\AppData\\Local\\Temp\\ipykernel_36572\\1893727086.py:3: DtypeWarning: Columns (50) have mixed types. Specify dtype option on import or set low_memory=False.\n",
      "  df = pd.read_csv(ruta_archivo)\n"
     ]
    }
   ],
   "source": [
    "ruta_archivo = r\"../data/processed/datos_filtradosv1.csv\"\n",
    "# Cargamos los datos del CSV a un DataFrame de pandas\n",
    "df = pd.read_csv(ruta_archivo)"
   ],
   "metadata": {
    "collapsed": false,
    "ExecuteTime": {
     "start_time": "2023-07-18T19:08:46.132919Z",
     "end_time": "2023-07-18T19:09:45.863954Z"
    }
   }
  },
  {
   "cell_type": "code",
   "execution_count": 3,
   "outputs": [
    {
     "name": "stdout",
     "output_type": "stream",
     "text": [
      "<class 'pandas.core.frame.DataFrame'>\n",
      "RangeIndex: 2689335 entries, 0 to 2689334\n",
      "Data columns (total 33 columns):\n",
      " #   Column                                                              Dtype  \n",
      "---  ------                                                              -----  \n",
      " 0   Departamento                                                        object \n",
      " 1   Orden                                                               object \n",
      " 2   Sector                                                              object \n",
      " 3   Rama                                                                object \n",
      " 4   Entidad Centralizada                                                object \n",
      " 5   Estado Contrato                                                     object \n",
      " 6   Tipo de Contrato                                                    object \n",
      " 7   Modalidad de Contratacion                                           object \n",
      " 8   Fecha de Firma                                                      object \n",
      " 9   Fecha de Inicio del Contrato                                        object \n",
      " 10  Fecha de Fin del Contrato                                           object \n",
      " 11  Fecha de Inicio de Ejecucion                                        object \n",
      " 12  Fecha de Fin de Ejecucion                                           object \n",
      " 13  Condiciones de Entrega                                              object \n",
      " 14  Es Grupo                                                            object \n",
      " 15  Es Pyme                                                             object \n",
      " 16  Habilita Pago Adelantado                                            object \n",
      " 17  Liquidación                                                         object \n",
      " 18  Obligación Ambiental                                                object \n",
      " 19  Valor del Contrato                                                  int64  \n",
      " 20  Valor Facturado                                                     int64  \n",
      " 21  Valor Pendiente de Pago                                             int64  \n",
      " 22  Valor Pagado                                                        int64  \n",
      " 23  Valor Pendiente de Ejecucion                                        float64\n",
      " 24  Saldo CDP                                                           int64  \n",
      " 25  EsPostConflicto                                                     object \n",
      " 26  Destino Gasto                                                       object \n",
      " 27  Origen de los Recursos                                              object \n",
      " 28  Dias Adicionados                                                    int64  \n",
      " 29  Género Representante Legal                                          object \n",
      " 30  Presupuesto General de la Nacion – PGN                              int64  \n",
      " 31  Recursos Propios (Alcaldías, Gobernaciones y Resguardos Indígenas)  int64  \n",
      " 32  Recursos Propios                                                    int64  \n",
      "dtypes: float64(1), int64(9), object(23)\n",
      "memory usage: 677.1+ MB\n"
     ]
    }
   ],
   "source": [
    "# Seleccionamos las columnas que queremos mantener\n",
    "df = df[['Departamento',\n",
    "         'Orden', 'Sector', 'Rama', 'Entidad Centralizada',\n",
    "         'Estado Contrato',\n",
    "         'Tipo de Contrato',\n",
    "         'Modalidad de Contratacion',\n",
    "         'Fecha de Firma', 'Fecha de Inicio del Contrato',\n",
    "         'Fecha de Fin del Contrato', 'Fecha de Inicio de Ejecucion',\n",
    "         'Fecha de Fin de Ejecucion', 'Condiciones de Entrega',\n",
    "         'Es Grupo', 'Es Pyme', 'Habilita Pago Adelantado', 'Liquidación',\n",
    "         'Obligación Ambiental',\n",
    "         'Valor del Contrato', 'Valor Facturado',\n",
    "         'Valor Pendiente de Pago', 'Valor Pagado',\n",
    "         'Valor Pendiente de Ejecucion',\n",
    "         'Saldo CDP',\n",
    "         'EsPostConflicto', 'Destino Gasto',\n",
    "         'Origen de los Recursos', 'Dias Adicionados',\n",
    "         'Género Representante Legal',\n",
    "         'Presupuesto General de la Nacion – PGN',\n",
    "         'Recursos Propios (Alcaldías, Gobernaciones y Resguardos Indígenas)',\n",
    "         'Recursos Propios'\n",
    "         ]]\n",
    "\n",
    "df.info()"
   ],
   "metadata": {
    "collapsed": false,
    "ExecuteTime": {
     "start_time": "2023-07-18T19:09:45.867955Z",
     "end_time": "2023-07-18T19:09:47.279622Z"
    }
   }
  },
  {
   "cell_type": "markdown",
   "source": [
    "#### Conversion de las fechas a DateTime"
   ],
   "metadata": {
    "collapsed": false
   }
  },
  {
   "cell_type": "code",
   "execution_count": 5,
   "outputs": [],
   "source": [
    "columnas_fecha = ['Fecha de Firma', 'Fecha de Inicio del Contrato', 'Fecha de Fin del Contrato',\n",
    "                  'Fecha de Inicio de Ejecucion', 'Fecha de Fin de Ejecucion']\n",
    "\n",
    "# Iterar sobre las columnas y convertirlas al tipo de dato 'date'\n",
    "for columna in columnas_fecha:\n",
    "    df[columna] = pd.to_datetime(df[columna], format='%m/%d/%Y', errors='coerce')\n",
    "    df[columna] = pd.to_datetime(df[columna], format='%Y-%m-%d %H:%M:%S', errors='coerce')"
   ],
   "metadata": {
    "collapsed": false,
    "ExecuteTime": {
     "start_time": "2023-07-18T19:11:22.175201Z",
     "end_time": "2023-07-18T19:11:23.920200Z"
    }
   }
  },
  {
   "cell_type": "markdown",
   "source": [
    "#### Filtrar por el estado del contrato"
   ],
   "metadata": {
    "collapsed": false
   }
  },
  {
   "cell_type": "code",
   "execution_count": 6,
   "outputs": [
    {
     "data": {
      "text/plain": "                       Departamento        Orden                      Sector   \n0                         Santander  Territorial            Servicio Público  \\\n2                         Atlántico     Nacional          Educación Nacional   \n3        Distrito Capital de Bogotá     Nacional  Hacienda y Crédito Público   \n9        Distrito Capital de Bogotá     Nacional                 agricultura   \n10       Distrito Capital de Bogotá     Nacional          Educación Nacional   \n...                             ...          ...                         ...   \n2689323                Cundinamarca  Territorial      No aplica/No pertenece   \n2689327                       Huila     Nacional                     defensa   \n2689331  Distrito Capital de Bogotá  Territorial   Salud y Protección Social   \n2689332                   Atlántico     Nacional                     Trabajo   \n2689333                       Huila  Territorial            Servicio Público   \n\n                         Rama Entidad Centralizada Estado Contrato   \n0                   Ejecutivo         Centralizada       terminado  \\\n2                   Ejecutivo         Centralizada          cedido   \n3                   Ejecutivo          No Definido         Cerrado   \n9                   Ejecutivo      Descentralizada       terminado   \n10       Corporación Autónoma      Descentralizada       terminado   \n...                       ...                  ...             ...   \n2689323             Ejecutivo      Descentralizada         Cerrado   \n2689327             Ejecutivo      Descentralizada       terminado   \n2689331  Corporación Autónoma      Descentralizada       terminado   \n2689332             Ejecutivo         Centralizada          cedido   \n2689333             Ejecutivo         Centralizada         Cerrado   \n\n                Tipo de Contrato      Modalidad de Contratacion   \n0        Prestación de servicios           Contratación directa  \\\n2        Prestación de servicios           Contratación directa   \n3        Prestación de servicios           Contratación directa   \n9        Prestación de servicios           Contratación directa   \n10       Prestación de servicios  Contratación régimen especial   \n...                          ...                            ...   \n2689323  Prestación de servicios           Contratación directa   \n2689327  Prestación de servicios                 Mínima cuantía   \n2689331        DecreeLaw092/2017  Contratación régimen especial   \n2689332  Prestación de servicios           Contratación directa   \n2689333  Prestación de servicios           Contratación directa   \n\n        Fecha de Firma Fecha de Inicio del Contrato  ...   \n0           2021-08-17                   2021-08-19  ...  \\\n2           2020-02-07                   2020-02-07  ...   \n3           2019-04-15                   2019-02-20  ...   \n9           2021-01-20                   2021-01-21  ...   \n10          2021-08-05                   2021-08-09  ...   \n...                ...                          ...  ...   \n2689323     2018-08-21                   2018-08-21  ...   \n2689327     2021-04-06                   2021-04-14  ...   \n2689331     2022-03-24                   2022-03-29  ...   \n2689332     2023-01-26                   2023-02-01  ...   \n2689333     2021-03-05                   2021-03-05  ...   \n\n        Valor Pendiente de Ejecucion   Saldo CDP EsPostConflicto   \n0                                0.0    13750000              No  \\\n2                                0.0   366080000              No   \n3                          1557298.0    66379827              No   \n9                          1744200.0  1034967000              No   \n10                         2640000.0    52800000              No   \n...                              ...         ...             ...   \n2689323                   20279040.0    20279040              No   \n2689327                   21000000.0    32550000              No   \n2689331                    6957491.0    58912135              No   \n2689332                   14080000.0  2201918000              No   \n2689333                          0.0     1800000              No   \n\n          Destino Gasto Origen de los Recursos Dias Adicionados   \n0             Inversión            Distribuido                0  \\\n2             Inversión            Distribuido                0   \n3        Funcionamiento            Distribuido                0   \n9             Inversión            Distribuido                0   \n10       Funcionamiento       Recursos Propios                0   \n...                 ...                    ...              ...   \n2689323  Funcionamiento            Distribuido                0   \n2689327  Funcionamiento            Distribuido                0   \n2689331  Funcionamiento       Recursos Propios                0   \n2689332       Inversión            Distribuido                0   \n2689333       Inversión            Distribuido                0   \n\n        Género Representante Legal Presupuesto General de la Nacion – PGN   \n0                           Hombre                                      0  \\\n2                      No Definido                                      0   \n3                      No Definido                                      0   \n9                            Mujer                               22032000   \n10                     No Definido                                      0   \n...                            ...                                    ...   \n2689323                No Definido                                      0   \n2689327                No Definido                               24500000   \n2689331                      Mujer                                      0   \n2689332                No Definido                               20680000   \n2689333                      Mujer                                      0   \n\n        Recursos Propios (Alcaldías, Gobernaciones y Resguardos Indígenas)   \n0                                                 13750000                  \\\n2                                                        0                   \n3                                                        0                   \n9                                                        0                   \n10                                                       0                   \n...                                                    ...                   \n2689323                                                  0                   \n2689327                                                  0                   \n2689331                                                  0                   \n2689332                                                  0                   \n2689333                                            1800000                   \n\n         Recursos Propios  \n0                       0  \n2                       0  \n3                       0  \n9                       0  \n10               49500000  \n...                   ...  \n2689323                 0  \n2689327                 0  \n2689331           6957491  \n2689332                 0  \n2689333                 0  \n\n[608240 rows x 33 columns]",
      "text/html": "<div>\n<style scoped>\n    .dataframe tbody tr th:only-of-type {\n        vertical-align: middle;\n    }\n\n    .dataframe tbody tr th {\n        vertical-align: top;\n    }\n\n    .dataframe thead th {\n        text-align: right;\n    }\n</style>\n<table border=\"1\" class=\"dataframe\">\n  <thead>\n    <tr style=\"text-align: right;\">\n      <th></th>\n      <th>Departamento</th>\n      <th>Orden</th>\n      <th>Sector</th>\n      <th>Rama</th>\n      <th>Entidad Centralizada</th>\n      <th>Estado Contrato</th>\n      <th>Tipo de Contrato</th>\n      <th>Modalidad de Contratacion</th>\n      <th>Fecha de Firma</th>\n      <th>Fecha de Inicio del Contrato</th>\n      <th>...</th>\n      <th>Valor Pendiente de Ejecucion</th>\n      <th>Saldo CDP</th>\n      <th>EsPostConflicto</th>\n      <th>Destino Gasto</th>\n      <th>Origen de los Recursos</th>\n      <th>Dias Adicionados</th>\n      <th>Género Representante Legal</th>\n      <th>Presupuesto General de la Nacion – PGN</th>\n      <th>Recursos Propios (Alcaldías, Gobernaciones y Resguardos Indígenas)</th>\n      <th>Recursos Propios</th>\n    </tr>\n  </thead>\n  <tbody>\n    <tr>\n      <th>0</th>\n      <td>Santander</td>\n      <td>Territorial</td>\n      <td>Servicio Público</td>\n      <td>Ejecutivo</td>\n      <td>Centralizada</td>\n      <td>terminado</td>\n      <td>Prestación de servicios</td>\n      <td>Contratación directa</td>\n      <td>2021-08-17</td>\n      <td>2021-08-19</td>\n      <td>...</td>\n      <td>0.0</td>\n      <td>13750000</td>\n      <td>No</td>\n      <td>Inversión</td>\n      <td>Distribuido</td>\n      <td>0</td>\n      <td>Hombre</td>\n      <td>0</td>\n      <td>13750000</td>\n      <td>0</td>\n    </tr>\n    <tr>\n      <th>2</th>\n      <td>Atlántico</td>\n      <td>Nacional</td>\n      <td>Educación Nacional</td>\n      <td>Ejecutivo</td>\n      <td>Centralizada</td>\n      <td>cedido</td>\n      <td>Prestación de servicios</td>\n      <td>Contratación directa</td>\n      <td>2020-02-07</td>\n      <td>2020-02-07</td>\n      <td>...</td>\n      <td>0.0</td>\n      <td>366080000</td>\n      <td>No</td>\n      <td>Inversión</td>\n      <td>Distribuido</td>\n      <td>0</td>\n      <td>No Definido</td>\n      <td>0</td>\n      <td>0</td>\n      <td>0</td>\n    </tr>\n    <tr>\n      <th>3</th>\n      <td>Distrito Capital de Bogotá</td>\n      <td>Nacional</td>\n      <td>Hacienda y Crédito Público</td>\n      <td>Ejecutivo</td>\n      <td>No Definido</td>\n      <td>Cerrado</td>\n      <td>Prestación de servicios</td>\n      <td>Contratación directa</td>\n      <td>2019-04-15</td>\n      <td>2019-02-20</td>\n      <td>...</td>\n      <td>1557298.0</td>\n      <td>66379827</td>\n      <td>No</td>\n      <td>Funcionamiento</td>\n      <td>Distribuido</td>\n      <td>0</td>\n      <td>No Definido</td>\n      <td>0</td>\n      <td>0</td>\n      <td>0</td>\n    </tr>\n    <tr>\n      <th>9</th>\n      <td>Distrito Capital de Bogotá</td>\n      <td>Nacional</td>\n      <td>agricultura</td>\n      <td>Ejecutivo</td>\n      <td>Descentralizada</td>\n      <td>terminado</td>\n      <td>Prestación de servicios</td>\n      <td>Contratación directa</td>\n      <td>2021-01-20</td>\n      <td>2021-01-21</td>\n      <td>...</td>\n      <td>1744200.0</td>\n      <td>1034967000</td>\n      <td>No</td>\n      <td>Inversión</td>\n      <td>Distribuido</td>\n      <td>0</td>\n      <td>Mujer</td>\n      <td>22032000</td>\n      <td>0</td>\n      <td>0</td>\n    </tr>\n    <tr>\n      <th>10</th>\n      <td>Distrito Capital de Bogotá</td>\n      <td>Nacional</td>\n      <td>Educación Nacional</td>\n      <td>Corporación Autónoma</td>\n      <td>Descentralizada</td>\n      <td>terminado</td>\n      <td>Prestación de servicios</td>\n      <td>Contratación régimen especial</td>\n      <td>2021-08-05</td>\n      <td>2021-08-09</td>\n      <td>...</td>\n      <td>2640000.0</td>\n      <td>52800000</td>\n      <td>No</td>\n      <td>Funcionamiento</td>\n      <td>Recursos Propios</td>\n      <td>0</td>\n      <td>No Definido</td>\n      <td>0</td>\n      <td>0</td>\n      <td>49500000</td>\n    </tr>\n    <tr>\n      <th>...</th>\n      <td>...</td>\n      <td>...</td>\n      <td>...</td>\n      <td>...</td>\n      <td>...</td>\n      <td>...</td>\n      <td>...</td>\n      <td>...</td>\n      <td>...</td>\n      <td>...</td>\n      <td>...</td>\n      <td>...</td>\n      <td>...</td>\n      <td>...</td>\n      <td>...</td>\n      <td>...</td>\n      <td>...</td>\n      <td>...</td>\n      <td>...</td>\n      <td>...</td>\n      <td>...</td>\n    </tr>\n    <tr>\n      <th>2689323</th>\n      <td>Cundinamarca</td>\n      <td>Territorial</td>\n      <td>No aplica/No pertenece</td>\n      <td>Ejecutivo</td>\n      <td>Descentralizada</td>\n      <td>Cerrado</td>\n      <td>Prestación de servicios</td>\n      <td>Contratación directa</td>\n      <td>2018-08-21</td>\n      <td>2018-08-21</td>\n      <td>...</td>\n      <td>20279040.0</td>\n      <td>20279040</td>\n      <td>No</td>\n      <td>Funcionamiento</td>\n      <td>Distribuido</td>\n      <td>0</td>\n      <td>No Definido</td>\n      <td>0</td>\n      <td>0</td>\n      <td>0</td>\n    </tr>\n    <tr>\n      <th>2689327</th>\n      <td>Huila</td>\n      <td>Nacional</td>\n      <td>defensa</td>\n      <td>Ejecutivo</td>\n      <td>Descentralizada</td>\n      <td>terminado</td>\n      <td>Prestación de servicios</td>\n      <td>Mínima cuantía</td>\n      <td>2021-04-06</td>\n      <td>2021-04-14</td>\n      <td>...</td>\n      <td>21000000.0</td>\n      <td>32550000</td>\n      <td>No</td>\n      <td>Funcionamiento</td>\n      <td>Distribuido</td>\n      <td>0</td>\n      <td>No Definido</td>\n      <td>24500000</td>\n      <td>0</td>\n      <td>0</td>\n    </tr>\n    <tr>\n      <th>2689331</th>\n      <td>Distrito Capital de Bogotá</td>\n      <td>Territorial</td>\n      <td>Salud y Protección Social</td>\n      <td>Corporación Autónoma</td>\n      <td>Descentralizada</td>\n      <td>terminado</td>\n      <td>DecreeLaw092/2017</td>\n      <td>Contratación régimen especial</td>\n      <td>2022-03-24</td>\n      <td>2022-03-29</td>\n      <td>...</td>\n      <td>6957491.0</td>\n      <td>58912135</td>\n      <td>No</td>\n      <td>Funcionamiento</td>\n      <td>Recursos Propios</td>\n      <td>0</td>\n      <td>Mujer</td>\n      <td>0</td>\n      <td>0</td>\n      <td>6957491</td>\n    </tr>\n    <tr>\n      <th>2689332</th>\n      <td>Atlántico</td>\n      <td>Nacional</td>\n      <td>Trabajo</td>\n      <td>Ejecutivo</td>\n      <td>Centralizada</td>\n      <td>cedido</td>\n      <td>Prestación de servicios</td>\n      <td>Contratación directa</td>\n      <td>2023-01-26</td>\n      <td>2023-02-01</td>\n      <td>...</td>\n      <td>14080000.0</td>\n      <td>2201918000</td>\n      <td>No</td>\n      <td>Inversión</td>\n      <td>Distribuido</td>\n      <td>0</td>\n      <td>No Definido</td>\n      <td>20680000</td>\n      <td>0</td>\n      <td>0</td>\n    </tr>\n    <tr>\n      <th>2689333</th>\n      <td>Huila</td>\n      <td>Territorial</td>\n      <td>Servicio Público</td>\n      <td>Ejecutivo</td>\n      <td>Centralizada</td>\n      <td>Cerrado</td>\n      <td>Prestación de servicios</td>\n      <td>Contratación directa</td>\n      <td>2021-03-05</td>\n      <td>2021-03-05</td>\n      <td>...</td>\n      <td>0.0</td>\n      <td>1800000</td>\n      <td>No</td>\n      <td>Inversión</td>\n      <td>Distribuido</td>\n      <td>0</td>\n      <td>Mujer</td>\n      <td>0</td>\n      <td>1800000</td>\n      <td>0</td>\n    </tr>\n  </tbody>\n</table>\n<p>608240 rows × 33 columns</p>\n</div>"
     },
     "execution_count": 6,
     "metadata": {},
     "output_type": "execute_result"
    }
   ],
   "source": [
    "estados_contrato = [\"terminado\", \"Cerrado\", \"cedido\", \"Prorrogado\", \"Suspendido\"]\n",
    "\n",
    "# Filtrar las filas del dataframe basándote en la columna \"Estado Contrato\"\n",
    "df_filtradoNoEjecucion = df[df[\"Estado Contrato\"].isin(estados_contrato)]\n",
    "df_filtradoNoEjecucion"
   ],
   "metadata": {
    "collapsed": false,
    "ExecuteTime": {
     "start_time": "2023-07-18T19:11:33.368922Z",
     "end_time": "2023-07-18T19:11:34.382436Z"
    }
   }
  },
  {
   "cell_type": "markdown",
   "source": [
    "#### Filtrar por año del contrato"
   ],
   "metadata": {
    "collapsed": false
   }
  },
  {
   "cell_type": "code",
   "execution_count": 7,
   "outputs": [
    {
     "data": {
      "text/plain": "                       Departamento        Orden                      Sector   \n0                         Santander  Territorial            Servicio Público  \\\n2                         Atlántico     Nacional          Educación Nacional   \n3        Distrito Capital de Bogotá     Nacional  Hacienda y Crédito Público   \n9        Distrito Capital de Bogotá     Nacional                 agricultura   \n10       Distrito Capital de Bogotá     Nacional          Educación Nacional   \n...                             ...          ...                         ...   \n2689321  Distrito Capital de Bogotá  Territorial             Ley de Justicia   \n2689327                       Huila     Nacional                     defensa   \n2689331  Distrito Capital de Bogotá  Territorial   Salud y Protección Social   \n2689332                   Atlántico     Nacional                     Trabajo   \n2689333                       Huila  Territorial            Servicio Público   \n\n                         Rama Entidad Centralizada Estado Contrato   \n0                   Ejecutivo         Centralizada       terminado  \\\n2                   Ejecutivo         Centralizada          cedido   \n3                   Ejecutivo          No Definido         Cerrado   \n9                   Ejecutivo      Descentralizada       terminado   \n10       Corporación Autónoma      Descentralizada       terminado   \n...                       ...                  ...             ...   \n2689321             Ejecutivo      Descentralizada       terminado   \n2689327             Ejecutivo      Descentralizada       terminado   \n2689331  Corporación Autónoma      Descentralizada       terminado   \n2689332             Ejecutivo         Centralizada          cedido   \n2689333             Ejecutivo         Centralizada         Cerrado   \n\n                Tipo de Contrato      Modalidad de Contratacion   \n0        Prestación de servicios           Contratación directa  \\\n2        Prestación de servicios           Contratación directa   \n3        Prestación de servicios           Contratación directa   \n9        Prestación de servicios           Contratación directa   \n10       Prestación de servicios  Contratación régimen especial   \n...                          ...                            ...   \n2689321  Prestación de servicios           Contratación directa   \n2689327  Prestación de servicios                 Mínima cuantía   \n2689331        DecreeLaw092/2017  Contratación régimen especial   \n2689332  Prestación de servicios           Contratación directa   \n2689333  Prestación de servicios           Contratación directa   \n\n        Fecha de Firma Fecha de Inicio del Contrato  ...   \n0           2021-08-17                   2021-08-19  ...  \\\n2           2020-02-07                   2020-02-07  ...   \n3           2019-04-15                   2019-02-20  ...   \n9           2021-01-20                   2021-01-21  ...   \n10          2021-08-05                   2021-08-09  ...   \n...                ...                          ...  ...   \n2689321     2022-01-25                   2022-02-01  ...   \n2689327     2021-04-06                   2021-04-14  ...   \n2689331     2022-03-24                   2022-03-29  ...   \n2689332     2023-01-26                   2023-02-01  ...   \n2689333     2021-03-05                   2021-03-05  ...   \n\n        Valor Pendiente de Ejecucion   Saldo CDP EsPostConflicto   \n0                                0.0    13750000              No  \\\n2                                0.0   366080000              No   \n3                          1557298.0    66379827              No   \n9                          1744200.0  1034967000              No   \n10                         2640000.0    52800000              No   \n...                              ...         ...             ...   \n2689321                    7350000.0    24500000              No   \n2689327                   21000000.0    32550000              No   \n2689331                    6957491.0    58912135              No   \n2689332                   14080000.0  2201918000              No   \n2689333                          0.0     1800000              No   \n\n          Destino Gasto Origen de los Recursos Dias Adicionados   \n0             Inversión            Distribuido                0  \\\n2             Inversión            Distribuido                0   \n3        Funcionamiento            Distribuido                0   \n9             Inversión            Distribuido                0   \n10       Funcionamiento       Recursos Propios                0   \n...                 ...                    ...              ...   \n2689321       Inversión       Recursos Propios                0   \n2689327  Funcionamiento            Distribuido                0   \n2689331  Funcionamiento       Recursos Propios                0   \n2689332       Inversión            Distribuido                0   \n2689333       Inversión            Distribuido                0   \n\n        Género Representante Legal Presupuesto General de la Nacion – PGN   \n0                           Hombre                                      0  \\\n2                      No Definido                                      0   \n3                      No Definido                                      0   \n9                            Mujer                               22032000   \n10                     No Definido                                      0   \n...                            ...                                    ...   \n2689321                No Definido                                      0   \n2689327                No Definido                               24500000   \n2689331                      Mujer                                      0   \n2689332                No Definido                               20680000   \n2689333                      Mujer                                      0   \n\n        Recursos Propios (Alcaldías, Gobernaciones y Resguardos Indígenas)   \n0                                                 13750000                  \\\n2                                                        0                   \n3                                                        0                   \n9                                                        0                   \n10                                                       0                   \n...                                                    ...                   \n2689321                                                  0                   \n2689327                                                  0                   \n2689331                                                  0                   \n2689332                                                  0                   \n2689333                                            1800000                   \n\n         Recursos Propios  \n0                       0  \n2                       0  \n3                       0  \n9                       0  \n10               49500000  \n...                   ...  \n2689321          24500000  \n2689327                 0  \n2689331           6957491  \n2689332                 0  \n2689333                 0  \n\n[565610 rows x 33 columns]",
      "text/html": "<div>\n<style scoped>\n    .dataframe tbody tr th:only-of-type {\n        vertical-align: middle;\n    }\n\n    .dataframe tbody tr th {\n        vertical-align: top;\n    }\n\n    .dataframe thead th {\n        text-align: right;\n    }\n</style>\n<table border=\"1\" class=\"dataframe\">\n  <thead>\n    <tr style=\"text-align: right;\">\n      <th></th>\n      <th>Departamento</th>\n      <th>Orden</th>\n      <th>Sector</th>\n      <th>Rama</th>\n      <th>Entidad Centralizada</th>\n      <th>Estado Contrato</th>\n      <th>Tipo de Contrato</th>\n      <th>Modalidad de Contratacion</th>\n      <th>Fecha de Firma</th>\n      <th>Fecha de Inicio del Contrato</th>\n      <th>...</th>\n      <th>Valor Pendiente de Ejecucion</th>\n      <th>Saldo CDP</th>\n      <th>EsPostConflicto</th>\n      <th>Destino Gasto</th>\n      <th>Origen de los Recursos</th>\n      <th>Dias Adicionados</th>\n      <th>Género Representante Legal</th>\n      <th>Presupuesto General de la Nacion – PGN</th>\n      <th>Recursos Propios (Alcaldías, Gobernaciones y Resguardos Indígenas)</th>\n      <th>Recursos Propios</th>\n    </tr>\n  </thead>\n  <tbody>\n    <tr>\n      <th>0</th>\n      <td>Santander</td>\n      <td>Territorial</td>\n      <td>Servicio Público</td>\n      <td>Ejecutivo</td>\n      <td>Centralizada</td>\n      <td>terminado</td>\n      <td>Prestación de servicios</td>\n      <td>Contratación directa</td>\n      <td>2021-08-17</td>\n      <td>2021-08-19</td>\n      <td>...</td>\n      <td>0.0</td>\n      <td>13750000</td>\n      <td>No</td>\n      <td>Inversión</td>\n      <td>Distribuido</td>\n      <td>0</td>\n      <td>Hombre</td>\n      <td>0</td>\n      <td>13750000</td>\n      <td>0</td>\n    </tr>\n    <tr>\n      <th>2</th>\n      <td>Atlántico</td>\n      <td>Nacional</td>\n      <td>Educación Nacional</td>\n      <td>Ejecutivo</td>\n      <td>Centralizada</td>\n      <td>cedido</td>\n      <td>Prestación de servicios</td>\n      <td>Contratación directa</td>\n      <td>2020-02-07</td>\n      <td>2020-02-07</td>\n      <td>...</td>\n      <td>0.0</td>\n      <td>366080000</td>\n      <td>No</td>\n      <td>Inversión</td>\n      <td>Distribuido</td>\n      <td>0</td>\n      <td>No Definido</td>\n      <td>0</td>\n      <td>0</td>\n      <td>0</td>\n    </tr>\n    <tr>\n      <th>3</th>\n      <td>Distrito Capital de Bogotá</td>\n      <td>Nacional</td>\n      <td>Hacienda y Crédito Público</td>\n      <td>Ejecutivo</td>\n      <td>No Definido</td>\n      <td>Cerrado</td>\n      <td>Prestación de servicios</td>\n      <td>Contratación directa</td>\n      <td>2019-04-15</td>\n      <td>2019-02-20</td>\n      <td>...</td>\n      <td>1557298.0</td>\n      <td>66379827</td>\n      <td>No</td>\n      <td>Funcionamiento</td>\n      <td>Distribuido</td>\n      <td>0</td>\n      <td>No Definido</td>\n      <td>0</td>\n      <td>0</td>\n      <td>0</td>\n    </tr>\n    <tr>\n      <th>9</th>\n      <td>Distrito Capital de Bogotá</td>\n      <td>Nacional</td>\n      <td>agricultura</td>\n      <td>Ejecutivo</td>\n      <td>Descentralizada</td>\n      <td>terminado</td>\n      <td>Prestación de servicios</td>\n      <td>Contratación directa</td>\n      <td>2021-01-20</td>\n      <td>2021-01-21</td>\n      <td>...</td>\n      <td>1744200.0</td>\n      <td>1034967000</td>\n      <td>No</td>\n      <td>Inversión</td>\n      <td>Distribuido</td>\n      <td>0</td>\n      <td>Mujer</td>\n      <td>22032000</td>\n      <td>0</td>\n      <td>0</td>\n    </tr>\n    <tr>\n      <th>10</th>\n      <td>Distrito Capital de Bogotá</td>\n      <td>Nacional</td>\n      <td>Educación Nacional</td>\n      <td>Corporación Autónoma</td>\n      <td>Descentralizada</td>\n      <td>terminado</td>\n      <td>Prestación de servicios</td>\n      <td>Contratación régimen especial</td>\n      <td>2021-08-05</td>\n      <td>2021-08-09</td>\n      <td>...</td>\n      <td>2640000.0</td>\n      <td>52800000</td>\n      <td>No</td>\n      <td>Funcionamiento</td>\n      <td>Recursos Propios</td>\n      <td>0</td>\n      <td>No Definido</td>\n      <td>0</td>\n      <td>0</td>\n      <td>49500000</td>\n    </tr>\n    <tr>\n      <th>...</th>\n      <td>...</td>\n      <td>...</td>\n      <td>...</td>\n      <td>...</td>\n      <td>...</td>\n      <td>...</td>\n      <td>...</td>\n      <td>...</td>\n      <td>...</td>\n      <td>...</td>\n      <td>...</td>\n      <td>...</td>\n      <td>...</td>\n      <td>...</td>\n      <td>...</td>\n      <td>...</td>\n      <td>...</td>\n      <td>...</td>\n      <td>...</td>\n      <td>...</td>\n      <td>...</td>\n    </tr>\n    <tr>\n      <th>2689321</th>\n      <td>Distrito Capital de Bogotá</td>\n      <td>Territorial</td>\n      <td>Ley de Justicia</td>\n      <td>Ejecutivo</td>\n      <td>Descentralizada</td>\n      <td>terminado</td>\n      <td>Prestación de servicios</td>\n      <td>Contratación directa</td>\n      <td>2022-01-25</td>\n      <td>2022-02-01</td>\n      <td>...</td>\n      <td>7350000.0</td>\n      <td>24500000</td>\n      <td>No</td>\n      <td>Inversión</td>\n      <td>Recursos Propios</td>\n      <td>0</td>\n      <td>No Definido</td>\n      <td>0</td>\n      <td>0</td>\n      <td>24500000</td>\n    </tr>\n    <tr>\n      <th>2689327</th>\n      <td>Huila</td>\n      <td>Nacional</td>\n      <td>defensa</td>\n      <td>Ejecutivo</td>\n      <td>Descentralizada</td>\n      <td>terminado</td>\n      <td>Prestación de servicios</td>\n      <td>Mínima cuantía</td>\n      <td>2021-04-06</td>\n      <td>2021-04-14</td>\n      <td>...</td>\n      <td>21000000.0</td>\n      <td>32550000</td>\n      <td>No</td>\n      <td>Funcionamiento</td>\n      <td>Distribuido</td>\n      <td>0</td>\n      <td>No Definido</td>\n      <td>24500000</td>\n      <td>0</td>\n      <td>0</td>\n    </tr>\n    <tr>\n      <th>2689331</th>\n      <td>Distrito Capital de Bogotá</td>\n      <td>Territorial</td>\n      <td>Salud y Protección Social</td>\n      <td>Corporación Autónoma</td>\n      <td>Descentralizada</td>\n      <td>terminado</td>\n      <td>DecreeLaw092/2017</td>\n      <td>Contratación régimen especial</td>\n      <td>2022-03-24</td>\n      <td>2022-03-29</td>\n      <td>...</td>\n      <td>6957491.0</td>\n      <td>58912135</td>\n      <td>No</td>\n      <td>Funcionamiento</td>\n      <td>Recursos Propios</td>\n      <td>0</td>\n      <td>Mujer</td>\n      <td>0</td>\n      <td>0</td>\n      <td>6957491</td>\n    </tr>\n    <tr>\n      <th>2689332</th>\n      <td>Atlántico</td>\n      <td>Nacional</td>\n      <td>Trabajo</td>\n      <td>Ejecutivo</td>\n      <td>Centralizada</td>\n      <td>cedido</td>\n      <td>Prestación de servicios</td>\n      <td>Contratación directa</td>\n      <td>2023-01-26</td>\n      <td>2023-02-01</td>\n      <td>...</td>\n      <td>14080000.0</td>\n      <td>2201918000</td>\n      <td>No</td>\n      <td>Inversión</td>\n      <td>Distribuido</td>\n      <td>0</td>\n      <td>No Definido</td>\n      <td>20680000</td>\n      <td>0</td>\n      <td>0</td>\n    </tr>\n    <tr>\n      <th>2689333</th>\n      <td>Huila</td>\n      <td>Territorial</td>\n      <td>Servicio Público</td>\n      <td>Ejecutivo</td>\n      <td>Centralizada</td>\n      <td>Cerrado</td>\n      <td>Prestación de servicios</td>\n      <td>Contratación directa</td>\n      <td>2021-03-05</td>\n      <td>2021-03-05</td>\n      <td>...</td>\n      <td>0.0</td>\n      <td>1800000</td>\n      <td>No</td>\n      <td>Inversión</td>\n      <td>Distribuido</td>\n      <td>0</td>\n      <td>Mujer</td>\n      <td>0</td>\n      <td>1800000</td>\n      <td>0</td>\n    </tr>\n  </tbody>\n</table>\n<p>565610 rows × 33 columns</p>\n</div>"
     },
     "execution_count": 7,
     "metadata": {},
     "output_type": "execute_result"
    }
   ],
   "source": [
    "df_filtradoAnio = df_filtradoNoEjecucion[df_filtradoNoEjecucion['Fecha de Inicio del Contrato'].dt.year >= 2019]\n",
    "df_filtradoAnio"
   ],
   "metadata": {
    "collapsed": false,
    "ExecuteTime": {
     "start_time": "2023-07-18T19:11:46.594370Z",
     "end_time": "2023-07-18T19:11:47.241533Z"
    }
   }
  },
  {
   "cell_type": "code",
   "execution_count": 8,
   "outputs": [
    {
     "name": "stdout",
     "output_type": "stream",
     "text": [
      "<class 'pandas.core.frame.DataFrame'>\n",
      "Index: 501898 entries, 0 to 2689333\n",
      "Data columns (total 33 columns):\n",
      " #   Column                                                              Non-Null Count   Dtype         \n",
      "---  ------                                                              --------------   -----         \n",
      " 0   Departamento                                                        501898 non-null  object        \n",
      " 1   Orden                                                               501898 non-null  object        \n",
      " 2   Sector                                                              501898 non-null  object        \n",
      " 3   Rama                                                                501898 non-null  object        \n",
      " 4   Entidad Centralizada                                                501898 non-null  object        \n",
      " 5   Estado Contrato                                                     501898 non-null  object        \n",
      " 6   Tipo de Contrato                                                    501898 non-null  object        \n",
      " 7   Modalidad de Contratacion                                           501898 non-null  object        \n",
      " 8   Fecha de Firma                                                      501898 non-null  datetime64[ns]\n",
      " 9   Fecha de Inicio del Contrato                                        501898 non-null  datetime64[ns]\n",
      " 10  Fecha de Fin del Contrato                                           501896 non-null  datetime64[ns]\n",
      " 11  Fecha de Inicio de Ejecucion                                        64130 non-null   datetime64[ns]\n",
      " 12  Fecha de Fin de Ejecucion                                           64649 non-null   datetime64[ns]\n",
      " 13  Condiciones de Entrega                                              501898 non-null  object        \n",
      " 14  Es Grupo                                                            501898 non-null  object        \n",
      " 15  Es Pyme                                                             501898 non-null  object        \n",
      " 16  Habilita Pago Adelantado                                            501898 non-null  object        \n",
      " 17  Liquidación                                                         501898 non-null  object        \n",
      " 18  Obligación Ambiental                                                501898 non-null  object        \n",
      " 19  Valor del Contrato                                                  501898 non-null  int64         \n",
      " 20  Valor Facturado                                                     501898 non-null  int64         \n",
      " 21  Valor Pendiente de Pago                                             501898 non-null  int64         \n",
      " 22  Valor Pagado                                                        501898 non-null  int64         \n",
      " 23  Valor Pendiente de Ejecucion                                        501013 non-null  float64       \n",
      " 24  Saldo CDP                                                           501898 non-null  int64         \n",
      " 25  EsPostConflicto                                                     501898 non-null  object        \n",
      " 26  Destino Gasto                                                       501898 non-null  object        \n",
      " 27  Origen de los Recursos                                              501898 non-null  object        \n",
      " 28  Dias Adicionados                                                    501898 non-null  int64         \n",
      " 29  Género Representante Legal                                          501898 non-null  object        \n",
      " 30  Presupuesto General de la Nacion – PGN                              501898 non-null  int64         \n",
      " 31  Recursos Propios (Alcaldías, Gobernaciones y Resguardos Indígenas)  501898 non-null  int64         \n",
      " 32  Recursos Propios                                                    501898 non-null  int64         \n",
      "dtypes: datetime64[ns](5), float64(1), int64(9), object(18)\n",
      "memory usage: 130.2+ MB\n"
     ]
    }
   ],
   "source": [
    "df_filtradoAnio = df_filtradoAnio.drop_duplicates()\n",
    "df_filtradoAnio.info()"
   ],
   "metadata": {
    "collapsed": false,
    "ExecuteTime": {
     "start_time": "2023-07-18T19:11:53.331145Z",
     "end_time": "2023-07-18T19:11:55.628306Z"
    }
   }
  },
  {
   "cell_type": "code",
   "execution_count": 9,
   "outputs": [
    {
     "data": {
      "text/plain": "(501898, 33)"
     },
     "execution_count": 9,
     "metadata": {},
     "output_type": "execute_result"
    }
   ],
   "source": [
    "df_filtradoAnio.shape"
   ],
   "metadata": {
    "collapsed": false,
    "ExecuteTime": {
     "start_time": "2023-07-18T19:12:16.269041Z",
     "end_time": "2023-07-18T19:12:16.317038Z"
    }
   }
  },
  {
   "cell_type": "code",
   "execution_count": 10,
   "outputs": [
    {
     "data": {
      "text/plain": "(200759, 33)"
     },
     "execution_count": 10,
     "metadata": {},
     "output_type": "execute_result"
    }
   ],
   "source": [
    "muestra_aleatoria = df_filtradoAnio.sample(frac=0.4)\n",
    "muestra_aleatoria.shape"
   ],
   "metadata": {
    "collapsed": false,
    "ExecuteTime": {
     "start_time": "2023-07-18T19:12:46.178331Z",
     "end_time": "2023-07-18T19:12:46.429330Z"
    }
   }
  },
  {
   "cell_type": "code",
   "execution_count": 11,
   "outputs": [
    {
     "data": {
      "text/plain": "Summarize dataset:   0%|          | 0/5 [00:00<?, ?it/s]",
      "application/vnd.jupyter.widget-view+json": {
       "version_major": 2,
       "version_minor": 0,
       "model_id": "6c22e9a03e364d3a840379323db43d4f"
      }
     },
     "metadata": {},
     "output_type": "display_data"
    },
    {
     "data": {
      "text/plain": "Generate report structure:   0%|          | 0/1 [00:00<?, ?it/s]",
      "application/vnd.jupyter.widget-view+json": {
       "version_major": 2,
       "version_minor": 0,
       "model_id": "31c2b74b41c54f2b8742cc20f6a1d9a9"
      }
     },
     "metadata": {},
     "output_type": "display_data"
    },
    {
     "data": {
      "text/plain": "Render HTML:   0%|          | 0/1 [00:00<?, ?it/s]",
      "application/vnd.jupyter.widget-view+json": {
       "version_major": 2,
       "version_minor": 0,
       "model_id": "d99e88f0d8c84765b6c069dba7a49bcd"
      }
     },
     "metadata": {},
     "output_type": "display_data"
    },
    {
     "data": {
      "text/plain": "Export report to file:   0%|          | 0/1 [00:00<?, ?it/s]",
      "application/vnd.jupyter.widget-view+json": {
       "version_major": 2,
       "version_minor": 0,
       "model_id": "9f44957977da490a843066656c44ccc2"
      }
     },
     "metadata": {},
     "output_type": "display_data"
    }
   ],
   "source": [
    "from ydata_profiling import ProfileReport\n",
    "profile = ProfileReport(muestra_aleatoria, title=\"Pandas Profiling Report\")\n",
    "profile.to_file(\"secopFiltro2021muestra_profile20230718.html\")"
   ],
   "metadata": {
    "collapsed": false,
    "ExecuteTime": {
     "start_time": "2023-07-18T19:12:55.780170Z",
     "end_time": "2023-07-18T19:14:27.678498Z"
    }
   }
  },
  {
   "cell_type": "code",
   "execution_count": 12,
   "outputs": [
    {
     "data": {
      "text/plain": "                       Departamento        Orden                      Sector   \n0                         Santander  Territorial            Servicio Público  \\\n2                         Atlántico     Nacional          Educación Nacional   \n3        Distrito Capital de Bogotá     Nacional  Hacienda y Crédito Público   \n9        Distrito Capital de Bogotá     Nacional                 agricultura   \n10       Distrito Capital de Bogotá     Nacional          Educación Nacional   \n...                             ...          ...                         ...   \n2689321  Distrito Capital de Bogotá  Territorial             Ley de Justicia   \n2689327                       Huila     Nacional                     defensa   \n2689331  Distrito Capital de Bogotá  Territorial   Salud y Protección Social   \n2689332                   Atlántico     Nacional                     Trabajo   \n2689333                       Huila  Territorial            Servicio Público   \n\n                         Rama Entidad Centralizada         Tipo de Contrato   \n0                   Ejecutivo         Centralizada  Prestación de servicios  \\\n2                   Ejecutivo         Centralizada  Prestación de servicios   \n3                   Ejecutivo          No Definido  Prestación de servicios   \n9                   Ejecutivo      Descentralizada  Prestación de servicios   \n10       Corporación Autónoma      Descentralizada  Prestación de servicios   \n...                       ...                  ...                      ...   \n2689321             Ejecutivo      Descentralizada  Prestación de servicios   \n2689327             Ejecutivo      Descentralizada  Prestación de servicios   \n2689331  Corporación Autónoma      Descentralizada        DecreeLaw092/2017   \n2689332             Ejecutivo         Centralizada  Prestación de servicios   \n2689333             Ejecutivo         Centralizada  Prestación de servicios   \n\n             Modalidad de Contratacion Fecha de Firma   \n0                 Contratación directa     2021-08-17  \\\n2                 Contratación directa     2020-02-07   \n3                 Contratación directa     2019-04-15   \n9                 Contratación directa     2021-01-20   \n10       Contratación régimen especial     2021-08-05   \n...                                ...            ...   \n2689321           Contratación directa     2022-01-25   \n2689327                 Mínima cuantía     2021-04-06   \n2689331  Contratación régimen especial     2022-03-24   \n2689332           Contratación directa     2023-01-26   \n2689333           Contratación directa     2021-03-05   \n\n        Fecha de Inicio del Contrato Fecha de Fin del Contrato  ...   \n0                         2021-08-19                2021-12-24  ...  \\\n2                         2020-02-07                2020-12-31  ...   \n3                         2019-02-20                2019-12-31  ...   \n9                         2021-01-21                2021-08-31  ...   \n10                        2021-08-09                2021-12-31  ...   \n...                              ...                       ...  ...   \n2689321                   2022-02-01                2023-01-08  ...   \n2689327                   2021-04-14                2021-11-14  ...   \n2689331                   2022-03-29                2022-04-30  ...   \n2689332                   2023-02-01                2023-11-30  ...   \n2689333                   2021-03-05                2021-03-05  ...   \n\n        Origen de los Recursos Dias Adicionados Género Representante Legal   \n0                  Distribuido                0                     Hombre  \\\n2                  Distribuido                0                No Definido   \n3                  Distribuido                0                No Definido   \n9                  Distribuido                0                      Mujer   \n10            Recursos Propios                0                No Definido   \n...                        ...              ...                        ...   \n2689321       Recursos Propios                0                No Definido   \n2689327            Distribuido                0                No Definido   \n2689331       Recursos Propios                0                      Mujer   \n2689332            Distribuido                0                No Definido   \n2689333            Distribuido                0                      Mujer   \n\n        Presupuesto General de la Nacion – PGN   \n0                                            0  \\\n2                                            0   \n3                                            0   \n9                                     22032000   \n10                                           0   \n...                                        ...   \n2689321                                      0   \n2689327                               24500000   \n2689331                                      0   \n2689332                               20680000   \n2689333                                      0   \n\n        Recursos Propios (Alcaldías, Gobernaciones y Resguardos Indígenas)   \n0                                                 13750000                  \\\n2                                                        0                   \n3                                                        0                   \n9                                                        0                   \n10                                                       0                   \n...                                                    ...                   \n2689321                                                  0                   \n2689327                                                  0                   \n2689331                                                  0                   \n2689332                                                  0                   \n2689333                                            1800000                   \n\n        Recursos Propios Cerrado Suspendido  cedido  terminado  \n0                      0   False      False   False       True  \n2                      0   False      False    True      False  \n3                      0    True      False   False      False  \n9                      0   False      False   False       True  \n10              49500000   False      False   False       True  \n...                  ...     ...        ...     ...        ...  \n2689321         24500000   False      False   False       True  \n2689327                0   False      False   False       True  \n2689331          6957491   False      False   False       True  \n2689332                0   False      False    True      False  \n2689333                0    True      False   False      False  \n\n[501898 rows x 36 columns]",
      "text/html": "<div>\n<style scoped>\n    .dataframe tbody tr th:only-of-type {\n        vertical-align: middle;\n    }\n\n    .dataframe tbody tr th {\n        vertical-align: top;\n    }\n\n    .dataframe thead th {\n        text-align: right;\n    }\n</style>\n<table border=\"1\" class=\"dataframe\">\n  <thead>\n    <tr style=\"text-align: right;\">\n      <th></th>\n      <th>Departamento</th>\n      <th>Orden</th>\n      <th>Sector</th>\n      <th>Rama</th>\n      <th>Entidad Centralizada</th>\n      <th>Tipo de Contrato</th>\n      <th>Modalidad de Contratacion</th>\n      <th>Fecha de Firma</th>\n      <th>Fecha de Inicio del Contrato</th>\n      <th>Fecha de Fin del Contrato</th>\n      <th>...</th>\n      <th>Origen de los Recursos</th>\n      <th>Dias Adicionados</th>\n      <th>Género Representante Legal</th>\n      <th>Presupuesto General de la Nacion – PGN</th>\n      <th>Recursos Propios (Alcaldías, Gobernaciones y Resguardos Indígenas)</th>\n      <th>Recursos Propios</th>\n      <th>Cerrado</th>\n      <th>Suspendido</th>\n      <th>cedido</th>\n      <th>terminado</th>\n    </tr>\n  </thead>\n  <tbody>\n    <tr>\n      <th>0</th>\n      <td>Santander</td>\n      <td>Territorial</td>\n      <td>Servicio Público</td>\n      <td>Ejecutivo</td>\n      <td>Centralizada</td>\n      <td>Prestación de servicios</td>\n      <td>Contratación directa</td>\n      <td>2021-08-17</td>\n      <td>2021-08-19</td>\n      <td>2021-12-24</td>\n      <td>...</td>\n      <td>Distribuido</td>\n      <td>0</td>\n      <td>Hombre</td>\n      <td>0</td>\n      <td>13750000</td>\n      <td>0</td>\n      <td>False</td>\n      <td>False</td>\n      <td>False</td>\n      <td>True</td>\n    </tr>\n    <tr>\n      <th>2</th>\n      <td>Atlántico</td>\n      <td>Nacional</td>\n      <td>Educación Nacional</td>\n      <td>Ejecutivo</td>\n      <td>Centralizada</td>\n      <td>Prestación de servicios</td>\n      <td>Contratación directa</td>\n      <td>2020-02-07</td>\n      <td>2020-02-07</td>\n      <td>2020-12-31</td>\n      <td>...</td>\n      <td>Distribuido</td>\n      <td>0</td>\n      <td>No Definido</td>\n      <td>0</td>\n      <td>0</td>\n      <td>0</td>\n      <td>False</td>\n      <td>False</td>\n      <td>True</td>\n      <td>False</td>\n    </tr>\n    <tr>\n      <th>3</th>\n      <td>Distrito Capital de Bogotá</td>\n      <td>Nacional</td>\n      <td>Hacienda y Crédito Público</td>\n      <td>Ejecutivo</td>\n      <td>No Definido</td>\n      <td>Prestación de servicios</td>\n      <td>Contratación directa</td>\n      <td>2019-04-15</td>\n      <td>2019-02-20</td>\n      <td>2019-12-31</td>\n      <td>...</td>\n      <td>Distribuido</td>\n      <td>0</td>\n      <td>No Definido</td>\n      <td>0</td>\n      <td>0</td>\n      <td>0</td>\n      <td>True</td>\n      <td>False</td>\n      <td>False</td>\n      <td>False</td>\n    </tr>\n    <tr>\n      <th>9</th>\n      <td>Distrito Capital de Bogotá</td>\n      <td>Nacional</td>\n      <td>agricultura</td>\n      <td>Ejecutivo</td>\n      <td>Descentralizada</td>\n      <td>Prestación de servicios</td>\n      <td>Contratación directa</td>\n      <td>2021-01-20</td>\n      <td>2021-01-21</td>\n      <td>2021-08-31</td>\n      <td>...</td>\n      <td>Distribuido</td>\n      <td>0</td>\n      <td>Mujer</td>\n      <td>22032000</td>\n      <td>0</td>\n      <td>0</td>\n      <td>False</td>\n      <td>False</td>\n      <td>False</td>\n      <td>True</td>\n    </tr>\n    <tr>\n      <th>10</th>\n      <td>Distrito Capital de Bogotá</td>\n      <td>Nacional</td>\n      <td>Educación Nacional</td>\n      <td>Corporación Autónoma</td>\n      <td>Descentralizada</td>\n      <td>Prestación de servicios</td>\n      <td>Contratación régimen especial</td>\n      <td>2021-08-05</td>\n      <td>2021-08-09</td>\n      <td>2021-12-31</td>\n      <td>...</td>\n      <td>Recursos Propios</td>\n      <td>0</td>\n      <td>No Definido</td>\n      <td>0</td>\n      <td>0</td>\n      <td>49500000</td>\n      <td>False</td>\n      <td>False</td>\n      <td>False</td>\n      <td>True</td>\n    </tr>\n    <tr>\n      <th>...</th>\n      <td>...</td>\n      <td>...</td>\n      <td>...</td>\n      <td>...</td>\n      <td>...</td>\n      <td>...</td>\n      <td>...</td>\n      <td>...</td>\n      <td>...</td>\n      <td>...</td>\n      <td>...</td>\n      <td>...</td>\n      <td>...</td>\n      <td>...</td>\n      <td>...</td>\n      <td>...</td>\n      <td>...</td>\n      <td>...</td>\n      <td>...</td>\n      <td>...</td>\n      <td>...</td>\n    </tr>\n    <tr>\n      <th>2689321</th>\n      <td>Distrito Capital de Bogotá</td>\n      <td>Territorial</td>\n      <td>Ley de Justicia</td>\n      <td>Ejecutivo</td>\n      <td>Descentralizada</td>\n      <td>Prestación de servicios</td>\n      <td>Contratación directa</td>\n      <td>2022-01-25</td>\n      <td>2022-02-01</td>\n      <td>2023-01-08</td>\n      <td>...</td>\n      <td>Recursos Propios</td>\n      <td>0</td>\n      <td>No Definido</td>\n      <td>0</td>\n      <td>0</td>\n      <td>24500000</td>\n      <td>False</td>\n      <td>False</td>\n      <td>False</td>\n      <td>True</td>\n    </tr>\n    <tr>\n      <th>2689327</th>\n      <td>Huila</td>\n      <td>Nacional</td>\n      <td>defensa</td>\n      <td>Ejecutivo</td>\n      <td>Descentralizada</td>\n      <td>Prestación de servicios</td>\n      <td>Mínima cuantía</td>\n      <td>2021-04-06</td>\n      <td>2021-04-14</td>\n      <td>2021-11-14</td>\n      <td>...</td>\n      <td>Distribuido</td>\n      <td>0</td>\n      <td>No Definido</td>\n      <td>24500000</td>\n      <td>0</td>\n      <td>0</td>\n      <td>False</td>\n      <td>False</td>\n      <td>False</td>\n      <td>True</td>\n    </tr>\n    <tr>\n      <th>2689331</th>\n      <td>Distrito Capital de Bogotá</td>\n      <td>Territorial</td>\n      <td>Salud y Protección Social</td>\n      <td>Corporación Autónoma</td>\n      <td>Descentralizada</td>\n      <td>DecreeLaw092/2017</td>\n      <td>Contratación régimen especial</td>\n      <td>2022-03-24</td>\n      <td>2022-03-29</td>\n      <td>2022-04-30</td>\n      <td>...</td>\n      <td>Recursos Propios</td>\n      <td>0</td>\n      <td>Mujer</td>\n      <td>0</td>\n      <td>0</td>\n      <td>6957491</td>\n      <td>False</td>\n      <td>False</td>\n      <td>False</td>\n      <td>True</td>\n    </tr>\n    <tr>\n      <th>2689332</th>\n      <td>Atlántico</td>\n      <td>Nacional</td>\n      <td>Trabajo</td>\n      <td>Ejecutivo</td>\n      <td>Centralizada</td>\n      <td>Prestación de servicios</td>\n      <td>Contratación directa</td>\n      <td>2023-01-26</td>\n      <td>2023-02-01</td>\n      <td>2023-11-30</td>\n      <td>...</td>\n      <td>Distribuido</td>\n      <td>0</td>\n      <td>No Definido</td>\n      <td>20680000</td>\n      <td>0</td>\n      <td>0</td>\n      <td>False</td>\n      <td>False</td>\n      <td>True</td>\n      <td>False</td>\n    </tr>\n    <tr>\n      <th>2689333</th>\n      <td>Huila</td>\n      <td>Territorial</td>\n      <td>Servicio Público</td>\n      <td>Ejecutivo</td>\n      <td>Centralizada</td>\n      <td>Prestación de servicios</td>\n      <td>Contratación directa</td>\n      <td>2021-03-05</td>\n      <td>2021-03-05</td>\n      <td>2021-03-05</td>\n      <td>...</td>\n      <td>Distribuido</td>\n      <td>0</td>\n      <td>Mujer</td>\n      <td>0</td>\n      <td>1800000</td>\n      <td>0</td>\n      <td>True</td>\n      <td>False</td>\n      <td>False</td>\n      <td>False</td>\n    </tr>\n  </tbody>\n</table>\n<p>501898 rows × 36 columns</p>\n</div>"
     },
     "execution_count": 12,
     "metadata": {},
     "output_type": "execute_result"
    }
   ],
   "source": [
    "# Aplicar one-hot encoding\n",
    "df_one_hot = pd.get_dummies(df_filtradoAnio['Estado Contrato'])\n",
    "\n",
    "# Combinar el DataFrame original con las nuevas columnas\n",
    "df_final = pd.concat([df_filtradoAnio, df_one_hot], axis=1)\n",
    "\n",
    "# Eliminar la columna original \"Estado Contrato\" si deseas\n",
    "df_final = df_final.drop('Estado Contrato', axis=1)\n",
    "\n",
    "df_final"
   ],
   "metadata": {
    "collapsed": false,
    "ExecuteTime": {
     "start_time": "2023-07-18T19:16:55.935621Z",
     "end_time": "2023-07-18T19:16:56.462661Z"
    }
   }
  },
  {
   "cell_type": "code",
   "execution_count": 14,
   "outputs": [],
   "source": [
    "estado_contrato = df_final[\"Cerrado\"].copy()\n",
    "contratos_data = df_final.drop([\"terminado\",\"cedido\",\"Suspendido\",\"Cerrado\"],axis=1)"
   ],
   "metadata": {
    "collapsed": false,
    "ExecuteTime": {
     "start_time": "2023-07-18T19:23:02.324443Z",
     "end_time": "2023-07-18T19:23:02.442439Z"
    }
   }
  },
  {
   "cell_type": "code",
   "execution_count": 15,
   "outputs": [
    {
     "name": "stdout",
     "output_type": "stream",
     "text": [
      "301138 100379 100381 501898\n"
     ]
    }
   ],
   "source": [
    "# Calculate test and validation set size:\n",
    "original_count = len(df_final)\n",
    "training_size = 0.60 # 60% of records\n",
    "test_size = (1 - training_size) / 2\n",
    "\n",
    "\n",
    "training_count = int(original_count * training_size)\n",
    "test_count = int(original_count * test_size)\n",
    "validation_count = original_count - training_count - test_count\n",
    "\n",
    "print(training_count, test_count, validation_count, original_count)"
   ],
   "metadata": {
    "collapsed": false,
    "ExecuteTime": {
     "start_time": "2023-07-18T19:23:23.965658Z",
     "end_time": "2023-07-18T19:23:24.003659Z"
    }
   }
  },
  {
   "cell_type": "code",
   "execution_count": 16,
   "outputs": [
    {
     "name": "stdout",
     "output_type": "stream",
     "text": [
      "301138 100379 100381\n"
     ]
    }
   ],
   "source": [
    "from sklearn.model_selection import train_test_split\n",
    "\n",
    "train_x, rest_x, train_y, rest_y = train_test_split(contratos_data, estado_contrato, train_size=training_count)\n",
    "test_x, validate_x, test_y, validate_y = train_test_split(rest_x, rest_y, train_size=test_count)\n",
    "\n",
    "print(len(train_x), len(test_x), len(validate_x))"
   ],
   "metadata": {
    "collapsed": false,
    "ExecuteTime": {
     "start_time": "2023-07-18T19:23:35.767576Z",
     "end_time": "2023-07-18T19:23:37.322317Z"
    }
   }
  },
  {
   "cell_type": "markdown",
   "source": [
    "# Pipeline"
   ],
   "metadata": {
    "collapsed": false
   }
  },
  {
   "cell_type": "code",
   "execution_count": 17,
   "outputs": [],
   "source": [
    "from sklearn.preprocessing import OneHotEncoder\n",
    "from sklearn.preprocessing import Binarizer\n",
    "from sklearn.preprocessing import RobustScaler\n",
    "\n",
    "from sklearn.compose import ColumnTransformer\n",
    "from sklearn.pipeline import FeatureUnion, Pipeline"
   ],
   "metadata": {
    "collapsed": false,
    "ExecuteTime": {
     "start_time": "2023-07-18T19:23:42.689645Z",
     "end_time": "2023-07-18T19:23:42.738644Z"
    }
   }
  },
  {
   "cell_type": "code",
   "execution_count": null,
   "outputs": [],
   "source": [
    "one_hot_encoding = ColumnTransformer([\n",
    "    (\n",
    "        'one_hot_encode',\n",
    "        OneHotEncoder(sparse_output=False, handle_unknown=\"ignore\"),\n",
    "        [\n",
    "            \"hotel\",\n",
    "            \"meal\",\n",
    "            \"distribution_channel\",\n",
    "            \"reserved_room_type\",\n",
    "            \"assigned_room_type\",\n",
    "            \"customer_type\"\n",
    "        ]\n",
    "    )\n",
    "])"
   ],
   "metadata": {
    "collapsed": false
   }
  }
 ],
 "metadata": {
  "kernelspec": {
   "display_name": "Python 3",
   "language": "python",
   "name": "python3"
  },
  "language_info": {
   "codemirror_mode": {
    "name": "ipython",
    "version": 2
   },
   "file_extension": ".py",
   "mimetype": "text/x-python",
   "name": "python",
   "nbconvert_exporter": "python",
   "pygments_lexer": "ipython2",
   "version": "2.7.6"
  }
 },
 "nbformat": 4,
 "nbformat_minor": 0
}
