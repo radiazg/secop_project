{
 "cells": [
  {
   "cell_type": "code",
   "execution_count": 1,
   "outputs": [],
   "source": [
    "import requests\n",
    "import pandas as pd"
   ],
   "metadata": {
    "collapsed": false,
    "ExecuteTime": {
     "start_time": "2023-07-24T18:16:19.085469Z",
     "end_time": "2023-07-24T18:16:20.845601Z"
    }
   }
  },
  {
   "cell_type": "code",
   "execution_count": 2,
   "outputs": [
    {
     "name": "stderr",
     "output_type": "stream",
     "text": [
      "C:\\Users\\caste\\AppData\\Local\\Temp\\ipykernel_26548\\1893727086.py:3: DtypeWarning: Columns (50) have mixed types. Specify dtype option on import or set low_memory=False.\n",
      "  df = pd.read_csv(ruta_archivo)\n"
     ]
    }
   ],
   "source": [
    "ruta_archivo = r\"../data/processed/datos_filtradosv1.csv\"\n",
    "# Cargamos los datos del CSV a un DataFrame de pandas\n",
    "df = pd.read_csv(ruta_archivo)"
   ],
   "metadata": {
    "collapsed": false,
    "ExecuteTime": {
     "start_time": "2023-07-24T18:16:20.844600Z",
     "end_time": "2023-07-24T18:17:22.059673Z"
    }
   }
  },
  {
   "cell_type": "code",
   "execution_count": 3,
   "outputs": [
    {
     "name": "stdout",
     "output_type": "stream",
     "text": [
      "<class 'pandas.core.frame.DataFrame'>\n",
      "RangeIndex: 2689335 entries, 0 to 2689334\n",
      "Data columns (total 31 columns):\n",
      " #   Column                                                              Dtype  \n",
      "---  ------                                                              -----  \n",
      " 0   Departamento                                                        object \n",
      " 1   Orden                                                               object \n",
      " 2   Sector                                                              object \n",
      " 3   Rama                                                                object \n",
      " 4   Entidad Centralizada                                                object \n",
      " 5   Estado Contrato                                                     object \n",
      " 6   Tipo de Contrato                                                    object \n",
      " 7   Modalidad de Contratacion                                           object \n",
      " 8   Fecha de Firma                                                      object \n",
      " 9   Fecha de Inicio del Contrato                                        object \n",
      " 10  Fecha de Fin del Contrato                                           object \n",
      " 11  Fecha de Inicio de Ejecucion                                        object \n",
      " 12  Fecha de Fin de Ejecucion                                           object \n",
      " 13  Es Grupo                                                            object \n",
      " 14  Es Pyme                                                             object \n",
      " 15  Liquidación                                                         object \n",
      " 16  Obligación Ambiental                                                object \n",
      " 17  Valor del Contrato                                                  int64  \n",
      " 18  Valor Facturado                                                     int64  \n",
      " 19  Valor Pendiente de Pago                                             int64  \n",
      " 20  Valor Pagado                                                        int64  \n",
      " 21  Valor Pendiente de Ejecucion                                        float64\n",
      " 22  Saldo CDP                                                           int64  \n",
      " 23  EsPostConflicto                                                     object \n",
      " 24  Destino Gasto                                                       object \n",
      " 25  Origen de los Recursos                                              object \n",
      " 26  Dias Adicionados                                                    int64  \n",
      " 27  Género Representante Legal                                          object \n",
      " 28  Presupuesto General de la Nacion – PGN                              int64  \n",
      " 29  Recursos Propios (Alcaldías, Gobernaciones y Resguardos Indígenas)  int64  \n",
      " 30  Recursos Propios                                                    int64  \n",
      "dtypes: float64(1), int64(9), object(21)\n",
      "memory usage: 636.1+ MB\n"
     ]
    }
   ],
   "source": [
    "# Seleccionamos las columnas que queremos mantener\n",
    "df = df[['Departamento',\n",
    "         'Orden', 'Sector', 'Rama', 'Entidad Centralizada',\n",
    "         'Estado Contrato',\n",
    "         'Tipo de Contrato',\n",
    "         'Modalidad de Contratacion',\n",
    "         'Fecha de Firma', 'Fecha de Inicio del Contrato',\n",
    "         'Fecha de Fin del Contrato', 'Fecha de Inicio de Ejecucion',\n",
    "         'Fecha de Fin de Ejecucion',\n",
    "         'Es Grupo', 'Es Pyme', 'Liquidación',\n",
    "         'Obligación Ambiental',\n",
    "         'Valor del Contrato', 'Valor Facturado',\n",
    "         'Valor Pendiente de Pago', 'Valor Pagado',\n",
    "         'Valor Pendiente de Ejecucion',\n",
    "         'Saldo CDP',\n",
    "         'EsPostConflicto', 'Destino Gasto',\n",
    "         'Origen de los Recursos', 'Dias Adicionados',\n",
    "         'Género Representante Legal',\n",
    "         'Presupuesto General de la Nacion – PGN',\n",
    "         'Recursos Propios (Alcaldías, Gobernaciones y Resguardos Indígenas)',\n",
    "         'Recursos Propios'\n",
    "         ]]\n",
    "\n",
    "df.info()"
   ],
   "metadata": {
    "collapsed": false,
    "ExecuteTime": {
     "start_time": "2023-07-24T18:17:22.065671Z",
     "end_time": "2023-07-24T18:17:23.665095Z"
    }
   }
  },
  {
   "cell_type": "markdown",
   "source": [
    "#### Conversion de las fechas a DateTime"
   ],
   "metadata": {
    "collapsed": false
   }
  },
  {
   "cell_type": "code",
   "execution_count": 4,
   "outputs": [],
   "source": [
    "columnas_fecha = ['Fecha de Firma', 'Fecha de Inicio del Contrato', 'Fecha de Fin del Contrato',\n",
    "                  'Fecha de Inicio de Ejecucion', 'Fecha de Fin de Ejecucion']\n",
    "\n",
    "# Iterar sobre las columnas y convertirlas al tipo de dato 'date'\n",
    "for columna in columnas_fecha:\n",
    "    df[columna] = pd.to_datetime(df[columna], format='%m/%d/%Y', errors='coerce')\n",
    "    df[columna] = pd.to_datetime(df[columna], format='%Y-%m-%d %H:%M:%S', errors='coerce')"
   ],
   "metadata": {
    "collapsed": false,
    "ExecuteTime": {
     "start_time": "2023-07-24T18:17:23.916658Z",
     "end_time": "2023-07-24T18:17:26.039097Z"
    }
   }
  },
  {
   "cell_type": "markdown",
   "source": [
    "#### Filtrar por el estado del contrato"
   ],
   "metadata": {
    "collapsed": false
   }
  },
  {
   "cell_type": "code",
   "execution_count": 5,
   "outputs": [
    {
     "data": {
      "text/plain": "                       Departamento        Orden                      Sector   \n0                         Santander  Territorial            Servicio Público  \\\n2                         Atlántico     Nacional          Educación Nacional   \n3        Distrito Capital de Bogotá     Nacional  Hacienda y Crédito Público   \n9        Distrito Capital de Bogotá     Nacional                 agricultura   \n10       Distrito Capital de Bogotá     Nacional          Educación Nacional   \n...                             ...          ...                         ...   \n2689323                Cundinamarca  Territorial      No aplica/No pertenece   \n2689327                       Huila     Nacional                     defensa   \n2689331  Distrito Capital de Bogotá  Territorial   Salud y Protección Social   \n2689332                   Atlántico     Nacional                     Trabajo   \n2689333                       Huila  Territorial            Servicio Público   \n\n                         Rama Entidad Centralizada Estado Contrato   \n0                   Ejecutivo         Centralizada       terminado  \\\n2                   Ejecutivo         Centralizada          cedido   \n3                   Ejecutivo          No Definido         Cerrado   \n9                   Ejecutivo      Descentralizada       terminado   \n10       Corporación Autónoma      Descentralizada       terminado   \n...                       ...                  ...             ...   \n2689323             Ejecutivo      Descentralizada         Cerrado   \n2689327             Ejecutivo      Descentralizada       terminado   \n2689331  Corporación Autónoma      Descentralizada       terminado   \n2689332             Ejecutivo         Centralizada          cedido   \n2689333             Ejecutivo         Centralizada         Cerrado   \n\n                Tipo de Contrato      Modalidad de Contratacion   \n0        Prestación de servicios           Contratación directa  \\\n2        Prestación de servicios           Contratación directa   \n3        Prestación de servicios           Contratación directa   \n9        Prestación de servicios           Contratación directa   \n10       Prestación de servicios  Contratación régimen especial   \n...                          ...                            ...   \n2689323  Prestación de servicios           Contratación directa   \n2689327  Prestación de servicios                 Mínima cuantía   \n2689331        DecreeLaw092/2017  Contratación régimen especial   \n2689332  Prestación de servicios           Contratación directa   \n2689333  Prestación de servicios           Contratación directa   \n\n        Fecha de Firma Fecha de Inicio del Contrato  ...   \n0           2021-08-17                   2021-08-19  ...  \\\n2           2020-02-07                   2020-02-07  ...   \n3           2019-04-15                   2019-02-20  ...   \n9           2021-01-20                   2021-01-21  ...   \n10          2021-08-05                   2021-08-09  ...   \n...                ...                          ...  ...   \n2689323     2018-08-21                   2018-08-21  ...   \n2689327     2021-04-06                   2021-04-14  ...   \n2689331     2022-03-24                   2022-03-29  ...   \n2689332     2023-01-26                   2023-02-01  ...   \n2689333     2021-03-05                   2021-03-05  ...   \n\n        Valor Pendiente de Ejecucion   Saldo CDP EsPostConflicto   \n0                                0.0    13750000              No  \\\n2                                0.0   366080000              No   \n3                          1557298.0    66379827              No   \n9                          1744200.0  1034967000              No   \n10                         2640000.0    52800000              No   \n...                              ...         ...             ...   \n2689323                   20279040.0    20279040              No   \n2689327                   21000000.0    32550000              No   \n2689331                    6957491.0    58912135              No   \n2689332                   14080000.0  2201918000              No   \n2689333                          0.0     1800000              No   \n\n          Destino Gasto Origen de los Recursos Dias Adicionados   \n0             Inversión            Distribuido                0  \\\n2             Inversión            Distribuido                0   \n3        Funcionamiento            Distribuido                0   \n9             Inversión            Distribuido                0   \n10       Funcionamiento       Recursos Propios                0   \n...                 ...                    ...              ...   \n2689323  Funcionamiento            Distribuido                0   \n2689327  Funcionamiento            Distribuido                0   \n2689331  Funcionamiento       Recursos Propios                0   \n2689332       Inversión            Distribuido                0   \n2689333       Inversión            Distribuido                0   \n\n        Género Representante Legal  Presupuesto General de la Nacion – PGN   \n0                           Hombre                                       0  \\\n2                      No Definido                                       0   \n3                      No Definido                                       0   \n9                            Mujer                                22032000   \n10                     No Definido                                       0   \n...                            ...                                     ...   \n2689323                No Definido                                       0   \n2689327                No Definido                                24500000   \n2689331                      Mujer                                       0   \n2689332                No Definido                                20680000   \n2689333                      Mujer                                       0   \n\n         Recursos Propios (Alcaldías, Gobernaciones y Resguardos Indígenas)   \n0                                                 13750000                   \\\n2                                                        0                    \n3                                                        0                    \n9                                                        0                    \n10                                                       0                    \n...                                                    ...                    \n2689323                                                  0                    \n2689327                                                  0                    \n2689331                                                  0                    \n2689332                                                  0                    \n2689333                                            1800000                    \n\n         Recursos Propios  \n0                       0  \n2                       0  \n3                       0  \n9                       0  \n10               49500000  \n...                   ...  \n2689323                 0  \n2689327                 0  \n2689331           6957491  \n2689332                 0  \n2689333                 0  \n\n[608240 rows x 31 columns]",
      "text/html": "<div>\n<style scoped>\n    .dataframe tbody tr th:only-of-type {\n        vertical-align: middle;\n    }\n\n    .dataframe tbody tr th {\n        vertical-align: top;\n    }\n\n    .dataframe thead th {\n        text-align: right;\n    }\n</style>\n<table border=\"1\" class=\"dataframe\">\n  <thead>\n    <tr style=\"text-align: right;\">\n      <th></th>\n      <th>Departamento</th>\n      <th>Orden</th>\n      <th>Sector</th>\n      <th>Rama</th>\n      <th>Entidad Centralizada</th>\n      <th>Estado Contrato</th>\n      <th>Tipo de Contrato</th>\n      <th>Modalidad de Contratacion</th>\n      <th>Fecha de Firma</th>\n      <th>Fecha de Inicio del Contrato</th>\n      <th>...</th>\n      <th>Valor Pendiente de Ejecucion</th>\n      <th>Saldo CDP</th>\n      <th>EsPostConflicto</th>\n      <th>Destino Gasto</th>\n      <th>Origen de los Recursos</th>\n      <th>Dias Adicionados</th>\n      <th>Género Representante Legal</th>\n      <th>Presupuesto General de la Nacion – PGN</th>\n      <th>Recursos Propios (Alcaldías, Gobernaciones y Resguardos Indígenas)</th>\n      <th>Recursos Propios</th>\n    </tr>\n  </thead>\n  <tbody>\n    <tr>\n      <th>0</th>\n      <td>Santander</td>\n      <td>Territorial</td>\n      <td>Servicio Público</td>\n      <td>Ejecutivo</td>\n      <td>Centralizada</td>\n      <td>terminado</td>\n      <td>Prestación de servicios</td>\n      <td>Contratación directa</td>\n      <td>2021-08-17</td>\n      <td>2021-08-19</td>\n      <td>...</td>\n      <td>0.0</td>\n      <td>13750000</td>\n      <td>No</td>\n      <td>Inversión</td>\n      <td>Distribuido</td>\n      <td>0</td>\n      <td>Hombre</td>\n      <td>0</td>\n      <td>13750000</td>\n      <td>0</td>\n    </tr>\n    <tr>\n      <th>2</th>\n      <td>Atlántico</td>\n      <td>Nacional</td>\n      <td>Educación Nacional</td>\n      <td>Ejecutivo</td>\n      <td>Centralizada</td>\n      <td>cedido</td>\n      <td>Prestación de servicios</td>\n      <td>Contratación directa</td>\n      <td>2020-02-07</td>\n      <td>2020-02-07</td>\n      <td>...</td>\n      <td>0.0</td>\n      <td>366080000</td>\n      <td>No</td>\n      <td>Inversión</td>\n      <td>Distribuido</td>\n      <td>0</td>\n      <td>No Definido</td>\n      <td>0</td>\n      <td>0</td>\n      <td>0</td>\n    </tr>\n    <tr>\n      <th>3</th>\n      <td>Distrito Capital de Bogotá</td>\n      <td>Nacional</td>\n      <td>Hacienda y Crédito Público</td>\n      <td>Ejecutivo</td>\n      <td>No Definido</td>\n      <td>Cerrado</td>\n      <td>Prestación de servicios</td>\n      <td>Contratación directa</td>\n      <td>2019-04-15</td>\n      <td>2019-02-20</td>\n      <td>...</td>\n      <td>1557298.0</td>\n      <td>66379827</td>\n      <td>No</td>\n      <td>Funcionamiento</td>\n      <td>Distribuido</td>\n      <td>0</td>\n      <td>No Definido</td>\n      <td>0</td>\n      <td>0</td>\n      <td>0</td>\n    </tr>\n    <tr>\n      <th>9</th>\n      <td>Distrito Capital de Bogotá</td>\n      <td>Nacional</td>\n      <td>agricultura</td>\n      <td>Ejecutivo</td>\n      <td>Descentralizada</td>\n      <td>terminado</td>\n      <td>Prestación de servicios</td>\n      <td>Contratación directa</td>\n      <td>2021-01-20</td>\n      <td>2021-01-21</td>\n      <td>...</td>\n      <td>1744200.0</td>\n      <td>1034967000</td>\n      <td>No</td>\n      <td>Inversión</td>\n      <td>Distribuido</td>\n      <td>0</td>\n      <td>Mujer</td>\n      <td>22032000</td>\n      <td>0</td>\n      <td>0</td>\n    </tr>\n    <tr>\n      <th>10</th>\n      <td>Distrito Capital de Bogotá</td>\n      <td>Nacional</td>\n      <td>Educación Nacional</td>\n      <td>Corporación Autónoma</td>\n      <td>Descentralizada</td>\n      <td>terminado</td>\n      <td>Prestación de servicios</td>\n      <td>Contratación régimen especial</td>\n      <td>2021-08-05</td>\n      <td>2021-08-09</td>\n      <td>...</td>\n      <td>2640000.0</td>\n      <td>52800000</td>\n      <td>No</td>\n      <td>Funcionamiento</td>\n      <td>Recursos Propios</td>\n      <td>0</td>\n      <td>No Definido</td>\n      <td>0</td>\n      <td>0</td>\n      <td>49500000</td>\n    </tr>\n    <tr>\n      <th>...</th>\n      <td>...</td>\n      <td>...</td>\n      <td>...</td>\n      <td>...</td>\n      <td>...</td>\n      <td>...</td>\n      <td>...</td>\n      <td>...</td>\n      <td>...</td>\n      <td>...</td>\n      <td>...</td>\n      <td>...</td>\n      <td>...</td>\n      <td>...</td>\n      <td>...</td>\n      <td>...</td>\n      <td>...</td>\n      <td>...</td>\n      <td>...</td>\n      <td>...</td>\n      <td>...</td>\n    </tr>\n    <tr>\n      <th>2689323</th>\n      <td>Cundinamarca</td>\n      <td>Territorial</td>\n      <td>No aplica/No pertenece</td>\n      <td>Ejecutivo</td>\n      <td>Descentralizada</td>\n      <td>Cerrado</td>\n      <td>Prestación de servicios</td>\n      <td>Contratación directa</td>\n      <td>2018-08-21</td>\n      <td>2018-08-21</td>\n      <td>...</td>\n      <td>20279040.0</td>\n      <td>20279040</td>\n      <td>No</td>\n      <td>Funcionamiento</td>\n      <td>Distribuido</td>\n      <td>0</td>\n      <td>No Definido</td>\n      <td>0</td>\n      <td>0</td>\n      <td>0</td>\n    </tr>\n    <tr>\n      <th>2689327</th>\n      <td>Huila</td>\n      <td>Nacional</td>\n      <td>defensa</td>\n      <td>Ejecutivo</td>\n      <td>Descentralizada</td>\n      <td>terminado</td>\n      <td>Prestación de servicios</td>\n      <td>Mínima cuantía</td>\n      <td>2021-04-06</td>\n      <td>2021-04-14</td>\n      <td>...</td>\n      <td>21000000.0</td>\n      <td>32550000</td>\n      <td>No</td>\n      <td>Funcionamiento</td>\n      <td>Distribuido</td>\n      <td>0</td>\n      <td>No Definido</td>\n      <td>24500000</td>\n      <td>0</td>\n      <td>0</td>\n    </tr>\n    <tr>\n      <th>2689331</th>\n      <td>Distrito Capital de Bogotá</td>\n      <td>Territorial</td>\n      <td>Salud y Protección Social</td>\n      <td>Corporación Autónoma</td>\n      <td>Descentralizada</td>\n      <td>terminado</td>\n      <td>DecreeLaw092/2017</td>\n      <td>Contratación régimen especial</td>\n      <td>2022-03-24</td>\n      <td>2022-03-29</td>\n      <td>...</td>\n      <td>6957491.0</td>\n      <td>58912135</td>\n      <td>No</td>\n      <td>Funcionamiento</td>\n      <td>Recursos Propios</td>\n      <td>0</td>\n      <td>Mujer</td>\n      <td>0</td>\n      <td>0</td>\n      <td>6957491</td>\n    </tr>\n    <tr>\n      <th>2689332</th>\n      <td>Atlántico</td>\n      <td>Nacional</td>\n      <td>Trabajo</td>\n      <td>Ejecutivo</td>\n      <td>Centralizada</td>\n      <td>cedido</td>\n      <td>Prestación de servicios</td>\n      <td>Contratación directa</td>\n      <td>2023-01-26</td>\n      <td>2023-02-01</td>\n      <td>...</td>\n      <td>14080000.0</td>\n      <td>2201918000</td>\n      <td>No</td>\n      <td>Inversión</td>\n      <td>Distribuido</td>\n      <td>0</td>\n      <td>No Definido</td>\n      <td>20680000</td>\n      <td>0</td>\n      <td>0</td>\n    </tr>\n    <tr>\n      <th>2689333</th>\n      <td>Huila</td>\n      <td>Territorial</td>\n      <td>Servicio Público</td>\n      <td>Ejecutivo</td>\n      <td>Centralizada</td>\n      <td>Cerrado</td>\n      <td>Prestación de servicios</td>\n      <td>Contratación directa</td>\n      <td>2021-03-05</td>\n      <td>2021-03-05</td>\n      <td>...</td>\n      <td>0.0</td>\n      <td>1800000</td>\n      <td>No</td>\n      <td>Inversión</td>\n      <td>Distribuido</td>\n      <td>0</td>\n      <td>Mujer</td>\n      <td>0</td>\n      <td>1800000</td>\n      <td>0</td>\n    </tr>\n  </tbody>\n</table>\n<p>608240 rows × 31 columns</p>\n</div>"
     },
     "execution_count": 5,
     "metadata": {},
     "output_type": "execute_result"
    }
   ],
   "source": [
    "estados_contrato = [\"terminado\", \"Cerrado\", \"cedido\", \"Prorrogado\", \"Suspendido\"]\n",
    "\n",
    "# Filtrar las filas del dataframe basándote en la columna \"Estado Contrato\"\n",
    "df_filtradoNoEjecucion = df[df[\"Estado Contrato\"].isin(estados_contrato)]\n",
    "df_filtradoNoEjecucion"
   ],
   "metadata": {
    "collapsed": false,
    "ExecuteTime": {
     "start_time": "2023-07-24T18:17:26.043096Z",
     "end_time": "2023-07-24T18:17:26.734263Z"
    }
   }
  },
  {
   "cell_type": "markdown",
   "source": [
    "#### Filtrar por año del contrato"
   ],
   "metadata": {
    "collapsed": false
   }
  },
  {
   "cell_type": "code",
   "execution_count": 6,
   "outputs": [
    {
     "data": {
      "text/plain": "                       Departamento        Orden                      Sector   \n0                         Santander  Territorial            Servicio Público  \\\n2                         Atlántico     Nacional          Educación Nacional   \n3        Distrito Capital de Bogotá     Nacional  Hacienda y Crédito Público   \n9        Distrito Capital de Bogotá     Nacional                 agricultura   \n10       Distrito Capital de Bogotá     Nacional          Educación Nacional   \n...                             ...          ...                         ...   \n2689321  Distrito Capital de Bogotá  Territorial             Ley de Justicia   \n2689327                       Huila     Nacional                     defensa   \n2689331  Distrito Capital de Bogotá  Territorial   Salud y Protección Social   \n2689332                   Atlántico     Nacional                     Trabajo   \n2689333                       Huila  Territorial            Servicio Público   \n\n                         Rama Entidad Centralizada Estado Contrato   \n0                   Ejecutivo         Centralizada       terminado  \\\n2                   Ejecutivo         Centralizada          cedido   \n3                   Ejecutivo          No Definido         Cerrado   \n9                   Ejecutivo      Descentralizada       terminado   \n10       Corporación Autónoma      Descentralizada       terminado   \n...                       ...                  ...             ...   \n2689321             Ejecutivo      Descentralizada       terminado   \n2689327             Ejecutivo      Descentralizada       terminado   \n2689331  Corporación Autónoma      Descentralizada       terminado   \n2689332             Ejecutivo         Centralizada          cedido   \n2689333             Ejecutivo         Centralizada         Cerrado   \n\n                Tipo de Contrato      Modalidad de Contratacion   \n0        Prestación de servicios           Contratación directa  \\\n2        Prestación de servicios           Contratación directa   \n3        Prestación de servicios           Contratación directa   \n9        Prestación de servicios           Contratación directa   \n10       Prestación de servicios  Contratación régimen especial   \n...                          ...                            ...   \n2689321  Prestación de servicios           Contratación directa   \n2689327  Prestación de servicios                 Mínima cuantía   \n2689331        DecreeLaw092/2017  Contratación régimen especial   \n2689332  Prestación de servicios           Contratación directa   \n2689333  Prestación de servicios           Contratación directa   \n\n        Fecha de Firma Fecha de Inicio del Contrato  ...   \n0           2021-08-17                   2021-08-19  ...  \\\n2           2020-02-07                   2020-02-07  ...   \n3           2019-04-15                   2019-02-20  ...   \n9           2021-01-20                   2021-01-21  ...   \n10          2021-08-05                   2021-08-09  ...   \n...                ...                          ...  ...   \n2689321     2022-01-25                   2022-02-01  ...   \n2689327     2021-04-06                   2021-04-14  ...   \n2689331     2022-03-24                   2022-03-29  ...   \n2689332     2023-01-26                   2023-02-01  ...   \n2689333     2021-03-05                   2021-03-05  ...   \n\n        Valor Pendiente de Ejecucion   Saldo CDP EsPostConflicto   \n0                                0.0    13750000              No  \\\n2                                0.0   366080000              No   \n3                          1557298.0    66379827              No   \n9                          1744200.0  1034967000              No   \n10                         2640000.0    52800000              No   \n...                              ...         ...             ...   \n2689321                    7350000.0    24500000              No   \n2689327                   21000000.0    32550000              No   \n2689331                    6957491.0    58912135              No   \n2689332                   14080000.0  2201918000              No   \n2689333                          0.0     1800000              No   \n\n          Destino Gasto Origen de los Recursos Dias Adicionados   \n0             Inversión            Distribuido                0  \\\n2             Inversión            Distribuido                0   \n3        Funcionamiento            Distribuido                0   \n9             Inversión            Distribuido                0   \n10       Funcionamiento       Recursos Propios                0   \n...                 ...                    ...              ...   \n2689321       Inversión       Recursos Propios                0   \n2689327  Funcionamiento            Distribuido                0   \n2689331  Funcionamiento       Recursos Propios                0   \n2689332       Inversión            Distribuido                0   \n2689333       Inversión            Distribuido                0   \n\n        Género Representante Legal  Presupuesto General de la Nacion – PGN   \n0                           Hombre                                       0  \\\n2                      No Definido                                       0   \n3                      No Definido                                       0   \n9                            Mujer                                22032000   \n10                     No Definido                                       0   \n...                            ...                                     ...   \n2689321                No Definido                                       0   \n2689327                No Definido                                24500000   \n2689331                      Mujer                                       0   \n2689332                No Definido                                20680000   \n2689333                      Mujer                                       0   \n\n         Recursos Propios (Alcaldías, Gobernaciones y Resguardos Indígenas)   \n0                                                 13750000                   \\\n2                                                        0                    \n3                                                        0                    \n9                                                        0                    \n10                                                       0                    \n...                                                    ...                    \n2689321                                                  0                    \n2689327                                                  0                    \n2689331                                                  0                    \n2689332                                                  0                    \n2689333                                            1800000                    \n\n         Recursos Propios  \n0                       0  \n2                       0  \n3                       0  \n9                       0  \n10               49500000  \n...                   ...  \n2689321          24500000  \n2689327                 0  \n2689331           6957491  \n2689332                 0  \n2689333                 0  \n\n[565610 rows x 31 columns]",
      "text/html": "<div>\n<style scoped>\n    .dataframe tbody tr th:only-of-type {\n        vertical-align: middle;\n    }\n\n    .dataframe tbody tr th {\n        vertical-align: top;\n    }\n\n    .dataframe thead th {\n        text-align: right;\n    }\n</style>\n<table border=\"1\" class=\"dataframe\">\n  <thead>\n    <tr style=\"text-align: right;\">\n      <th></th>\n      <th>Departamento</th>\n      <th>Orden</th>\n      <th>Sector</th>\n      <th>Rama</th>\n      <th>Entidad Centralizada</th>\n      <th>Estado Contrato</th>\n      <th>Tipo de Contrato</th>\n      <th>Modalidad de Contratacion</th>\n      <th>Fecha de Firma</th>\n      <th>Fecha de Inicio del Contrato</th>\n      <th>...</th>\n      <th>Valor Pendiente de Ejecucion</th>\n      <th>Saldo CDP</th>\n      <th>EsPostConflicto</th>\n      <th>Destino Gasto</th>\n      <th>Origen de los Recursos</th>\n      <th>Dias Adicionados</th>\n      <th>Género Representante Legal</th>\n      <th>Presupuesto General de la Nacion – PGN</th>\n      <th>Recursos Propios (Alcaldías, Gobernaciones y Resguardos Indígenas)</th>\n      <th>Recursos Propios</th>\n    </tr>\n  </thead>\n  <tbody>\n    <tr>\n      <th>0</th>\n      <td>Santander</td>\n      <td>Territorial</td>\n      <td>Servicio Público</td>\n      <td>Ejecutivo</td>\n      <td>Centralizada</td>\n      <td>terminado</td>\n      <td>Prestación de servicios</td>\n      <td>Contratación directa</td>\n      <td>2021-08-17</td>\n      <td>2021-08-19</td>\n      <td>...</td>\n      <td>0.0</td>\n      <td>13750000</td>\n      <td>No</td>\n      <td>Inversión</td>\n      <td>Distribuido</td>\n      <td>0</td>\n      <td>Hombre</td>\n      <td>0</td>\n      <td>13750000</td>\n      <td>0</td>\n    </tr>\n    <tr>\n      <th>2</th>\n      <td>Atlántico</td>\n      <td>Nacional</td>\n      <td>Educación Nacional</td>\n      <td>Ejecutivo</td>\n      <td>Centralizada</td>\n      <td>cedido</td>\n      <td>Prestación de servicios</td>\n      <td>Contratación directa</td>\n      <td>2020-02-07</td>\n      <td>2020-02-07</td>\n      <td>...</td>\n      <td>0.0</td>\n      <td>366080000</td>\n      <td>No</td>\n      <td>Inversión</td>\n      <td>Distribuido</td>\n      <td>0</td>\n      <td>No Definido</td>\n      <td>0</td>\n      <td>0</td>\n      <td>0</td>\n    </tr>\n    <tr>\n      <th>3</th>\n      <td>Distrito Capital de Bogotá</td>\n      <td>Nacional</td>\n      <td>Hacienda y Crédito Público</td>\n      <td>Ejecutivo</td>\n      <td>No Definido</td>\n      <td>Cerrado</td>\n      <td>Prestación de servicios</td>\n      <td>Contratación directa</td>\n      <td>2019-04-15</td>\n      <td>2019-02-20</td>\n      <td>...</td>\n      <td>1557298.0</td>\n      <td>66379827</td>\n      <td>No</td>\n      <td>Funcionamiento</td>\n      <td>Distribuido</td>\n      <td>0</td>\n      <td>No Definido</td>\n      <td>0</td>\n      <td>0</td>\n      <td>0</td>\n    </tr>\n    <tr>\n      <th>9</th>\n      <td>Distrito Capital de Bogotá</td>\n      <td>Nacional</td>\n      <td>agricultura</td>\n      <td>Ejecutivo</td>\n      <td>Descentralizada</td>\n      <td>terminado</td>\n      <td>Prestación de servicios</td>\n      <td>Contratación directa</td>\n      <td>2021-01-20</td>\n      <td>2021-01-21</td>\n      <td>...</td>\n      <td>1744200.0</td>\n      <td>1034967000</td>\n      <td>No</td>\n      <td>Inversión</td>\n      <td>Distribuido</td>\n      <td>0</td>\n      <td>Mujer</td>\n      <td>22032000</td>\n      <td>0</td>\n      <td>0</td>\n    </tr>\n    <tr>\n      <th>10</th>\n      <td>Distrito Capital de Bogotá</td>\n      <td>Nacional</td>\n      <td>Educación Nacional</td>\n      <td>Corporación Autónoma</td>\n      <td>Descentralizada</td>\n      <td>terminado</td>\n      <td>Prestación de servicios</td>\n      <td>Contratación régimen especial</td>\n      <td>2021-08-05</td>\n      <td>2021-08-09</td>\n      <td>...</td>\n      <td>2640000.0</td>\n      <td>52800000</td>\n      <td>No</td>\n      <td>Funcionamiento</td>\n      <td>Recursos Propios</td>\n      <td>0</td>\n      <td>No Definido</td>\n      <td>0</td>\n      <td>0</td>\n      <td>49500000</td>\n    </tr>\n    <tr>\n      <th>...</th>\n      <td>...</td>\n      <td>...</td>\n      <td>...</td>\n      <td>...</td>\n      <td>...</td>\n      <td>...</td>\n      <td>...</td>\n      <td>...</td>\n      <td>...</td>\n      <td>...</td>\n      <td>...</td>\n      <td>...</td>\n      <td>...</td>\n      <td>...</td>\n      <td>...</td>\n      <td>...</td>\n      <td>...</td>\n      <td>...</td>\n      <td>...</td>\n      <td>...</td>\n      <td>...</td>\n    </tr>\n    <tr>\n      <th>2689321</th>\n      <td>Distrito Capital de Bogotá</td>\n      <td>Territorial</td>\n      <td>Ley de Justicia</td>\n      <td>Ejecutivo</td>\n      <td>Descentralizada</td>\n      <td>terminado</td>\n      <td>Prestación de servicios</td>\n      <td>Contratación directa</td>\n      <td>2022-01-25</td>\n      <td>2022-02-01</td>\n      <td>...</td>\n      <td>7350000.0</td>\n      <td>24500000</td>\n      <td>No</td>\n      <td>Inversión</td>\n      <td>Recursos Propios</td>\n      <td>0</td>\n      <td>No Definido</td>\n      <td>0</td>\n      <td>0</td>\n      <td>24500000</td>\n    </tr>\n    <tr>\n      <th>2689327</th>\n      <td>Huila</td>\n      <td>Nacional</td>\n      <td>defensa</td>\n      <td>Ejecutivo</td>\n      <td>Descentralizada</td>\n      <td>terminado</td>\n      <td>Prestación de servicios</td>\n      <td>Mínima cuantía</td>\n      <td>2021-04-06</td>\n      <td>2021-04-14</td>\n      <td>...</td>\n      <td>21000000.0</td>\n      <td>32550000</td>\n      <td>No</td>\n      <td>Funcionamiento</td>\n      <td>Distribuido</td>\n      <td>0</td>\n      <td>No Definido</td>\n      <td>24500000</td>\n      <td>0</td>\n      <td>0</td>\n    </tr>\n    <tr>\n      <th>2689331</th>\n      <td>Distrito Capital de Bogotá</td>\n      <td>Territorial</td>\n      <td>Salud y Protección Social</td>\n      <td>Corporación Autónoma</td>\n      <td>Descentralizada</td>\n      <td>terminado</td>\n      <td>DecreeLaw092/2017</td>\n      <td>Contratación régimen especial</td>\n      <td>2022-03-24</td>\n      <td>2022-03-29</td>\n      <td>...</td>\n      <td>6957491.0</td>\n      <td>58912135</td>\n      <td>No</td>\n      <td>Funcionamiento</td>\n      <td>Recursos Propios</td>\n      <td>0</td>\n      <td>Mujer</td>\n      <td>0</td>\n      <td>0</td>\n      <td>6957491</td>\n    </tr>\n    <tr>\n      <th>2689332</th>\n      <td>Atlántico</td>\n      <td>Nacional</td>\n      <td>Trabajo</td>\n      <td>Ejecutivo</td>\n      <td>Centralizada</td>\n      <td>cedido</td>\n      <td>Prestación de servicios</td>\n      <td>Contratación directa</td>\n      <td>2023-01-26</td>\n      <td>2023-02-01</td>\n      <td>...</td>\n      <td>14080000.0</td>\n      <td>2201918000</td>\n      <td>No</td>\n      <td>Inversión</td>\n      <td>Distribuido</td>\n      <td>0</td>\n      <td>No Definido</td>\n      <td>20680000</td>\n      <td>0</td>\n      <td>0</td>\n    </tr>\n    <tr>\n      <th>2689333</th>\n      <td>Huila</td>\n      <td>Territorial</td>\n      <td>Servicio Público</td>\n      <td>Ejecutivo</td>\n      <td>Centralizada</td>\n      <td>Cerrado</td>\n      <td>Prestación de servicios</td>\n      <td>Contratación directa</td>\n      <td>2021-03-05</td>\n      <td>2021-03-05</td>\n      <td>...</td>\n      <td>0.0</td>\n      <td>1800000</td>\n      <td>No</td>\n      <td>Inversión</td>\n      <td>Distribuido</td>\n      <td>0</td>\n      <td>Mujer</td>\n      <td>0</td>\n      <td>1800000</td>\n      <td>0</td>\n    </tr>\n  </tbody>\n</table>\n<p>565610 rows × 31 columns</p>\n</div>"
     },
     "execution_count": 6,
     "metadata": {},
     "output_type": "execute_result"
    }
   ],
   "source": [
    "df_filtradoAnio = df_filtradoNoEjecucion[df_filtradoNoEjecucion['Fecha de Inicio del Contrato'].dt.year >= 2019]\n",
    "df_filtradoAnio"
   ],
   "metadata": {
    "collapsed": false,
    "ExecuteTime": {
     "start_time": "2023-07-24T18:17:26.717247Z",
     "end_time": "2023-07-24T18:17:27.644953Z"
    }
   }
  },
  {
   "cell_type": "code",
   "execution_count": 7,
   "outputs": [],
   "source": [
    "# df_filtradoAnio = df_filtradoAnio.drop_duplicates()\n",
    "# df_filtradoAnio.info()"
   ],
   "metadata": {
    "collapsed": false,
    "ExecuteTime": {
     "start_time": "2023-07-24T18:17:27.644953Z",
     "end_time": "2023-07-24T18:17:27.659465Z"
    }
   }
  },
  {
   "cell_type": "code",
   "execution_count": 8,
   "outputs": [
    {
     "data": {
      "text/plain": "(565610, 31)"
     },
     "execution_count": 8,
     "metadata": {},
     "output_type": "execute_result"
    }
   ],
   "source": [
    "df_filtradoAnio.shape"
   ],
   "metadata": {
    "collapsed": false,
    "ExecuteTime": {
     "start_time": "2023-07-24T18:17:27.662476Z",
     "end_time": "2023-07-24T18:17:27.750716Z"
    }
   }
  },
  {
   "cell_type": "code",
   "execution_count": 9,
   "outputs": [
    {
     "name": "stderr",
     "output_type": "stream",
     "text": [
      "C:\\Users\\caste\\AppData\\Local\\Temp\\ipykernel_26548\\3316525929.py:1: SettingWithCopyWarning: \n",
      "A value is trying to be set on a copy of a slice from a DataFrame.\n",
      "Try using .loc[row_indexer,col_indexer] = value instead\n",
      "\n",
      "See the caveats in the documentation: https://pandas.pydata.org/pandas-docs/stable/user_guide/indexing.html#returning-a-view-versus-a-copy\n",
      "  df_filtradoAnio[\"EsServicioPublico\"] = df_filtradoAnio['Sector'] == 'Servicio Público'\n"
     ]
    },
    {
     "name": "stdout",
     "output_type": "stream",
     "text": [
      "<class 'pandas.core.frame.DataFrame'>\n",
      "Index: 498850 entries, 0 to 2689333\n",
      "Data columns (total 31 columns):\n",
      " #   Column                                                              Non-Null Count   Dtype         \n",
      "---  ------                                                              --------------   -----         \n",
      " 0   Departamento                                                        498850 non-null  object        \n",
      " 1   Orden                                                               498850 non-null  object        \n",
      " 2   Rama                                                                498850 non-null  object        \n",
      " 3   Entidad Centralizada                                                498850 non-null  object        \n",
      " 4   Estado Contrato                                                     498850 non-null  object        \n",
      " 5   Modalidad de Contratacion                                           498850 non-null  object        \n",
      " 6   Fecha de Firma                                                      498850 non-null  datetime64[ns]\n",
      " 7   Fecha de Inicio del Contrato                                        498850 non-null  datetime64[ns]\n",
      " 8   Fecha de Fin del Contrato                                           498848 non-null  datetime64[ns]\n",
      " 9   Fecha de Inicio de Ejecucion                                        63964 non-null   datetime64[ns]\n",
      " 10  Fecha de Fin de Ejecucion                                           64483 non-null   datetime64[ns]\n",
      " 11  Valor del Contrato                                                  498850 non-null  int64         \n",
      " 12  Valor Facturado                                                     498850 non-null  int64         \n",
      " 13  Valor Pendiente de Pago                                             498850 non-null  int64         \n",
      " 14  Valor Pagado                                                        498850 non-null  int64         \n",
      " 15  Valor Pendiente de Ejecucion                                        497971 non-null  float64       \n",
      " 16  Saldo CDP                                                           498850 non-null  int64         \n",
      " 17  Destino Gasto                                                       498850 non-null  object        \n",
      " 18  Dias Adicionados                                                    498850 non-null  int64         \n",
      " 19  Género Representante Legal                                          498850 non-null  object        \n",
      " 20  Presupuesto General de la Nacion – PGN                              498850 non-null  int64         \n",
      " 21  Recursos Propios (Alcaldías, Gobernaciones y Resguardos Indígenas)  498850 non-null  int64         \n",
      " 22  Recursos Propios                                                    498850 non-null  int64         \n",
      " 23  EsServicioPublico                                                   498850 non-null  bool          \n",
      " 24  EsPrestacionServicios                                               498850 non-null  bool          \n",
      " 25  EsGrupo                                                             498850 non-null  bool          \n",
      " 26  EsPyme                                                              498850 non-null  bool          \n",
      " 27  EstaLiquidado                                                       498850 non-null  bool          \n",
      " 28  EsObligacionAmbiental                                               498850 non-null  bool          \n",
      " 29  Es PostConflicto                                                    498850 non-null  bool          \n",
      " 30  EsRecursosPropios                                                   498850 non-null  bool          \n",
      "dtypes: bool(8), datetime64[ns](5), float64(1), int64(9), object(8)\n",
      "memory usage: 95.1+ MB\n"
     ]
    },
    {
     "data": {
      "text/plain": "                       Departamento        Orden                  Rama   \n0                         Santander  Territorial             Ejecutivo  \\\n2                         Atlántico     Nacional             Ejecutivo   \n3        Distrito Capital de Bogotá     Nacional             Ejecutivo   \n9        Distrito Capital de Bogotá     Nacional             Ejecutivo   \n10       Distrito Capital de Bogotá     Nacional  Corporación Autónoma   \n...                             ...          ...                   ...   \n2689321  Distrito Capital de Bogotá  Territorial             Ejecutivo   \n2689327                       Huila     Nacional             Ejecutivo   \n2689331  Distrito Capital de Bogotá  Territorial  Corporación Autónoma   \n2689332                   Atlántico     Nacional             Ejecutivo   \n2689333                       Huila  Territorial             Ejecutivo   \n\n        Entidad Centralizada Estado Contrato      Modalidad de Contratacion   \n0               Centralizada       terminado           Contratación directa  \\\n2               Centralizada          cedido           Contratación directa   \n3                No Definido         Cerrado           Contratación directa   \n9            Descentralizada       terminado           Contratación directa   \n10           Descentralizada       terminado  Contratación régimen especial   \n...                      ...             ...                            ...   \n2689321      Descentralizada       terminado           Contratación directa   \n2689327      Descentralizada       terminado                 Mínima cuantía   \n2689331      Descentralizada       terminado  Contratación régimen especial   \n2689332         Centralizada          cedido           Contratación directa   \n2689333         Centralizada         Cerrado           Contratación directa   \n\n        Fecha de Firma Fecha de Inicio del Contrato Fecha de Fin del Contrato   \n0           2021-08-17                   2021-08-19                2021-12-24  \\\n2           2020-02-07                   2020-02-07                2020-12-31   \n3           2019-04-15                   2019-02-20                2019-12-31   \n9           2021-01-20                   2021-01-21                2021-08-31   \n10          2021-08-05                   2021-08-09                2021-12-31   \n...                ...                          ...                       ...   \n2689321     2022-01-25                   2022-02-01                2023-01-08   \n2689327     2021-04-06                   2021-04-14                2021-11-14   \n2689331     2022-03-24                   2022-03-29                2022-04-30   \n2689332     2023-01-26                   2023-02-01                2023-11-30   \n2689333     2021-03-05                   2021-03-05                2021-03-05   \n\n        Fecha de Inicio de Ejecucion  ...   \n0                                NaT  ...  \\\n2                         2020-02-07  ...   \n3                                NaT  ...   \n9                                NaT  ...   \n10                               NaT  ...   \n...                              ...  ...   \n2689321                          NaT  ...   \n2689327                          NaT  ...   \n2689331                          NaT  ...   \n2689332                          NaT  ...   \n2689333                          NaT  ...   \n\n        Recursos Propios (Alcaldías, Gobernaciones y Resguardos Indígenas)   \n0                                                 13750000                  \\\n2                                                        0                   \n3                                                        0                   \n9                                                        0                   \n10                                                       0                   \n...                                                    ...                   \n2689321                                                  0                   \n2689327                                                  0                   \n2689331                                                  0                   \n2689332                                                  0                   \n2689333                                            1800000                   \n\n         Recursos Propios  EsServicioPublico  EsPrestacionServicios  EsGrupo   \n0                       0               True                   True    False  \\\n2                       0              False                   True    False   \n3                       0              False                   True    False   \n9                       0              False                   True    False   \n10               49500000              False                   True    False   \n...                   ...                ...                    ...      ...   \n2689321          24500000              False                   True    False   \n2689327                 0              False                   True    False   \n2689331           6957491              False                  False    False   \n2689332                 0              False                   True    False   \n2689333                 0               True                   True    False   \n\n         EsPyme  EstaLiquidado EsObligacionAmbiental  Es PostConflicto   \n0         False          False                 False             False  \\\n2         False          False                 False             False   \n3          True          False                 False             False   \n9         False          False                 False             False   \n10        False          False                 False             False   \n...         ...            ...                   ...               ...   \n2689321   False          False                 False             False   \n2689327    True          False                 False             False   \n2689331   False          False                 False             False   \n2689332   False          False                 False             False   \n2689333    True          False                 False             False   \n\n        EsRecursosPropios  \n0                   False  \n2                   False  \n3                   False  \n9                   False  \n10                   True  \n...                   ...  \n2689321              True  \n2689327             False  \n2689331              True  \n2689332             False  \n2689333             False  \n\n[498850 rows x 31 columns]",
      "text/html": "<div>\n<style scoped>\n    .dataframe tbody tr th:only-of-type {\n        vertical-align: middle;\n    }\n\n    .dataframe tbody tr th {\n        vertical-align: top;\n    }\n\n    .dataframe thead th {\n        text-align: right;\n    }\n</style>\n<table border=\"1\" class=\"dataframe\">\n  <thead>\n    <tr style=\"text-align: right;\">\n      <th></th>\n      <th>Departamento</th>\n      <th>Orden</th>\n      <th>Rama</th>\n      <th>Entidad Centralizada</th>\n      <th>Estado Contrato</th>\n      <th>Modalidad de Contratacion</th>\n      <th>Fecha de Firma</th>\n      <th>Fecha de Inicio del Contrato</th>\n      <th>Fecha de Fin del Contrato</th>\n      <th>Fecha de Inicio de Ejecucion</th>\n      <th>...</th>\n      <th>Recursos Propios (Alcaldías, Gobernaciones y Resguardos Indígenas)</th>\n      <th>Recursos Propios</th>\n      <th>EsServicioPublico</th>\n      <th>EsPrestacionServicios</th>\n      <th>EsGrupo</th>\n      <th>EsPyme</th>\n      <th>EstaLiquidado</th>\n      <th>EsObligacionAmbiental</th>\n      <th>Es PostConflicto</th>\n      <th>EsRecursosPropios</th>\n    </tr>\n  </thead>\n  <tbody>\n    <tr>\n      <th>0</th>\n      <td>Santander</td>\n      <td>Territorial</td>\n      <td>Ejecutivo</td>\n      <td>Centralizada</td>\n      <td>terminado</td>\n      <td>Contratación directa</td>\n      <td>2021-08-17</td>\n      <td>2021-08-19</td>\n      <td>2021-12-24</td>\n      <td>NaT</td>\n      <td>...</td>\n      <td>13750000</td>\n      <td>0</td>\n      <td>True</td>\n      <td>True</td>\n      <td>False</td>\n      <td>False</td>\n      <td>False</td>\n      <td>False</td>\n      <td>False</td>\n      <td>False</td>\n    </tr>\n    <tr>\n      <th>2</th>\n      <td>Atlántico</td>\n      <td>Nacional</td>\n      <td>Ejecutivo</td>\n      <td>Centralizada</td>\n      <td>cedido</td>\n      <td>Contratación directa</td>\n      <td>2020-02-07</td>\n      <td>2020-02-07</td>\n      <td>2020-12-31</td>\n      <td>2020-02-07</td>\n      <td>...</td>\n      <td>0</td>\n      <td>0</td>\n      <td>False</td>\n      <td>True</td>\n      <td>False</td>\n      <td>False</td>\n      <td>False</td>\n      <td>False</td>\n      <td>False</td>\n      <td>False</td>\n    </tr>\n    <tr>\n      <th>3</th>\n      <td>Distrito Capital de Bogotá</td>\n      <td>Nacional</td>\n      <td>Ejecutivo</td>\n      <td>No Definido</td>\n      <td>Cerrado</td>\n      <td>Contratación directa</td>\n      <td>2019-04-15</td>\n      <td>2019-02-20</td>\n      <td>2019-12-31</td>\n      <td>NaT</td>\n      <td>...</td>\n      <td>0</td>\n      <td>0</td>\n      <td>False</td>\n      <td>True</td>\n      <td>False</td>\n      <td>True</td>\n      <td>False</td>\n      <td>False</td>\n      <td>False</td>\n      <td>False</td>\n    </tr>\n    <tr>\n      <th>9</th>\n      <td>Distrito Capital de Bogotá</td>\n      <td>Nacional</td>\n      <td>Ejecutivo</td>\n      <td>Descentralizada</td>\n      <td>terminado</td>\n      <td>Contratación directa</td>\n      <td>2021-01-20</td>\n      <td>2021-01-21</td>\n      <td>2021-08-31</td>\n      <td>NaT</td>\n      <td>...</td>\n      <td>0</td>\n      <td>0</td>\n      <td>False</td>\n      <td>True</td>\n      <td>False</td>\n      <td>False</td>\n      <td>False</td>\n      <td>False</td>\n      <td>False</td>\n      <td>False</td>\n    </tr>\n    <tr>\n      <th>10</th>\n      <td>Distrito Capital de Bogotá</td>\n      <td>Nacional</td>\n      <td>Corporación Autónoma</td>\n      <td>Descentralizada</td>\n      <td>terminado</td>\n      <td>Contratación régimen especial</td>\n      <td>2021-08-05</td>\n      <td>2021-08-09</td>\n      <td>2021-12-31</td>\n      <td>NaT</td>\n      <td>...</td>\n      <td>0</td>\n      <td>49500000</td>\n      <td>False</td>\n      <td>True</td>\n      <td>False</td>\n      <td>False</td>\n      <td>False</td>\n      <td>False</td>\n      <td>False</td>\n      <td>True</td>\n    </tr>\n    <tr>\n      <th>...</th>\n      <td>...</td>\n      <td>...</td>\n      <td>...</td>\n      <td>...</td>\n      <td>...</td>\n      <td>...</td>\n      <td>...</td>\n      <td>...</td>\n      <td>...</td>\n      <td>...</td>\n      <td>...</td>\n      <td>...</td>\n      <td>...</td>\n      <td>...</td>\n      <td>...</td>\n      <td>...</td>\n      <td>...</td>\n      <td>...</td>\n      <td>...</td>\n      <td>...</td>\n      <td>...</td>\n    </tr>\n    <tr>\n      <th>2689321</th>\n      <td>Distrito Capital de Bogotá</td>\n      <td>Territorial</td>\n      <td>Ejecutivo</td>\n      <td>Descentralizada</td>\n      <td>terminado</td>\n      <td>Contratación directa</td>\n      <td>2022-01-25</td>\n      <td>2022-02-01</td>\n      <td>2023-01-08</td>\n      <td>NaT</td>\n      <td>...</td>\n      <td>0</td>\n      <td>24500000</td>\n      <td>False</td>\n      <td>True</td>\n      <td>False</td>\n      <td>False</td>\n      <td>False</td>\n      <td>False</td>\n      <td>False</td>\n      <td>True</td>\n    </tr>\n    <tr>\n      <th>2689327</th>\n      <td>Huila</td>\n      <td>Nacional</td>\n      <td>Ejecutivo</td>\n      <td>Descentralizada</td>\n      <td>terminado</td>\n      <td>Mínima cuantía</td>\n      <td>2021-04-06</td>\n      <td>2021-04-14</td>\n      <td>2021-11-14</td>\n      <td>NaT</td>\n      <td>...</td>\n      <td>0</td>\n      <td>0</td>\n      <td>False</td>\n      <td>True</td>\n      <td>False</td>\n      <td>True</td>\n      <td>False</td>\n      <td>False</td>\n      <td>False</td>\n      <td>False</td>\n    </tr>\n    <tr>\n      <th>2689331</th>\n      <td>Distrito Capital de Bogotá</td>\n      <td>Territorial</td>\n      <td>Corporación Autónoma</td>\n      <td>Descentralizada</td>\n      <td>terminado</td>\n      <td>Contratación régimen especial</td>\n      <td>2022-03-24</td>\n      <td>2022-03-29</td>\n      <td>2022-04-30</td>\n      <td>NaT</td>\n      <td>...</td>\n      <td>0</td>\n      <td>6957491</td>\n      <td>False</td>\n      <td>False</td>\n      <td>False</td>\n      <td>False</td>\n      <td>False</td>\n      <td>False</td>\n      <td>False</td>\n      <td>True</td>\n    </tr>\n    <tr>\n      <th>2689332</th>\n      <td>Atlántico</td>\n      <td>Nacional</td>\n      <td>Ejecutivo</td>\n      <td>Centralizada</td>\n      <td>cedido</td>\n      <td>Contratación directa</td>\n      <td>2023-01-26</td>\n      <td>2023-02-01</td>\n      <td>2023-11-30</td>\n      <td>NaT</td>\n      <td>...</td>\n      <td>0</td>\n      <td>0</td>\n      <td>False</td>\n      <td>True</td>\n      <td>False</td>\n      <td>False</td>\n      <td>False</td>\n      <td>False</td>\n      <td>False</td>\n      <td>False</td>\n    </tr>\n    <tr>\n      <th>2689333</th>\n      <td>Huila</td>\n      <td>Territorial</td>\n      <td>Ejecutivo</td>\n      <td>Centralizada</td>\n      <td>Cerrado</td>\n      <td>Contratación directa</td>\n      <td>2021-03-05</td>\n      <td>2021-03-05</td>\n      <td>2021-03-05</td>\n      <td>NaT</td>\n      <td>...</td>\n      <td>1800000</td>\n      <td>0</td>\n      <td>True</td>\n      <td>True</td>\n      <td>False</td>\n      <td>True</td>\n      <td>False</td>\n      <td>False</td>\n      <td>False</td>\n      <td>False</td>\n    </tr>\n  </tbody>\n</table>\n<p>498850 rows × 31 columns</p>\n</div>"
     },
     "execution_count": 9,
     "metadata": {},
     "output_type": "execute_result"
    }
   ],
   "source": [
    "df_filtradoAnio[\"EsServicioPublico\"] = df_filtradoAnio['Sector'] == 'Servicio Público'\n",
    "df_filtradoAnio = df_filtradoAnio.drop('Sector', axis=1)\n",
    "\n",
    "df_filtradoAnio[\"EsPrestacionServicios\"] = df_filtradoAnio['Tipo de Contrato'] == 'Prestación de servicios'\n",
    "df_filtradoAnio = df_filtradoAnio.drop('Tipo de Contrato', axis=1)\n",
    "\n",
    "df_filtradoAnio[\"EsGrupo\"] = df_filtradoAnio['Es Grupo'] == 'Si'\n",
    "df_filtradoAnio = df_filtradoAnio.drop('Es Grupo', axis=1)\n",
    "\n",
    "df_filtradoAnio[\"EsPyme\"] = df_filtradoAnio['Es Pyme'] == 'Si'\n",
    "df_filtradoAnio = df_filtradoAnio.drop('Es Pyme', axis=1)\n",
    "\n",
    "df_filtradoAnio[\"EstaLiquidado\"] = df_filtradoAnio['Liquidación'] == 'Si'\n",
    "df_filtradoAnio = df_filtradoAnio.drop('Liquidación', axis=1)\n",
    "\n",
    "df_filtradoAnio[\"EsObligacionAmbiental\"] = df_filtradoAnio['Obligación Ambiental'] == 'Si'\n",
    "df_filtradoAnio = df_filtradoAnio.drop('Obligación Ambiental', axis=1)\n",
    "\n",
    "\n",
    "df_filtradoAnio[\"Es PostConflicto\"] = df_filtradoAnio['EsPostConflicto'] == 'Si'\n",
    "df_filtradoAnio = df_filtradoAnio.drop('EsPostConflicto', axis=1)\n",
    "\n",
    "df_filtradoAnio[\"EsRecursosPropios\"] = df_filtradoAnio['Origen de los Recursos'] == 'Recursos Propios'\n",
    "df_filtradoAnio = df_filtradoAnio.drop('Origen de los Recursos', axis=1)\n",
    "\n",
    "\n",
    "df_filtradoAnio = df_filtradoAnio.drop_duplicates()\n",
    "df_filtradoAnio.info()\n",
    "\n",
    "df_filtradoAnio"
   ],
   "metadata": {
    "collapsed": false,
    "ExecuteTime": {
     "start_time": "2023-07-24T18:17:27.702467Z",
     "end_time": "2023-07-24T18:17:31.592700Z"
    }
   }
  },
  {
   "cell_type": "code",
   "execution_count": 10,
   "outputs": [],
   "source": [
    "# df_filtradoAnio.to_csv('datos_filtrados_20230719.csv', index=False)"
   ],
   "metadata": {
    "collapsed": false,
    "ExecuteTime": {
     "start_time": "2023-07-24T18:17:31.594700Z",
     "end_time": "2023-07-24T18:17:31.664696Z"
    }
   }
  },
  {
   "cell_type": "code",
   "execution_count": 11,
   "outputs": [
    {
     "data": {
      "text/plain": "(199540, 31)"
     },
     "execution_count": 11,
     "metadata": {},
     "output_type": "execute_result"
    }
   ],
   "source": [
    "muestra_aleatoria = df_filtradoAnio.sample(frac=0.4)\n",
    "muestra_aleatoria.shape"
   ],
   "metadata": {
    "collapsed": false,
    "ExecuteTime": {
     "start_time": "2023-07-24T18:17:31.611709Z",
     "end_time": "2023-07-24T18:17:31.927317Z"
    }
   }
  },
  {
   "cell_type": "code",
   "execution_count": 12,
   "outputs": [],
   "source": [
    "# from ydata_profiling import ProfileReport\n",
    "# profile = ProfileReport(muestra_aleatoria, title=\"Pandas Profiling Report\")\n",
    "# profile.to_file(\"secopFiltro2021muestra_profile_20230719_1923.html\")"
   ],
   "metadata": {
    "collapsed": false,
    "ExecuteTime": {
     "start_time": "2023-07-24T18:17:31.886319Z",
     "end_time": "2023-07-24T18:17:31.942316Z"
    }
   }
  },
  {
   "cell_type": "code",
   "execution_count": 13,
   "outputs": [
    {
     "data": {
      "text/plain": "                       Departamento        Orden                  Rama   \n0                         Santander  Territorial             Ejecutivo  \\\n2                         Atlántico     Nacional             Ejecutivo   \n3        Distrito Capital de Bogotá     Nacional             Ejecutivo   \n9        Distrito Capital de Bogotá     Nacional             Ejecutivo   \n10       Distrito Capital de Bogotá     Nacional  Corporación Autónoma   \n...                             ...          ...                   ...   \n2689321  Distrito Capital de Bogotá  Territorial             Ejecutivo   \n2689327                       Huila     Nacional             Ejecutivo   \n2689331  Distrito Capital de Bogotá  Territorial  Corporación Autónoma   \n2689332                   Atlántico     Nacional             Ejecutivo   \n2689333                       Huila  Territorial             Ejecutivo   \n\n        Entidad Centralizada      Modalidad de Contratacion Fecha de Firma   \n0               Centralizada           Contratación directa     2021-08-17  \\\n2               Centralizada           Contratación directa     2020-02-07   \n3                No Definido           Contratación directa     2019-04-15   \n9            Descentralizada           Contratación directa     2021-01-20   \n10           Descentralizada  Contratación régimen especial     2021-08-05   \n...                      ...                            ...            ...   \n2689321      Descentralizada           Contratación directa     2022-01-25   \n2689327      Descentralizada                 Mínima cuantía     2021-04-06   \n2689331      Descentralizada  Contratación régimen especial     2022-03-24   \n2689332         Centralizada           Contratación directa     2023-01-26   \n2689333         Centralizada           Contratación directa     2021-03-05   \n\n        Fecha de Inicio del Contrato Fecha de Fin del Contrato   \n0                         2021-08-19                2021-12-24  \\\n2                         2020-02-07                2020-12-31   \n3                         2019-02-20                2019-12-31   \n9                         2021-01-21                2021-08-31   \n10                        2021-08-09                2021-12-31   \n...                              ...                       ...   \n2689321                   2022-02-01                2023-01-08   \n2689327                   2021-04-14                2021-11-14   \n2689331                   2022-03-29                2022-04-30   \n2689332                   2023-02-01                2023-11-30   \n2689333                   2021-03-05                2021-03-05   \n\n        Fecha de Inicio de Ejecucion Fecha de Fin de Ejecucion  ...  EsGrupo   \n0                                NaT                       NaT  ...    False  \\\n2                         2020-02-07                2020-12-31  ...    False   \n3                                NaT                       NaT  ...    False   \n9                                NaT                       NaT  ...    False   \n10                               NaT                       NaT  ...    False   \n...                              ...                       ...  ...      ...   \n2689321                          NaT                       NaT  ...    False   \n2689327                          NaT                       NaT  ...    False   \n2689331                          NaT                       NaT  ...    False   \n2689332                          NaT                       NaT  ...    False   \n2689333                          NaT                       NaT  ...    False   \n\n         EsPyme  EstaLiquidado  EsObligacionAmbiental  Es PostConflicto   \n0         False          False                  False             False  \\\n2         False          False                  False             False   \n3          True          False                  False             False   \n9         False          False                  False             False   \n10        False          False                  False             False   \n...         ...            ...                    ...               ...   \n2689321   False          False                  False             False   \n2689327    True          False                  False             False   \n2689331   False          False                  False             False   \n2689332   False          False                  False             False   \n2689333    True          False                  False             False   \n\n         EsRecursosPropios Cerrado  Suspendido cedido  terminado  \n0                    False   False       False  False       True  \n2                    False   False       False   True      False  \n3                    False    True       False  False      False  \n9                    False   False       False  False       True  \n10                    True   False       False  False       True  \n...                    ...     ...         ...    ...        ...  \n2689321               True   False       False  False       True  \n2689327              False   False       False  False       True  \n2689331               True   False       False  False       True  \n2689332              False   False       False   True      False  \n2689333              False    True       False  False      False  \n\n[498850 rows x 34 columns]",
      "text/html": "<div>\n<style scoped>\n    .dataframe tbody tr th:only-of-type {\n        vertical-align: middle;\n    }\n\n    .dataframe tbody tr th {\n        vertical-align: top;\n    }\n\n    .dataframe thead th {\n        text-align: right;\n    }\n</style>\n<table border=\"1\" class=\"dataframe\">\n  <thead>\n    <tr style=\"text-align: right;\">\n      <th></th>\n      <th>Departamento</th>\n      <th>Orden</th>\n      <th>Rama</th>\n      <th>Entidad Centralizada</th>\n      <th>Modalidad de Contratacion</th>\n      <th>Fecha de Firma</th>\n      <th>Fecha de Inicio del Contrato</th>\n      <th>Fecha de Fin del Contrato</th>\n      <th>Fecha de Inicio de Ejecucion</th>\n      <th>Fecha de Fin de Ejecucion</th>\n      <th>...</th>\n      <th>EsGrupo</th>\n      <th>EsPyme</th>\n      <th>EstaLiquidado</th>\n      <th>EsObligacionAmbiental</th>\n      <th>Es PostConflicto</th>\n      <th>EsRecursosPropios</th>\n      <th>Cerrado</th>\n      <th>Suspendido</th>\n      <th>cedido</th>\n      <th>terminado</th>\n    </tr>\n  </thead>\n  <tbody>\n    <tr>\n      <th>0</th>\n      <td>Santander</td>\n      <td>Territorial</td>\n      <td>Ejecutivo</td>\n      <td>Centralizada</td>\n      <td>Contratación directa</td>\n      <td>2021-08-17</td>\n      <td>2021-08-19</td>\n      <td>2021-12-24</td>\n      <td>NaT</td>\n      <td>NaT</td>\n      <td>...</td>\n      <td>False</td>\n      <td>False</td>\n      <td>False</td>\n      <td>False</td>\n      <td>False</td>\n      <td>False</td>\n      <td>False</td>\n      <td>False</td>\n      <td>False</td>\n      <td>True</td>\n    </tr>\n    <tr>\n      <th>2</th>\n      <td>Atlántico</td>\n      <td>Nacional</td>\n      <td>Ejecutivo</td>\n      <td>Centralizada</td>\n      <td>Contratación directa</td>\n      <td>2020-02-07</td>\n      <td>2020-02-07</td>\n      <td>2020-12-31</td>\n      <td>2020-02-07</td>\n      <td>2020-12-31</td>\n      <td>...</td>\n      <td>False</td>\n      <td>False</td>\n      <td>False</td>\n      <td>False</td>\n      <td>False</td>\n      <td>False</td>\n      <td>False</td>\n      <td>False</td>\n      <td>True</td>\n      <td>False</td>\n    </tr>\n    <tr>\n      <th>3</th>\n      <td>Distrito Capital de Bogotá</td>\n      <td>Nacional</td>\n      <td>Ejecutivo</td>\n      <td>No Definido</td>\n      <td>Contratación directa</td>\n      <td>2019-04-15</td>\n      <td>2019-02-20</td>\n      <td>2019-12-31</td>\n      <td>NaT</td>\n      <td>NaT</td>\n      <td>...</td>\n      <td>False</td>\n      <td>True</td>\n      <td>False</td>\n      <td>False</td>\n      <td>False</td>\n      <td>False</td>\n      <td>True</td>\n      <td>False</td>\n      <td>False</td>\n      <td>False</td>\n    </tr>\n    <tr>\n      <th>9</th>\n      <td>Distrito Capital de Bogotá</td>\n      <td>Nacional</td>\n      <td>Ejecutivo</td>\n      <td>Descentralizada</td>\n      <td>Contratación directa</td>\n      <td>2021-01-20</td>\n      <td>2021-01-21</td>\n      <td>2021-08-31</td>\n      <td>NaT</td>\n      <td>NaT</td>\n      <td>...</td>\n      <td>False</td>\n      <td>False</td>\n      <td>False</td>\n      <td>False</td>\n      <td>False</td>\n      <td>False</td>\n      <td>False</td>\n      <td>False</td>\n      <td>False</td>\n      <td>True</td>\n    </tr>\n    <tr>\n      <th>10</th>\n      <td>Distrito Capital de Bogotá</td>\n      <td>Nacional</td>\n      <td>Corporación Autónoma</td>\n      <td>Descentralizada</td>\n      <td>Contratación régimen especial</td>\n      <td>2021-08-05</td>\n      <td>2021-08-09</td>\n      <td>2021-12-31</td>\n      <td>NaT</td>\n      <td>NaT</td>\n      <td>...</td>\n      <td>False</td>\n      <td>False</td>\n      <td>False</td>\n      <td>False</td>\n      <td>False</td>\n      <td>True</td>\n      <td>False</td>\n      <td>False</td>\n      <td>False</td>\n      <td>True</td>\n    </tr>\n    <tr>\n      <th>...</th>\n      <td>...</td>\n      <td>...</td>\n      <td>...</td>\n      <td>...</td>\n      <td>...</td>\n      <td>...</td>\n      <td>...</td>\n      <td>...</td>\n      <td>...</td>\n      <td>...</td>\n      <td>...</td>\n      <td>...</td>\n      <td>...</td>\n      <td>...</td>\n      <td>...</td>\n      <td>...</td>\n      <td>...</td>\n      <td>...</td>\n      <td>...</td>\n      <td>...</td>\n      <td>...</td>\n    </tr>\n    <tr>\n      <th>2689321</th>\n      <td>Distrito Capital de Bogotá</td>\n      <td>Territorial</td>\n      <td>Ejecutivo</td>\n      <td>Descentralizada</td>\n      <td>Contratación directa</td>\n      <td>2022-01-25</td>\n      <td>2022-02-01</td>\n      <td>2023-01-08</td>\n      <td>NaT</td>\n      <td>NaT</td>\n      <td>...</td>\n      <td>False</td>\n      <td>False</td>\n      <td>False</td>\n      <td>False</td>\n      <td>False</td>\n      <td>True</td>\n      <td>False</td>\n      <td>False</td>\n      <td>False</td>\n      <td>True</td>\n    </tr>\n    <tr>\n      <th>2689327</th>\n      <td>Huila</td>\n      <td>Nacional</td>\n      <td>Ejecutivo</td>\n      <td>Descentralizada</td>\n      <td>Mínima cuantía</td>\n      <td>2021-04-06</td>\n      <td>2021-04-14</td>\n      <td>2021-11-14</td>\n      <td>NaT</td>\n      <td>NaT</td>\n      <td>...</td>\n      <td>False</td>\n      <td>True</td>\n      <td>False</td>\n      <td>False</td>\n      <td>False</td>\n      <td>False</td>\n      <td>False</td>\n      <td>False</td>\n      <td>False</td>\n      <td>True</td>\n    </tr>\n    <tr>\n      <th>2689331</th>\n      <td>Distrito Capital de Bogotá</td>\n      <td>Territorial</td>\n      <td>Corporación Autónoma</td>\n      <td>Descentralizada</td>\n      <td>Contratación régimen especial</td>\n      <td>2022-03-24</td>\n      <td>2022-03-29</td>\n      <td>2022-04-30</td>\n      <td>NaT</td>\n      <td>NaT</td>\n      <td>...</td>\n      <td>False</td>\n      <td>False</td>\n      <td>False</td>\n      <td>False</td>\n      <td>False</td>\n      <td>True</td>\n      <td>False</td>\n      <td>False</td>\n      <td>False</td>\n      <td>True</td>\n    </tr>\n    <tr>\n      <th>2689332</th>\n      <td>Atlántico</td>\n      <td>Nacional</td>\n      <td>Ejecutivo</td>\n      <td>Centralizada</td>\n      <td>Contratación directa</td>\n      <td>2023-01-26</td>\n      <td>2023-02-01</td>\n      <td>2023-11-30</td>\n      <td>NaT</td>\n      <td>NaT</td>\n      <td>...</td>\n      <td>False</td>\n      <td>False</td>\n      <td>False</td>\n      <td>False</td>\n      <td>False</td>\n      <td>False</td>\n      <td>False</td>\n      <td>False</td>\n      <td>True</td>\n      <td>False</td>\n    </tr>\n    <tr>\n      <th>2689333</th>\n      <td>Huila</td>\n      <td>Territorial</td>\n      <td>Ejecutivo</td>\n      <td>Centralizada</td>\n      <td>Contratación directa</td>\n      <td>2021-03-05</td>\n      <td>2021-03-05</td>\n      <td>2021-03-05</td>\n      <td>NaT</td>\n      <td>NaT</td>\n      <td>...</td>\n      <td>False</td>\n      <td>True</td>\n      <td>False</td>\n      <td>False</td>\n      <td>False</td>\n      <td>False</td>\n      <td>True</td>\n      <td>False</td>\n      <td>False</td>\n      <td>False</td>\n    </tr>\n  </tbody>\n</table>\n<p>498850 rows × 34 columns</p>\n</div>"
     },
     "execution_count": 13,
     "metadata": {},
     "output_type": "execute_result"
    }
   ],
   "source": [
    "# Aplicar one-hot encoding\n",
    "df_one_hot = pd.get_dummies(df_filtradoAnio['Estado Contrato'])\n",
    "\n",
    "# Combinar el DataFrame original con las nuevas columnas\n",
    "df_final = pd.concat([df_filtradoAnio, df_one_hot], axis=1)\n",
    "\n",
    "# Eliminar la columna original \"Estado Contrato\" si deseas\n",
    "df_final = df_final.drop('Estado Contrato', axis=1)\n",
    "\n",
    "df_final"
   ],
   "metadata": {
    "collapsed": false,
    "ExecuteTime": {
     "start_time": "2023-07-24T18:17:31.906324Z",
     "end_time": "2023-07-24T18:17:32.395365Z"
    }
   }
  },
  {
   "cell_type": "code",
   "execution_count": 14,
   "outputs": [],
   "source": [
    "estado_contrato = df_final[\"Cerrado\"].copy()\n",
    "contratos_data = df_final.drop([\"terminado\",\"cedido\",\"Suspendido\",\"Cerrado\"],axis=1)"
   ],
   "metadata": {
    "collapsed": false,
    "ExecuteTime": {
     "start_time": "2023-07-24T18:17:32.403364Z",
     "end_time": "2023-07-24T18:17:32.575884Z"
    }
   }
  },
  {
   "cell_type": "code",
   "execution_count": 15,
   "outputs": [
    {
     "name": "stdout",
     "output_type": "stream",
     "text": [
      "299310 99770 99770 498850\n"
     ]
    }
   ],
   "source": [
    "# Calculate test and validation set size:\n",
    "original_count = len(df_final)\n",
    "training_size = 0.60 # 60% of records\n",
    "test_size = (1 - training_size) / 2\n",
    "\n",
    "\n",
    "training_count = int(original_count * training_size)\n",
    "test_count = int(original_count * test_size)\n",
    "validation_count = original_count - training_count - test_count\n",
    "\n",
    "print(training_count, test_count, validation_count, original_count)"
   ],
   "metadata": {
    "collapsed": false,
    "ExecuteTime": {
     "start_time": "2023-07-24T18:17:32.506365Z",
     "end_time": "2023-07-24T18:17:32.576881Z"
    }
   }
  },
  {
   "cell_type": "code",
   "execution_count": 16,
   "outputs": [
    {
     "name": "stdout",
     "output_type": "stream",
     "text": [
      "299310 99770 99770\n"
     ]
    }
   ],
   "source": [
    "from sklearn.model_selection import train_test_split\n",
    "\n",
    "train_x, rest_x, train_y, rest_y = train_test_split(contratos_data, estado_contrato, train_size=training_count)\n",
    "test_x, validate_x, test_y, validate_y = train_test_split(rest_x, rest_y, train_size=test_count)\n",
    "\n",
    "print(len(train_x), len(test_x), len(validate_x))"
   ],
   "metadata": {
    "collapsed": false,
    "ExecuteTime": {
     "start_time": "2023-07-24T18:17:32.520882Z",
     "end_time": "2023-07-24T18:17:35.663442Z"
    }
   }
  },
  {
   "cell_type": "code",
   "execution_count": 17,
   "outputs": [
    {
     "data": {
      "text/plain": "                       Departamento        Orden                  Rama   \n1746784          Norte de Santander  Territorial             Ejecutivo  \\\n1966706                   Santander  Territorial             Ejecutivo   \n2459695                     Vichada     Nacional             Ejecutivo   \n1067015                   Antioquia     Nacional  Corporación Autónoma   \n1925447  Distrito Capital de Bogotá     Nacional  Corporación Autónoma   \n...                             ...          ...                   ...   \n993627                      Quindío  Territorial  Corporación Autónoma   \n2485734                      Nariño  Territorial             Ejecutivo   \n2439006                   Antioquia  Territorial             Ejecutivo   \n103417              Valle del Cauca  Territorial             Ejecutivo   \n598941              Valle del Cauca  Territorial             Ejecutivo   \n\n        Entidad Centralizada                    Modalidad de Contratacion   \n1746784         Centralizada                         Contratación directa  \\\n1966706         Centralizada                         Contratación directa   \n2459695         Centralizada                         Contratación directa   \n1067015         Centralizada                         Contratación directa   \n1925447      Descentralizada                         Contratación directa   \n...                      ...                                          ...   \n993627          Centralizada                         Contratación directa   \n2485734      Descentralizada                         Contratación directa   \n2439006         Centralizada                         Contratación directa   \n103417          Centralizada                         Contratación directa   \n598941       Descentralizada  Contratación régimen especial (con ofertas)   \n\n        Fecha de Firma Fecha de Inicio del Contrato Fecha de Fin del Contrato   \n1746784     2023-03-13                   2023-03-14                2023-09-13  \\\n1966706     2021-10-22                   2021-11-08                2021-12-27   \n2459695     2022-01-06                   2022-01-07                2022-12-26   \n1067015     2023-01-16                   2023-01-16                2023-06-30   \n1925447     2020-02-07                   2020-02-10                2020-03-09   \n...                ...                          ...                       ...   \n993627      2022-08-04                   2022-08-04                2022-12-04   \n2485734     2021-04-14                   2021-04-15                2021-06-30   \n2439006     2022-11-08                   2022-11-08                2022-12-30   \n103417      2022-09-20                   2022-09-22                2022-12-30   \n598941      2022-10-05                   2022-10-05                2022-10-14   \n\n        Fecha de Inicio de Ejecucion Fecha de Fin de Ejecucion  ...   \n1746784                          NaT                       NaT  ...  \\\n1966706                          NaT                       NaT  ...   \n2459695                          NaT                       NaT  ...   \n1067015                          NaT                       NaT  ...   \n1925447                   2020-02-10                2020-03-09  ...   \n...                              ...                       ...  ...   \n993627                           NaT                       NaT  ...   \n2485734                          NaT                       NaT  ...   \n2439006                          NaT                       NaT  ...   \n103417                           NaT                       NaT  ...   \n598941                           NaT                       NaT  ...   \n\n         Recursos Propios (Alcaldías, Gobernaciones y Resguardos Indígenas)   \n1746784                                           10800000                   \\\n1966706                                            5000000                    \n2459695                                                  0                    \n1067015                                                  0                    \n1925447                                                  0                    \n...                                                    ...                    \n993627                                             8000000                    \n2485734                                            6600000                    \n2439006                                            7667334                    \n103417                                             7200000                    \n598941                                                   0                    \n\n         Recursos Propios  EsServicioPublico  EsPrestacionServicios  EsGrupo   \n1746784                 0               True                   True    False  \\\n1966706                 0               True                   True    False   \n2459695                 0              False                   True    False   \n1067015          30872514              False                   True    False   \n1925447                 0              False                   True    False   \n...                   ...                ...                    ...      ...   \n993627                  0              False                   True    False   \n2485734                 0               True                   True    False   \n2439006                 0              False                   True    False   \n103417                  0               True                   True    False   \n598941                  0              False                  False    False   \n\n         EsPyme EstaLiquidado  EsObligacionAmbiental Es PostConflicto   \n1746784   False         False                  False            False  \\\n1966706   False         False                  False            False   \n2459695   False         False                  False            False   \n1067015   False         False                  False            False   \n1925447   False         False                  False            False   \n...         ...           ...                    ...              ...   \n993627    False         False                  False            False   \n2485734   False         False                  False            False   \n2439006   False         False                  False            False   \n103417    False         False                  False            False   \n598941    False         False                  False            False   \n\n         EsRecursosPropios  \n1746784              False  \n1966706              False  \n2459695              False  \n1067015               True  \n1925447              False  \n...                    ...  \n993627               False  \n2485734              False  \n2439006              False  \n103417               False  \n598941               False  \n\n[299310 rows x 30 columns]",
      "text/html": "<div>\n<style scoped>\n    .dataframe tbody tr th:only-of-type {\n        vertical-align: middle;\n    }\n\n    .dataframe tbody tr th {\n        vertical-align: top;\n    }\n\n    .dataframe thead th {\n        text-align: right;\n    }\n</style>\n<table border=\"1\" class=\"dataframe\">\n  <thead>\n    <tr style=\"text-align: right;\">\n      <th></th>\n      <th>Departamento</th>\n      <th>Orden</th>\n      <th>Rama</th>\n      <th>Entidad Centralizada</th>\n      <th>Modalidad de Contratacion</th>\n      <th>Fecha de Firma</th>\n      <th>Fecha de Inicio del Contrato</th>\n      <th>Fecha de Fin del Contrato</th>\n      <th>Fecha de Inicio de Ejecucion</th>\n      <th>Fecha de Fin de Ejecucion</th>\n      <th>...</th>\n      <th>Recursos Propios (Alcaldías, Gobernaciones y Resguardos Indígenas)</th>\n      <th>Recursos Propios</th>\n      <th>EsServicioPublico</th>\n      <th>EsPrestacionServicios</th>\n      <th>EsGrupo</th>\n      <th>EsPyme</th>\n      <th>EstaLiquidado</th>\n      <th>EsObligacionAmbiental</th>\n      <th>Es PostConflicto</th>\n      <th>EsRecursosPropios</th>\n    </tr>\n  </thead>\n  <tbody>\n    <tr>\n      <th>1746784</th>\n      <td>Norte de Santander</td>\n      <td>Territorial</td>\n      <td>Ejecutivo</td>\n      <td>Centralizada</td>\n      <td>Contratación directa</td>\n      <td>2023-03-13</td>\n      <td>2023-03-14</td>\n      <td>2023-09-13</td>\n      <td>NaT</td>\n      <td>NaT</td>\n      <td>...</td>\n      <td>10800000</td>\n      <td>0</td>\n      <td>True</td>\n      <td>True</td>\n      <td>False</td>\n      <td>False</td>\n      <td>False</td>\n      <td>False</td>\n      <td>False</td>\n      <td>False</td>\n    </tr>\n    <tr>\n      <th>1966706</th>\n      <td>Santander</td>\n      <td>Territorial</td>\n      <td>Ejecutivo</td>\n      <td>Centralizada</td>\n      <td>Contratación directa</td>\n      <td>2021-10-22</td>\n      <td>2021-11-08</td>\n      <td>2021-12-27</td>\n      <td>NaT</td>\n      <td>NaT</td>\n      <td>...</td>\n      <td>5000000</td>\n      <td>0</td>\n      <td>True</td>\n      <td>True</td>\n      <td>False</td>\n      <td>False</td>\n      <td>False</td>\n      <td>False</td>\n      <td>False</td>\n      <td>False</td>\n    </tr>\n    <tr>\n      <th>2459695</th>\n      <td>Vichada</td>\n      <td>Nacional</td>\n      <td>Ejecutivo</td>\n      <td>Centralizada</td>\n      <td>Contratación directa</td>\n      <td>2022-01-06</td>\n      <td>2022-01-07</td>\n      <td>2022-12-26</td>\n      <td>NaT</td>\n      <td>NaT</td>\n      <td>...</td>\n      <td>0</td>\n      <td>0</td>\n      <td>False</td>\n      <td>True</td>\n      <td>False</td>\n      <td>False</td>\n      <td>False</td>\n      <td>False</td>\n      <td>False</td>\n      <td>False</td>\n    </tr>\n    <tr>\n      <th>1067015</th>\n      <td>Antioquia</td>\n      <td>Nacional</td>\n      <td>Corporación Autónoma</td>\n      <td>Centralizada</td>\n      <td>Contratación directa</td>\n      <td>2023-01-16</td>\n      <td>2023-01-16</td>\n      <td>2023-06-30</td>\n      <td>NaT</td>\n      <td>NaT</td>\n      <td>...</td>\n      <td>0</td>\n      <td>30872514</td>\n      <td>False</td>\n      <td>True</td>\n      <td>False</td>\n      <td>False</td>\n      <td>False</td>\n      <td>False</td>\n      <td>False</td>\n      <td>True</td>\n    </tr>\n    <tr>\n      <th>1925447</th>\n      <td>Distrito Capital de Bogotá</td>\n      <td>Nacional</td>\n      <td>Corporación Autónoma</td>\n      <td>Descentralizada</td>\n      <td>Contratación directa</td>\n      <td>2020-02-07</td>\n      <td>2020-02-10</td>\n      <td>2020-03-09</td>\n      <td>2020-02-10</td>\n      <td>2020-03-09</td>\n      <td>...</td>\n      <td>0</td>\n      <td>0</td>\n      <td>False</td>\n      <td>True</td>\n      <td>False</td>\n      <td>False</td>\n      <td>False</td>\n      <td>False</td>\n      <td>False</td>\n      <td>False</td>\n    </tr>\n    <tr>\n      <th>...</th>\n      <td>...</td>\n      <td>...</td>\n      <td>...</td>\n      <td>...</td>\n      <td>...</td>\n      <td>...</td>\n      <td>...</td>\n      <td>...</td>\n      <td>...</td>\n      <td>...</td>\n      <td>...</td>\n      <td>...</td>\n      <td>...</td>\n      <td>...</td>\n      <td>...</td>\n      <td>...</td>\n      <td>...</td>\n      <td>...</td>\n      <td>...</td>\n      <td>...</td>\n      <td>...</td>\n    </tr>\n    <tr>\n      <th>993627</th>\n      <td>Quindío</td>\n      <td>Territorial</td>\n      <td>Corporación Autónoma</td>\n      <td>Centralizada</td>\n      <td>Contratación directa</td>\n      <td>2022-08-04</td>\n      <td>2022-08-04</td>\n      <td>2022-12-04</td>\n      <td>NaT</td>\n      <td>NaT</td>\n      <td>...</td>\n      <td>8000000</td>\n      <td>0</td>\n      <td>False</td>\n      <td>True</td>\n      <td>False</td>\n      <td>False</td>\n      <td>False</td>\n      <td>False</td>\n      <td>False</td>\n      <td>False</td>\n    </tr>\n    <tr>\n      <th>2485734</th>\n      <td>Nariño</td>\n      <td>Territorial</td>\n      <td>Ejecutivo</td>\n      <td>Descentralizada</td>\n      <td>Contratación directa</td>\n      <td>2021-04-14</td>\n      <td>2021-04-15</td>\n      <td>2021-06-30</td>\n      <td>NaT</td>\n      <td>NaT</td>\n      <td>...</td>\n      <td>6600000</td>\n      <td>0</td>\n      <td>True</td>\n      <td>True</td>\n      <td>False</td>\n      <td>False</td>\n      <td>False</td>\n      <td>False</td>\n      <td>False</td>\n      <td>False</td>\n    </tr>\n    <tr>\n      <th>2439006</th>\n      <td>Antioquia</td>\n      <td>Territorial</td>\n      <td>Ejecutivo</td>\n      <td>Centralizada</td>\n      <td>Contratación directa</td>\n      <td>2022-11-08</td>\n      <td>2022-11-08</td>\n      <td>2022-12-30</td>\n      <td>NaT</td>\n      <td>NaT</td>\n      <td>...</td>\n      <td>7667334</td>\n      <td>0</td>\n      <td>False</td>\n      <td>True</td>\n      <td>False</td>\n      <td>False</td>\n      <td>False</td>\n      <td>False</td>\n      <td>False</td>\n      <td>False</td>\n    </tr>\n    <tr>\n      <th>103417</th>\n      <td>Valle del Cauca</td>\n      <td>Territorial</td>\n      <td>Ejecutivo</td>\n      <td>Centralizada</td>\n      <td>Contratación directa</td>\n      <td>2022-09-20</td>\n      <td>2022-09-22</td>\n      <td>2022-12-30</td>\n      <td>NaT</td>\n      <td>NaT</td>\n      <td>...</td>\n      <td>7200000</td>\n      <td>0</td>\n      <td>True</td>\n      <td>True</td>\n      <td>False</td>\n      <td>False</td>\n      <td>False</td>\n      <td>False</td>\n      <td>False</td>\n      <td>False</td>\n    </tr>\n    <tr>\n      <th>598941</th>\n      <td>Valle del Cauca</td>\n      <td>Territorial</td>\n      <td>Ejecutivo</td>\n      <td>Descentralizada</td>\n      <td>Contratación régimen especial (con ofertas)</td>\n      <td>2022-10-05</td>\n      <td>2022-10-05</td>\n      <td>2022-10-14</td>\n      <td>NaT</td>\n      <td>NaT</td>\n      <td>...</td>\n      <td>0</td>\n      <td>0</td>\n      <td>False</td>\n      <td>False</td>\n      <td>False</td>\n      <td>False</td>\n      <td>False</td>\n      <td>False</td>\n      <td>False</td>\n      <td>False</td>\n    </tr>\n  </tbody>\n</table>\n<p>299310 rows × 30 columns</p>\n</div>"
     },
     "execution_count": 17,
     "metadata": {},
     "output_type": "execute_result"
    }
   ],
   "source": [
    "train_x"
   ],
   "metadata": {
    "collapsed": false,
    "ExecuteTime": {
     "start_time": "2023-07-24T18:17:35.657441Z",
     "end_time": "2023-07-24T18:17:35.817962Z"
    }
   }
  },
  {
   "cell_type": "code",
   "execution_count": 18,
   "outputs": [
    {
     "data": {
      "text/plain": "(299310, 30)"
     },
     "execution_count": 18,
     "metadata": {},
     "output_type": "execute_result"
    }
   ],
   "source": [
    "train_x.shape"
   ],
   "metadata": {
    "collapsed": false,
    "ExecuteTime": {
     "start_time": "2023-07-24T18:17:35.808968Z",
     "end_time": "2023-07-24T18:17:35.869964Z"
    }
   }
  },
  {
   "cell_type": "markdown",
   "source": [
    "# Pipeline"
   ],
   "metadata": {
    "collapsed": false
   }
  },
  {
   "cell_type": "code",
   "execution_count": 19,
   "outputs": [],
   "source": [
    "from sklearn.preprocessing import OneHotEncoder\n",
    "from sklearn.preprocessing import Binarizer\n",
    "from sklearn.preprocessing import RobustScaler\n",
    "\n",
    "from sklearn.compose import ColumnTransformer\n",
    "from sklearn.pipeline import FeatureUnion, Pipeline"
   ],
   "metadata": {
    "collapsed": false,
    "ExecuteTime": {
     "start_time": "2023-07-24T18:17:35.826965Z",
     "end_time": "2023-07-24T18:17:35.976317Z"
    }
   }
  },
  {
   "cell_type": "code",
   "execution_count": 20,
   "outputs": [],
   "source": [
    "one_hot_encoding = ColumnTransformer([\n",
    "    (\n",
    "        'one_hot_encode',\n",
    "        OneHotEncoder(sparse_output=False, handle_unknown=\"ignore\"),\n",
    "        [\n",
    "            \"Orden\",\n",
    "            \"Entidad Centralizada\",\n",
    "            \"Modalidad de Contratacion\",\n",
    "            \"Destino Gasto\",\n",
    "            \"Género Representante Legal\",\n",
    "            \"Departamento\",\n",
    "        ]\n",
    "    )\n",
    "])"
   ],
   "metadata": {
    "collapsed": false,
    "ExecuteTime": {
     "start_time": "2023-07-24T18:17:35.878964Z",
     "end_time": "2023-07-24T18:17:36.070316Z"
    }
   }
  },
  {
   "cell_type": "code",
   "execution_count": 21,
   "outputs": [],
   "source": [
    "binarizer = ColumnTransformer([\n",
    "    (\n",
    "        'binarizer',\n",
    "        Binarizer(),\n",
    "        [\n",
    "            \"EsServicioPublico\",\n",
    "            \"EsRecursosPropios\",\n",
    "            \"EsGrupo\",\n",
    "            \"EsPrestacionServicios\",\n",
    "            \"EsPyme\",\n",
    "            \"EstaLiquidado\",\n",
    "            \"EsObligacionAmbiental\",\n",
    "            \"Es PostConflicto\",\n",
    "        ]\n",
    "    )\n",
    "])\n",
    "\n",
    "one_hot_binarized = Pipeline([\n",
    "    (\"binarizer\", binarizer),\n",
    "    (\"one_hot_encoder\", OneHotEncoder(sparse_output=False, handle_unknown=\"ignore\")),\n",
    "])"
   ],
   "metadata": {
    "collapsed": false,
    "ExecuteTime": {
     "start_time": "2023-07-24T18:17:35.892319Z",
     "end_time": "2023-07-24T18:17:36.300317Z"
    }
   }
  },
  {
   "cell_type": "code",
   "execution_count": 22,
   "outputs": [],
   "source": [
    "scaler = ColumnTransformer([\n",
    "    (\"scaler\", RobustScaler(), [\"Valor del Contrato\",\"Valor Facturado\",\"Valor Pendiente de Pago\",\"Saldo CDP\"])\n",
    "])"
   ],
   "metadata": {
    "collapsed": false,
    "ExecuteTime": {
     "start_time": "2023-07-24T18:17:35.921318Z",
     "end_time": "2023-07-24T18:17:36.345319Z"
    }
   }
  },
  {
   "cell_type": "code",
   "execution_count": 23,
   "outputs": [],
   "source": [
    "passthrough = ColumnTransformer([\n",
    "    (\n",
    "        \"passthrough\",\n",
    "        \"passthrough\",\n",
    "        [\n",
    "\n",
    "            \"Dias Adicionados\",\n",
    "        ]\n",
    "    )\n",
    "])"
   ],
   "metadata": {
    "collapsed": false,
    "ExecuteTime": {
     "start_time": "2023-07-24T18:17:35.942324Z",
     "end_time": "2023-07-24T18:17:36.360320Z"
    }
   }
  },
  {
   "cell_type": "code",
   "execution_count": 24,
   "outputs": [],
   "source": [
    "feature_engineering_pipeline = pipe = Pipeline(\n",
    "    [\n",
    "        (\n",
    "            \"features\",\n",
    "            FeatureUnion(\n",
    "                [\n",
    "                    (\"categorical\", one_hot_encoding),\n",
    "                    (\"categorical_binarized\", one_hot_binarized),\n",
    "                    (\"scaled\", scaler),\n",
    "                    (\"pass\", passthrough)\n",
    "                ]\n",
    "            ),\n",
    "        )\n",
    "    ]\n",
    ")"
   ],
   "metadata": {
    "collapsed": false,
    "ExecuteTime": {
     "start_time": "2023-07-24T18:17:35.967319Z",
     "end_time": "2023-07-24T18:17:36.379332Z"
    }
   }
  },
  {
   "cell_type": "code",
   "execution_count": 25,
   "outputs": [
    {
     "data": {
      "text/plain": "(299310, 83)"
     },
     "execution_count": 25,
     "metadata": {},
     "output_type": "execute_result"
    }
   ],
   "source": [
    "transformed = feature_engineering_pipeline.fit_transform(train_x)\n",
    "transformed.shape"
   ],
   "metadata": {
    "collapsed": false,
    "ExecuteTime": {
     "start_time": "2023-07-24T18:17:35.986321Z",
     "end_time": "2023-07-24T18:17:37.522584Z"
    }
   }
  },
  {
   "cell_type": "code",
   "execution_count": 26,
   "outputs": [
    {
     "data": {
      "text/plain": "array([[ 0.        ,  0.        ,  1.        , ...,  0.34852437,\n        -0.0918493 ,  0.        ],\n       [ 0.        ,  0.        ,  1.        , ...,  0.04224538,\n        -0.14351453,  0.        ],\n       [ 0.        ,  1.        ,  0.        , ..., -0.22178823,\n         7.79875268,  0.        ],\n       ...,\n       [ 0.        ,  0.        ,  1.        , ..., -0.22178823,\n        -0.1068354 ,  0.        ],\n       [ 0.        ,  0.        ,  1.        , ...,  0.15842017,\n        -0.10907104,  0.        ],\n       [ 0.        ,  0.        ,  1.        , ..., -0.06336833,\n        -0.12916308,  0.        ]])"
     },
     "execution_count": 26,
     "metadata": {},
     "output_type": "execute_result"
    }
   ],
   "source": [
    "transformed"
   ],
   "metadata": {
    "collapsed": false,
    "ExecuteTime": {
     "start_time": "2023-07-24T18:17:37.524586Z",
     "end_time": "2023-07-24T18:17:37.536588Z"
    }
   }
  },
  {
   "cell_type": "markdown",
   "source": [
    "# Model Trainning"
   ],
   "metadata": {
    "collapsed": false
   }
  },
  {
   "cell_type": "code",
   "execution_count": 27,
   "outputs": [],
   "source": [
    "# Get a fresh copy of the pipeline\n",
    "from sklearn.base import clone\n",
    "\n",
    "feature_transformer = clone(feature_engineering_pipeline)\n",
    "\n",
    "features_train_x = feature_transformer.fit_transform(train_x)\n",
    "features_validate_x = feature_transformer.transform(validate_x)"
   ],
   "metadata": {
    "collapsed": false,
    "ExecuteTime": {
     "start_time": "2023-07-24T18:17:37.539583Z",
     "end_time": "2023-07-24T18:17:39.194141Z"
    }
   }
  },
  {
   "cell_type": "code",
   "execution_count": 28,
   "outputs": [
    {
     "data": {
      "text/plain": "RandomForestClassifier()",
      "text/html": "<style>#sk-container-id-1 {color: black;background-color: white;}#sk-container-id-1 pre{padding: 0;}#sk-container-id-1 div.sk-toggleable {background-color: white;}#sk-container-id-1 label.sk-toggleable__label {cursor: pointer;display: block;width: 100%;margin-bottom: 0;padding: 0.3em;box-sizing: border-box;text-align: center;}#sk-container-id-1 label.sk-toggleable__label-arrow:before {content: \"▸\";float: left;margin-right: 0.25em;color: #696969;}#sk-container-id-1 label.sk-toggleable__label-arrow:hover:before {color: black;}#sk-container-id-1 div.sk-estimator:hover label.sk-toggleable__label-arrow:before {color: black;}#sk-container-id-1 div.sk-toggleable__content {max-height: 0;max-width: 0;overflow: hidden;text-align: left;background-color: #f0f8ff;}#sk-container-id-1 div.sk-toggleable__content pre {margin: 0.2em;color: black;border-radius: 0.25em;background-color: #f0f8ff;}#sk-container-id-1 input.sk-toggleable__control:checked~div.sk-toggleable__content {max-height: 200px;max-width: 100%;overflow: auto;}#sk-container-id-1 input.sk-toggleable__control:checked~label.sk-toggleable__label-arrow:before {content: \"▾\";}#sk-container-id-1 div.sk-estimator input.sk-toggleable__control:checked~label.sk-toggleable__label {background-color: #d4ebff;}#sk-container-id-1 div.sk-label input.sk-toggleable__control:checked~label.sk-toggleable__label {background-color: #d4ebff;}#sk-container-id-1 input.sk-hidden--visually {border: 0;clip: rect(1px 1px 1px 1px);clip: rect(1px, 1px, 1px, 1px);height: 1px;margin: -1px;overflow: hidden;padding: 0;position: absolute;width: 1px;}#sk-container-id-1 div.sk-estimator {font-family: monospace;background-color: #f0f8ff;border: 1px dotted black;border-radius: 0.25em;box-sizing: border-box;margin-bottom: 0.5em;}#sk-container-id-1 div.sk-estimator:hover {background-color: #d4ebff;}#sk-container-id-1 div.sk-parallel-item::after {content: \"\";width: 100%;border-bottom: 1px solid gray;flex-grow: 1;}#sk-container-id-1 div.sk-label:hover label.sk-toggleable__label {background-color: #d4ebff;}#sk-container-id-1 div.sk-serial::before {content: \"\";position: absolute;border-left: 1px solid gray;box-sizing: border-box;top: 0;bottom: 0;left: 50%;z-index: 0;}#sk-container-id-1 div.sk-serial {display: flex;flex-direction: column;align-items: center;background-color: white;padding-right: 0.2em;padding-left: 0.2em;position: relative;}#sk-container-id-1 div.sk-item {position: relative;z-index: 1;}#sk-container-id-1 div.sk-parallel {display: flex;align-items: stretch;justify-content: center;background-color: white;position: relative;}#sk-container-id-1 div.sk-item::before, #sk-container-id-1 div.sk-parallel-item::before {content: \"\";position: absolute;border-left: 1px solid gray;box-sizing: border-box;top: 0;bottom: 0;left: 50%;z-index: -1;}#sk-container-id-1 div.sk-parallel-item {display: flex;flex-direction: column;z-index: 1;position: relative;background-color: white;}#sk-container-id-1 div.sk-parallel-item:first-child::after {align-self: flex-end;width: 50%;}#sk-container-id-1 div.sk-parallel-item:last-child::after {align-self: flex-start;width: 50%;}#sk-container-id-1 div.sk-parallel-item:only-child::after {width: 0;}#sk-container-id-1 div.sk-dashed-wrapped {border: 1px dashed gray;margin: 0 0.4em 0.5em 0.4em;box-sizing: border-box;padding-bottom: 0.4em;background-color: white;}#sk-container-id-1 div.sk-label label {font-family: monospace;font-weight: bold;display: inline-block;line-height: 1.2em;}#sk-container-id-1 div.sk-label-container {text-align: center;}#sk-container-id-1 div.sk-container {/* jupyter's `normalize.less` sets `[hidden] { display: none; }` but bootstrap.min.css set `[hidden] { display: none !important; }` so we also need the `!important` here to be able to override the default hidden behavior on the sphinx rendered scikit-learn.org. See: https://github.com/scikit-learn/scikit-learn/issues/21755 */display: inline-block !important;position: relative;}#sk-container-id-1 div.sk-text-repr-fallback {display: none;}</style><div id=\"sk-container-id-1\" class=\"sk-top-container\"><div class=\"sk-text-repr-fallback\"><pre>RandomForestClassifier()</pre><b>In a Jupyter environment, please rerun this cell to show the HTML representation or trust the notebook. <br />On GitHub, the HTML representation is unable to render, please try loading this page with nbviewer.org.</b></div><div class=\"sk-container\" hidden><div class=\"sk-item\"><div class=\"sk-estimator sk-toggleable\"><input class=\"sk-toggleable__control sk-hidden--visually\" id=\"sk-estimator-id-1\" type=\"checkbox\" checked><label for=\"sk-estimator-id-1\" class=\"sk-toggleable__label sk-toggleable__label-arrow\">RandomForestClassifier</label><div class=\"sk-toggleable__content\"><pre>RandomForestClassifier()</pre></div></div></div></div></div>"
     },
     "execution_count": 28,
     "metadata": {},
     "output_type": "execute_result"
    }
   ],
   "source": [
    "from sklearn.ensemble import RandomForestClassifier\n",
    "from sklearn.svm import LinearSVC\n",
    "\n",
    "model = RandomForestClassifier(n_estimators=100)\n",
    "\n",
    "model.fit(features_train_x, train_y)"
   ],
   "metadata": {
    "collapsed": false,
    "ExecuteTime": {
     "start_time": "2023-07-24T18:17:39.197141Z",
     "end_time": "2023-07-24T18:20:07.825414Z"
    }
   }
  },
  {
   "cell_type": "markdown",
   "source": [
    "# Model Validation"
   ],
   "metadata": {
    "collapsed": false
   }
  },
  {
   "cell_type": "code",
   "execution_count": 29,
   "outputs": [
    {
     "name": "stdout",
     "output_type": "stream",
     "text": [
      "0.8672647088303097\n",
      "0.7713774380441047\n"
     ]
    }
   ],
   "source": [
    "from sklearn.metrics import accuracy_score, recall_score\n",
    "\n",
    "pred_y = model.predict(features_validate_x)\n",
    "\n",
    "print(accuracy_score(validate_y, pred_y))\n",
    "print(recall_score(validate_y, pred_y))"
   ],
   "metadata": {
    "collapsed": false,
    "ExecuteTime": {
     "start_time": "2023-07-24T18:20:07.825414Z",
     "end_time": "2023-07-24T18:20:12.788989Z"
    }
   }
  },
  {
   "cell_type": "code",
   "execution_count": 30,
   "outputs": [],
   "source": [
    "final_inference_pipeline = Pipeline([\n",
    "    (\"feature_engineering\", clone(feature_engineering_pipeline)),\n",
    "    (\"model\", RandomForestClassifier(n_estimators=100))\n",
    "])"
   ],
   "metadata": {
    "collapsed": false,
    "ExecuteTime": {
     "start_time": "2023-07-24T18:20:12.791987Z",
     "end_time": "2023-07-24T18:20:12.801034Z"
    }
   }
  },
  {
   "cell_type": "code",
   "execution_count": 31,
   "outputs": [],
   "source": [
    "final_training_dataset = pd.concat([train_x, validate_x])\n",
    "final_training_response = pd.concat([train_y, validate_y])"
   ],
   "metadata": {
    "collapsed": false,
    "ExecuteTime": {
     "start_time": "2023-07-24T18:20:12.805037Z",
     "end_time": "2023-07-24T18:20:12.894316Z"
    }
   }
  },
  {
   "cell_type": "code",
   "execution_count": 32,
   "outputs": [
    {
     "data": {
      "text/plain": "Pipeline(steps=[('feature_engineering',\n                 Pipeline(steps=[('features',\n                                  FeatureUnion(transformer_list=[('categorical',\n                                                                  ColumnTransformer(transformers=[('one_hot_encode',\n                                                                                                   OneHotEncoder(handle_unknown='ignore',\n                                                                                                                 sparse_output=False),\n                                                                                                   ['Orden',\n                                                                                                    'Entidad '\n                                                                                                    'Centralizada',\n                                                                                                    'Modalidad '\n                                                                                                    'de '\n                                                                                                    'Contratacion',\n                                                                                                    'Destino '\n                                                                                                    'Gasto',\n                                                                                                    'Género '\n                                                                                                    'Representante '\n                                                                                                    'Legal',\n                                                                                                    'Departamento'])]...\n                                                                                   OneHotEncoder(handle_unknown='ignore',\n                                                                                                 sparse_output=False))])),\n                                                                 ('scaled',\n                                                                  ColumnTransformer(transformers=[('scaler',\n                                                                                                   RobustScaler(),\n                                                                                                   ['Valor '\n                                                                                                    'del '\n                                                                                                    'Contrato',\n                                                                                                    'Valor '\n                                                                                                    'Facturado',\n                                                                                                    'Valor '\n                                                                                                    'Pendiente '\n                                                                                                    'de '\n                                                                                                    'Pago',\n                                                                                                    'Saldo '\n                                                                                                    'CDP'])])),\n                                                                 ('pass',\n                                                                  ColumnTransformer(transformers=[('passthrough',\n                                                                                                   'passthrough',\n                                                                                                   ['Dias '\n                                                                                                    'Adicionados'])]))]))])),\n                ('model', RandomForestClassifier())])",
      "text/html": "<style>#sk-container-id-2 {color: black;background-color: white;}#sk-container-id-2 pre{padding: 0;}#sk-container-id-2 div.sk-toggleable {background-color: white;}#sk-container-id-2 label.sk-toggleable__label {cursor: pointer;display: block;width: 100%;margin-bottom: 0;padding: 0.3em;box-sizing: border-box;text-align: center;}#sk-container-id-2 label.sk-toggleable__label-arrow:before {content: \"▸\";float: left;margin-right: 0.25em;color: #696969;}#sk-container-id-2 label.sk-toggleable__label-arrow:hover:before {color: black;}#sk-container-id-2 div.sk-estimator:hover label.sk-toggleable__label-arrow:before {color: black;}#sk-container-id-2 div.sk-toggleable__content {max-height: 0;max-width: 0;overflow: hidden;text-align: left;background-color: #f0f8ff;}#sk-container-id-2 div.sk-toggleable__content pre {margin: 0.2em;color: black;border-radius: 0.25em;background-color: #f0f8ff;}#sk-container-id-2 input.sk-toggleable__control:checked~div.sk-toggleable__content {max-height: 200px;max-width: 100%;overflow: auto;}#sk-container-id-2 input.sk-toggleable__control:checked~label.sk-toggleable__label-arrow:before {content: \"▾\";}#sk-container-id-2 div.sk-estimator input.sk-toggleable__control:checked~label.sk-toggleable__label {background-color: #d4ebff;}#sk-container-id-2 div.sk-label input.sk-toggleable__control:checked~label.sk-toggleable__label {background-color: #d4ebff;}#sk-container-id-2 input.sk-hidden--visually {border: 0;clip: rect(1px 1px 1px 1px);clip: rect(1px, 1px, 1px, 1px);height: 1px;margin: -1px;overflow: hidden;padding: 0;position: absolute;width: 1px;}#sk-container-id-2 div.sk-estimator {font-family: monospace;background-color: #f0f8ff;border: 1px dotted black;border-radius: 0.25em;box-sizing: border-box;margin-bottom: 0.5em;}#sk-container-id-2 div.sk-estimator:hover {background-color: #d4ebff;}#sk-container-id-2 div.sk-parallel-item::after {content: \"\";width: 100%;border-bottom: 1px solid gray;flex-grow: 1;}#sk-container-id-2 div.sk-label:hover label.sk-toggleable__label {background-color: #d4ebff;}#sk-container-id-2 div.sk-serial::before {content: \"\";position: absolute;border-left: 1px solid gray;box-sizing: border-box;top: 0;bottom: 0;left: 50%;z-index: 0;}#sk-container-id-2 div.sk-serial {display: flex;flex-direction: column;align-items: center;background-color: white;padding-right: 0.2em;padding-left: 0.2em;position: relative;}#sk-container-id-2 div.sk-item {position: relative;z-index: 1;}#sk-container-id-2 div.sk-parallel {display: flex;align-items: stretch;justify-content: center;background-color: white;position: relative;}#sk-container-id-2 div.sk-item::before, #sk-container-id-2 div.sk-parallel-item::before {content: \"\";position: absolute;border-left: 1px solid gray;box-sizing: border-box;top: 0;bottom: 0;left: 50%;z-index: -1;}#sk-container-id-2 div.sk-parallel-item {display: flex;flex-direction: column;z-index: 1;position: relative;background-color: white;}#sk-container-id-2 div.sk-parallel-item:first-child::after {align-self: flex-end;width: 50%;}#sk-container-id-2 div.sk-parallel-item:last-child::after {align-self: flex-start;width: 50%;}#sk-container-id-2 div.sk-parallel-item:only-child::after {width: 0;}#sk-container-id-2 div.sk-dashed-wrapped {border: 1px dashed gray;margin: 0 0.4em 0.5em 0.4em;box-sizing: border-box;padding-bottom: 0.4em;background-color: white;}#sk-container-id-2 div.sk-label label {font-family: monospace;font-weight: bold;display: inline-block;line-height: 1.2em;}#sk-container-id-2 div.sk-label-container {text-align: center;}#sk-container-id-2 div.sk-container {/* jupyter's `normalize.less` sets `[hidden] { display: none; }` but bootstrap.min.css set `[hidden] { display: none !important; }` so we also need the `!important` here to be able to override the default hidden behavior on the sphinx rendered scikit-learn.org. See: https://github.com/scikit-learn/scikit-learn/issues/21755 */display: inline-block !important;position: relative;}#sk-container-id-2 div.sk-text-repr-fallback {display: none;}</style><div id=\"sk-container-id-2\" class=\"sk-top-container\"><div class=\"sk-text-repr-fallback\"><pre>Pipeline(steps=[(&#x27;feature_engineering&#x27;,\n                 Pipeline(steps=[(&#x27;features&#x27;,\n                                  FeatureUnion(transformer_list=[(&#x27;categorical&#x27;,\n                                                                  ColumnTransformer(transformers=[(&#x27;one_hot_encode&#x27;,\n                                                                                                   OneHotEncoder(handle_unknown=&#x27;ignore&#x27;,\n                                                                                                                 sparse_output=False),\n                                                                                                   [&#x27;Orden&#x27;,\n                                                                                                    &#x27;Entidad &#x27;\n                                                                                                    &#x27;Centralizada&#x27;,\n                                                                                                    &#x27;Modalidad &#x27;\n                                                                                                    &#x27;de &#x27;\n                                                                                                    &#x27;Contratacion&#x27;,\n                                                                                                    &#x27;Destino &#x27;\n                                                                                                    &#x27;Gasto&#x27;,\n                                                                                                    &#x27;Género &#x27;\n                                                                                                    &#x27;Representante &#x27;\n                                                                                                    &#x27;Legal&#x27;,\n                                                                                                    &#x27;Departamento&#x27;])]...\n                                                                                   OneHotEncoder(handle_unknown=&#x27;ignore&#x27;,\n                                                                                                 sparse_output=False))])),\n                                                                 (&#x27;scaled&#x27;,\n                                                                  ColumnTransformer(transformers=[(&#x27;scaler&#x27;,\n                                                                                                   RobustScaler(),\n                                                                                                   [&#x27;Valor &#x27;\n                                                                                                    &#x27;del &#x27;\n                                                                                                    &#x27;Contrato&#x27;,\n                                                                                                    &#x27;Valor &#x27;\n                                                                                                    &#x27;Facturado&#x27;,\n                                                                                                    &#x27;Valor &#x27;\n                                                                                                    &#x27;Pendiente &#x27;\n                                                                                                    &#x27;de &#x27;\n                                                                                                    &#x27;Pago&#x27;,\n                                                                                                    &#x27;Saldo &#x27;\n                                                                                                    &#x27;CDP&#x27;])])),\n                                                                 (&#x27;pass&#x27;,\n                                                                  ColumnTransformer(transformers=[(&#x27;passthrough&#x27;,\n                                                                                                   &#x27;passthrough&#x27;,\n                                                                                                   [&#x27;Dias &#x27;\n                                                                                                    &#x27;Adicionados&#x27;])]))]))])),\n                (&#x27;model&#x27;, RandomForestClassifier())])</pre><b>In a Jupyter environment, please rerun this cell to show the HTML representation or trust the notebook. <br />On GitHub, the HTML representation is unable to render, please try loading this page with nbviewer.org.</b></div><div class=\"sk-container\" hidden><div class=\"sk-item sk-dashed-wrapped\"><div class=\"sk-label-container\"><div class=\"sk-label sk-toggleable\"><input class=\"sk-toggleable__control sk-hidden--visually\" id=\"sk-estimator-id-2\" type=\"checkbox\" ><label for=\"sk-estimator-id-2\" class=\"sk-toggleable__label sk-toggleable__label-arrow\">Pipeline</label><div class=\"sk-toggleable__content\"><pre>Pipeline(steps=[(&#x27;feature_engineering&#x27;,\n                 Pipeline(steps=[(&#x27;features&#x27;,\n                                  FeatureUnion(transformer_list=[(&#x27;categorical&#x27;,\n                                                                  ColumnTransformer(transformers=[(&#x27;one_hot_encode&#x27;,\n                                                                                                   OneHotEncoder(handle_unknown=&#x27;ignore&#x27;,\n                                                                                                                 sparse_output=False),\n                                                                                                   [&#x27;Orden&#x27;,\n                                                                                                    &#x27;Entidad &#x27;\n                                                                                                    &#x27;Centralizada&#x27;,\n                                                                                                    &#x27;Modalidad &#x27;\n                                                                                                    &#x27;de &#x27;\n                                                                                                    &#x27;Contratacion&#x27;,\n                                                                                                    &#x27;Destino &#x27;\n                                                                                                    &#x27;Gasto&#x27;,\n                                                                                                    &#x27;Género &#x27;\n                                                                                                    &#x27;Representante &#x27;\n                                                                                                    &#x27;Legal&#x27;,\n                                                                                                    &#x27;Departamento&#x27;])]...\n                                                                                   OneHotEncoder(handle_unknown=&#x27;ignore&#x27;,\n                                                                                                 sparse_output=False))])),\n                                                                 (&#x27;scaled&#x27;,\n                                                                  ColumnTransformer(transformers=[(&#x27;scaler&#x27;,\n                                                                                                   RobustScaler(),\n                                                                                                   [&#x27;Valor &#x27;\n                                                                                                    &#x27;del &#x27;\n                                                                                                    &#x27;Contrato&#x27;,\n                                                                                                    &#x27;Valor &#x27;\n                                                                                                    &#x27;Facturado&#x27;,\n                                                                                                    &#x27;Valor &#x27;\n                                                                                                    &#x27;Pendiente &#x27;\n                                                                                                    &#x27;de &#x27;\n                                                                                                    &#x27;Pago&#x27;,\n                                                                                                    &#x27;Saldo &#x27;\n                                                                                                    &#x27;CDP&#x27;])])),\n                                                                 (&#x27;pass&#x27;,\n                                                                  ColumnTransformer(transformers=[(&#x27;passthrough&#x27;,\n                                                                                                   &#x27;passthrough&#x27;,\n                                                                                                   [&#x27;Dias &#x27;\n                                                                                                    &#x27;Adicionados&#x27;])]))]))])),\n                (&#x27;model&#x27;, RandomForestClassifier())])</pre></div></div></div><div class=\"sk-serial\"><div class=\"sk-item\"><div class=\"sk-label-container\"><div class=\"sk-label sk-toggleable\"><input class=\"sk-toggleable__control sk-hidden--visually\" id=\"sk-estimator-id-3\" type=\"checkbox\" ><label for=\"sk-estimator-id-3\" class=\"sk-toggleable__label sk-toggleable__label-arrow\">feature_engineering: Pipeline</label><div class=\"sk-toggleable__content\"><pre>Pipeline(steps=[(&#x27;features&#x27;,\n                 FeatureUnion(transformer_list=[(&#x27;categorical&#x27;,\n                                                 ColumnTransformer(transformers=[(&#x27;one_hot_encode&#x27;,\n                                                                                  OneHotEncoder(handle_unknown=&#x27;ignore&#x27;,\n                                                                                                sparse_output=False),\n                                                                                  [&#x27;Orden&#x27;,\n                                                                                   &#x27;Entidad &#x27;\n                                                                                   &#x27;Centralizada&#x27;,\n                                                                                   &#x27;Modalidad &#x27;\n                                                                                   &#x27;de &#x27;\n                                                                                   &#x27;Contratacion&#x27;,\n                                                                                   &#x27;Destino &#x27;\n                                                                                   &#x27;Gasto&#x27;,\n                                                                                   &#x27;Género &#x27;\n                                                                                   &#x27;Representante &#x27;\n                                                                                   &#x27;Legal&#x27;,\n                                                                                   &#x27;Departamento&#x27;])])),\n                                                (&#x27;categorical_binarized&#x27;,\n                                                 Pipeline(st...\n                                                                                                    &#x27;PostConflicto&#x27;])])),\n                                                                 (&#x27;one_hot_encoder&#x27;,\n                                                                  OneHotEncoder(handle_unknown=&#x27;ignore&#x27;,\n                                                                                sparse_output=False))])),\n                                                (&#x27;scaled&#x27;,\n                                                 ColumnTransformer(transformers=[(&#x27;scaler&#x27;,\n                                                                                  RobustScaler(),\n                                                                                  [&#x27;Valor &#x27;\n                                                                                   &#x27;del &#x27;\n                                                                                   &#x27;Contrato&#x27;,\n                                                                                   &#x27;Valor &#x27;\n                                                                                   &#x27;Facturado&#x27;,\n                                                                                   &#x27;Valor &#x27;\n                                                                                   &#x27;Pendiente &#x27;\n                                                                                   &#x27;de &#x27;\n                                                                                   &#x27;Pago&#x27;,\n                                                                                   &#x27;Saldo &#x27;\n                                                                                   &#x27;CDP&#x27;])])),\n                                                (&#x27;pass&#x27;,\n                                                 ColumnTransformer(transformers=[(&#x27;passthrough&#x27;,\n                                                                                  &#x27;passthrough&#x27;,\n                                                                                  [&#x27;Dias &#x27;\n                                                                                   &#x27;Adicionados&#x27;])]))]))])</pre></div></div></div><div class=\"sk-serial\"><div class=\"sk-item sk-dashed-wrapped\"><div class=\"sk-label-container\"><div class=\"sk-label sk-toggleable\"><input class=\"sk-toggleable__control sk-hidden--visually\" id=\"sk-estimator-id-4\" type=\"checkbox\" ><label for=\"sk-estimator-id-4\" class=\"sk-toggleable__label sk-toggleable__label-arrow\">features: FeatureUnion</label><div class=\"sk-toggleable__content\"><pre>FeatureUnion(transformer_list=[(&#x27;categorical&#x27;,\n                                ColumnTransformer(transformers=[(&#x27;one_hot_encode&#x27;,\n                                                                 OneHotEncoder(handle_unknown=&#x27;ignore&#x27;,\n                                                                               sparse_output=False),\n                                                                 [&#x27;Orden&#x27;,\n                                                                  &#x27;Entidad &#x27;\n                                                                  &#x27;Centralizada&#x27;,\n                                                                  &#x27;Modalidad &#x27;\n                                                                  &#x27;de &#x27;\n                                                                  &#x27;Contratacion&#x27;,\n                                                                  &#x27;Destino &#x27;\n                                                                  &#x27;Gasto&#x27;,\n                                                                  &#x27;Género &#x27;\n                                                                  &#x27;Representante &#x27;\n                                                                  &#x27;Legal&#x27;,\n                                                                  &#x27;Departamento&#x27;])])),\n                               (&#x27;categorical_binarized&#x27;,\n                                Pipeline(steps=[(&#x27;binarizer&#x27;,\n                                                 ColumnTran...\n                                                                                   &#x27;PostConflicto&#x27;])])),\n                                                (&#x27;one_hot_encoder&#x27;,\n                                                 OneHotEncoder(handle_unknown=&#x27;ignore&#x27;,\n                                                               sparse_output=False))])),\n                               (&#x27;scaled&#x27;,\n                                ColumnTransformer(transformers=[(&#x27;scaler&#x27;,\n                                                                 RobustScaler(),\n                                                                 [&#x27;Valor del &#x27;\n                                                                  &#x27;Contrato&#x27;,\n                                                                  &#x27;Valor &#x27;\n                                                                  &#x27;Facturado&#x27;,\n                                                                  &#x27;Valor &#x27;\n                                                                  &#x27;Pendiente &#x27;\n                                                                  &#x27;de Pago&#x27;,\n                                                                  &#x27;Saldo &#x27;\n                                                                  &#x27;CDP&#x27;])])),\n                               (&#x27;pass&#x27;,\n                                ColumnTransformer(transformers=[(&#x27;passthrough&#x27;,\n                                                                 &#x27;passthrough&#x27;,\n                                                                 [&#x27;Dias &#x27;\n                                                                  &#x27;Adicionados&#x27;])]))])</pre></div></div></div><div class=\"sk-parallel\"><div class=\"sk-parallel-item\"><div class=\"sk-item\"><div class=\"sk-label-container\"><div class=\"sk-label sk-toggleable\"><label>categorical</label></div></div><div class=\"sk-serial\"><div class=\"sk-item sk-dashed-wrapped\"><div class=\"sk-parallel\"><div class=\"sk-parallel-item\"><div class=\"sk-item\"><div class=\"sk-label-container\"><div class=\"sk-label sk-toggleable\"><input class=\"sk-toggleable__control sk-hidden--visually\" id=\"sk-estimator-id-5\" type=\"checkbox\" ><label for=\"sk-estimator-id-5\" class=\"sk-toggleable__label sk-toggleable__label-arrow\">one_hot_encode</label><div class=\"sk-toggleable__content\"><pre>[&#x27;Orden&#x27;, &#x27;Entidad Centralizada&#x27;, &#x27;Modalidad de Contratacion&#x27;, &#x27;Destino Gasto&#x27;, &#x27;Género Representante Legal&#x27;, &#x27;Departamento&#x27;]</pre></div></div></div><div class=\"sk-serial\"><div class=\"sk-item\"><div class=\"sk-estimator sk-toggleable\"><input class=\"sk-toggleable__control sk-hidden--visually\" id=\"sk-estimator-id-6\" type=\"checkbox\" ><label for=\"sk-estimator-id-6\" class=\"sk-toggleable__label sk-toggleable__label-arrow\">OneHotEncoder</label><div class=\"sk-toggleable__content\"><pre>OneHotEncoder(handle_unknown=&#x27;ignore&#x27;, sparse_output=False)</pre></div></div></div></div></div></div></div></div></div></div></div><div class=\"sk-parallel-item\"><div class=\"sk-item\"><div class=\"sk-label-container\"><div class=\"sk-label sk-toggleable\"><label>categorical_binarized</label></div></div><div class=\"sk-serial\"><div class=\"sk-item\"><div class=\"sk-serial\"><div class=\"sk-item sk-dashed-wrapped\"><div class=\"sk-label-container\"><div class=\"sk-label sk-toggleable\"><input class=\"sk-toggleable__control sk-hidden--visually\" id=\"sk-estimator-id-7\" type=\"checkbox\" ><label for=\"sk-estimator-id-7\" class=\"sk-toggleable__label sk-toggleable__label-arrow\">binarizer: ColumnTransformer</label><div class=\"sk-toggleable__content\"><pre>ColumnTransformer(transformers=[(&#x27;binarizer&#x27;, Binarizer(),\n                                 [&#x27;EsServicioPublico&#x27;, &#x27;EsRecursosPropios&#x27;,\n                                  &#x27;EsGrupo&#x27;, &#x27;EsPrestacionServicios&#x27;, &#x27;EsPyme&#x27;,\n                                  &#x27;EstaLiquidado&#x27;, &#x27;EsObligacionAmbiental&#x27;,\n                                  &#x27;Es PostConflicto&#x27;])])</pre></div></div></div><div class=\"sk-parallel\"><div class=\"sk-parallel-item\"><div class=\"sk-item\"><div class=\"sk-label-container\"><div class=\"sk-label sk-toggleable\"><input class=\"sk-toggleable__control sk-hidden--visually\" id=\"sk-estimator-id-8\" type=\"checkbox\" ><label for=\"sk-estimator-id-8\" class=\"sk-toggleable__label sk-toggleable__label-arrow\">binarizer</label><div class=\"sk-toggleable__content\"><pre>[&#x27;EsServicioPublico&#x27;, &#x27;EsRecursosPropios&#x27;, &#x27;EsGrupo&#x27;, &#x27;EsPrestacionServicios&#x27;, &#x27;EsPyme&#x27;, &#x27;EstaLiquidado&#x27;, &#x27;EsObligacionAmbiental&#x27;, &#x27;Es PostConflicto&#x27;]</pre></div></div></div><div class=\"sk-serial\"><div class=\"sk-item\"><div class=\"sk-estimator sk-toggleable\"><input class=\"sk-toggleable__control sk-hidden--visually\" id=\"sk-estimator-id-9\" type=\"checkbox\" ><label for=\"sk-estimator-id-9\" class=\"sk-toggleable__label sk-toggleable__label-arrow\">Binarizer</label><div class=\"sk-toggleable__content\"><pre>Binarizer()</pre></div></div></div></div></div></div></div></div><div class=\"sk-item\"><div class=\"sk-estimator sk-toggleable\"><input class=\"sk-toggleable__control sk-hidden--visually\" id=\"sk-estimator-id-10\" type=\"checkbox\" ><label for=\"sk-estimator-id-10\" class=\"sk-toggleable__label sk-toggleable__label-arrow\">OneHotEncoder</label><div class=\"sk-toggleable__content\"><pre>OneHotEncoder(handle_unknown=&#x27;ignore&#x27;, sparse_output=False)</pre></div></div></div></div></div></div></div></div><div class=\"sk-parallel-item\"><div class=\"sk-item\"><div class=\"sk-label-container\"><div class=\"sk-label sk-toggleable\"><label>scaled</label></div></div><div class=\"sk-serial\"><div class=\"sk-item sk-dashed-wrapped\"><div class=\"sk-parallel\"><div class=\"sk-parallel-item\"><div class=\"sk-item\"><div class=\"sk-label-container\"><div class=\"sk-label sk-toggleable\"><input class=\"sk-toggleable__control sk-hidden--visually\" id=\"sk-estimator-id-11\" type=\"checkbox\" ><label for=\"sk-estimator-id-11\" class=\"sk-toggleable__label sk-toggleable__label-arrow\">scaler</label><div class=\"sk-toggleable__content\"><pre>[&#x27;Valor del Contrato&#x27;, &#x27;Valor Facturado&#x27;, &#x27;Valor Pendiente de Pago&#x27;, &#x27;Saldo CDP&#x27;]</pre></div></div></div><div class=\"sk-serial\"><div class=\"sk-item\"><div class=\"sk-estimator sk-toggleable\"><input class=\"sk-toggleable__control sk-hidden--visually\" id=\"sk-estimator-id-12\" type=\"checkbox\" ><label for=\"sk-estimator-id-12\" class=\"sk-toggleable__label sk-toggleable__label-arrow\">RobustScaler</label><div class=\"sk-toggleable__content\"><pre>RobustScaler()</pre></div></div></div></div></div></div></div></div></div></div></div><div class=\"sk-parallel-item\"><div class=\"sk-item\"><div class=\"sk-label-container\"><div class=\"sk-label sk-toggleable\"><label>pass</label></div></div><div class=\"sk-serial\"><div class=\"sk-item sk-dashed-wrapped\"><div class=\"sk-parallel\"><div class=\"sk-parallel-item\"><div class=\"sk-item\"><div class=\"sk-label-container\"><div class=\"sk-label sk-toggleable\"><input class=\"sk-toggleable__control sk-hidden--visually\" id=\"sk-estimator-id-13\" type=\"checkbox\" ><label for=\"sk-estimator-id-13\" class=\"sk-toggleable__label sk-toggleable__label-arrow\">passthrough</label><div class=\"sk-toggleable__content\"><pre>[&#x27;Dias Adicionados&#x27;]</pre></div></div></div><div class=\"sk-serial\"><div class=\"sk-item\"><div class=\"sk-estimator sk-toggleable\"><input class=\"sk-toggleable__control sk-hidden--visually\" id=\"sk-estimator-id-14\" type=\"checkbox\" ><label for=\"sk-estimator-id-14\" class=\"sk-toggleable__label sk-toggleable__label-arrow\">passthrough</label><div class=\"sk-toggleable__content\"><pre>passthrough</pre></div></div></div></div></div></div></div></div></div></div></div></div></div></div></div><div class=\"sk-item\"><div class=\"sk-estimator sk-toggleable\"><input class=\"sk-toggleable__control sk-hidden--visually\" id=\"sk-estimator-id-15\" type=\"checkbox\" ><label for=\"sk-estimator-id-15\" class=\"sk-toggleable__label sk-toggleable__label-arrow\">RandomForestClassifier</label><div class=\"sk-toggleable__content\"><pre>RandomForestClassifier()</pre></div></div></div></div></div></div></div>"
     },
     "execution_count": 32,
     "metadata": {},
     "output_type": "execute_result"
    }
   ],
   "source": [
    "final_inference_pipeline.fit(final_training_dataset, final_training_response)"
   ],
   "metadata": {
    "collapsed": false,
    "ExecuteTime": {
     "start_time": "2023-07-24T18:20:12.897317Z",
     "end_time": "2023-07-24T18:24:05.574858Z"
    }
   }
  },
  {
   "cell_type": "code",
   "execution_count": 34,
   "outputs": [
    {
     "name": "stdout",
     "output_type": "stream",
     "text": [
      "0.871654806053924\n",
      "0.8207048881206185\n"
     ]
    }
   ],
   "source": [
    "test_pred_y = final_inference_pipeline.predict(test_x)\n",
    "\n",
    "print(accuracy_score(test_pred_y, test_y))\n",
    "print(recall_score(test_pred_y, test_y))"
   ],
   "metadata": {
    "collapsed": false,
    "ExecuteTime": {
     "start_time": "2023-07-24T18:25:24.634487Z",
     "end_time": "2023-07-24T18:25:30.175320Z"
    }
   }
  },
  {
   "cell_type": "code",
   "execution_count": 44,
   "outputs": [],
   "source": [
    "\n",
    "test_x[['proba_NoCerrado','proba_Cerrado']] = final_inference_pipeline.predict_proba(test_x)"
   ],
   "metadata": {
    "collapsed": false,
    "ExecuteTime": {
     "start_time": "2023-07-24T18:35:12.495711Z",
     "end_time": "2023-07-24T18:35:17.685932Z"
    }
   }
  },
  {
   "cell_type": "code",
   "execution_count": 43,
   "outputs": [
    {
     "data": {
      "text/plain": "                       Departamento        Orden                  Rama   \n219396   Distrito Capital de Bogotá  Territorial             Ejecutivo  \\\n1243664                   Risaralda  Territorial             Ejecutivo   \n1508941  Distrito Capital de Bogotá     Nacional             Ejecutivo   \n2435793  Distrito Capital de Bogotá     Nacional  Corporación Autónoma   \n1284385                      Arauca  Territorial             Ejecutivo   \n445760                    Santander  Territorial             Ejecutivo   \n1266008                       Cauca     Nacional             Ejecutivo   \n1703435  Distrito Capital de Bogotá     Nacional             Ejecutivo   \n1070220                      Boyacá  Territorial             Ejecutivo   \n1421756  Distrito Capital de Bogotá  Territorial             Ejecutivo   \n\n        Entidad Centralizada      Modalidad de Contratacion Fecha de Firma   \n219396       Descentralizada           Contratación directa     2019-02-10  \\\n1243664         Centralizada           Contratación directa     2021-09-27   \n1508941          No Definido    Concurso de méritos abierto     2020-12-22   \n2435793      Descentralizada  Contratación régimen especial     2020-11-29   \n1284385      Descentralizada           Contratación directa     2022-08-12   \n445760          Centralizada           Contratación directa     2021-06-30   \n1266008      Descentralizada                 Mínima cuantía     2019-03-27   \n1703435         Centralizada  Contratación régimen especial     2021-02-12   \n1070220      Descentralizada           Contratación directa     2020-04-28   \n1421756      Descentralizada           Contratación directa     2021-05-28   \n\n        Fecha de Inicio del Contrato Fecha de Fin del Contrato   \n219396                    2019-02-11                2019-12-31  \\\n1243664                   2021-09-30                2021-12-29   \n1508941                   2020-12-22                2021-09-22   \n2435793                   2020-12-01                2022-11-30   \n1284385                   2022-08-12                2022-09-11   \n445760                    2021-07-02                2021-09-01   \n1266008                   2019-03-27                2019-09-30   \n1703435                   2021-02-13                2022-05-31   \n1070220                   2020-04-28                2020-10-26   \n1421756                   2021-06-01                2022-01-15   \n\n        Fecha de Inicio de Ejecucion Fecha de Fin de Ejecucion  ...   \n219396                    2019-02-11                2019-11-30  ...  \\\n1243664                          NaT                       NaT  ...   \n1508941                          NaT                       NaT  ...   \n2435793                          NaT                       NaT  ...   \n1284385                          NaT                       NaT  ...   \n445760                           NaT                       NaT  ...   \n1266008                   2019-03-27                2019-07-30  ...   \n1703435                          NaT                       NaT  ...   \n1070220                          NaT                       NaT  ...   \n1421756                          NaT                       NaT  ...   \n\n         Recursos Propios (Alcaldías, Gobernaciones y Resguardos Indígenas)   \n219396                                                   0                   \\\n1243664                                           12600000                    \n1508941                                                  0                    \n2435793                                                  0                    \n1284385                                                  0                    \n445760                                                   0                    \n1266008                                                  0                    \n1703435                                                  0                    \n1070220                                                  0                    \n1421756                                           35250000                    \n\n         Recursos Propios  EsServicioPublico  EsPrestacionServicios  EsGrupo   \n219396                  0              False                   True    False  \\\n1243664                 0              False                   True    False   \n1508941                 0              False                  False     True   \n2435793                 0              False                  False    False   \n1284385           1437870              False                   True    False   \n445760                  0               True                   True    False   \n1266008                 0              False                  False    False   \n1703435                 0              False                  False    False   \n1070220                 0               True                   True    False   \n1421756                 0              False                   True    False   \n\n         EsPyme EstaLiquidado  EsObligacionAmbiental Es PostConflicto   \n219396    False          True                  False            False  \\\n1243664   False         False                  False            False   \n1508941   False         False                  False            False   \n2435793    True         False                  False            False   \n1284385   False         False                  False            False   \n445760    False         False                  False            False   \n1266008    True         False                  False            False   \n1703435    True         False                  False            False   \n1070220    True          True                  False            False   \n1421756   False         False                  False            False   \n\n         EsRecursosPropios  \n219396               False  \n1243664              False  \n1508941              False  \n2435793              False  \n1284385               True  \n445760               False  \n1266008              False  \n1703435              False  \n1070220              False  \n1421756              False  \n\n[10 rows x 30 columns]",
      "text/html": "<div>\n<style scoped>\n    .dataframe tbody tr th:only-of-type {\n        vertical-align: middle;\n    }\n\n    .dataframe tbody tr th {\n        vertical-align: top;\n    }\n\n    .dataframe thead th {\n        text-align: right;\n    }\n</style>\n<table border=\"1\" class=\"dataframe\">\n  <thead>\n    <tr style=\"text-align: right;\">\n      <th></th>\n      <th>Departamento</th>\n      <th>Orden</th>\n      <th>Rama</th>\n      <th>Entidad Centralizada</th>\n      <th>Modalidad de Contratacion</th>\n      <th>Fecha de Firma</th>\n      <th>Fecha de Inicio del Contrato</th>\n      <th>Fecha de Fin del Contrato</th>\n      <th>Fecha de Inicio de Ejecucion</th>\n      <th>Fecha de Fin de Ejecucion</th>\n      <th>...</th>\n      <th>Recursos Propios (Alcaldías, Gobernaciones y Resguardos Indígenas)</th>\n      <th>Recursos Propios</th>\n      <th>EsServicioPublico</th>\n      <th>EsPrestacionServicios</th>\n      <th>EsGrupo</th>\n      <th>EsPyme</th>\n      <th>EstaLiquidado</th>\n      <th>EsObligacionAmbiental</th>\n      <th>Es PostConflicto</th>\n      <th>EsRecursosPropios</th>\n    </tr>\n  </thead>\n  <tbody>\n    <tr>\n      <th>219396</th>\n      <td>Distrito Capital de Bogotá</td>\n      <td>Territorial</td>\n      <td>Ejecutivo</td>\n      <td>Descentralizada</td>\n      <td>Contratación directa</td>\n      <td>2019-02-10</td>\n      <td>2019-02-11</td>\n      <td>2019-12-31</td>\n      <td>2019-02-11</td>\n      <td>2019-11-30</td>\n      <td>...</td>\n      <td>0</td>\n      <td>0</td>\n      <td>False</td>\n      <td>True</td>\n      <td>False</td>\n      <td>False</td>\n      <td>True</td>\n      <td>False</td>\n      <td>False</td>\n      <td>False</td>\n    </tr>\n    <tr>\n      <th>1243664</th>\n      <td>Risaralda</td>\n      <td>Territorial</td>\n      <td>Ejecutivo</td>\n      <td>Centralizada</td>\n      <td>Contratación directa</td>\n      <td>2021-09-27</td>\n      <td>2021-09-30</td>\n      <td>2021-12-29</td>\n      <td>NaT</td>\n      <td>NaT</td>\n      <td>...</td>\n      <td>12600000</td>\n      <td>0</td>\n      <td>False</td>\n      <td>True</td>\n      <td>False</td>\n      <td>False</td>\n      <td>False</td>\n      <td>False</td>\n      <td>False</td>\n      <td>False</td>\n    </tr>\n    <tr>\n      <th>1508941</th>\n      <td>Distrito Capital de Bogotá</td>\n      <td>Nacional</td>\n      <td>Ejecutivo</td>\n      <td>No Definido</td>\n      <td>Concurso de méritos abierto</td>\n      <td>2020-12-22</td>\n      <td>2020-12-22</td>\n      <td>2021-09-22</td>\n      <td>NaT</td>\n      <td>NaT</td>\n      <td>...</td>\n      <td>0</td>\n      <td>0</td>\n      <td>False</td>\n      <td>False</td>\n      <td>True</td>\n      <td>False</td>\n      <td>False</td>\n      <td>False</td>\n      <td>False</td>\n      <td>False</td>\n    </tr>\n    <tr>\n      <th>2435793</th>\n      <td>Distrito Capital de Bogotá</td>\n      <td>Nacional</td>\n      <td>Corporación Autónoma</td>\n      <td>Descentralizada</td>\n      <td>Contratación régimen especial</td>\n      <td>2020-11-29</td>\n      <td>2020-12-01</td>\n      <td>2022-11-30</td>\n      <td>NaT</td>\n      <td>NaT</td>\n      <td>...</td>\n      <td>0</td>\n      <td>0</td>\n      <td>False</td>\n      <td>False</td>\n      <td>False</td>\n      <td>True</td>\n      <td>False</td>\n      <td>False</td>\n      <td>False</td>\n      <td>False</td>\n    </tr>\n    <tr>\n      <th>1284385</th>\n      <td>Arauca</td>\n      <td>Territorial</td>\n      <td>Ejecutivo</td>\n      <td>Descentralizada</td>\n      <td>Contratación directa</td>\n      <td>2022-08-12</td>\n      <td>2022-08-12</td>\n      <td>2022-09-11</td>\n      <td>NaT</td>\n      <td>NaT</td>\n      <td>...</td>\n      <td>0</td>\n      <td>1437870</td>\n      <td>False</td>\n      <td>True</td>\n      <td>False</td>\n      <td>False</td>\n      <td>False</td>\n      <td>False</td>\n      <td>False</td>\n      <td>True</td>\n    </tr>\n    <tr>\n      <th>445760</th>\n      <td>Santander</td>\n      <td>Territorial</td>\n      <td>Ejecutivo</td>\n      <td>Centralizada</td>\n      <td>Contratación directa</td>\n      <td>2021-06-30</td>\n      <td>2021-07-02</td>\n      <td>2021-09-01</td>\n      <td>NaT</td>\n      <td>NaT</td>\n      <td>...</td>\n      <td>0</td>\n      <td>0</td>\n      <td>True</td>\n      <td>True</td>\n      <td>False</td>\n      <td>False</td>\n      <td>False</td>\n      <td>False</td>\n      <td>False</td>\n      <td>False</td>\n    </tr>\n    <tr>\n      <th>1266008</th>\n      <td>Cauca</td>\n      <td>Nacional</td>\n      <td>Ejecutivo</td>\n      <td>Descentralizada</td>\n      <td>Mínima cuantía</td>\n      <td>2019-03-27</td>\n      <td>2019-03-27</td>\n      <td>2019-09-30</td>\n      <td>2019-03-27</td>\n      <td>2019-07-30</td>\n      <td>...</td>\n      <td>0</td>\n      <td>0</td>\n      <td>False</td>\n      <td>False</td>\n      <td>False</td>\n      <td>True</td>\n      <td>False</td>\n      <td>False</td>\n      <td>False</td>\n      <td>False</td>\n    </tr>\n    <tr>\n      <th>1703435</th>\n      <td>Distrito Capital de Bogotá</td>\n      <td>Nacional</td>\n      <td>Ejecutivo</td>\n      <td>Centralizada</td>\n      <td>Contratación régimen especial</td>\n      <td>2021-02-12</td>\n      <td>2021-02-13</td>\n      <td>2022-05-31</td>\n      <td>NaT</td>\n      <td>NaT</td>\n      <td>...</td>\n      <td>0</td>\n      <td>0</td>\n      <td>False</td>\n      <td>False</td>\n      <td>False</td>\n      <td>True</td>\n      <td>False</td>\n      <td>False</td>\n      <td>False</td>\n      <td>False</td>\n    </tr>\n    <tr>\n      <th>1070220</th>\n      <td>Boyacá</td>\n      <td>Territorial</td>\n      <td>Ejecutivo</td>\n      <td>Descentralizada</td>\n      <td>Contratación directa</td>\n      <td>2020-04-28</td>\n      <td>2020-04-28</td>\n      <td>2020-10-26</td>\n      <td>NaT</td>\n      <td>NaT</td>\n      <td>...</td>\n      <td>0</td>\n      <td>0</td>\n      <td>True</td>\n      <td>True</td>\n      <td>False</td>\n      <td>True</td>\n      <td>True</td>\n      <td>False</td>\n      <td>False</td>\n      <td>False</td>\n    </tr>\n    <tr>\n      <th>1421756</th>\n      <td>Distrito Capital de Bogotá</td>\n      <td>Territorial</td>\n      <td>Ejecutivo</td>\n      <td>Descentralizada</td>\n      <td>Contratación directa</td>\n      <td>2021-05-28</td>\n      <td>2021-06-01</td>\n      <td>2022-01-15</td>\n      <td>NaT</td>\n      <td>NaT</td>\n      <td>...</td>\n      <td>35250000</td>\n      <td>0</td>\n      <td>False</td>\n      <td>True</td>\n      <td>False</td>\n      <td>False</td>\n      <td>False</td>\n      <td>False</td>\n      <td>False</td>\n      <td>False</td>\n    </tr>\n  </tbody>\n</table>\n<p>10 rows × 30 columns</p>\n</div>"
     },
     "execution_count": 43,
     "metadata": {},
     "output_type": "execute_result"
    }
   ],
   "source": [
    "\n",
    "test_x.head(10)"
   ],
   "metadata": {
    "collapsed": false,
    "ExecuteTime": {
     "start_time": "2023-07-24T18:35:07.762128Z",
     "end_time": "2023-07-24T18:35:07.833130Z"
    }
   }
  },
  {
   "cell_type": "code",
   "execution_count": 42,
   "outputs": [],
   "source": [
    "test_x = test_x.drop(['proba_Cerrrado', 'proba_cancel','proba_NoCerrado'], axis=1)"
   ],
   "metadata": {
    "collapsed": false,
    "ExecuteTime": {
     "start_time": "2023-07-24T18:35:04.167914Z",
     "end_time": "2023-07-24T18:35:04.216924Z"
    }
   }
  },
  {
   "cell_type": "code",
   "execution_count": 92,
   "outputs": [
    {
     "data": {
      "text/plain": "['Cecop_pipeline.joblib']"
     },
     "execution_count": 92,
     "metadata": {},
     "output_type": "execute_result"
    }
   ],
   "source": [
    "from joblib import dump\n",
    "\n",
    "dump(final_inference_pipeline, \"Cecop_pipeline.joblib\")"
   ],
   "metadata": {
    "collapsed": false,
    "ExecuteTime": {
     "start_time": "2023-07-21T18:51:16.437757Z",
     "end_time": "2023-07-21T18:51:17.812788Z"
    }
   }
  },
  {
   "cell_type": "code",
   "execution_count": null,
   "outputs": [],
   "source": [],
   "metadata": {
    "collapsed": false
   }
  }
 ],
 "metadata": {
  "kernelspec": {
   "display_name": "Python 3",
   "language": "python",
   "name": "python3"
  },
  "language_info": {
   "codemirror_mode": {
    "name": "ipython",
    "version": 2
   },
   "file_extension": ".py",
   "mimetype": "text/x-python",
   "name": "python",
   "nbconvert_exporter": "python",
   "pygments_lexer": "ipython2",
   "version": "2.7.6"
  }
 },
 "nbformat": 4,
 "nbformat_minor": 0
}
