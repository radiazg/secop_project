{
 "cells": [
  {
   "cell_type": "code",
   "execution_count": 22,
   "outputs": [],
   "source": [
    "import requests\n",
    "import pandas as pd"
   ],
   "metadata": {
    "collapsed": false,
    "ExecuteTime": {
     "start_time": "2023-07-19T19:23:31.787984Z",
     "end_time": "2023-07-19T19:23:31.884497Z"
    }
   }
  },
  {
   "cell_type": "code",
   "execution_count": 23,
   "outputs": [],
   "source": [
    "ruta_archivo = r\"../data/processed/datos_filtradosv1.csv\"\n",
    "# Cargamos los datos del CSV a un DataFrame de pandas\n",
    "df = pd.read_csv(ruta_archivo)"
   ],
   "metadata": {
    "collapsed": false,
    "ExecuteTime": {
     "start_time": "2023-07-19T19:23:31.788982Z",
     "end_time": "2023-07-19T19:24:32.343854Z"
    }
   }
  },
  {
   "cell_type": "code",
   "execution_count": 24,
   "outputs": [],
   "source": [
    "# Seleccionamos las columnas que queremos mantener\n",
    "df = df[['Departamento',\n",
    "         'Orden', 'Sector', 'Rama', 'Entidad Centralizada',\n",
    "         'Estado Contrato',\n",
    "         'Tipo de Contrato',\n",
    "         'Modalidad de Contratacion',\n",
    "         'Fecha de Firma', 'Fecha de Inicio del Contrato',\n",
    "         'Fecha de Fin del Contrato', 'Fecha de Inicio de Ejecucion',\n",
    "         'Fecha de Fin de Ejecucion',\n",
    "         'Es Grupo', 'Es Pyme', 'Liquidación',\n",
    "         'Obligación Ambiental',\n",
    "         'Valor del Contrato', 'Valor Facturado',\n",
    "         'Valor Pendiente de Pago', 'Valor Pagado',\n",
    "         'Valor Pendiente de Ejecucion',\n",
    "         'Saldo CDP',\n",
    "         'EsPostConflicto', 'Destino Gasto',\n",
    "         'Origen de los Recursos', 'Dias Adicionados',\n",
    "         'Género Representante Legal',\n",
    "         'Presupuesto General de la Nacion – PGN',\n",
    "         'Recursos Propios (Alcaldías, Gobernaciones y Resguardos Indígenas)',\n",
    "         'Recursos Propios'\n",
    "         ]]\n",
    "\n",
    "df.info()"
   ],
   "metadata": {
    "collapsed": false,
    "ExecuteTime": {
     "start_time": "2023-07-19T19:23:31.788982Z",
     "end_time": "2023-07-19T19:24:33.586136Z"
    }
   }
  },
  {
   "cell_type": "markdown",
   "source": [
    "#### Conversion de las fechas a DateTime"
   ],
   "metadata": {
    "collapsed": false
   }
  },
  {
   "cell_type": "code",
   "execution_count": 25,
   "outputs": [],
   "source": [
    "columnas_fecha = ['Fecha de Firma', 'Fecha de Inicio del Contrato', 'Fecha de Fin del Contrato',\n",
    "                  'Fecha de Inicio de Ejecucion', 'Fecha de Fin de Ejecucion']\n",
    "\n",
    "# Iterar sobre las columnas y convertirlas al tipo de dato 'date'\n",
    "for columna in columnas_fecha:\n",
    "    df[columna] = pd.to_datetime(df[columna], format='%m/%d/%Y', errors='coerce')\n",
    "    df[columna] = pd.to_datetime(df[columna], format='%Y-%m-%d %H:%M:%S', errors='coerce')"
   ],
   "metadata": {
    "collapsed": false,
    "ExecuteTime": {
     "start_time": "2023-07-19T19:23:31.802985Z",
     "end_time": "2023-07-19T19:24:35.883405Z"
    }
   }
  },
  {
   "cell_type": "markdown",
   "source": [
    "#### Filtrar por el estado del contrato"
   ],
   "metadata": {
    "collapsed": false
   }
  },
  {
   "cell_type": "code",
   "execution_count": 26,
   "outputs": [],
   "source": [
    "estados_contrato = [\"terminado\", \"Cerrado\", \"cedido\", \"Prorrogado\", \"Suspendido\"]\n",
    "\n",
    "# Filtrar las filas del dataframe basándote en la columna \"Estado Contrato\"\n",
    "df_filtradoNoEjecucion = df[df[\"Estado Contrato\"].isin(estados_contrato)]\n",
    "df_filtradoNoEjecucion"
   ],
   "metadata": {
    "collapsed": false,
    "ExecuteTime": {
     "start_time": "2023-07-19T19:23:31.816983Z",
     "end_time": "2023-07-19T19:24:36.506261Z"
    }
   }
  },
  {
   "cell_type": "markdown",
   "source": [
    "#### Filtrar por año del contrato"
   ],
   "metadata": {
    "collapsed": false
   }
  },
  {
   "cell_type": "code",
   "execution_count": 27,
   "outputs": [],
   "source": [
    "df_filtradoAnio = df_filtradoNoEjecucion[df_filtradoNoEjecucion['Fecha de Inicio del Contrato'].dt.year >= 2019]\n",
    "df_filtradoAnio"
   ],
   "metadata": {
    "collapsed": false,
    "ExecuteTime": {
     "start_time": "2023-07-19T19:23:31.830985Z",
     "end_time": "2023-07-19T19:24:37.040770Z"
    }
   }
  },
  {
   "cell_type": "code",
   "execution_count": 28,
   "outputs": [],
   "source": [
    "# df_filtradoAnio = df_filtradoAnio.drop_duplicates()\n",
    "# df_filtradoAnio.info()"
   ],
   "metadata": {
    "collapsed": false,
    "ExecuteTime": {
     "start_time": "2023-07-19T19:23:31.831985Z",
     "end_time": "2023-07-19T19:24:38.770327Z"
    }
   }
  },
  {
   "cell_type": "code",
   "execution_count": 29,
   "outputs": [],
   "source": [
    "df_filtradoAnio.shape"
   ],
   "metadata": {
    "collapsed": false,
    "ExecuteTime": {
     "start_time": "2023-07-19T19:23:31.831985Z",
     "end_time": "2023-07-19T19:24:38.787328Z"
    }
   }
  },
  {
   "cell_type": "code",
   "execution_count": 30,
   "outputs": [],
   "source": [
    "df_filtradoAnio[\"EsServicioPublico\"] = df_filtradoAnio['Sector'] == 'Servicio Público'\n",
    "df_filtradoAnio = df_filtradoAnio.drop('Sector', axis=1)\n",
    "\n",
    "df_filtradoAnio[\"EsPrestacionServicios\"] = df_filtradoAnio['Tipo de Contrato'] == 'Prestación de servicios'\n",
    "df_filtradoAnio = df_filtradoAnio.drop('Tipo de Contrato', axis=1)\n",
    "\n",
    "df_filtradoAnio[\"EsGrupo\"] = df_filtradoAnio['Es Grupo'] == 'Si'\n",
    "df_filtradoAnio = df_filtradoAnio.drop('Es Grupo', axis=1)\n",
    "\n",
    "df_filtradoAnio[\"EsPyme\"] = df_filtradoAnio['Es Pyme'] == 'Si'\n",
    "df_filtradoAnio = df_filtradoAnio.drop('Es Pyme', axis=1)\n",
    "\n",
    "df_filtradoAnio[\"EstaLiquidado\"] = df_filtradoAnio['Liquidación'] == 'Si'\n",
    "df_filtradoAnio = df_filtradoAnio.drop('Liquidación', axis=1)\n",
    "\n",
    "df_filtradoAnio[\"EsObligacionAmbiental\"] = df_filtradoAnio['Obligación Ambiental'] == 'Si'\n",
    "df_filtradoAnio = df_filtradoAnio.drop('Obligación Ambiental', axis=1)\n",
    "\n",
    "\n",
    "df_filtradoAnio[\"Es PostConflicto\"] = df_filtradoAnio['EsPostConflicto'] == 'Si'\n",
    "df_filtradoAnio = df_filtradoAnio.drop('EsPostConflicto', axis=1)\n",
    "\n",
    "df_filtradoAnio[\"EsRecursosPropios\"] = df_filtradoAnio['Origen de los Recursos'] == 'Recursos Propios'\n",
    "df_filtradoAnio = df_filtradoAnio.drop('Origen de los Recursos', axis=1)\n",
    "\n",
    "\n",
    "df_filtradoAnio = df_filtradoAnio.drop_duplicates()\n",
    "df_filtradoAnio.info()\n",
    "\n",
    "df_filtradoAnio"
   ],
   "metadata": {
    "collapsed": false,
    "ExecuteTime": {
     "start_time": "2023-07-19T19:23:31.831985Z",
     "end_time": "2023-07-19T19:24:39.947625Z"
    }
   }
  },
  {
   "cell_type": "code",
   "execution_count": 31,
   "outputs": [],
   "source": [
    "# df_filtradoAnio.to_csv('datos_filtrados_20230719.csv', index=False)"
   ],
   "metadata": {
    "collapsed": false,
    "ExecuteTime": {
     "start_time": "2023-07-19T19:23:31.831985Z",
     "end_time": "2023-07-19T19:24:39.964627Z"
    }
   }
  },
  {
   "cell_type": "code",
   "execution_count": 32,
   "outputs": [],
   "source": [
    "muestra_aleatoria = df_filtradoAnio.sample(frac=0.4)\n",
    "muestra_aleatoria.shape"
   ],
   "metadata": {
    "collapsed": false,
    "ExecuteTime": {
     "start_time": "2023-07-19T19:23:31.831985Z",
     "end_time": "2023-07-19T19:24:40.147268Z"
    }
   }
  },
  {
   "cell_type": "code",
   "execution_count": 33,
   "outputs": [],
   "source": [
    "from ydata_profiling import ProfileReport\n",
    "profile = ProfileReport(muestra_aleatoria, title=\"Pandas Profiling Report\")\n",
    "profile.to_file(\"secopFiltro2021muestra_profile_20230719_1923.html\")"
   ],
   "metadata": {
    "collapsed": false,
    "ExecuteTime": {
     "start_time": "2023-07-19T19:23:31.831985Z",
     "end_time": "2023-07-19T19:25:51.012183Z"
    }
   }
  },
  {
   "cell_type": "code",
   "execution_count": 34,
   "outputs": [],
   "source": [
    "# Aplicar one-hot encoding\n",
    "df_one_hot = pd.get_dummies(df_filtradoAnio['Estado Contrato'])\n",
    "\n",
    "# Combinar el DataFrame original con las nuevas columnas\n",
    "df_final = pd.concat([df_filtradoAnio, df_one_hot], axis=1)\n",
    "\n",
    "# Eliminar la columna original \"Estado Contrato\" si deseas\n",
    "df_final = df_final.drop('Estado Contrato', axis=1)\n",
    "\n",
    "df_final"
   ],
   "metadata": {
    "collapsed": false,
    "ExecuteTime": {
     "start_time": "2023-07-19T19:23:31.831985Z",
     "end_time": "2023-07-19T19:25:51.371221Z"
    }
   }
  },
  {
   "cell_type": "code",
   "execution_count": 35,
   "outputs": [],
   "source": [
    "estado_contrato = df_final[\"Cerrado\"].copy()\n",
    "contratos_data = df_final.drop([\"terminado\",\"cedido\",\"Suspendido\",\"Cerrado\"],axis=1)"
   ],
   "metadata": {
    "collapsed": false,
    "ExecuteTime": {
     "start_time": "2023-07-19T19:23:31.831985Z",
     "end_time": "2023-07-19T19:25:51.448348Z"
    }
   }
  },
  {
   "cell_type": "code",
   "execution_count": 36,
   "outputs": [],
   "source": [
    "# Calculate test and validation set size:\n",
    "original_count = len(df_final)\n",
    "training_size = 0.60 # 60% of records\n",
    "test_size = (1 - training_size) / 2\n",
    "\n",
    "\n",
    "training_count = int(original_count * training_size)\n",
    "test_count = int(original_count * test_size)\n",
    "validation_count = original_count - training_count - test_count\n",
    "\n",
    "print(training_count, test_count, validation_count, original_count)"
   ],
   "metadata": {
    "collapsed": false,
    "ExecuteTime": {
     "start_time": "2023-07-19T19:23:31.831985Z",
     "end_time": "2023-07-19T19:25:51.463346Z"
    }
   }
  },
  {
   "cell_type": "code",
   "execution_count": 37,
   "outputs": [],
   "source": [
    "from sklearn.model_selection import train_test_split\n",
    "\n",
    "train_x, rest_x, train_y, rest_y = train_test_split(contratos_data, estado_contrato, train_size=training_count)\n",
    "test_x, validate_x, test_y, validate_y = train_test_split(rest_x, rest_y, train_size=test_count)\n",
    "\n",
    "print(len(train_x), len(test_x), len(validate_x))"
   ],
   "metadata": {
    "collapsed": false,
    "ExecuteTime": {
     "start_time": "2023-07-19T19:23:31.831985Z",
     "end_time": "2023-07-19T19:25:52.419219Z"
    }
   }
  },
  {
   "cell_type": "markdown",
   "source": [
    "# Pipeline"
   ],
   "metadata": {
    "collapsed": false
   }
  },
  {
   "cell_type": "code",
   "execution_count": 38,
   "outputs": [],
   "source": [
    "from sklearn.preprocessing import OneHotEncoder\n",
    "from sklearn.preprocessing import Binarizer\n",
    "from sklearn.preprocessing import RobustScaler\n",
    "\n",
    "from sklearn.compose import ColumnTransformer\n",
    "from sklearn.pipeline import FeatureUnion, Pipeline"
   ],
   "metadata": {
    "collapsed": false,
    "ExecuteTime": {
     "start_time": "2023-07-19T19:23:31.843984Z",
     "end_time": "2023-07-19T19:25:52.470221Z"
    }
   }
  },
  {
   "cell_type": "code",
   "execution_count": 39,
   "outputs": [],
   "source": [
    "one_hot_encoding = ColumnTransformer([\n",
    "    (\n",
    "        'one_hot_encode',\n",
    "        OneHotEncoder(sparse_output=False, handle_unknown=\"ignore\"),\n",
    "        [\n",
    "            \"Orden\",\n",
    "            \"Entidad Centralizada\",\n",
    "            \"Modalidad de Contratacion\",\n",
    "            \"Destino Gasto\",\n",
    "            \"Género Representante Legal\"\n",
    "        ]\n",
    "    )\n",
    "])"
   ],
   "metadata": {
    "collapsed": false,
    "ExecuteTime": {
     "start_time": "2023-07-19T19:23:31.844984Z",
     "end_time": "2023-07-19T19:25:52.471218Z"
    }
   }
  },
  {
   "cell_type": "code",
   "execution_count": 40,
   "outputs": [],
   "source": [
    "binarizer = ColumnTransformer([\n",
    "    (\n",
    "        'binarizer',\n",
    "        Binarizer(),\n",
    "        [\n",
    "            \"Sector\"\n",
    "        ]\n",
    "    )\n",
    "])\n",
    "\n",
    "one_hot_binarized = Pipeline([\n",
    "    (\"binarizer\", binarizer),\n",
    "    (\"one_hot_encoder\", OneHotEncoder(sparse_output=False, handle_unknown=\"ignore\")),\n",
    "])"
   ],
   "metadata": {
    "collapsed": false,
    "ExecuteTime": {
     "start_time": "2023-07-19T19:23:31.844984Z",
     "end_time": "2023-07-19T19:25:52.481217Z"
    }
   }
  }
 ],
 "metadata": {
  "kernelspec": {
   "display_name": "Python 3",
   "language": "python",
   "name": "python3"
  },
  "language_info": {
   "codemirror_mode": {
    "name": "ipython",
    "version": 2
   },
   "file_extension": ".py",
   "mimetype": "text/x-python",
   "name": "python",
   "nbconvert_exporter": "python",
   "pygments_lexer": "ipython2",
   "version": "2.7.6"
  }
 },
 "nbformat": 4,
 "nbformat_minor": 0
}
