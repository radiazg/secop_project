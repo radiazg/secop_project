{
 "cells": [
  {
   "cell_type": "code",
   "execution_count": 4,
   "outputs": [],
   "source": [
    "import requests\n",
    "import pandas as pd"
   ],
   "metadata": {
    "collapsed": false,
    "ExecuteTime": {
     "start_time": "2023-07-15T18:29:04.239878Z",
     "end_time": "2023-07-15T18:29:04.282418Z"
    }
   }
  },
  {
   "cell_type": "code",
   "execution_count": 5,
   "outputs": [
    {
     "name": "stderr",
     "output_type": "stream",
     "text": [
      "C:\\Users\\caste\\AppData\\Local\\Temp\\ipykernel_29116\\1893727086.py:3: DtypeWarning: Columns (50) have mixed types. Specify dtype option on import or set low_memory=False.\n",
      "  df = pd.read_csv(ruta_archivo)\n"
     ]
    }
   ],
   "source": [
    "ruta_archivo = r\"../data/processed/datos_filtradosv1.csv\"\n",
    "# Cargamos los datos del CSV a un DataFrame de pandas\n",
    "df = pd.read_csv(ruta_archivo)"
   ],
   "metadata": {
    "collapsed": false,
    "ExecuteTime": {
     "start_time": "2023-07-15T18:29:04.251879Z",
     "end_time": "2023-07-15T18:29:52.997272Z"
    }
   }
  },
  {
   "cell_type": "code",
   "execution_count": 6,
   "outputs": [
    {
     "name": "stdout",
     "output_type": "stream",
     "text": [
      "<class 'pandas.core.frame.DataFrame'>\n",
      "RangeIndex: 2689335 entries, 0 to 2689334\n",
      "Data columns (total 50 columns):\n",
      " #   Column                                                              Dtype  \n",
      "---  ------                                                              -----  \n",
      " 0   Nombre Entidad                                                      object \n",
      " 1   Nit Entidad                                                         int64  \n",
      " 2   Departamento                                                        object \n",
      " 3   Ciudad                                                              object \n",
      " 4   Localización                                                        object \n",
      " 5   Orden                                                               object \n",
      " 6   Sector                                                              object \n",
      " 7   Rama                                                                object \n",
      " 8   Entidad Centralizada                                                object \n",
      " 9   Estado Contrato                                                     object \n",
      " 10  Tipo de Contrato                                                    object \n",
      " 11  Modalidad de Contratacion                                           object \n",
      " 12  Fecha de Firma                                                      object \n",
      " 13  Fecha de Inicio del Contrato                                        object \n",
      " 14  Fecha de Fin del Contrato                                           object \n",
      " 15  Fecha de Inicio de Ejecucion                                        object \n",
      " 16  Fecha de Fin de Ejecucion                                           object \n",
      " 17  Condiciones de Entrega                                              object \n",
      " 18  TipoDocProveedor                                                    object \n",
      " 19  Es Grupo                                                            object \n",
      " 20  Es Pyme                                                             object \n",
      " 21  Habilita Pago Adelantado                                            object \n",
      " 22  Liquidación                                                         object \n",
      " 23  Obligación Ambiental                                                object \n",
      " 24  Obligaciones Postconsumo                                            object \n",
      " 25  Reversion                                                           object \n",
      " 26  Valor del Contrato                                                  int64  \n",
      " 27  Valor de pago adelantado                                            int64  \n",
      " 28  Valor Facturado                                                     int64  \n",
      " 29  Valor Pendiente de Pago                                             int64  \n",
      " 30  Valor Pagado                                                        int64  \n",
      " 31  Valor Amortizado                                                    int64  \n",
      " 32  Valor Pendiente de Amortizacion                                     int64  \n",
      " 33  Valor Pendiente de Ejecucion                                        float64\n",
      " 34  Saldo CDP                                                           int64  \n",
      " 35  Saldo Vigencia                                                      int64  \n",
      " 36  EsPostConflicto                                                     object \n",
      " 37  Destino Gasto                                                       object \n",
      " 38  Origen de los Recursos                                              object \n",
      " 39  Dias Adicionados                                                    int64  \n",
      " 40  Nacionalidad Representante Legal                                    object \n",
      " 41  Género Representante Legal                                          object \n",
      " 42  Presupuesto General de la Nacion – PGN                              int64  \n",
      " 43  Sistema General de Participaciones                                  int64  \n",
      " 44  Sistema General de Regalías                                         int64  \n",
      " 45  Recursos Propios (Alcaldías, Gobernaciones y Resguardos Indígenas)  int64  \n",
      " 46  Recursos de Credito                                                 int64  \n",
      " 47  Recursos Propios                                                    int64  \n",
      " 48  Fecha Inicio Liquidacion                                            object \n",
      " 49  Fecha Fin Liquidacion                                               object \n",
      "dtypes: float64(1), int64(17), object(32)\n",
      "memory usage: 1.0+ GB\n"
     ]
    }
   ],
   "source": [
    "# Seleccionamos las columnas que queremos mantener\n",
    "df = df[['Nombre Entidad', 'Nit Entidad', 'Departamento', 'Ciudad',\n",
    "         'Localización', 'Orden', 'Sector', 'Rama', 'Entidad Centralizada',\n",
    "         'Estado Contrato',\n",
    "         'Tipo de Contrato',\n",
    "         'Modalidad de Contratacion',\n",
    "         'Fecha de Firma', 'Fecha de Inicio del Contrato',\n",
    "         'Fecha de Fin del Contrato', 'Fecha de Inicio de Ejecucion',\n",
    "         'Fecha de Fin de Ejecucion', 'Condiciones de Entrega',\n",
    "         'TipoDocProveedor',\n",
    "         'Es Grupo', 'Es Pyme', 'Habilita Pago Adelantado', 'Liquidación',\n",
    "         'Obligación Ambiental', 'Obligaciones Postconsumo', 'Reversion',\n",
    "         'Valor del Contrato', 'Valor de pago adelantado', 'Valor Facturado',\n",
    "         'Valor Pendiente de Pago', 'Valor Pagado', 'Valor Amortizado',\n",
    "         'Valor Pendiente de Amortizacion', 'Valor Pendiente de Ejecucion',\n",
    "         'Saldo CDP',\n",
    "         'Saldo Vigencia', 'EsPostConflicto', 'Destino Gasto',\n",
    "         'Origen de los Recursos', 'Dias Adicionados',\n",
    "         'Nacionalidad Representante Legal',\n",
    "         'Género Representante Legal',\n",
    "         'Presupuesto General de la Nacion – PGN',\n",
    "         'Sistema General de Participaciones', 'Sistema General de Regalías',\n",
    "         'Recursos Propios (Alcaldías, Gobernaciones y Resguardos Indígenas)',\n",
    "         'Recursos de Credito', 'Recursos Propios',\n",
    "         'Fecha Inicio Liquidacion', 'Fecha Fin Liquidacion'\n",
    "         ]]\n",
    "\n",
    "df.info()"
   ],
   "metadata": {
    "collapsed": false,
    "ExecuteTime": {
     "start_time": "2023-07-15T18:29:53.002273Z",
     "end_time": "2023-07-15T18:29:54.404273Z"
    }
   }
  },
  {
   "cell_type": "markdown",
   "source": [
    "#### Conversion de las fechas a DateTime"
   ],
   "metadata": {
    "collapsed": false
   }
  },
  {
   "cell_type": "code",
   "execution_count": 7,
   "outputs": [],
   "source": [
    "columnas_fecha = ['Fecha de Firma', 'Fecha de Inicio del Contrato', 'Fecha de Fin del Contrato',\n",
    "                  'Fecha de Inicio de Ejecucion', 'Fecha de Fin de Ejecucion', 'Fecha Inicio Liquidacion',\n",
    "                  'Fecha Fin Liquidacion']\n",
    "\n",
    "# Iterar sobre las columnas y convertirlas al tipo de dato 'date'\n",
    "for columna in columnas_fecha:\n",
    "    df[columna] = pd.to_datetime(df[columna], format='%m/%d/%Y', errors='coerce')\n",
    "    df[columna] = pd.to_datetime(df[columna], format='%Y-%m-%d %H:%M:%S', errors='coerce')"
   ],
   "metadata": {
    "collapsed": false,
    "ExecuteTime": {
     "start_time": "2023-07-15T18:29:54.408276Z",
     "end_time": "2023-07-15T18:29:57.440275Z"
    }
   }
  },
  {
   "cell_type": "markdown",
   "source": [
    "#### Filtrar por el estado del contrato"
   ],
   "metadata": {
    "collapsed": false
   }
  },
  {
   "cell_type": "markdown",
   "source": [
    "#### Filtrar por año del contrato"
   ],
   "metadata": {
    "collapsed": false
   }
  },
  {
   "cell_type": "code",
   "execution_count": 8,
   "outputs": [
    {
     "data": {
      "text/plain": "                                            Nombre Entidad  Nit Entidad   \n1        ALCALDÍA DEL DISTRITO TURÍSTICO Y CULTURAL DE ...    890480184  \\\n8            ESCUELA TECNOLÓGICA INSTITUTO TÉCNICO CENTRAL    860523694   \n11       SANTIAGO DE CALI DISTRITO ESPECIAL  DEPARTAMEN...    890399011   \n16                              ALCALDIA LOCAL DE FONTIBON    899999061   \n18              Secretaría Distrital de Integración Social   8999990619   \n...                                                    ...          ...   \n2689322                              CONCEJO  DE GIRARDOTA   8909808071   \n2689325                             TRANSITO DE LOS PATIOS    807003659   \n2689330                                              UAECD    900127768   \n2689331   SUBRED INTEGRADA DE SERVICIOS DE SALUD NORTE ESE    900971006   \n2689332  SENAREGIONAL ATLANTICO CENTRO PARA EL DESARROL...    899999034   \n\n                       Departamento       Ciudad   \n1                           Bolívar    Cartagena  \\\n8        Distrito Capital de Bogotá       Bogotá   \n11                  Valle del Cauca         Cali   \n16       Distrito Capital de Bogotá       Bogotá   \n18       Distrito Capital de Bogotá  No Definido   \n...                             ...          ...   \n2689322                   Antioquia    Girardota   \n2689325          Norte de Santander   Los Patios   \n2689330  Distrito Capital de Bogotá       Bogotá   \n2689331  Distrito Capital de Bogotá  No Definido   \n2689332                   Atlántico  Sabanalarga   \n\n                                        Localización        Orden   \n1                    Colombia,  Bolívar ,  Cartagena  Territorial  \\\n8                           Colombia, Bogotá, Bogotá     Nacional   \n11                Colombia,  Valle del Cauca ,  Cali  Territorial   \n16                          Colombia, Bogotá, Bogotá  Territorial   \n18                          Colombia, Bogotá, Bogotá  Territorial   \n...                                              ...          ...   \n2689322            Colombia,  Antioquia ,  Girardota  Territorial   \n2689325  Colombia,  Norte de Santander ,  Los Patios  Territorial   \n2689330                     Colombia, Bogotá, Bogotá  Territorial   \n2689331                     Colombia, Bogotá, Bogotá  Territorial   \n2689332          Colombia,  Atlántico ,  Sabanalarga     Nacional   \n\n                                    Sector                  Rama   \n1                   No aplica/No pertenece             Ejecutivo  \\\n8                       Educación Nacional             Ejecutivo   \n11        Ambiente y Desarrollo Sostenible             Ejecutivo   \n16                        Servicio Público             Ejecutivo   \n18       Inclusión Social y Reconciliación             Ejecutivo   \n...                                    ...                   ...   \n2689322                   Servicio Público  Corporación Autónoma   \n2689325                         Transporte  Corporación Autónoma   \n2689330         Hacienda y Crédito Público             Ejecutivo   \n2689331          Salud y Protección Social  Corporación Autónoma   \n2689332                            Trabajo             Ejecutivo   \n\n        Entidad Centralizada Estado Contrato  ...   \n1               Centralizada    En ejecución  ...  \\\n8            Descentralizada      Modificado  ...   \n11              Centralizada    En ejecución  ...   \n16              Centralizada    En ejecución  ...   \n18              Centralizada    En ejecución  ...   \n...                      ...             ...  ...   \n2689322         Centralizada    En ejecución  ...   \n2689325      Descentralizada      Modificado  ...   \n2689330      Descentralizada      Modificado  ...   \n2689331      Descentralizada       terminado  ...   \n2689332         Centralizada          cedido  ...   \n\n        Nacionalidad Representante Legal Género Representante Legal   \n1                             colombiana                No Definido  \\\n8                             COLOMBIANA                      Mujer   \n11                            COLOMBIANO                      Mujer   \n16                              Colombia                     Hombre   \n18                            COLOMBIANA                      Mujer   \n...                                  ...                        ...   \n2689322                       COLOMBIANA                     Hombre   \n2689325                       COLOMBIANA                      Mujer   \n2689330                       colombiana                No Definido   \n2689331                       Colombiana                      Mujer   \n2689332                       colombiana                No Definido   \n\n        Presupuesto General de la Nacion – PGN   \n1                                            0  \\\n8                                     33447672   \n11                                           0   \n16                                           0   \n18                                           0   \n...                                        ...   \n2689322                                      0   \n2689325                                      0   \n2689330                                      0   \n2689331                                      0   \n2689332                               20680000   \n\n        Sistema General de Participaciones Sistema General de Regalías   \n1                                        0                           0  \\\n8                                        0                           0   \n11                                       0                           0   \n16                                       0                           0   \n18                                       0                           0   \n...                                    ...                         ...   \n2689322                                  0                           0   \n2689325                                  0                           0   \n2689330                                  0                           0   \n2689331                                  0                           0   \n2689332                                  0                           0   \n\n        Recursos Propios (Alcaldías, Gobernaciones y Resguardos Indígenas)   \n1                                                 40500000                  \\\n8                                                        0                   \n11                                                15770000                   \n16                                                       0                   \n18                                                34484400                   \n...                                                    ...                   \n2689322                                            6828000                   \n2689325                                            4573000                   \n2689330                                           22495304                   \n2689331                                                  0                   \n2689332                                                  0                   \n\n        Recursos de Credito Recursos Propios Fecha Inicio Liquidacion   \n1                         0                0                      NaT  \\\n8                         0                0                      NaT   \n11                        0                0                      NaT   \n16                        0         15000000                      NaT   \n18                        0                0                      NaT   \n...                     ...              ...                      ...   \n2689322                   0                0                      NaT   \n2689325                   0                0                      NaT   \n2689330                   0                0                      NaT   \n2689331                   0          6957491                      NaT   \n2689332                   0                0                      NaT   \n\n        Fecha Fin Liquidacion  \n1                         NaT  \n8                         NaT  \n11                        NaT  \n16                        NaT  \n18                        NaT  \n...                       ...  \n2689322                   NaT  \n2689325                   NaT  \n2689330                   NaT  \n2689331                   NaT  \n2689332                   NaT  \n\n[1252122 rows x 50 columns]",
      "text/html": "<div>\n<style scoped>\n    .dataframe tbody tr th:only-of-type {\n        vertical-align: middle;\n    }\n\n    .dataframe tbody tr th {\n        vertical-align: top;\n    }\n\n    .dataframe thead th {\n        text-align: right;\n    }\n</style>\n<table border=\"1\" class=\"dataframe\">\n  <thead>\n    <tr style=\"text-align: right;\">\n      <th></th>\n      <th>Nombre Entidad</th>\n      <th>Nit Entidad</th>\n      <th>Departamento</th>\n      <th>Ciudad</th>\n      <th>Localización</th>\n      <th>Orden</th>\n      <th>Sector</th>\n      <th>Rama</th>\n      <th>Entidad Centralizada</th>\n      <th>Estado Contrato</th>\n      <th>...</th>\n      <th>Nacionalidad Representante Legal</th>\n      <th>Género Representante Legal</th>\n      <th>Presupuesto General de la Nacion – PGN</th>\n      <th>Sistema General de Participaciones</th>\n      <th>Sistema General de Regalías</th>\n      <th>Recursos Propios (Alcaldías, Gobernaciones y Resguardos Indígenas)</th>\n      <th>Recursos de Credito</th>\n      <th>Recursos Propios</th>\n      <th>Fecha Inicio Liquidacion</th>\n      <th>Fecha Fin Liquidacion</th>\n    </tr>\n  </thead>\n  <tbody>\n    <tr>\n      <th>1</th>\n      <td>ALCALDÍA DEL DISTRITO TURÍSTICO Y CULTURAL DE ...</td>\n      <td>890480184</td>\n      <td>Bolívar</td>\n      <td>Cartagena</td>\n      <td>Colombia,  Bolívar ,  Cartagena</td>\n      <td>Territorial</td>\n      <td>No aplica/No pertenece</td>\n      <td>Ejecutivo</td>\n      <td>Centralizada</td>\n      <td>En ejecución</td>\n      <td>...</td>\n      <td>colombiana</td>\n      <td>No Definido</td>\n      <td>0</td>\n      <td>0</td>\n      <td>0</td>\n      <td>40500000</td>\n      <td>0</td>\n      <td>0</td>\n      <td>NaT</td>\n      <td>NaT</td>\n    </tr>\n    <tr>\n      <th>8</th>\n      <td>ESCUELA TECNOLÓGICA INSTITUTO TÉCNICO CENTRAL</td>\n      <td>860523694</td>\n      <td>Distrito Capital de Bogotá</td>\n      <td>Bogotá</td>\n      <td>Colombia, Bogotá, Bogotá</td>\n      <td>Nacional</td>\n      <td>Educación Nacional</td>\n      <td>Ejecutivo</td>\n      <td>Descentralizada</td>\n      <td>Modificado</td>\n      <td>...</td>\n      <td>COLOMBIANA</td>\n      <td>Mujer</td>\n      <td>33447672</td>\n      <td>0</td>\n      <td>0</td>\n      <td>0</td>\n      <td>0</td>\n      <td>0</td>\n      <td>NaT</td>\n      <td>NaT</td>\n    </tr>\n    <tr>\n      <th>11</th>\n      <td>SANTIAGO DE CALI DISTRITO ESPECIAL  DEPARTAMEN...</td>\n      <td>890399011</td>\n      <td>Valle del Cauca</td>\n      <td>Cali</td>\n      <td>Colombia,  Valle del Cauca ,  Cali</td>\n      <td>Territorial</td>\n      <td>Ambiente y Desarrollo Sostenible</td>\n      <td>Ejecutivo</td>\n      <td>Centralizada</td>\n      <td>En ejecución</td>\n      <td>...</td>\n      <td>COLOMBIANO</td>\n      <td>Mujer</td>\n      <td>0</td>\n      <td>0</td>\n      <td>0</td>\n      <td>15770000</td>\n      <td>0</td>\n      <td>0</td>\n      <td>NaT</td>\n      <td>NaT</td>\n    </tr>\n    <tr>\n      <th>16</th>\n      <td>ALCALDIA LOCAL DE FONTIBON</td>\n      <td>899999061</td>\n      <td>Distrito Capital de Bogotá</td>\n      <td>Bogotá</td>\n      <td>Colombia, Bogotá, Bogotá</td>\n      <td>Territorial</td>\n      <td>Servicio Público</td>\n      <td>Ejecutivo</td>\n      <td>Centralizada</td>\n      <td>En ejecución</td>\n      <td>...</td>\n      <td>Colombia</td>\n      <td>Hombre</td>\n      <td>0</td>\n      <td>0</td>\n      <td>0</td>\n      <td>0</td>\n      <td>0</td>\n      <td>15000000</td>\n      <td>NaT</td>\n      <td>NaT</td>\n    </tr>\n    <tr>\n      <th>18</th>\n      <td>Secretaría Distrital de Integración Social</td>\n      <td>8999990619</td>\n      <td>Distrito Capital de Bogotá</td>\n      <td>No Definido</td>\n      <td>Colombia, Bogotá, Bogotá</td>\n      <td>Territorial</td>\n      <td>Inclusión Social y Reconciliación</td>\n      <td>Ejecutivo</td>\n      <td>Centralizada</td>\n      <td>En ejecución</td>\n      <td>...</td>\n      <td>COLOMBIANA</td>\n      <td>Mujer</td>\n      <td>0</td>\n      <td>0</td>\n      <td>0</td>\n      <td>34484400</td>\n      <td>0</td>\n      <td>0</td>\n      <td>NaT</td>\n      <td>NaT</td>\n    </tr>\n    <tr>\n      <th>...</th>\n      <td>...</td>\n      <td>...</td>\n      <td>...</td>\n      <td>...</td>\n      <td>...</td>\n      <td>...</td>\n      <td>...</td>\n      <td>...</td>\n      <td>...</td>\n      <td>...</td>\n      <td>...</td>\n      <td>...</td>\n      <td>...</td>\n      <td>...</td>\n      <td>...</td>\n      <td>...</td>\n      <td>...</td>\n      <td>...</td>\n      <td>...</td>\n      <td>...</td>\n      <td>...</td>\n    </tr>\n    <tr>\n      <th>2689322</th>\n      <td>CONCEJO  DE GIRARDOTA</td>\n      <td>8909808071</td>\n      <td>Antioquia</td>\n      <td>Girardota</td>\n      <td>Colombia,  Antioquia ,  Girardota</td>\n      <td>Territorial</td>\n      <td>Servicio Público</td>\n      <td>Corporación Autónoma</td>\n      <td>Centralizada</td>\n      <td>En ejecución</td>\n      <td>...</td>\n      <td>COLOMBIANA</td>\n      <td>Hombre</td>\n      <td>0</td>\n      <td>0</td>\n      <td>0</td>\n      <td>6828000</td>\n      <td>0</td>\n      <td>0</td>\n      <td>NaT</td>\n      <td>NaT</td>\n    </tr>\n    <tr>\n      <th>2689325</th>\n      <td>TRANSITO DE LOS PATIOS</td>\n      <td>807003659</td>\n      <td>Norte de Santander</td>\n      <td>Los Patios</td>\n      <td>Colombia,  Norte de Santander ,  Los Patios</td>\n      <td>Territorial</td>\n      <td>Transporte</td>\n      <td>Corporación Autónoma</td>\n      <td>Descentralizada</td>\n      <td>Modificado</td>\n      <td>...</td>\n      <td>COLOMBIANA</td>\n      <td>Mujer</td>\n      <td>0</td>\n      <td>0</td>\n      <td>0</td>\n      <td>4573000</td>\n      <td>0</td>\n      <td>0</td>\n      <td>NaT</td>\n      <td>NaT</td>\n    </tr>\n    <tr>\n      <th>2689330</th>\n      <td>UAECD</td>\n      <td>900127768</td>\n      <td>Distrito Capital de Bogotá</td>\n      <td>Bogotá</td>\n      <td>Colombia, Bogotá, Bogotá</td>\n      <td>Territorial</td>\n      <td>Hacienda y Crédito Público</td>\n      <td>Ejecutivo</td>\n      <td>Descentralizada</td>\n      <td>Modificado</td>\n      <td>...</td>\n      <td>colombiana</td>\n      <td>No Definido</td>\n      <td>0</td>\n      <td>0</td>\n      <td>0</td>\n      <td>22495304</td>\n      <td>0</td>\n      <td>0</td>\n      <td>NaT</td>\n      <td>NaT</td>\n    </tr>\n    <tr>\n      <th>2689331</th>\n      <td>SUBRED INTEGRADA DE SERVICIOS DE SALUD NORTE ESE</td>\n      <td>900971006</td>\n      <td>Distrito Capital de Bogotá</td>\n      <td>No Definido</td>\n      <td>Colombia, Bogotá, Bogotá</td>\n      <td>Territorial</td>\n      <td>Salud y Protección Social</td>\n      <td>Corporación Autónoma</td>\n      <td>Descentralizada</td>\n      <td>terminado</td>\n      <td>...</td>\n      <td>Colombiana</td>\n      <td>Mujer</td>\n      <td>0</td>\n      <td>0</td>\n      <td>0</td>\n      <td>0</td>\n      <td>0</td>\n      <td>6957491</td>\n      <td>NaT</td>\n      <td>NaT</td>\n    </tr>\n    <tr>\n      <th>2689332</th>\n      <td>SENAREGIONAL ATLANTICO CENTRO PARA EL DESARROL...</td>\n      <td>899999034</td>\n      <td>Atlántico</td>\n      <td>Sabanalarga</td>\n      <td>Colombia,  Atlántico ,  Sabanalarga</td>\n      <td>Nacional</td>\n      <td>Trabajo</td>\n      <td>Ejecutivo</td>\n      <td>Centralizada</td>\n      <td>cedido</td>\n      <td>...</td>\n      <td>colombiana</td>\n      <td>No Definido</td>\n      <td>20680000</td>\n      <td>0</td>\n      <td>0</td>\n      <td>0</td>\n      <td>0</td>\n      <td>0</td>\n      <td>NaT</td>\n      <td>NaT</td>\n    </tr>\n  </tbody>\n</table>\n<p>1252122 rows × 50 columns</p>\n</div>"
     },
     "execution_count": 8,
     "metadata": {},
     "output_type": "execute_result"
    }
   ],
   "source": [
    "df_filtradoAnio = df[df['Fecha de Inicio del Contrato'].dt.year >= 2022]\n",
    "df_filtradoAnio"
   ],
   "metadata": {
    "collapsed": false,
    "ExecuteTime": {
     "start_time": "2023-07-15T18:29:57.441275Z",
     "end_time": "2023-07-15T18:29:58.779271Z"
    }
   }
  },
  {
   "cell_type": "code",
   "execution_count": 9,
   "outputs": [
    {
     "name": "stdout",
     "output_type": "stream",
     "text": [
      "<class 'pandas.core.frame.DataFrame'>\n",
      "Index: 1189027 entries, 1 to 2689332\n",
      "Data columns (total 50 columns):\n",
      " #   Column                                                              Non-Null Count    Dtype         \n",
      "---  ------                                                              --------------    -----         \n",
      " 0   Nombre Entidad                                                      1189027 non-null  object        \n",
      " 1   Nit Entidad                                                         1189027 non-null  int64         \n",
      " 2   Departamento                                                        1189027 non-null  object        \n",
      " 3   Ciudad                                                              1189027 non-null  object        \n",
      " 4   Localización                                                        1189027 non-null  object        \n",
      " 5   Orden                                                               1189027 non-null  object        \n",
      " 6   Sector                                                              1189027 non-null  object        \n",
      " 7   Rama                                                                1189027 non-null  object        \n",
      " 8   Entidad Centralizada                                                1189027 non-null  object        \n",
      " 9   Estado Contrato                                                     1189027 non-null  object        \n",
      " 10  Tipo de Contrato                                                    1189027 non-null  object        \n",
      " 11  Modalidad de Contratacion                                           1189027 non-null  object        \n",
      " 12  Fecha de Firma                                                      1189015 non-null  datetime64[ns]\n",
      " 13  Fecha de Inicio del Contrato                                        1189027 non-null  datetime64[ns]\n",
      " 14  Fecha de Fin del Contrato                                           1189025 non-null  datetime64[ns]\n",
      " 15  Fecha de Inicio de Ejecucion                                        47 non-null       datetime64[ns]\n",
      " 16  Fecha de Fin de Ejecucion                                           47 non-null       datetime64[ns]\n",
      " 17  Condiciones de Entrega                                              1189027 non-null  object        \n",
      " 18  TipoDocProveedor                                                    1189027 non-null  object        \n",
      " 19  Es Grupo                                                            1189027 non-null  object        \n",
      " 20  Es Pyme                                                             1189027 non-null  object        \n",
      " 21  Habilita Pago Adelantado                                            1189027 non-null  object        \n",
      " 22  Liquidación                                                         1189027 non-null  object        \n",
      " 23  Obligación Ambiental                                                1189027 non-null  object        \n",
      " 24  Obligaciones Postconsumo                                            1189027 non-null  object        \n",
      " 25  Reversion                                                           1189027 non-null  object        \n",
      " 26  Valor del Contrato                                                  1189027 non-null  int64         \n",
      " 27  Valor de pago adelantado                                            1189027 non-null  int64         \n",
      " 28  Valor Facturado                                                     1189027 non-null  int64         \n",
      " 29  Valor Pendiente de Pago                                             1189027 non-null  int64         \n",
      " 30  Valor Pagado                                                        1189027 non-null  int64         \n",
      " 31  Valor Amortizado                                                    1189027 non-null  int64         \n",
      " 32  Valor Pendiente de Amortizacion                                     1189027 non-null  int64         \n",
      " 33  Valor Pendiente de Ejecucion                                        1184971 non-null  float64       \n",
      " 34  Saldo CDP                                                           1189027 non-null  int64         \n",
      " 35  Saldo Vigencia                                                      1189027 non-null  int64         \n",
      " 36  EsPostConflicto                                                     1189027 non-null  object        \n",
      " 37  Destino Gasto                                                       1189027 non-null  object        \n",
      " 38  Origen de los Recursos                                              1189027 non-null  object        \n",
      " 39  Dias Adicionados                                                    1189027 non-null  int64         \n",
      " 40  Nacionalidad Representante Legal                                    1188986 non-null  object        \n",
      " 41  Género Representante Legal                                          1189027 non-null  object        \n",
      " 42  Presupuesto General de la Nacion – PGN                              1189027 non-null  int64         \n",
      " 43  Sistema General de Participaciones                                  1189027 non-null  int64         \n",
      " 44  Sistema General de Regalías                                         1189027 non-null  int64         \n",
      " 45  Recursos Propios (Alcaldías, Gobernaciones y Resguardos Indígenas)  1189027 non-null  int64         \n",
      " 46  Recursos de Credito                                                 1189027 non-null  int64         \n",
      " 47  Recursos Propios                                                    1189027 non-null  int64         \n",
      " 48  Fecha Inicio Liquidacion                                            0 non-null        datetime64[ns]\n",
      " 49  Fecha Fin Liquidacion                                               0 non-null        datetime64[ns]\n",
      "dtypes: datetime64[ns](7), float64(1), int64(17), object(25)\n",
      "memory usage: 462.6+ MB\n"
     ]
    }
   ],
   "source": [
    "df_filtradoAnio = df_filtradoAnio.drop_duplicates()\n",
    "df_filtradoAnio.info()"
   ],
   "metadata": {
    "collapsed": false,
    "ExecuteTime": {
     "start_time": "2023-07-15T18:29:58.781273Z",
     "end_time": "2023-07-15T18:30:05.076276Z"
    }
   }
  },
  {
   "cell_type": "code",
   "execution_count": 10,
   "outputs": [
    {
     "data": {
      "text/plain": "(237805, 50)"
     },
     "execution_count": 10,
     "metadata": {},
     "output_type": "execute_result"
    }
   ],
   "source": [
    "muestra_aleatoria = df_filtradoAnio.sample(frac=0.2)\n",
    "muestra_aleatoria.shape"
   ],
   "metadata": {
    "collapsed": false,
    "ExecuteTime": {
     "start_time": "2023-07-15T18:30:05.078275Z",
     "end_time": "2023-07-15T18:30:05.746273Z"
    }
   }
  },
  {
   "cell_type": "code",
   "execution_count": 11,
   "outputs": [
    {
     "data": {
      "text/plain": "Summarize dataset:   0%|          | 0/5 [00:00<?, ?it/s]",
      "application/vnd.jupyter.widget-view+json": {
       "version_major": 2,
       "version_minor": 0,
       "model_id": "dd6b21c778a1474e81a9caf0599705f2"
      }
     },
     "metadata": {},
     "output_type": "display_data"
    },
    {
     "name": "stderr",
     "output_type": "stream",
     "text": [
      "C:\\Users\\caste\\anaconda3\\envs\\workspace\\lib\\site-packages\\ydata_profiling\\model\\typeset_relations.py:88: UserWarning: Could not infer format, so each element will be parsed individually, falling back to `dateutil`. To ensure parsing is consistent and as-expected, please specify a format.\n",
      "  return not series.astype(\"datetime64\").isna().all()\n",
      "C:\\Users\\caste\\anaconda3\\envs\\workspace\\lib\\site-packages\\ydata_profiling\\model\\typeset_relations.py:88: UserWarning: Could not infer format, so each element will be parsed individually, falling back to `dateutil`. To ensure parsing is consistent and as-expected, please specify a format.\n",
      "  return not series.astype(\"datetime64\").isna().all()\n",
      "C:\\Users\\caste\\anaconda3\\envs\\workspace\\lib\\site-packages\\ydata_profiling\\model\\typeset_relations.py:88: UserWarning: Could not infer format, so each element will be parsed individually, falling back to `dateutil`. To ensure parsing is consistent and as-expected, please specify a format.\n",
      "  return not series.astype(\"datetime64\").isna().all()\n",
      "C:\\Users\\caste\\anaconda3\\envs\\workspace\\lib\\site-packages\\ydata_profiling\\model\\typeset_relations.py:88: UserWarning: Could not infer format, so each element will be parsed individually, falling back to `dateutil`. To ensure parsing is consistent and as-expected, please specify a format.\n",
      "  return not series.astype(\"datetime64\").isna().all()\n",
      "C:\\Users\\caste\\anaconda3\\envs\\workspace\\lib\\site-packages\\ydata_profiling\\model\\typeset_relations.py:88: UserWarning: Could not infer format, so each element will be parsed individually, falling back to `dateutil`. To ensure parsing is consistent and as-expected, please specify a format.\n",
      "  return not series.astype(\"datetime64\").isna().all()\n",
      "C:\\Users\\caste\\anaconda3\\envs\\workspace\\lib\\site-packages\\ydata_profiling\\model\\typeset_relations.py:88: UserWarning: Could not infer format, so each element will be parsed individually, falling back to `dateutil`. To ensure parsing is consistent and as-expected, please specify a format.\n",
      "  return not series.astype(\"datetime64\").isna().all()\n",
      "C:\\Users\\caste\\anaconda3\\envs\\workspace\\lib\\site-packages\\ydata_profiling\\model\\typeset_relations.py:88: UserWarning: Could not infer format, so each element will be parsed individually, falling back to `dateutil`. To ensure parsing is consistent and as-expected, please specify a format.\n",
      "  return not series.astype(\"datetime64\").isna().all()\n",
      "C:\\Users\\caste\\anaconda3\\envs\\workspace\\lib\\site-packages\\ydata_profiling\\model\\typeset_relations.py:88: UserWarning: Could not infer format, so each element will be parsed individually, falling back to `dateutil`. To ensure parsing is consistent and as-expected, please specify a format.\n",
      "  return not series.astype(\"datetime64\").isna().all()\n"
     ]
    },
    {
     "data": {
      "text/plain": "Generate report structure:   0%|          | 0/1 [00:00<?, ?it/s]",
      "application/vnd.jupyter.widget-view+json": {
       "version_major": 2,
       "version_minor": 0,
       "model_id": "375c947b2c23458996c898860e259617"
      }
     },
     "metadata": {},
     "output_type": "display_data"
    },
    {
     "data": {
      "text/plain": "Render HTML:   0%|          | 0/1 [00:00<?, ?it/s]",
      "application/vnd.jupyter.widget-view+json": {
       "version_major": 2,
       "version_minor": 0,
       "model_id": "69fe61a5bbf14b1295ee885ea45c0bb3"
      }
     },
     "metadata": {},
     "output_type": "display_data"
    },
    {
     "data": {
      "text/plain": "Export report to file:   0%|          | 0/1 [00:00<?, ?it/s]",
      "application/vnd.jupyter.widget-view+json": {
       "version_major": 2,
       "version_minor": 0,
       "model_id": "e1184c4740ee4143b963a2325d09a210"
      }
     },
     "metadata": {},
     "output_type": "display_data"
    }
   ],
   "source": [
    "from ydata_profiling import ProfileReport\n",
    "profile = ProfileReport(muestra_aleatoria, title=\"Pandas Profiling Report\")\n",
    "profile.to_file(\"secopFiltro2021muestra_profile.html\")"
   ],
   "metadata": {
    "collapsed": false,
    "ExecuteTime": {
     "start_time": "2023-07-15T18:30:11.794155Z",
     "end_time": "2023-07-15T18:36:46.235607Z"
    }
   }
  }
 ],
 "metadata": {
  "kernelspec": {
   "display_name": "Python 3",
   "language": "python",
   "name": "python3"
  },
  "language_info": {
   "codemirror_mode": {
    "name": "ipython",
    "version": 2
   },
   "file_extension": ".py",
   "mimetype": "text/x-python",
   "name": "python",
   "nbconvert_exporter": "python",
   "pygments_lexer": "ipython2",
   "version": "2.7.6"
  }
 },
 "nbformat": 4,
 "nbformat_minor": 0
}
