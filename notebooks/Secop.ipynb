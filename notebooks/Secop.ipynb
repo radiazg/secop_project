{
 "cells": [
  {
   "cell_type": "code",
   "execution_count": 1,
   "outputs": [],
   "source": [
    "import requests\n",
    "import pandas as pd"
   ],
   "metadata": {
    "collapsed": false,
    "ExecuteTime": {
     "start_time": "2023-07-21T18:10:36.316628Z",
     "end_time": "2023-07-21T18:10:37.947829Z"
    }
   }
  },
  {
   "cell_type": "code",
   "execution_count": 2,
   "outputs": [
    {
     "name": "stderr",
     "output_type": "stream",
     "text": [
      "C:\\Users\\caste\\AppData\\Local\\Temp\\ipykernel_11780\\1893727086.py:3: DtypeWarning: Columns (50) have mixed types. Specify dtype option on import or set low_memory=False.\n",
      "  df = pd.read_csv(ruta_archivo)\n"
     ]
    }
   ],
   "source": [
    "ruta_archivo = r\"../data/processed/datos_filtradosv1.csv\"\n",
    "# Cargamos los datos del CSV a un DataFrame de pandas\n",
    "df = pd.read_csv(ruta_archivo)"
   ],
   "metadata": {
    "collapsed": false,
    "ExecuteTime": {
     "start_time": "2023-07-21T18:10:37.946829Z",
     "end_time": "2023-07-21T18:11:35.084102Z"
    }
   }
  },
  {
   "cell_type": "code",
   "execution_count": 3,
   "outputs": [
    {
     "name": "stdout",
     "output_type": "stream",
     "text": [
      "<class 'pandas.core.frame.DataFrame'>\n",
      "RangeIndex: 2689335 entries, 0 to 2689334\n",
      "Data columns (total 31 columns):\n",
      " #   Column                                                              Dtype  \n",
      "---  ------                                                              -----  \n",
      " 0   Departamento                                                        object \n",
      " 1   Orden                                                               object \n",
      " 2   Sector                                                              object \n",
      " 3   Rama                                                                object \n",
      " 4   Entidad Centralizada                                                object \n",
      " 5   Estado Contrato                                                     object \n",
      " 6   Tipo de Contrato                                                    object \n",
      " 7   Modalidad de Contratacion                                           object \n",
      " 8   Fecha de Firma                                                      object \n",
      " 9   Fecha de Inicio del Contrato                                        object \n",
      " 10  Fecha de Fin del Contrato                                           object \n",
      " 11  Fecha de Inicio de Ejecucion                                        object \n",
      " 12  Fecha de Fin de Ejecucion                                           object \n",
      " 13  Es Grupo                                                            object \n",
      " 14  Es Pyme                                                             object \n",
      " 15  Liquidación                                                         object \n",
      " 16  Obligación Ambiental                                                object \n",
      " 17  Valor del Contrato                                                  int64  \n",
      " 18  Valor Facturado                                                     int64  \n",
      " 19  Valor Pendiente de Pago                                             int64  \n",
      " 20  Valor Pagado                                                        int64  \n",
      " 21  Valor Pendiente de Ejecucion                                        float64\n",
      " 22  Saldo CDP                                                           int64  \n",
      " 23  EsPostConflicto                                                     object \n",
      " 24  Destino Gasto                                                       object \n",
      " 25  Origen de los Recursos                                              object \n",
      " 26  Dias Adicionados                                                    int64  \n",
      " 27  Género Representante Legal                                          object \n",
      " 28  Presupuesto General de la Nacion – PGN                              int64  \n",
      " 29  Recursos Propios (Alcaldías, Gobernaciones y Resguardos Indígenas)  int64  \n",
      " 30  Recursos Propios                                                    int64  \n",
      "dtypes: float64(1), int64(9), object(21)\n",
      "memory usage: 636.1+ MB\n"
     ]
    }
   ],
   "source": [
    "# Seleccionamos las columnas que queremos mantener\n",
    "df = df[['Departamento',\n",
    "         'Orden', 'Sector', 'Rama', 'Entidad Centralizada',\n",
    "         'Estado Contrato',\n",
    "         'Tipo de Contrato',\n",
    "         'Modalidad de Contratacion',\n",
    "         'Fecha de Firma', 'Fecha de Inicio del Contrato',\n",
    "         'Fecha de Fin del Contrato', 'Fecha de Inicio de Ejecucion',\n",
    "         'Fecha de Fin de Ejecucion',\n",
    "         'Es Grupo', 'Es Pyme', 'Liquidación',\n",
    "         'Obligación Ambiental',\n",
    "         'Valor del Contrato', 'Valor Facturado',\n",
    "         'Valor Pendiente de Pago', 'Valor Pagado',\n",
    "         'Valor Pendiente de Ejecucion',\n",
    "         'Saldo CDP',\n",
    "         'EsPostConflicto', 'Destino Gasto',\n",
    "         'Origen de los Recursos', 'Dias Adicionados',\n",
    "         'Género Representante Legal',\n",
    "         'Presupuesto General de la Nacion – PGN',\n",
    "         'Recursos Propios (Alcaldías, Gobernaciones y Resguardos Indígenas)',\n",
    "         'Recursos Propios'\n",
    "         ]]\n",
    "\n",
    "df.info()"
   ],
   "metadata": {
    "collapsed": false,
    "ExecuteTime": {
     "start_time": "2023-07-21T18:11:35.088100Z",
     "end_time": "2023-07-21T18:11:36.405648Z"
    }
   }
  },
  {
   "cell_type": "markdown",
   "source": [
    "#### Conversion de las fechas a DateTime"
   ],
   "metadata": {
    "collapsed": false
   }
  },
  {
   "cell_type": "code",
   "execution_count": 4,
   "outputs": [],
   "source": [
    "columnas_fecha = ['Fecha de Firma', 'Fecha de Inicio del Contrato', 'Fecha de Fin del Contrato',\n",
    "                  'Fecha de Inicio de Ejecucion', 'Fecha de Fin de Ejecucion']\n",
    "\n",
    "# Iterar sobre las columnas y convertirlas al tipo de dato 'date'\n",
    "for columna in columnas_fecha:\n",
    "    df[columna] = pd.to_datetime(df[columna], format='%m/%d/%Y', errors='coerce')\n",
    "    df[columna] = pd.to_datetime(df[columna], format='%Y-%m-%d %H:%M:%S', errors='coerce')"
   ],
   "metadata": {
    "collapsed": false,
    "ExecuteTime": {
     "start_time": "2023-07-21T18:11:36.410663Z",
     "end_time": "2023-07-21T18:11:38.988290Z"
    }
   }
  },
  {
   "cell_type": "markdown",
   "source": [
    "#### Filtrar por el estado del contrato"
   ],
   "metadata": {
    "collapsed": false
   }
  },
  {
   "cell_type": "code",
   "execution_count": 5,
   "outputs": [
    {
     "data": {
      "text/plain": "                       Departamento        Orden                      Sector   \n0                         Santander  Territorial            Servicio Público  \\\n2                         Atlántico     Nacional          Educación Nacional   \n3        Distrito Capital de Bogotá     Nacional  Hacienda y Crédito Público   \n9        Distrito Capital de Bogotá     Nacional                 agricultura   \n10       Distrito Capital de Bogotá     Nacional          Educación Nacional   \n...                             ...          ...                         ...   \n2689323                Cundinamarca  Territorial      No aplica/No pertenece   \n2689327                       Huila     Nacional                     defensa   \n2689331  Distrito Capital de Bogotá  Territorial   Salud y Protección Social   \n2689332                   Atlántico     Nacional                     Trabajo   \n2689333                       Huila  Territorial            Servicio Público   \n\n                         Rama Entidad Centralizada Estado Contrato   \n0                   Ejecutivo         Centralizada       terminado  \\\n2                   Ejecutivo         Centralizada          cedido   \n3                   Ejecutivo          No Definido         Cerrado   \n9                   Ejecutivo      Descentralizada       terminado   \n10       Corporación Autónoma      Descentralizada       terminado   \n...                       ...                  ...             ...   \n2689323             Ejecutivo      Descentralizada         Cerrado   \n2689327             Ejecutivo      Descentralizada       terminado   \n2689331  Corporación Autónoma      Descentralizada       terminado   \n2689332             Ejecutivo         Centralizada          cedido   \n2689333             Ejecutivo         Centralizada         Cerrado   \n\n                Tipo de Contrato      Modalidad de Contratacion   \n0        Prestación de servicios           Contratación directa  \\\n2        Prestación de servicios           Contratación directa   \n3        Prestación de servicios           Contratación directa   \n9        Prestación de servicios           Contratación directa   \n10       Prestación de servicios  Contratación régimen especial   \n...                          ...                            ...   \n2689323  Prestación de servicios           Contratación directa   \n2689327  Prestación de servicios                 Mínima cuantía   \n2689331        DecreeLaw092/2017  Contratación régimen especial   \n2689332  Prestación de servicios           Contratación directa   \n2689333  Prestación de servicios           Contratación directa   \n\n        Fecha de Firma Fecha de Inicio del Contrato  ...   \n0           2021-08-17                   2021-08-19  ...  \\\n2           2020-02-07                   2020-02-07  ...   \n3           2019-04-15                   2019-02-20  ...   \n9           2021-01-20                   2021-01-21  ...   \n10          2021-08-05                   2021-08-09  ...   \n...                ...                          ...  ...   \n2689323     2018-08-21                   2018-08-21  ...   \n2689327     2021-04-06                   2021-04-14  ...   \n2689331     2022-03-24                   2022-03-29  ...   \n2689332     2023-01-26                   2023-02-01  ...   \n2689333     2021-03-05                   2021-03-05  ...   \n\n        Valor Pendiente de Ejecucion   Saldo CDP EsPostConflicto   \n0                                0.0    13750000              No  \\\n2                                0.0   366080000              No   \n3                          1557298.0    66379827              No   \n9                          1744200.0  1034967000              No   \n10                         2640000.0    52800000              No   \n...                              ...         ...             ...   \n2689323                   20279040.0    20279040              No   \n2689327                   21000000.0    32550000              No   \n2689331                    6957491.0    58912135              No   \n2689332                   14080000.0  2201918000              No   \n2689333                          0.0     1800000              No   \n\n          Destino Gasto Origen de los Recursos Dias Adicionados   \n0             Inversión            Distribuido                0  \\\n2             Inversión            Distribuido                0   \n3        Funcionamiento            Distribuido                0   \n9             Inversión            Distribuido                0   \n10       Funcionamiento       Recursos Propios                0   \n...                 ...                    ...              ...   \n2689323  Funcionamiento            Distribuido                0   \n2689327  Funcionamiento            Distribuido                0   \n2689331  Funcionamiento       Recursos Propios                0   \n2689332       Inversión            Distribuido                0   \n2689333       Inversión            Distribuido                0   \n\n        Género Representante Legal  Presupuesto General de la Nacion – PGN   \n0                           Hombre                                       0  \\\n2                      No Definido                                       0   \n3                      No Definido                                       0   \n9                            Mujer                                22032000   \n10                     No Definido                                       0   \n...                            ...                                     ...   \n2689323                No Definido                                       0   \n2689327                No Definido                                24500000   \n2689331                      Mujer                                       0   \n2689332                No Definido                                20680000   \n2689333                      Mujer                                       0   \n\n         Recursos Propios (Alcaldías, Gobernaciones y Resguardos Indígenas)   \n0                                                 13750000                   \\\n2                                                        0                    \n3                                                        0                    \n9                                                        0                    \n10                                                       0                    \n...                                                    ...                    \n2689323                                                  0                    \n2689327                                                  0                    \n2689331                                                  0                    \n2689332                                                  0                    \n2689333                                            1800000                    \n\n         Recursos Propios  \n0                       0  \n2                       0  \n3                       0  \n9                       0  \n10               49500000  \n...                   ...  \n2689323                 0  \n2689327                 0  \n2689331           6957491  \n2689332                 0  \n2689333                 0  \n\n[608240 rows x 31 columns]",
      "text/html": "<div>\n<style scoped>\n    .dataframe tbody tr th:only-of-type {\n        vertical-align: middle;\n    }\n\n    .dataframe tbody tr th {\n        vertical-align: top;\n    }\n\n    .dataframe thead th {\n        text-align: right;\n    }\n</style>\n<table border=\"1\" class=\"dataframe\">\n  <thead>\n    <tr style=\"text-align: right;\">\n      <th></th>\n      <th>Departamento</th>\n      <th>Orden</th>\n      <th>Sector</th>\n      <th>Rama</th>\n      <th>Entidad Centralizada</th>\n      <th>Estado Contrato</th>\n      <th>Tipo de Contrato</th>\n      <th>Modalidad de Contratacion</th>\n      <th>Fecha de Firma</th>\n      <th>Fecha de Inicio del Contrato</th>\n      <th>...</th>\n      <th>Valor Pendiente de Ejecucion</th>\n      <th>Saldo CDP</th>\n      <th>EsPostConflicto</th>\n      <th>Destino Gasto</th>\n      <th>Origen de los Recursos</th>\n      <th>Dias Adicionados</th>\n      <th>Género Representante Legal</th>\n      <th>Presupuesto General de la Nacion – PGN</th>\n      <th>Recursos Propios (Alcaldías, Gobernaciones y Resguardos Indígenas)</th>\n      <th>Recursos Propios</th>\n    </tr>\n  </thead>\n  <tbody>\n    <tr>\n      <th>0</th>\n      <td>Santander</td>\n      <td>Territorial</td>\n      <td>Servicio Público</td>\n      <td>Ejecutivo</td>\n      <td>Centralizada</td>\n      <td>terminado</td>\n      <td>Prestación de servicios</td>\n      <td>Contratación directa</td>\n      <td>2021-08-17</td>\n      <td>2021-08-19</td>\n      <td>...</td>\n      <td>0.0</td>\n      <td>13750000</td>\n      <td>No</td>\n      <td>Inversión</td>\n      <td>Distribuido</td>\n      <td>0</td>\n      <td>Hombre</td>\n      <td>0</td>\n      <td>13750000</td>\n      <td>0</td>\n    </tr>\n    <tr>\n      <th>2</th>\n      <td>Atlántico</td>\n      <td>Nacional</td>\n      <td>Educación Nacional</td>\n      <td>Ejecutivo</td>\n      <td>Centralizada</td>\n      <td>cedido</td>\n      <td>Prestación de servicios</td>\n      <td>Contratación directa</td>\n      <td>2020-02-07</td>\n      <td>2020-02-07</td>\n      <td>...</td>\n      <td>0.0</td>\n      <td>366080000</td>\n      <td>No</td>\n      <td>Inversión</td>\n      <td>Distribuido</td>\n      <td>0</td>\n      <td>No Definido</td>\n      <td>0</td>\n      <td>0</td>\n      <td>0</td>\n    </tr>\n    <tr>\n      <th>3</th>\n      <td>Distrito Capital de Bogotá</td>\n      <td>Nacional</td>\n      <td>Hacienda y Crédito Público</td>\n      <td>Ejecutivo</td>\n      <td>No Definido</td>\n      <td>Cerrado</td>\n      <td>Prestación de servicios</td>\n      <td>Contratación directa</td>\n      <td>2019-04-15</td>\n      <td>2019-02-20</td>\n      <td>...</td>\n      <td>1557298.0</td>\n      <td>66379827</td>\n      <td>No</td>\n      <td>Funcionamiento</td>\n      <td>Distribuido</td>\n      <td>0</td>\n      <td>No Definido</td>\n      <td>0</td>\n      <td>0</td>\n      <td>0</td>\n    </tr>\n    <tr>\n      <th>9</th>\n      <td>Distrito Capital de Bogotá</td>\n      <td>Nacional</td>\n      <td>agricultura</td>\n      <td>Ejecutivo</td>\n      <td>Descentralizada</td>\n      <td>terminado</td>\n      <td>Prestación de servicios</td>\n      <td>Contratación directa</td>\n      <td>2021-01-20</td>\n      <td>2021-01-21</td>\n      <td>...</td>\n      <td>1744200.0</td>\n      <td>1034967000</td>\n      <td>No</td>\n      <td>Inversión</td>\n      <td>Distribuido</td>\n      <td>0</td>\n      <td>Mujer</td>\n      <td>22032000</td>\n      <td>0</td>\n      <td>0</td>\n    </tr>\n    <tr>\n      <th>10</th>\n      <td>Distrito Capital de Bogotá</td>\n      <td>Nacional</td>\n      <td>Educación Nacional</td>\n      <td>Corporación Autónoma</td>\n      <td>Descentralizada</td>\n      <td>terminado</td>\n      <td>Prestación de servicios</td>\n      <td>Contratación régimen especial</td>\n      <td>2021-08-05</td>\n      <td>2021-08-09</td>\n      <td>...</td>\n      <td>2640000.0</td>\n      <td>52800000</td>\n      <td>No</td>\n      <td>Funcionamiento</td>\n      <td>Recursos Propios</td>\n      <td>0</td>\n      <td>No Definido</td>\n      <td>0</td>\n      <td>0</td>\n      <td>49500000</td>\n    </tr>\n    <tr>\n      <th>...</th>\n      <td>...</td>\n      <td>...</td>\n      <td>...</td>\n      <td>...</td>\n      <td>...</td>\n      <td>...</td>\n      <td>...</td>\n      <td>...</td>\n      <td>...</td>\n      <td>...</td>\n      <td>...</td>\n      <td>...</td>\n      <td>...</td>\n      <td>...</td>\n      <td>...</td>\n      <td>...</td>\n      <td>...</td>\n      <td>...</td>\n      <td>...</td>\n      <td>...</td>\n      <td>...</td>\n    </tr>\n    <tr>\n      <th>2689323</th>\n      <td>Cundinamarca</td>\n      <td>Territorial</td>\n      <td>No aplica/No pertenece</td>\n      <td>Ejecutivo</td>\n      <td>Descentralizada</td>\n      <td>Cerrado</td>\n      <td>Prestación de servicios</td>\n      <td>Contratación directa</td>\n      <td>2018-08-21</td>\n      <td>2018-08-21</td>\n      <td>...</td>\n      <td>20279040.0</td>\n      <td>20279040</td>\n      <td>No</td>\n      <td>Funcionamiento</td>\n      <td>Distribuido</td>\n      <td>0</td>\n      <td>No Definido</td>\n      <td>0</td>\n      <td>0</td>\n      <td>0</td>\n    </tr>\n    <tr>\n      <th>2689327</th>\n      <td>Huila</td>\n      <td>Nacional</td>\n      <td>defensa</td>\n      <td>Ejecutivo</td>\n      <td>Descentralizada</td>\n      <td>terminado</td>\n      <td>Prestación de servicios</td>\n      <td>Mínima cuantía</td>\n      <td>2021-04-06</td>\n      <td>2021-04-14</td>\n      <td>...</td>\n      <td>21000000.0</td>\n      <td>32550000</td>\n      <td>No</td>\n      <td>Funcionamiento</td>\n      <td>Distribuido</td>\n      <td>0</td>\n      <td>No Definido</td>\n      <td>24500000</td>\n      <td>0</td>\n      <td>0</td>\n    </tr>\n    <tr>\n      <th>2689331</th>\n      <td>Distrito Capital de Bogotá</td>\n      <td>Territorial</td>\n      <td>Salud y Protección Social</td>\n      <td>Corporación Autónoma</td>\n      <td>Descentralizada</td>\n      <td>terminado</td>\n      <td>DecreeLaw092/2017</td>\n      <td>Contratación régimen especial</td>\n      <td>2022-03-24</td>\n      <td>2022-03-29</td>\n      <td>...</td>\n      <td>6957491.0</td>\n      <td>58912135</td>\n      <td>No</td>\n      <td>Funcionamiento</td>\n      <td>Recursos Propios</td>\n      <td>0</td>\n      <td>Mujer</td>\n      <td>0</td>\n      <td>0</td>\n      <td>6957491</td>\n    </tr>\n    <tr>\n      <th>2689332</th>\n      <td>Atlántico</td>\n      <td>Nacional</td>\n      <td>Trabajo</td>\n      <td>Ejecutivo</td>\n      <td>Centralizada</td>\n      <td>cedido</td>\n      <td>Prestación de servicios</td>\n      <td>Contratación directa</td>\n      <td>2023-01-26</td>\n      <td>2023-02-01</td>\n      <td>...</td>\n      <td>14080000.0</td>\n      <td>2201918000</td>\n      <td>No</td>\n      <td>Inversión</td>\n      <td>Distribuido</td>\n      <td>0</td>\n      <td>No Definido</td>\n      <td>20680000</td>\n      <td>0</td>\n      <td>0</td>\n    </tr>\n    <tr>\n      <th>2689333</th>\n      <td>Huila</td>\n      <td>Territorial</td>\n      <td>Servicio Público</td>\n      <td>Ejecutivo</td>\n      <td>Centralizada</td>\n      <td>Cerrado</td>\n      <td>Prestación de servicios</td>\n      <td>Contratación directa</td>\n      <td>2021-03-05</td>\n      <td>2021-03-05</td>\n      <td>...</td>\n      <td>0.0</td>\n      <td>1800000</td>\n      <td>No</td>\n      <td>Inversión</td>\n      <td>Distribuido</td>\n      <td>0</td>\n      <td>Mujer</td>\n      <td>0</td>\n      <td>1800000</td>\n      <td>0</td>\n    </tr>\n  </tbody>\n</table>\n<p>608240 rows × 31 columns</p>\n</div>"
     },
     "execution_count": 5,
     "metadata": {},
     "output_type": "execute_result"
    }
   ],
   "source": [
    "estados_contrato = [\"terminado\", \"Cerrado\", \"cedido\", \"Prorrogado\", \"Suspendido\"]\n",
    "\n",
    "# Filtrar las filas del dataframe basándote en la columna \"Estado Contrato\"\n",
    "df_filtradoNoEjecucion = df[df[\"Estado Contrato\"].isin(estados_contrato)]\n",
    "df_filtradoNoEjecucion"
   ],
   "metadata": {
    "collapsed": false,
    "ExecuteTime": {
     "start_time": "2023-07-21T18:11:38.989290Z",
     "end_time": "2023-07-21T18:11:39.701334Z"
    }
   }
  },
  {
   "cell_type": "markdown",
   "source": [
    "#### Filtrar por año del contrato"
   ],
   "metadata": {
    "collapsed": false
   }
  },
  {
   "cell_type": "code",
   "execution_count": 6,
   "outputs": [
    {
     "data": {
      "text/plain": "                       Departamento        Orden                      Sector   \n0                         Santander  Territorial            Servicio Público  \\\n2                         Atlántico     Nacional          Educación Nacional   \n3        Distrito Capital de Bogotá     Nacional  Hacienda y Crédito Público   \n9        Distrito Capital de Bogotá     Nacional                 agricultura   \n10       Distrito Capital de Bogotá     Nacional          Educación Nacional   \n...                             ...          ...                         ...   \n2689321  Distrito Capital de Bogotá  Territorial             Ley de Justicia   \n2689327                       Huila     Nacional                     defensa   \n2689331  Distrito Capital de Bogotá  Territorial   Salud y Protección Social   \n2689332                   Atlántico     Nacional                     Trabajo   \n2689333                       Huila  Territorial            Servicio Público   \n\n                         Rama Entidad Centralizada Estado Contrato   \n0                   Ejecutivo         Centralizada       terminado  \\\n2                   Ejecutivo         Centralizada          cedido   \n3                   Ejecutivo          No Definido         Cerrado   \n9                   Ejecutivo      Descentralizada       terminado   \n10       Corporación Autónoma      Descentralizada       terminado   \n...                       ...                  ...             ...   \n2689321             Ejecutivo      Descentralizada       terminado   \n2689327             Ejecutivo      Descentralizada       terminado   \n2689331  Corporación Autónoma      Descentralizada       terminado   \n2689332             Ejecutivo         Centralizada          cedido   \n2689333             Ejecutivo         Centralizada         Cerrado   \n\n                Tipo de Contrato      Modalidad de Contratacion   \n0        Prestación de servicios           Contratación directa  \\\n2        Prestación de servicios           Contratación directa   \n3        Prestación de servicios           Contratación directa   \n9        Prestación de servicios           Contratación directa   \n10       Prestación de servicios  Contratación régimen especial   \n...                          ...                            ...   \n2689321  Prestación de servicios           Contratación directa   \n2689327  Prestación de servicios                 Mínima cuantía   \n2689331        DecreeLaw092/2017  Contratación régimen especial   \n2689332  Prestación de servicios           Contratación directa   \n2689333  Prestación de servicios           Contratación directa   \n\n        Fecha de Firma Fecha de Inicio del Contrato  ...   \n0           2021-08-17                   2021-08-19  ...  \\\n2           2020-02-07                   2020-02-07  ...   \n3           2019-04-15                   2019-02-20  ...   \n9           2021-01-20                   2021-01-21  ...   \n10          2021-08-05                   2021-08-09  ...   \n...                ...                          ...  ...   \n2689321     2022-01-25                   2022-02-01  ...   \n2689327     2021-04-06                   2021-04-14  ...   \n2689331     2022-03-24                   2022-03-29  ...   \n2689332     2023-01-26                   2023-02-01  ...   \n2689333     2021-03-05                   2021-03-05  ...   \n\n        Valor Pendiente de Ejecucion   Saldo CDP EsPostConflicto   \n0                                0.0    13750000              No  \\\n2                                0.0   366080000              No   \n3                          1557298.0    66379827              No   \n9                          1744200.0  1034967000              No   \n10                         2640000.0    52800000              No   \n...                              ...         ...             ...   \n2689321                    7350000.0    24500000              No   \n2689327                   21000000.0    32550000              No   \n2689331                    6957491.0    58912135              No   \n2689332                   14080000.0  2201918000              No   \n2689333                          0.0     1800000              No   \n\n          Destino Gasto Origen de los Recursos Dias Adicionados   \n0             Inversión            Distribuido                0  \\\n2             Inversión            Distribuido                0   \n3        Funcionamiento            Distribuido                0   \n9             Inversión            Distribuido                0   \n10       Funcionamiento       Recursos Propios                0   \n...                 ...                    ...              ...   \n2689321       Inversión       Recursos Propios                0   \n2689327  Funcionamiento            Distribuido                0   \n2689331  Funcionamiento       Recursos Propios                0   \n2689332       Inversión            Distribuido                0   \n2689333       Inversión            Distribuido                0   \n\n        Género Representante Legal  Presupuesto General de la Nacion – PGN   \n0                           Hombre                                       0  \\\n2                      No Definido                                       0   \n3                      No Definido                                       0   \n9                            Mujer                                22032000   \n10                     No Definido                                       0   \n...                            ...                                     ...   \n2689321                No Definido                                       0   \n2689327                No Definido                                24500000   \n2689331                      Mujer                                       0   \n2689332                No Definido                                20680000   \n2689333                      Mujer                                       0   \n\n         Recursos Propios (Alcaldías, Gobernaciones y Resguardos Indígenas)   \n0                                                 13750000                   \\\n2                                                        0                    \n3                                                        0                    \n9                                                        0                    \n10                                                       0                    \n...                                                    ...                    \n2689321                                                  0                    \n2689327                                                  0                    \n2689331                                                  0                    \n2689332                                                  0                    \n2689333                                            1800000                    \n\n         Recursos Propios  \n0                       0  \n2                       0  \n3                       0  \n9                       0  \n10               49500000  \n...                   ...  \n2689321          24500000  \n2689327                 0  \n2689331           6957491  \n2689332                 0  \n2689333                 0  \n\n[565610 rows x 31 columns]",
      "text/html": "<div>\n<style scoped>\n    .dataframe tbody tr th:only-of-type {\n        vertical-align: middle;\n    }\n\n    .dataframe tbody tr th {\n        vertical-align: top;\n    }\n\n    .dataframe thead th {\n        text-align: right;\n    }\n</style>\n<table border=\"1\" class=\"dataframe\">\n  <thead>\n    <tr style=\"text-align: right;\">\n      <th></th>\n      <th>Departamento</th>\n      <th>Orden</th>\n      <th>Sector</th>\n      <th>Rama</th>\n      <th>Entidad Centralizada</th>\n      <th>Estado Contrato</th>\n      <th>Tipo de Contrato</th>\n      <th>Modalidad de Contratacion</th>\n      <th>Fecha de Firma</th>\n      <th>Fecha de Inicio del Contrato</th>\n      <th>...</th>\n      <th>Valor Pendiente de Ejecucion</th>\n      <th>Saldo CDP</th>\n      <th>EsPostConflicto</th>\n      <th>Destino Gasto</th>\n      <th>Origen de los Recursos</th>\n      <th>Dias Adicionados</th>\n      <th>Género Representante Legal</th>\n      <th>Presupuesto General de la Nacion – PGN</th>\n      <th>Recursos Propios (Alcaldías, Gobernaciones y Resguardos Indígenas)</th>\n      <th>Recursos Propios</th>\n    </tr>\n  </thead>\n  <tbody>\n    <tr>\n      <th>0</th>\n      <td>Santander</td>\n      <td>Territorial</td>\n      <td>Servicio Público</td>\n      <td>Ejecutivo</td>\n      <td>Centralizada</td>\n      <td>terminado</td>\n      <td>Prestación de servicios</td>\n      <td>Contratación directa</td>\n      <td>2021-08-17</td>\n      <td>2021-08-19</td>\n      <td>...</td>\n      <td>0.0</td>\n      <td>13750000</td>\n      <td>No</td>\n      <td>Inversión</td>\n      <td>Distribuido</td>\n      <td>0</td>\n      <td>Hombre</td>\n      <td>0</td>\n      <td>13750000</td>\n      <td>0</td>\n    </tr>\n    <tr>\n      <th>2</th>\n      <td>Atlántico</td>\n      <td>Nacional</td>\n      <td>Educación Nacional</td>\n      <td>Ejecutivo</td>\n      <td>Centralizada</td>\n      <td>cedido</td>\n      <td>Prestación de servicios</td>\n      <td>Contratación directa</td>\n      <td>2020-02-07</td>\n      <td>2020-02-07</td>\n      <td>...</td>\n      <td>0.0</td>\n      <td>366080000</td>\n      <td>No</td>\n      <td>Inversión</td>\n      <td>Distribuido</td>\n      <td>0</td>\n      <td>No Definido</td>\n      <td>0</td>\n      <td>0</td>\n      <td>0</td>\n    </tr>\n    <tr>\n      <th>3</th>\n      <td>Distrito Capital de Bogotá</td>\n      <td>Nacional</td>\n      <td>Hacienda y Crédito Público</td>\n      <td>Ejecutivo</td>\n      <td>No Definido</td>\n      <td>Cerrado</td>\n      <td>Prestación de servicios</td>\n      <td>Contratación directa</td>\n      <td>2019-04-15</td>\n      <td>2019-02-20</td>\n      <td>...</td>\n      <td>1557298.0</td>\n      <td>66379827</td>\n      <td>No</td>\n      <td>Funcionamiento</td>\n      <td>Distribuido</td>\n      <td>0</td>\n      <td>No Definido</td>\n      <td>0</td>\n      <td>0</td>\n      <td>0</td>\n    </tr>\n    <tr>\n      <th>9</th>\n      <td>Distrito Capital de Bogotá</td>\n      <td>Nacional</td>\n      <td>agricultura</td>\n      <td>Ejecutivo</td>\n      <td>Descentralizada</td>\n      <td>terminado</td>\n      <td>Prestación de servicios</td>\n      <td>Contratación directa</td>\n      <td>2021-01-20</td>\n      <td>2021-01-21</td>\n      <td>...</td>\n      <td>1744200.0</td>\n      <td>1034967000</td>\n      <td>No</td>\n      <td>Inversión</td>\n      <td>Distribuido</td>\n      <td>0</td>\n      <td>Mujer</td>\n      <td>22032000</td>\n      <td>0</td>\n      <td>0</td>\n    </tr>\n    <tr>\n      <th>10</th>\n      <td>Distrito Capital de Bogotá</td>\n      <td>Nacional</td>\n      <td>Educación Nacional</td>\n      <td>Corporación Autónoma</td>\n      <td>Descentralizada</td>\n      <td>terminado</td>\n      <td>Prestación de servicios</td>\n      <td>Contratación régimen especial</td>\n      <td>2021-08-05</td>\n      <td>2021-08-09</td>\n      <td>...</td>\n      <td>2640000.0</td>\n      <td>52800000</td>\n      <td>No</td>\n      <td>Funcionamiento</td>\n      <td>Recursos Propios</td>\n      <td>0</td>\n      <td>No Definido</td>\n      <td>0</td>\n      <td>0</td>\n      <td>49500000</td>\n    </tr>\n    <tr>\n      <th>...</th>\n      <td>...</td>\n      <td>...</td>\n      <td>...</td>\n      <td>...</td>\n      <td>...</td>\n      <td>...</td>\n      <td>...</td>\n      <td>...</td>\n      <td>...</td>\n      <td>...</td>\n      <td>...</td>\n      <td>...</td>\n      <td>...</td>\n      <td>...</td>\n      <td>...</td>\n      <td>...</td>\n      <td>...</td>\n      <td>...</td>\n      <td>...</td>\n      <td>...</td>\n      <td>...</td>\n    </tr>\n    <tr>\n      <th>2689321</th>\n      <td>Distrito Capital de Bogotá</td>\n      <td>Territorial</td>\n      <td>Ley de Justicia</td>\n      <td>Ejecutivo</td>\n      <td>Descentralizada</td>\n      <td>terminado</td>\n      <td>Prestación de servicios</td>\n      <td>Contratación directa</td>\n      <td>2022-01-25</td>\n      <td>2022-02-01</td>\n      <td>...</td>\n      <td>7350000.0</td>\n      <td>24500000</td>\n      <td>No</td>\n      <td>Inversión</td>\n      <td>Recursos Propios</td>\n      <td>0</td>\n      <td>No Definido</td>\n      <td>0</td>\n      <td>0</td>\n      <td>24500000</td>\n    </tr>\n    <tr>\n      <th>2689327</th>\n      <td>Huila</td>\n      <td>Nacional</td>\n      <td>defensa</td>\n      <td>Ejecutivo</td>\n      <td>Descentralizada</td>\n      <td>terminado</td>\n      <td>Prestación de servicios</td>\n      <td>Mínima cuantía</td>\n      <td>2021-04-06</td>\n      <td>2021-04-14</td>\n      <td>...</td>\n      <td>21000000.0</td>\n      <td>32550000</td>\n      <td>No</td>\n      <td>Funcionamiento</td>\n      <td>Distribuido</td>\n      <td>0</td>\n      <td>No Definido</td>\n      <td>24500000</td>\n      <td>0</td>\n      <td>0</td>\n    </tr>\n    <tr>\n      <th>2689331</th>\n      <td>Distrito Capital de Bogotá</td>\n      <td>Territorial</td>\n      <td>Salud y Protección Social</td>\n      <td>Corporación Autónoma</td>\n      <td>Descentralizada</td>\n      <td>terminado</td>\n      <td>DecreeLaw092/2017</td>\n      <td>Contratación régimen especial</td>\n      <td>2022-03-24</td>\n      <td>2022-03-29</td>\n      <td>...</td>\n      <td>6957491.0</td>\n      <td>58912135</td>\n      <td>No</td>\n      <td>Funcionamiento</td>\n      <td>Recursos Propios</td>\n      <td>0</td>\n      <td>Mujer</td>\n      <td>0</td>\n      <td>0</td>\n      <td>6957491</td>\n    </tr>\n    <tr>\n      <th>2689332</th>\n      <td>Atlántico</td>\n      <td>Nacional</td>\n      <td>Trabajo</td>\n      <td>Ejecutivo</td>\n      <td>Centralizada</td>\n      <td>cedido</td>\n      <td>Prestación de servicios</td>\n      <td>Contratación directa</td>\n      <td>2023-01-26</td>\n      <td>2023-02-01</td>\n      <td>...</td>\n      <td>14080000.0</td>\n      <td>2201918000</td>\n      <td>No</td>\n      <td>Inversión</td>\n      <td>Distribuido</td>\n      <td>0</td>\n      <td>No Definido</td>\n      <td>20680000</td>\n      <td>0</td>\n      <td>0</td>\n    </tr>\n    <tr>\n      <th>2689333</th>\n      <td>Huila</td>\n      <td>Territorial</td>\n      <td>Servicio Público</td>\n      <td>Ejecutivo</td>\n      <td>Centralizada</td>\n      <td>Cerrado</td>\n      <td>Prestación de servicios</td>\n      <td>Contratación directa</td>\n      <td>2021-03-05</td>\n      <td>2021-03-05</td>\n      <td>...</td>\n      <td>0.0</td>\n      <td>1800000</td>\n      <td>No</td>\n      <td>Inversión</td>\n      <td>Distribuido</td>\n      <td>0</td>\n      <td>Mujer</td>\n      <td>0</td>\n      <td>1800000</td>\n      <td>0</td>\n    </tr>\n  </tbody>\n</table>\n<p>565610 rows × 31 columns</p>\n</div>"
     },
     "execution_count": 6,
     "metadata": {},
     "output_type": "execute_result"
    }
   ],
   "source": [
    "df_filtradoAnio = df_filtradoNoEjecucion[df_filtradoNoEjecucion['Fecha de Inicio del Contrato'].dt.year >= 2019]\n",
    "df_filtradoAnio"
   ],
   "metadata": {
    "collapsed": false,
    "ExecuteTime": {
     "start_time": "2023-07-21T18:11:39.701334Z",
     "end_time": "2023-07-21T18:11:40.637254Z"
    }
   }
  },
  {
   "cell_type": "code",
   "execution_count": 7,
   "outputs": [],
   "source": [
    "# df_filtradoAnio = df_filtradoAnio.drop_duplicates()\n",
    "# df_filtradoAnio.info()"
   ],
   "metadata": {
    "collapsed": false,
    "ExecuteTime": {
     "start_time": "2023-07-21T18:11:40.637254Z",
     "end_time": "2023-07-21T18:11:40.698250Z"
    }
   }
  },
  {
   "cell_type": "code",
   "execution_count": 8,
   "outputs": [
    {
     "data": {
      "text/plain": "(565610, 31)"
     },
     "execution_count": 8,
     "metadata": {},
     "output_type": "execute_result"
    }
   ],
   "source": [
    "df_filtradoAnio.shape"
   ],
   "metadata": {
    "collapsed": false,
    "ExecuteTime": {
     "start_time": "2023-07-21T18:11:40.661253Z",
     "end_time": "2023-07-21T18:11:40.699251Z"
    }
   }
  },
  {
   "cell_type": "code",
   "execution_count": 9,
   "outputs": [
    {
     "name": "stderr",
     "output_type": "stream",
     "text": [
      "C:\\Users\\caste\\AppData\\Local\\Temp\\ipykernel_11780\\3316525929.py:1: SettingWithCopyWarning: \n",
      "A value is trying to be set on a copy of a slice from a DataFrame.\n",
      "Try using .loc[row_indexer,col_indexer] = value instead\n",
      "\n",
      "See the caveats in the documentation: https://pandas.pydata.org/pandas-docs/stable/user_guide/indexing.html#returning-a-view-versus-a-copy\n",
      "  df_filtradoAnio[\"EsServicioPublico\"] = df_filtradoAnio['Sector'] == 'Servicio Público'\n"
     ]
    },
    {
     "name": "stdout",
     "output_type": "stream",
     "text": [
      "<class 'pandas.core.frame.DataFrame'>\n",
      "Index: 498850 entries, 0 to 2689333\n",
      "Data columns (total 31 columns):\n",
      " #   Column                                                              Non-Null Count   Dtype         \n",
      "---  ------                                                              --------------   -----         \n",
      " 0   Departamento                                                        498850 non-null  object        \n",
      " 1   Orden                                                               498850 non-null  object        \n",
      " 2   Rama                                                                498850 non-null  object        \n",
      " 3   Entidad Centralizada                                                498850 non-null  object        \n",
      " 4   Estado Contrato                                                     498850 non-null  object        \n",
      " 5   Modalidad de Contratacion                                           498850 non-null  object        \n",
      " 6   Fecha de Firma                                                      498850 non-null  datetime64[ns]\n",
      " 7   Fecha de Inicio del Contrato                                        498850 non-null  datetime64[ns]\n",
      " 8   Fecha de Fin del Contrato                                           498848 non-null  datetime64[ns]\n",
      " 9   Fecha de Inicio de Ejecucion                                        63964 non-null   datetime64[ns]\n",
      " 10  Fecha de Fin de Ejecucion                                           64483 non-null   datetime64[ns]\n",
      " 11  Valor del Contrato                                                  498850 non-null  int64         \n",
      " 12  Valor Facturado                                                     498850 non-null  int64         \n",
      " 13  Valor Pendiente de Pago                                             498850 non-null  int64         \n",
      " 14  Valor Pagado                                                        498850 non-null  int64         \n",
      " 15  Valor Pendiente de Ejecucion                                        497971 non-null  float64       \n",
      " 16  Saldo CDP                                                           498850 non-null  int64         \n",
      " 17  Destino Gasto                                                       498850 non-null  object        \n",
      " 18  Dias Adicionados                                                    498850 non-null  int64         \n",
      " 19  Género Representante Legal                                          498850 non-null  object        \n",
      " 20  Presupuesto General de la Nacion – PGN                              498850 non-null  int64         \n",
      " 21  Recursos Propios (Alcaldías, Gobernaciones y Resguardos Indígenas)  498850 non-null  int64         \n",
      " 22  Recursos Propios                                                    498850 non-null  int64         \n",
      " 23  EsServicioPublico                                                   498850 non-null  bool          \n",
      " 24  EsPrestacionServicios                                               498850 non-null  bool          \n",
      " 25  EsGrupo                                                             498850 non-null  bool          \n",
      " 26  EsPyme                                                              498850 non-null  bool          \n",
      " 27  EstaLiquidado                                                       498850 non-null  bool          \n",
      " 28  EsObligacionAmbiental                                               498850 non-null  bool          \n",
      " 29  Es PostConflicto                                                    498850 non-null  bool          \n",
      " 30  EsRecursosPropios                                                   498850 non-null  bool          \n",
      "dtypes: bool(8), datetime64[ns](5), float64(1), int64(9), object(8)\n",
      "memory usage: 95.1+ MB\n"
     ]
    },
    {
     "data": {
      "text/plain": "                       Departamento        Orden                  Rama   \n0                         Santander  Territorial             Ejecutivo  \\\n2                         Atlántico     Nacional             Ejecutivo   \n3        Distrito Capital de Bogotá     Nacional             Ejecutivo   \n9        Distrito Capital de Bogotá     Nacional             Ejecutivo   \n10       Distrito Capital de Bogotá     Nacional  Corporación Autónoma   \n...                             ...          ...                   ...   \n2689321  Distrito Capital de Bogotá  Territorial             Ejecutivo   \n2689327                       Huila     Nacional             Ejecutivo   \n2689331  Distrito Capital de Bogotá  Territorial  Corporación Autónoma   \n2689332                   Atlántico     Nacional             Ejecutivo   \n2689333                       Huila  Territorial             Ejecutivo   \n\n        Entidad Centralizada Estado Contrato      Modalidad de Contratacion   \n0               Centralizada       terminado           Contratación directa  \\\n2               Centralizada          cedido           Contratación directa   \n3                No Definido         Cerrado           Contratación directa   \n9            Descentralizada       terminado           Contratación directa   \n10           Descentralizada       terminado  Contratación régimen especial   \n...                      ...             ...                            ...   \n2689321      Descentralizada       terminado           Contratación directa   \n2689327      Descentralizada       terminado                 Mínima cuantía   \n2689331      Descentralizada       terminado  Contratación régimen especial   \n2689332         Centralizada          cedido           Contratación directa   \n2689333         Centralizada         Cerrado           Contratación directa   \n\n        Fecha de Firma Fecha de Inicio del Contrato Fecha de Fin del Contrato   \n0           2021-08-17                   2021-08-19                2021-12-24  \\\n2           2020-02-07                   2020-02-07                2020-12-31   \n3           2019-04-15                   2019-02-20                2019-12-31   \n9           2021-01-20                   2021-01-21                2021-08-31   \n10          2021-08-05                   2021-08-09                2021-12-31   \n...                ...                          ...                       ...   \n2689321     2022-01-25                   2022-02-01                2023-01-08   \n2689327     2021-04-06                   2021-04-14                2021-11-14   \n2689331     2022-03-24                   2022-03-29                2022-04-30   \n2689332     2023-01-26                   2023-02-01                2023-11-30   \n2689333     2021-03-05                   2021-03-05                2021-03-05   \n\n        Fecha de Inicio de Ejecucion  ...   \n0                                NaT  ...  \\\n2                         2020-02-07  ...   \n3                                NaT  ...   \n9                                NaT  ...   \n10                               NaT  ...   \n...                              ...  ...   \n2689321                          NaT  ...   \n2689327                          NaT  ...   \n2689331                          NaT  ...   \n2689332                          NaT  ...   \n2689333                          NaT  ...   \n\n        Recursos Propios (Alcaldías, Gobernaciones y Resguardos Indígenas)   \n0                                                 13750000                  \\\n2                                                        0                   \n3                                                        0                   \n9                                                        0                   \n10                                                       0                   \n...                                                    ...                   \n2689321                                                  0                   \n2689327                                                  0                   \n2689331                                                  0                   \n2689332                                                  0                   \n2689333                                            1800000                   \n\n         Recursos Propios  EsServicioPublico  EsPrestacionServicios  EsGrupo   \n0                       0               True                   True    False  \\\n2                       0              False                   True    False   \n3                       0              False                   True    False   \n9                       0              False                   True    False   \n10               49500000              False                   True    False   \n...                   ...                ...                    ...      ...   \n2689321          24500000              False                   True    False   \n2689327                 0              False                   True    False   \n2689331           6957491              False                  False    False   \n2689332                 0              False                   True    False   \n2689333                 0               True                   True    False   \n\n         EsPyme  EstaLiquidado EsObligacionAmbiental  Es PostConflicto   \n0         False          False                 False             False  \\\n2         False          False                 False             False   \n3          True          False                 False             False   \n9         False          False                 False             False   \n10        False          False                 False             False   \n...         ...            ...                   ...               ...   \n2689321   False          False                 False             False   \n2689327    True          False                 False             False   \n2689331   False          False                 False             False   \n2689332   False          False                 False             False   \n2689333    True          False                 False             False   \n\n        EsRecursosPropios  \n0                   False  \n2                   False  \n3                   False  \n9                   False  \n10                   True  \n...                   ...  \n2689321              True  \n2689327             False  \n2689331              True  \n2689332             False  \n2689333             False  \n\n[498850 rows x 31 columns]",
      "text/html": "<div>\n<style scoped>\n    .dataframe tbody tr th:only-of-type {\n        vertical-align: middle;\n    }\n\n    .dataframe tbody tr th {\n        vertical-align: top;\n    }\n\n    .dataframe thead th {\n        text-align: right;\n    }\n</style>\n<table border=\"1\" class=\"dataframe\">\n  <thead>\n    <tr style=\"text-align: right;\">\n      <th></th>\n      <th>Departamento</th>\n      <th>Orden</th>\n      <th>Rama</th>\n      <th>Entidad Centralizada</th>\n      <th>Estado Contrato</th>\n      <th>Modalidad de Contratacion</th>\n      <th>Fecha de Firma</th>\n      <th>Fecha de Inicio del Contrato</th>\n      <th>Fecha de Fin del Contrato</th>\n      <th>Fecha de Inicio de Ejecucion</th>\n      <th>...</th>\n      <th>Recursos Propios (Alcaldías, Gobernaciones y Resguardos Indígenas)</th>\n      <th>Recursos Propios</th>\n      <th>EsServicioPublico</th>\n      <th>EsPrestacionServicios</th>\n      <th>EsGrupo</th>\n      <th>EsPyme</th>\n      <th>EstaLiquidado</th>\n      <th>EsObligacionAmbiental</th>\n      <th>Es PostConflicto</th>\n      <th>EsRecursosPropios</th>\n    </tr>\n  </thead>\n  <tbody>\n    <tr>\n      <th>0</th>\n      <td>Santander</td>\n      <td>Territorial</td>\n      <td>Ejecutivo</td>\n      <td>Centralizada</td>\n      <td>terminado</td>\n      <td>Contratación directa</td>\n      <td>2021-08-17</td>\n      <td>2021-08-19</td>\n      <td>2021-12-24</td>\n      <td>NaT</td>\n      <td>...</td>\n      <td>13750000</td>\n      <td>0</td>\n      <td>True</td>\n      <td>True</td>\n      <td>False</td>\n      <td>False</td>\n      <td>False</td>\n      <td>False</td>\n      <td>False</td>\n      <td>False</td>\n    </tr>\n    <tr>\n      <th>2</th>\n      <td>Atlántico</td>\n      <td>Nacional</td>\n      <td>Ejecutivo</td>\n      <td>Centralizada</td>\n      <td>cedido</td>\n      <td>Contratación directa</td>\n      <td>2020-02-07</td>\n      <td>2020-02-07</td>\n      <td>2020-12-31</td>\n      <td>2020-02-07</td>\n      <td>...</td>\n      <td>0</td>\n      <td>0</td>\n      <td>False</td>\n      <td>True</td>\n      <td>False</td>\n      <td>False</td>\n      <td>False</td>\n      <td>False</td>\n      <td>False</td>\n      <td>False</td>\n    </tr>\n    <tr>\n      <th>3</th>\n      <td>Distrito Capital de Bogotá</td>\n      <td>Nacional</td>\n      <td>Ejecutivo</td>\n      <td>No Definido</td>\n      <td>Cerrado</td>\n      <td>Contratación directa</td>\n      <td>2019-04-15</td>\n      <td>2019-02-20</td>\n      <td>2019-12-31</td>\n      <td>NaT</td>\n      <td>...</td>\n      <td>0</td>\n      <td>0</td>\n      <td>False</td>\n      <td>True</td>\n      <td>False</td>\n      <td>True</td>\n      <td>False</td>\n      <td>False</td>\n      <td>False</td>\n      <td>False</td>\n    </tr>\n    <tr>\n      <th>9</th>\n      <td>Distrito Capital de Bogotá</td>\n      <td>Nacional</td>\n      <td>Ejecutivo</td>\n      <td>Descentralizada</td>\n      <td>terminado</td>\n      <td>Contratación directa</td>\n      <td>2021-01-20</td>\n      <td>2021-01-21</td>\n      <td>2021-08-31</td>\n      <td>NaT</td>\n      <td>...</td>\n      <td>0</td>\n      <td>0</td>\n      <td>False</td>\n      <td>True</td>\n      <td>False</td>\n      <td>False</td>\n      <td>False</td>\n      <td>False</td>\n      <td>False</td>\n      <td>False</td>\n    </tr>\n    <tr>\n      <th>10</th>\n      <td>Distrito Capital de Bogotá</td>\n      <td>Nacional</td>\n      <td>Corporación Autónoma</td>\n      <td>Descentralizada</td>\n      <td>terminado</td>\n      <td>Contratación régimen especial</td>\n      <td>2021-08-05</td>\n      <td>2021-08-09</td>\n      <td>2021-12-31</td>\n      <td>NaT</td>\n      <td>...</td>\n      <td>0</td>\n      <td>49500000</td>\n      <td>False</td>\n      <td>True</td>\n      <td>False</td>\n      <td>False</td>\n      <td>False</td>\n      <td>False</td>\n      <td>False</td>\n      <td>True</td>\n    </tr>\n    <tr>\n      <th>...</th>\n      <td>...</td>\n      <td>...</td>\n      <td>...</td>\n      <td>...</td>\n      <td>...</td>\n      <td>...</td>\n      <td>...</td>\n      <td>...</td>\n      <td>...</td>\n      <td>...</td>\n      <td>...</td>\n      <td>...</td>\n      <td>...</td>\n      <td>...</td>\n      <td>...</td>\n      <td>...</td>\n      <td>...</td>\n      <td>...</td>\n      <td>...</td>\n      <td>...</td>\n      <td>...</td>\n    </tr>\n    <tr>\n      <th>2689321</th>\n      <td>Distrito Capital de Bogotá</td>\n      <td>Territorial</td>\n      <td>Ejecutivo</td>\n      <td>Descentralizada</td>\n      <td>terminado</td>\n      <td>Contratación directa</td>\n      <td>2022-01-25</td>\n      <td>2022-02-01</td>\n      <td>2023-01-08</td>\n      <td>NaT</td>\n      <td>...</td>\n      <td>0</td>\n      <td>24500000</td>\n      <td>False</td>\n      <td>True</td>\n      <td>False</td>\n      <td>False</td>\n      <td>False</td>\n      <td>False</td>\n      <td>False</td>\n      <td>True</td>\n    </tr>\n    <tr>\n      <th>2689327</th>\n      <td>Huila</td>\n      <td>Nacional</td>\n      <td>Ejecutivo</td>\n      <td>Descentralizada</td>\n      <td>terminado</td>\n      <td>Mínima cuantía</td>\n      <td>2021-04-06</td>\n      <td>2021-04-14</td>\n      <td>2021-11-14</td>\n      <td>NaT</td>\n      <td>...</td>\n      <td>0</td>\n      <td>0</td>\n      <td>False</td>\n      <td>True</td>\n      <td>False</td>\n      <td>True</td>\n      <td>False</td>\n      <td>False</td>\n      <td>False</td>\n      <td>False</td>\n    </tr>\n    <tr>\n      <th>2689331</th>\n      <td>Distrito Capital de Bogotá</td>\n      <td>Territorial</td>\n      <td>Corporación Autónoma</td>\n      <td>Descentralizada</td>\n      <td>terminado</td>\n      <td>Contratación régimen especial</td>\n      <td>2022-03-24</td>\n      <td>2022-03-29</td>\n      <td>2022-04-30</td>\n      <td>NaT</td>\n      <td>...</td>\n      <td>0</td>\n      <td>6957491</td>\n      <td>False</td>\n      <td>False</td>\n      <td>False</td>\n      <td>False</td>\n      <td>False</td>\n      <td>False</td>\n      <td>False</td>\n      <td>True</td>\n    </tr>\n    <tr>\n      <th>2689332</th>\n      <td>Atlántico</td>\n      <td>Nacional</td>\n      <td>Ejecutivo</td>\n      <td>Centralizada</td>\n      <td>cedido</td>\n      <td>Contratación directa</td>\n      <td>2023-01-26</td>\n      <td>2023-02-01</td>\n      <td>2023-11-30</td>\n      <td>NaT</td>\n      <td>...</td>\n      <td>0</td>\n      <td>0</td>\n      <td>False</td>\n      <td>True</td>\n      <td>False</td>\n      <td>False</td>\n      <td>False</td>\n      <td>False</td>\n      <td>False</td>\n      <td>False</td>\n    </tr>\n    <tr>\n      <th>2689333</th>\n      <td>Huila</td>\n      <td>Territorial</td>\n      <td>Ejecutivo</td>\n      <td>Centralizada</td>\n      <td>Cerrado</td>\n      <td>Contratación directa</td>\n      <td>2021-03-05</td>\n      <td>2021-03-05</td>\n      <td>2021-03-05</td>\n      <td>NaT</td>\n      <td>...</td>\n      <td>1800000</td>\n      <td>0</td>\n      <td>True</td>\n      <td>True</td>\n      <td>False</td>\n      <td>True</td>\n      <td>False</td>\n      <td>False</td>\n      <td>False</td>\n      <td>False</td>\n    </tr>\n  </tbody>\n</table>\n<p>498850 rows × 31 columns</p>\n</div>"
     },
     "execution_count": 9,
     "metadata": {},
     "output_type": "execute_result"
    }
   ],
   "source": [
    "df_filtradoAnio[\"EsServicioPublico\"] = df_filtradoAnio['Sector'] == 'Servicio Público'\n",
    "df_filtradoAnio = df_filtradoAnio.drop('Sector', axis=1)\n",
    "\n",
    "df_filtradoAnio[\"EsPrestacionServicios\"] = df_filtradoAnio['Tipo de Contrato'] == 'Prestación de servicios'\n",
    "df_filtradoAnio = df_filtradoAnio.drop('Tipo de Contrato', axis=1)\n",
    "\n",
    "df_filtradoAnio[\"EsGrupo\"] = df_filtradoAnio['Es Grupo'] == 'Si'\n",
    "df_filtradoAnio = df_filtradoAnio.drop('Es Grupo', axis=1)\n",
    "\n",
    "df_filtradoAnio[\"EsPyme\"] = df_filtradoAnio['Es Pyme'] == 'Si'\n",
    "df_filtradoAnio = df_filtradoAnio.drop('Es Pyme', axis=1)\n",
    "\n",
    "df_filtradoAnio[\"EstaLiquidado\"] = df_filtradoAnio['Liquidación'] == 'Si'\n",
    "df_filtradoAnio = df_filtradoAnio.drop('Liquidación', axis=1)\n",
    "\n",
    "df_filtradoAnio[\"EsObligacionAmbiental\"] = df_filtradoAnio['Obligación Ambiental'] == 'Si'\n",
    "df_filtradoAnio = df_filtradoAnio.drop('Obligación Ambiental', axis=1)\n",
    "\n",
    "\n",
    "df_filtradoAnio[\"Es PostConflicto\"] = df_filtradoAnio['EsPostConflicto'] == 'Si'\n",
    "df_filtradoAnio = df_filtradoAnio.drop('EsPostConflicto', axis=1)\n",
    "\n",
    "df_filtradoAnio[\"EsRecursosPropios\"] = df_filtradoAnio['Origen de los Recursos'] == 'Recursos Propios'\n",
    "df_filtradoAnio = df_filtradoAnio.drop('Origen de los Recursos', axis=1)\n",
    "\n",
    "\n",
    "df_filtradoAnio = df_filtradoAnio.drop_duplicates()\n",
    "df_filtradoAnio.info()\n",
    "\n",
    "df_filtradoAnio"
   ],
   "metadata": {
    "collapsed": false,
    "ExecuteTime": {
     "start_time": "2023-07-21T18:11:40.678252Z",
     "end_time": "2023-07-21T18:11:44.040568Z"
    }
   }
  },
  {
   "cell_type": "code",
   "execution_count": 10,
   "outputs": [],
   "source": [
    "# df_filtradoAnio.to_csv('datos_filtrados_20230719.csv', index=False)"
   ],
   "metadata": {
    "collapsed": false,
    "ExecuteTime": {
     "start_time": "2023-07-21T18:11:44.045570Z",
     "end_time": "2023-07-21T18:11:44.114601Z"
    }
   }
  },
  {
   "cell_type": "code",
   "execution_count": 11,
   "outputs": [
    {
     "data": {
      "text/plain": "(199540, 31)"
     },
     "execution_count": 11,
     "metadata": {},
     "output_type": "execute_result"
    }
   ],
   "source": [
    "muestra_aleatoria = df_filtradoAnio.sample(frac=0.4)\n",
    "muestra_aleatoria.shape"
   ],
   "metadata": {
    "collapsed": false,
    "ExecuteTime": {
     "start_time": "2023-07-21T18:11:44.062089Z",
     "end_time": "2023-07-21T18:11:44.315636Z"
    }
   }
  },
  {
   "cell_type": "code",
   "execution_count": 12,
   "outputs": [
    {
     "data": {
      "text/plain": "Summarize dataset:   0%|          | 0/5 [00:00<?, ?it/s]",
      "application/vnd.jupyter.widget-view+json": {
       "version_major": 2,
       "version_minor": 0,
       "model_id": "1d9ad382b01f4ee1955f7a3c89bd13c5"
      }
     },
     "metadata": {},
     "output_type": "display_data"
    },
    {
     "name": "stderr",
     "output_type": "stream",
     "text": [
      "C:\\Users\\caste\\anaconda3\\envs\\workspace\\lib\\site-packages\\ydata_profiling\\model\\typeset_relations.py:88: UserWarning: Could not infer format, so each element will be parsed individually, falling back to `dateutil`. To ensure parsing is consistent and as-expected, please specify a format.\n",
      "  return not series.astype(\"datetime64\").isna().all()\n",
      "C:\\Users\\caste\\anaconda3\\envs\\workspace\\lib\\site-packages\\ydata_profiling\\model\\typeset_relations.py:88: UserWarning: Could not infer format, so each element will be parsed individually, falling back to `dateutil`. To ensure parsing is consistent and as-expected, please specify a format.\n",
      "  return not series.astype(\"datetime64\").isna().all()\n",
      "C:\\Users\\caste\\anaconda3\\envs\\workspace\\lib\\site-packages\\ydata_profiling\\model\\typeset_relations.py:88: UserWarning: Could not infer format, so each element will be parsed individually, falling back to `dateutil`. To ensure parsing is consistent and as-expected, please specify a format.\n",
      "  return not series.astype(\"datetime64\").isna().all()\n",
      "C:\\Users\\caste\\anaconda3\\envs\\workspace\\lib\\site-packages\\ydata_profiling\\model\\typeset_relations.py:88: UserWarning: Could not infer format, so each element will be parsed individually, falling back to `dateutil`. To ensure parsing is consistent and as-expected, please specify a format.\n",
      "  return not series.astype(\"datetime64\").isna().all()\n",
      "C:\\Users\\caste\\anaconda3\\envs\\workspace\\lib\\site-packages\\ydata_profiling\\model\\typeset_relations.py:88: UserWarning: Could not infer format, so each element will be parsed individually, falling back to `dateutil`. To ensure parsing is consistent and as-expected, please specify a format.\n",
      "  return not series.astype(\"datetime64\").isna().all()\n",
      "C:\\Users\\caste\\anaconda3\\envs\\workspace\\lib\\site-packages\\ydata_profiling\\model\\typeset_relations.py:88: UserWarning: Could not infer format, so each element will be parsed individually, falling back to `dateutil`. To ensure parsing is consistent and as-expected, please specify a format.\n",
      "  return not series.astype(\"datetime64\").isna().all()\n",
      "C:\\Users\\caste\\anaconda3\\envs\\workspace\\lib\\site-packages\\ydata_profiling\\model\\typeset_relations.py:88: UserWarning: Could not infer format, so each element will be parsed individually, falling back to `dateutil`. To ensure parsing is consistent and as-expected, please specify a format.\n",
      "  return not series.astype(\"datetime64\").isna().all()\n",
      "C:\\Users\\caste\\anaconda3\\envs\\workspace\\lib\\site-packages\\ydata_profiling\\model\\typeset_relations.py:88: UserWarning: Could not infer format, so each element will be parsed individually, falling back to `dateutil`. To ensure parsing is consistent and as-expected, please specify a format.\n",
      "  return not series.astype(\"datetime64\").isna().all()\n",
      "C:\\Users\\caste\\anaconda3\\envs\\workspace\\lib\\site-packages\\ydata_profiling\\model\\typeset_relations.py:88: UserWarning: Could not infer format, so each element will be parsed individually, falling back to `dateutil`. To ensure parsing is consistent and as-expected, please specify a format.\n",
      "  return not series.astype(\"datetime64\").isna().all()\n",
      "C:\\Users\\caste\\anaconda3\\envs\\workspace\\lib\\site-packages\\ydata_profiling\\model\\typeset_relations.py:88: UserWarning: Could not infer format, so each element will be parsed individually, falling back to `dateutil`. To ensure parsing is consistent and as-expected, please specify a format.\n",
      "  return not series.astype(\"datetime64\").isna().all()\n",
      "C:\\Users\\caste\\anaconda3\\envs\\workspace\\lib\\site-packages\\ydata_profiling\\model\\typeset_relations.py:88: UserWarning: Could not infer format, so each element will be parsed individually, falling back to `dateutil`. To ensure parsing is consistent and as-expected, please specify a format.\n",
      "  return not series.astype(\"datetime64\").isna().all()\n",
      "C:\\Users\\caste\\anaconda3\\envs\\workspace\\lib\\site-packages\\ydata_profiling\\model\\typeset_relations.py:88: UserWarning: Could not infer format, so each element will be parsed individually, falling back to `dateutil`. To ensure parsing is consistent and as-expected, please specify a format.\n",
      "  return not series.astype(\"datetime64\").isna().all()\n",
      "C:\\Users\\caste\\anaconda3\\envs\\workspace\\lib\\site-packages\\ydata_profiling\\model\\typeset_relations.py:88: UserWarning: Could not infer format, so each element will be parsed individually, falling back to `dateutil`. To ensure parsing is consistent and as-expected, please specify a format.\n",
      "  return not series.astype(\"datetime64\").isna().all()\n",
      "C:\\Users\\caste\\anaconda3\\envs\\workspace\\lib\\site-packages\\ydata_profiling\\model\\typeset_relations.py:88: UserWarning: Could not infer format, so each element will be parsed individually, falling back to `dateutil`. To ensure parsing is consistent and as-expected, please specify a format.\n",
      "  return not series.astype(\"datetime64\").isna().all()\n",
      "C:\\Users\\caste\\anaconda3\\envs\\workspace\\lib\\site-packages\\ydata_profiling\\model\\typeset_relations.py:88: UserWarning: Could not infer format, so each element will be parsed individually, falling back to `dateutil`. To ensure parsing is consistent and as-expected, please specify a format.\n",
      "  return not series.astype(\"datetime64\").isna().all()\n"
     ]
    },
    {
     "data": {
      "text/plain": "Generate report structure:   0%|          | 0/1 [00:00<?, ?it/s]",
      "application/vnd.jupyter.widget-view+json": {
       "version_major": 2,
       "version_minor": 0,
       "model_id": "6b2f6a3374ff44a79783c18b369251d9"
      }
     },
     "metadata": {},
     "output_type": "display_data"
    },
    {
     "data": {
      "text/plain": "Render HTML:   0%|          | 0/1 [00:00<?, ?it/s]",
      "application/vnd.jupyter.widget-view+json": {
       "version_major": 2,
       "version_minor": 0,
       "model_id": "e356a44f33bb480cba2a26882ae9d645"
      }
     },
     "metadata": {},
     "output_type": "display_data"
    },
    {
     "data": {
      "text/plain": "Export report to file:   0%|          | 0/1 [00:00<?, ?it/s]",
      "application/vnd.jupyter.widget-view+json": {
       "version_major": 2,
       "version_minor": 0,
       "model_id": "0d23d5c1d4b441b88f6d9e7b7e77c70b"
      }
     },
     "metadata": {},
     "output_type": "display_data"
    }
   ],
   "source": [
    "# from ydata_profiling import ProfileReport\n",
    "# profile = ProfileReport(muestra_aleatoria, title=\"Pandas Profiling Report\")\n",
    "# profile.to_file(\"secopFiltro2021muestra_profile_20230719_1923.html\")"
   ],
   "metadata": {
    "collapsed": false,
    "ExecuteTime": {
     "start_time": "2023-07-21T18:11:44.291641Z",
     "end_time": "2023-07-21T18:13:02.854737Z"
    }
   }
  },
  {
   "cell_type": "code",
   "execution_count": 13,
   "outputs": [
    {
     "data": {
      "text/plain": "                       Departamento        Orden                  Rama   \n0                         Santander  Territorial             Ejecutivo  \\\n2                         Atlántico     Nacional             Ejecutivo   \n3        Distrito Capital de Bogotá     Nacional             Ejecutivo   \n9        Distrito Capital de Bogotá     Nacional             Ejecutivo   \n10       Distrito Capital de Bogotá     Nacional  Corporación Autónoma   \n...                             ...          ...                   ...   \n2689321  Distrito Capital de Bogotá  Territorial             Ejecutivo   \n2689327                       Huila     Nacional             Ejecutivo   \n2689331  Distrito Capital de Bogotá  Territorial  Corporación Autónoma   \n2689332                   Atlántico     Nacional             Ejecutivo   \n2689333                       Huila  Territorial             Ejecutivo   \n\n        Entidad Centralizada      Modalidad de Contratacion Fecha de Firma   \n0               Centralizada           Contratación directa     2021-08-17  \\\n2               Centralizada           Contratación directa     2020-02-07   \n3                No Definido           Contratación directa     2019-04-15   \n9            Descentralizada           Contratación directa     2021-01-20   \n10           Descentralizada  Contratación régimen especial     2021-08-05   \n...                      ...                            ...            ...   \n2689321      Descentralizada           Contratación directa     2022-01-25   \n2689327      Descentralizada                 Mínima cuantía     2021-04-06   \n2689331      Descentralizada  Contratación régimen especial     2022-03-24   \n2689332         Centralizada           Contratación directa     2023-01-26   \n2689333         Centralizada           Contratación directa     2021-03-05   \n\n        Fecha de Inicio del Contrato Fecha de Fin del Contrato   \n0                         2021-08-19                2021-12-24  \\\n2                         2020-02-07                2020-12-31   \n3                         2019-02-20                2019-12-31   \n9                         2021-01-21                2021-08-31   \n10                        2021-08-09                2021-12-31   \n...                              ...                       ...   \n2689321                   2022-02-01                2023-01-08   \n2689327                   2021-04-14                2021-11-14   \n2689331                   2022-03-29                2022-04-30   \n2689332                   2023-02-01                2023-11-30   \n2689333                   2021-03-05                2021-03-05   \n\n        Fecha de Inicio de Ejecucion Fecha de Fin de Ejecucion  ...  EsGrupo   \n0                                NaT                       NaT  ...    False  \\\n2                         2020-02-07                2020-12-31  ...    False   \n3                                NaT                       NaT  ...    False   \n9                                NaT                       NaT  ...    False   \n10                               NaT                       NaT  ...    False   \n...                              ...                       ...  ...      ...   \n2689321                          NaT                       NaT  ...    False   \n2689327                          NaT                       NaT  ...    False   \n2689331                          NaT                       NaT  ...    False   \n2689332                          NaT                       NaT  ...    False   \n2689333                          NaT                       NaT  ...    False   \n\n         EsPyme  EstaLiquidado  EsObligacionAmbiental  Es PostConflicto   \n0         False          False                  False             False  \\\n2         False          False                  False             False   \n3          True          False                  False             False   \n9         False          False                  False             False   \n10        False          False                  False             False   \n...         ...            ...                    ...               ...   \n2689321   False          False                  False             False   \n2689327    True          False                  False             False   \n2689331   False          False                  False             False   \n2689332   False          False                  False             False   \n2689333    True          False                  False             False   \n\n         EsRecursosPropios Cerrado  Suspendido cedido  terminado  \n0                    False   False       False  False       True  \n2                    False   False       False   True      False  \n3                    False    True       False  False      False  \n9                    False   False       False  False       True  \n10                    True   False       False  False       True  \n...                    ...     ...         ...    ...        ...  \n2689321               True   False       False  False       True  \n2689327              False   False       False  False       True  \n2689331               True   False       False  False       True  \n2689332              False   False       False   True      False  \n2689333              False    True       False  False      False  \n\n[498850 rows x 34 columns]",
      "text/html": "<div>\n<style scoped>\n    .dataframe tbody tr th:only-of-type {\n        vertical-align: middle;\n    }\n\n    .dataframe tbody tr th {\n        vertical-align: top;\n    }\n\n    .dataframe thead th {\n        text-align: right;\n    }\n</style>\n<table border=\"1\" class=\"dataframe\">\n  <thead>\n    <tr style=\"text-align: right;\">\n      <th></th>\n      <th>Departamento</th>\n      <th>Orden</th>\n      <th>Rama</th>\n      <th>Entidad Centralizada</th>\n      <th>Modalidad de Contratacion</th>\n      <th>Fecha de Firma</th>\n      <th>Fecha de Inicio del Contrato</th>\n      <th>Fecha de Fin del Contrato</th>\n      <th>Fecha de Inicio de Ejecucion</th>\n      <th>Fecha de Fin de Ejecucion</th>\n      <th>...</th>\n      <th>EsGrupo</th>\n      <th>EsPyme</th>\n      <th>EstaLiquidado</th>\n      <th>EsObligacionAmbiental</th>\n      <th>Es PostConflicto</th>\n      <th>EsRecursosPropios</th>\n      <th>Cerrado</th>\n      <th>Suspendido</th>\n      <th>cedido</th>\n      <th>terminado</th>\n    </tr>\n  </thead>\n  <tbody>\n    <tr>\n      <th>0</th>\n      <td>Santander</td>\n      <td>Territorial</td>\n      <td>Ejecutivo</td>\n      <td>Centralizada</td>\n      <td>Contratación directa</td>\n      <td>2021-08-17</td>\n      <td>2021-08-19</td>\n      <td>2021-12-24</td>\n      <td>NaT</td>\n      <td>NaT</td>\n      <td>...</td>\n      <td>False</td>\n      <td>False</td>\n      <td>False</td>\n      <td>False</td>\n      <td>False</td>\n      <td>False</td>\n      <td>False</td>\n      <td>False</td>\n      <td>False</td>\n      <td>True</td>\n    </tr>\n    <tr>\n      <th>2</th>\n      <td>Atlántico</td>\n      <td>Nacional</td>\n      <td>Ejecutivo</td>\n      <td>Centralizada</td>\n      <td>Contratación directa</td>\n      <td>2020-02-07</td>\n      <td>2020-02-07</td>\n      <td>2020-12-31</td>\n      <td>2020-02-07</td>\n      <td>2020-12-31</td>\n      <td>...</td>\n      <td>False</td>\n      <td>False</td>\n      <td>False</td>\n      <td>False</td>\n      <td>False</td>\n      <td>False</td>\n      <td>False</td>\n      <td>False</td>\n      <td>True</td>\n      <td>False</td>\n    </tr>\n    <tr>\n      <th>3</th>\n      <td>Distrito Capital de Bogotá</td>\n      <td>Nacional</td>\n      <td>Ejecutivo</td>\n      <td>No Definido</td>\n      <td>Contratación directa</td>\n      <td>2019-04-15</td>\n      <td>2019-02-20</td>\n      <td>2019-12-31</td>\n      <td>NaT</td>\n      <td>NaT</td>\n      <td>...</td>\n      <td>False</td>\n      <td>True</td>\n      <td>False</td>\n      <td>False</td>\n      <td>False</td>\n      <td>False</td>\n      <td>True</td>\n      <td>False</td>\n      <td>False</td>\n      <td>False</td>\n    </tr>\n    <tr>\n      <th>9</th>\n      <td>Distrito Capital de Bogotá</td>\n      <td>Nacional</td>\n      <td>Ejecutivo</td>\n      <td>Descentralizada</td>\n      <td>Contratación directa</td>\n      <td>2021-01-20</td>\n      <td>2021-01-21</td>\n      <td>2021-08-31</td>\n      <td>NaT</td>\n      <td>NaT</td>\n      <td>...</td>\n      <td>False</td>\n      <td>False</td>\n      <td>False</td>\n      <td>False</td>\n      <td>False</td>\n      <td>False</td>\n      <td>False</td>\n      <td>False</td>\n      <td>False</td>\n      <td>True</td>\n    </tr>\n    <tr>\n      <th>10</th>\n      <td>Distrito Capital de Bogotá</td>\n      <td>Nacional</td>\n      <td>Corporación Autónoma</td>\n      <td>Descentralizada</td>\n      <td>Contratación régimen especial</td>\n      <td>2021-08-05</td>\n      <td>2021-08-09</td>\n      <td>2021-12-31</td>\n      <td>NaT</td>\n      <td>NaT</td>\n      <td>...</td>\n      <td>False</td>\n      <td>False</td>\n      <td>False</td>\n      <td>False</td>\n      <td>False</td>\n      <td>True</td>\n      <td>False</td>\n      <td>False</td>\n      <td>False</td>\n      <td>True</td>\n    </tr>\n    <tr>\n      <th>...</th>\n      <td>...</td>\n      <td>...</td>\n      <td>...</td>\n      <td>...</td>\n      <td>...</td>\n      <td>...</td>\n      <td>...</td>\n      <td>...</td>\n      <td>...</td>\n      <td>...</td>\n      <td>...</td>\n      <td>...</td>\n      <td>...</td>\n      <td>...</td>\n      <td>...</td>\n      <td>...</td>\n      <td>...</td>\n      <td>...</td>\n      <td>...</td>\n      <td>...</td>\n      <td>...</td>\n    </tr>\n    <tr>\n      <th>2689321</th>\n      <td>Distrito Capital de Bogotá</td>\n      <td>Territorial</td>\n      <td>Ejecutivo</td>\n      <td>Descentralizada</td>\n      <td>Contratación directa</td>\n      <td>2022-01-25</td>\n      <td>2022-02-01</td>\n      <td>2023-01-08</td>\n      <td>NaT</td>\n      <td>NaT</td>\n      <td>...</td>\n      <td>False</td>\n      <td>False</td>\n      <td>False</td>\n      <td>False</td>\n      <td>False</td>\n      <td>True</td>\n      <td>False</td>\n      <td>False</td>\n      <td>False</td>\n      <td>True</td>\n    </tr>\n    <tr>\n      <th>2689327</th>\n      <td>Huila</td>\n      <td>Nacional</td>\n      <td>Ejecutivo</td>\n      <td>Descentralizada</td>\n      <td>Mínima cuantía</td>\n      <td>2021-04-06</td>\n      <td>2021-04-14</td>\n      <td>2021-11-14</td>\n      <td>NaT</td>\n      <td>NaT</td>\n      <td>...</td>\n      <td>False</td>\n      <td>True</td>\n      <td>False</td>\n      <td>False</td>\n      <td>False</td>\n      <td>False</td>\n      <td>False</td>\n      <td>False</td>\n      <td>False</td>\n      <td>True</td>\n    </tr>\n    <tr>\n      <th>2689331</th>\n      <td>Distrito Capital de Bogotá</td>\n      <td>Territorial</td>\n      <td>Corporación Autónoma</td>\n      <td>Descentralizada</td>\n      <td>Contratación régimen especial</td>\n      <td>2022-03-24</td>\n      <td>2022-03-29</td>\n      <td>2022-04-30</td>\n      <td>NaT</td>\n      <td>NaT</td>\n      <td>...</td>\n      <td>False</td>\n      <td>False</td>\n      <td>False</td>\n      <td>False</td>\n      <td>False</td>\n      <td>True</td>\n      <td>False</td>\n      <td>False</td>\n      <td>False</td>\n      <td>True</td>\n    </tr>\n    <tr>\n      <th>2689332</th>\n      <td>Atlántico</td>\n      <td>Nacional</td>\n      <td>Ejecutivo</td>\n      <td>Centralizada</td>\n      <td>Contratación directa</td>\n      <td>2023-01-26</td>\n      <td>2023-02-01</td>\n      <td>2023-11-30</td>\n      <td>NaT</td>\n      <td>NaT</td>\n      <td>...</td>\n      <td>False</td>\n      <td>False</td>\n      <td>False</td>\n      <td>False</td>\n      <td>False</td>\n      <td>False</td>\n      <td>False</td>\n      <td>False</td>\n      <td>True</td>\n      <td>False</td>\n    </tr>\n    <tr>\n      <th>2689333</th>\n      <td>Huila</td>\n      <td>Territorial</td>\n      <td>Ejecutivo</td>\n      <td>Centralizada</td>\n      <td>Contratación directa</td>\n      <td>2021-03-05</td>\n      <td>2021-03-05</td>\n      <td>2021-03-05</td>\n      <td>NaT</td>\n      <td>NaT</td>\n      <td>...</td>\n      <td>False</td>\n      <td>True</td>\n      <td>False</td>\n      <td>False</td>\n      <td>False</td>\n      <td>False</td>\n      <td>True</td>\n      <td>False</td>\n      <td>False</td>\n      <td>False</td>\n    </tr>\n  </tbody>\n</table>\n<p>498850 rows × 34 columns</p>\n</div>"
     },
     "execution_count": 13,
     "metadata": {},
     "output_type": "execute_result"
    }
   ],
   "source": [
    "# Aplicar one-hot encoding\n",
    "df_one_hot = pd.get_dummies(df_filtradoAnio['Estado Contrato'])\n",
    "\n",
    "# Combinar el DataFrame original con las nuevas columnas\n",
    "df_final = pd.concat([df_filtradoAnio, df_one_hot], axis=1)\n",
    "\n",
    "# Eliminar la columna original \"Estado Contrato\" si deseas\n",
    "df_final = df_final.drop('Estado Contrato', axis=1)\n",
    "\n",
    "df_final"
   ],
   "metadata": {
    "collapsed": false,
    "ExecuteTime": {
     "start_time": "2023-07-21T18:13:02.835741Z",
     "end_time": "2023-07-21T18:13:03.275819Z"
    }
   }
  },
  {
   "cell_type": "code",
   "execution_count": 14,
   "outputs": [],
   "source": [
    "estado_contrato = df_final[\"Cerrado\"].copy()\n",
    "contratos_data = df_final.drop([\"terminado\",\"cedido\",\"Suspendido\",\"Cerrado\"],axis=1)"
   ],
   "metadata": {
    "collapsed": false,
    "ExecuteTime": {
     "start_time": "2023-07-21T18:13:03.278822Z",
     "end_time": "2023-07-21T18:13:03.473856Z"
    }
   }
  },
  {
   "cell_type": "code",
   "execution_count": 15,
   "outputs": [
    {
     "name": "stdout",
     "output_type": "stream",
     "text": [
      "299310 99770 99770 498850\n"
     ]
    }
   ],
   "source": [
    "# Calculate test and validation set size:\n",
    "original_count = len(df_final)\n",
    "training_size = 0.60 # 60% of records\n",
    "test_size = (1 - training_size) / 2\n",
    "\n",
    "\n",
    "training_count = int(original_count * training_size)\n",
    "test_count = int(original_count * test_size)\n",
    "validation_count = original_count - training_count - test_count\n",
    "\n",
    "print(training_count, test_count, validation_count, original_count)"
   ],
   "metadata": {
    "collapsed": false,
    "ExecuteTime": {
     "start_time": "2023-07-21T18:13:03.357857Z",
     "end_time": "2023-07-21T18:13:03.488854Z"
    }
   }
  },
  {
   "cell_type": "code",
   "execution_count": 16,
   "outputs": [
    {
     "name": "stdout",
     "output_type": "stream",
     "text": [
      "299310 99770 99770\n"
     ]
    }
   ],
   "source": [
    "from sklearn.model_selection import train_test_split\n",
    "\n",
    "train_x, rest_x, train_y, rest_y = train_test_split(contratos_data, estado_contrato, train_size=training_count)\n",
    "test_x, validate_x, test_y, validate_y = train_test_split(rest_x, rest_y, train_size=test_count)\n",
    "\n",
    "print(len(train_x), len(test_x), len(validate_x))"
   ],
   "metadata": {
    "collapsed": false,
    "ExecuteTime": {
     "start_time": "2023-07-21T18:13:03.374859Z",
     "end_time": "2023-07-21T18:13:04.639173Z"
    }
   }
  },
  {
   "cell_type": "code",
   "execution_count": 23,
   "outputs": [
    {
     "data": {
      "text/plain": "            Departamento        Orden                  Rama   \n535249         Antioquia     Nacional  Corporación Autónoma  \\\n1526915            Cesar     Nacional             Ejecutivo   \n847317   Valle del Cauca  Territorial             Ejecutivo   \n2002799            Cauca  Territorial  Corporación Autónoma   \n510449         Santander     Nacional             Ejecutivo   \n...                  ...          ...                   ...   \n681147         Antioquia  Territorial             Ejecutivo   \n1007402        Risaralda  Territorial             Ejecutivo   \n1306043  Valle del Cauca  Territorial             Ejecutivo   \n1651873        Antioquia  Territorial             Ejecutivo   \n267094         Magdalena     Nacional             Ejecutivo   \n\n        Entidad Centralizada Modalidad de Contratacion Fecha de Firma   \n535249          Centralizada      Contratación directa     2021-08-06  \\\n1526915         Centralizada            Mínima cuantía     2022-10-03   \n847317          Centralizada      Contratación directa     2022-01-12   \n2002799      Descentralizada      Contratación directa     2022-12-02   \n510449          Centralizada      Contratación directa     2022-08-01   \n...                      ...                       ...            ...   \n681147          Centralizada      Contratación directa     2022-08-03   \n1007402         Centralizada      Contratación directa     2022-01-17   \n1306043         Centralizada      Contratación directa     2021-06-22   \n1651873          No Definido      Contratación directa     2021-02-01   \n267094          Centralizada      Contratación directa     2020-01-29   \n\n        Fecha de Inicio del Contrato Fecha de Fin del Contrato   \n535249                    2021-08-09                2022-01-08  \\\n1526915                   2022-10-05                2022-10-31   \n847317                    2022-01-14                2022-06-30   \n2002799                   2022-12-02                2022-12-31   \n510449                    2022-08-01                2022-12-15   \n...                              ...                       ...   \n681147                    2022-08-03                2022-12-31   \n1007402                   2022-01-18                2022-07-17   \n1306043                   2021-06-24                2021-06-30   \n1651873                   2021-02-01                2021-06-30   \n267094                    2020-01-28                2020-12-27   \n\n        Fecha de Inicio de Ejecucion Fecha de Fin de Ejecucion  ...   \n535249                           NaT                       NaT  ...  \\\n1526915                          NaT                       NaT  ...   \n847317                           NaT                       NaT  ...   \n2002799                          NaT                       NaT  ...   \n510449                           NaT                       NaT  ...   \n...                              ...                       ...  ...   \n681147                           NaT                       NaT  ...   \n1007402                          NaT                       NaT  ...   \n1306043                          NaT                       NaT  ...   \n1651873                          NaT                       NaT  ...   \n267094                    2020-01-28                2020-12-27  ...   \n\n         Recursos Propios (Alcaldías, Gobernaciones y Resguardos Indígenas)   \n535249                                                   0                   \\\n1526915                                                  0                    \n847317                                            11808000                    \n2002799                                            2300000                    \n510449                                                   0                    \n...                                                    ...                    \n681147                                                   0                    \n1007402                                           27240000                    \n1306043                                            1968000                    \n1651873                                           32500000                    \n267094                                                   0                    \n\n         Recursos Propios  EsServicioPublico  EsPrestacionServicios  EsGrupo   \n535249           18500000              False                   True    False  \\\n1526915                 0              False                  False    False   \n847317                  0              False                   True    False   \n2002799                 0              False                   True    False   \n510449           12023446              False                   True    False   \n...                   ...                ...                    ...      ...   \n681147                  0               True                   True    False   \n1007402                 0               True                   True    False   \n1306043                 0              False                   True    False   \n1651873                 0               True                   True    False   \n267094                  0              False                   True    False   \n\n         EsPyme EstaLiquidado  EsObligacionAmbiental Es PostConflicto   \n535249    False          True                  False            False  \\\n1526915    True          True                  False            False   \n847317     True         False                  False            False   \n2002799   False         False                  False            False   \n510449    False         False                  False            False   \n...         ...           ...                    ...              ...   \n681147    False         False                  False            False   \n1007402   False         False                  False            False   \n1306043   False         False                  False            False   \n1651873   False         False                  False            False   \n267094    False         False                  False            False   \n\n         EsRecursosPropios  \n535249                True  \n1526915              False  \n847317               False  \n2002799              False  \n510449                True  \n...                    ...  \n681147               False  \n1007402              False  \n1306043              False  \n1651873              False  \n267094               False  \n\n[299310 rows x 30 columns]",
      "text/html": "<div>\n<style scoped>\n    .dataframe tbody tr th:only-of-type {\n        vertical-align: middle;\n    }\n\n    .dataframe tbody tr th {\n        vertical-align: top;\n    }\n\n    .dataframe thead th {\n        text-align: right;\n    }\n</style>\n<table border=\"1\" class=\"dataframe\">\n  <thead>\n    <tr style=\"text-align: right;\">\n      <th></th>\n      <th>Departamento</th>\n      <th>Orden</th>\n      <th>Rama</th>\n      <th>Entidad Centralizada</th>\n      <th>Modalidad de Contratacion</th>\n      <th>Fecha de Firma</th>\n      <th>Fecha de Inicio del Contrato</th>\n      <th>Fecha de Fin del Contrato</th>\n      <th>Fecha de Inicio de Ejecucion</th>\n      <th>Fecha de Fin de Ejecucion</th>\n      <th>...</th>\n      <th>Recursos Propios (Alcaldías, Gobernaciones y Resguardos Indígenas)</th>\n      <th>Recursos Propios</th>\n      <th>EsServicioPublico</th>\n      <th>EsPrestacionServicios</th>\n      <th>EsGrupo</th>\n      <th>EsPyme</th>\n      <th>EstaLiquidado</th>\n      <th>EsObligacionAmbiental</th>\n      <th>Es PostConflicto</th>\n      <th>EsRecursosPropios</th>\n    </tr>\n  </thead>\n  <tbody>\n    <tr>\n      <th>535249</th>\n      <td>Antioquia</td>\n      <td>Nacional</td>\n      <td>Corporación Autónoma</td>\n      <td>Centralizada</td>\n      <td>Contratación directa</td>\n      <td>2021-08-06</td>\n      <td>2021-08-09</td>\n      <td>2022-01-08</td>\n      <td>NaT</td>\n      <td>NaT</td>\n      <td>...</td>\n      <td>0</td>\n      <td>18500000</td>\n      <td>False</td>\n      <td>True</td>\n      <td>False</td>\n      <td>False</td>\n      <td>True</td>\n      <td>False</td>\n      <td>False</td>\n      <td>True</td>\n    </tr>\n    <tr>\n      <th>1526915</th>\n      <td>Cesar</td>\n      <td>Nacional</td>\n      <td>Ejecutivo</td>\n      <td>Centralizada</td>\n      <td>Mínima cuantía</td>\n      <td>2022-10-03</td>\n      <td>2022-10-05</td>\n      <td>2022-10-31</td>\n      <td>NaT</td>\n      <td>NaT</td>\n      <td>...</td>\n      <td>0</td>\n      <td>0</td>\n      <td>False</td>\n      <td>False</td>\n      <td>False</td>\n      <td>True</td>\n      <td>True</td>\n      <td>False</td>\n      <td>False</td>\n      <td>False</td>\n    </tr>\n    <tr>\n      <th>847317</th>\n      <td>Valle del Cauca</td>\n      <td>Territorial</td>\n      <td>Ejecutivo</td>\n      <td>Centralizada</td>\n      <td>Contratación directa</td>\n      <td>2022-01-12</td>\n      <td>2022-01-14</td>\n      <td>2022-06-30</td>\n      <td>NaT</td>\n      <td>NaT</td>\n      <td>...</td>\n      <td>11808000</td>\n      <td>0</td>\n      <td>False</td>\n      <td>True</td>\n      <td>False</td>\n      <td>True</td>\n      <td>False</td>\n      <td>False</td>\n      <td>False</td>\n      <td>False</td>\n    </tr>\n    <tr>\n      <th>2002799</th>\n      <td>Cauca</td>\n      <td>Territorial</td>\n      <td>Corporación Autónoma</td>\n      <td>Descentralizada</td>\n      <td>Contratación directa</td>\n      <td>2022-12-02</td>\n      <td>2022-12-02</td>\n      <td>2022-12-31</td>\n      <td>NaT</td>\n      <td>NaT</td>\n      <td>...</td>\n      <td>2300000</td>\n      <td>0</td>\n      <td>False</td>\n      <td>True</td>\n      <td>False</td>\n      <td>False</td>\n      <td>False</td>\n      <td>False</td>\n      <td>False</td>\n      <td>False</td>\n    </tr>\n    <tr>\n      <th>510449</th>\n      <td>Santander</td>\n      <td>Nacional</td>\n      <td>Ejecutivo</td>\n      <td>Centralizada</td>\n      <td>Contratación directa</td>\n      <td>2022-08-01</td>\n      <td>2022-08-01</td>\n      <td>2022-12-15</td>\n      <td>NaT</td>\n      <td>NaT</td>\n      <td>...</td>\n      <td>0</td>\n      <td>12023446</td>\n      <td>False</td>\n      <td>True</td>\n      <td>False</td>\n      <td>False</td>\n      <td>False</td>\n      <td>False</td>\n      <td>False</td>\n      <td>True</td>\n    </tr>\n    <tr>\n      <th>...</th>\n      <td>...</td>\n      <td>...</td>\n      <td>...</td>\n      <td>...</td>\n      <td>...</td>\n      <td>...</td>\n      <td>...</td>\n      <td>...</td>\n      <td>...</td>\n      <td>...</td>\n      <td>...</td>\n      <td>...</td>\n      <td>...</td>\n      <td>...</td>\n      <td>...</td>\n      <td>...</td>\n      <td>...</td>\n      <td>...</td>\n      <td>...</td>\n      <td>...</td>\n      <td>...</td>\n    </tr>\n    <tr>\n      <th>681147</th>\n      <td>Antioquia</td>\n      <td>Territorial</td>\n      <td>Ejecutivo</td>\n      <td>Centralizada</td>\n      <td>Contratación directa</td>\n      <td>2022-08-03</td>\n      <td>2022-08-03</td>\n      <td>2022-12-31</td>\n      <td>NaT</td>\n      <td>NaT</td>\n      <td>...</td>\n      <td>0</td>\n      <td>0</td>\n      <td>True</td>\n      <td>True</td>\n      <td>False</td>\n      <td>False</td>\n      <td>False</td>\n      <td>False</td>\n      <td>False</td>\n      <td>False</td>\n    </tr>\n    <tr>\n      <th>1007402</th>\n      <td>Risaralda</td>\n      <td>Territorial</td>\n      <td>Ejecutivo</td>\n      <td>Centralizada</td>\n      <td>Contratación directa</td>\n      <td>2022-01-17</td>\n      <td>2022-01-18</td>\n      <td>2022-07-17</td>\n      <td>NaT</td>\n      <td>NaT</td>\n      <td>...</td>\n      <td>27240000</td>\n      <td>0</td>\n      <td>True</td>\n      <td>True</td>\n      <td>False</td>\n      <td>False</td>\n      <td>False</td>\n      <td>False</td>\n      <td>False</td>\n      <td>False</td>\n    </tr>\n    <tr>\n      <th>1306043</th>\n      <td>Valle del Cauca</td>\n      <td>Territorial</td>\n      <td>Ejecutivo</td>\n      <td>Centralizada</td>\n      <td>Contratación directa</td>\n      <td>2021-06-22</td>\n      <td>2021-06-24</td>\n      <td>2021-06-30</td>\n      <td>NaT</td>\n      <td>NaT</td>\n      <td>...</td>\n      <td>1968000</td>\n      <td>0</td>\n      <td>False</td>\n      <td>True</td>\n      <td>False</td>\n      <td>False</td>\n      <td>False</td>\n      <td>False</td>\n      <td>False</td>\n      <td>False</td>\n    </tr>\n    <tr>\n      <th>1651873</th>\n      <td>Antioquia</td>\n      <td>Territorial</td>\n      <td>Ejecutivo</td>\n      <td>No Definido</td>\n      <td>Contratación directa</td>\n      <td>2021-02-01</td>\n      <td>2021-02-01</td>\n      <td>2021-06-30</td>\n      <td>NaT</td>\n      <td>NaT</td>\n      <td>...</td>\n      <td>32500000</td>\n      <td>0</td>\n      <td>True</td>\n      <td>True</td>\n      <td>False</td>\n      <td>False</td>\n      <td>False</td>\n      <td>False</td>\n      <td>False</td>\n      <td>False</td>\n    </tr>\n    <tr>\n      <th>267094</th>\n      <td>Magdalena</td>\n      <td>Nacional</td>\n      <td>Ejecutivo</td>\n      <td>Centralizada</td>\n      <td>Contratación directa</td>\n      <td>2020-01-29</td>\n      <td>2020-01-28</td>\n      <td>2020-12-27</td>\n      <td>2020-01-28</td>\n      <td>2020-12-27</td>\n      <td>...</td>\n      <td>0</td>\n      <td>0</td>\n      <td>False</td>\n      <td>True</td>\n      <td>False</td>\n      <td>False</td>\n      <td>False</td>\n      <td>False</td>\n      <td>False</td>\n      <td>False</td>\n    </tr>\n  </tbody>\n</table>\n<p>299310 rows × 30 columns</p>\n</div>"
     },
     "execution_count": 23,
     "metadata": {},
     "output_type": "execute_result"
    }
   ],
   "source": [
    "train_x"
   ],
   "metadata": {
    "collapsed": false,
    "ExecuteTime": {
     "start_time": "2023-07-21T18:15:39.507722Z",
     "end_time": "2023-07-21T18:15:39.672727Z"
    }
   }
  },
  {
   "cell_type": "code",
   "execution_count": 30,
   "outputs": [
    {
     "data": {
      "text/plain": "(299310, 30)"
     },
     "execution_count": 30,
     "metadata": {},
     "output_type": "execute_result"
    }
   ],
   "source": [
    "train_x.shape"
   ],
   "metadata": {
    "collapsed": false,
    "ExecuteTime": {
     "start_time": "2023-07-21T18:17:21.692950Z",
     "end_time": "2023-07-21T18:17:21.756465Z"
    }
   }
  },
  {
   "cell_type": "markdown",
   "source": [
    "# Pipeline"
   ],
   "metadata": {
    "collapsed": false
   }
  },
  {
   "cell_type": "code",
   "execution_count": 17,
   "outputs": [],
   "source": [
    "from sklearn.preprocessing import OneHotEncoder\n",
    "from sklearn.preprocessing import Binarizer\n",
    "from sklearn.preprocessing import RobustScaler\n",
    "\n",
    "from sklearn.compose import ColumnTransformer\n",
    "from sklearn.pipeline import FeatureUnion, Pipeline"
   ],
   "metadata": {
    "collapsed": false,
    "ExecuteTime": {
     "start_time": "2023-07-21T18:13:04.640175Z",
     "end_time": "2023-07-21T18:13:04.710172Z"
    }
   }
  },
  {
   "cell_type": "code",
   "execution_count": 78,
   "outputs": [],
   "source": [
    "one_hot_encoding = ColumnTransformer([\n",
    "    (\n",
    "        'one_hot_encode',\n",
    "        OneHotEncoder(sparse_output=False, handle_unknown=\"ignore\"),\n",
    "        [\n",
    "            \"Orden\",\n",
    "            \"Entidad Centralizada\",\n",
    "            \"Modalidad de Contratacion\",\n",
    "            \"Destino Gasto\",\n",
    "            \"Género Representante Legal\",\n",
    "            \"Departamento\",\n",
    "        ]\n",
    "    )\n",
    "])"
   ],
   "metadata": {
    "collapsed": false,
    "ExecuteTime": {
     "start_time": "2023-07-21T18:38:26.431052Z",
     "end_time": "2023-07-21T18:38:26.455051Z"
    }
   }
  },
  {
   "cell_type": "code",
   "execution_count": 79,
   "outputs": [],
   "source": [
    "binarizer = ColumnTransformer([\n",
    "    (\n",
    "        'binarizer',\n",
    "        Binarizer(),\n",
    "        [\n",
    "            \"EsServicioPublico\",\n",
    "            \"EsRecursosPropios\",\n",
    "            \"EsGrupo\",\n",
    "            \"EsPrestacionServicios\",\n",
    "            \"EsPyme\",\n",
    "            \"EstaLiquidado\",\n",
    "            \"EsObligacionAmbiental\",\n",
    "            \"Es PostConflicto\",\n",
    "        ]\n",
    "    )\n",
    "])\n",
    "\n",
    "one_hot_binarized = Pipeline([\n",
    "    (\"binarizer\", binarizer),\n",
    "    (\"one_hot_encoder\", OneHotEncoder(sparse_output=False, handle_unknown=\"ignore\")),\n",
    "])"
   ],
   "metadata": {
    "collapsed": false,
    "ExecuteTime": {
     "start_time": "2023-07-21T18:38:28.889870Z",
     "end_time": "2023-07-21T18:38:28.898870Z"
    }
   }
  },
  {
   "cell_type": "code",
   "execution_count": 80,
   "outputs": [],
   "source": [
    "scaler = ColumnTransformer([\n",
    "    (\"scaler\", RobustScaler(), [\"Valor del Contrato\",\"Valor Facturado\",\"Valor Pendiente de Pago\",\"Saldo CDP\"])\n",
    "])"
   ],
   "metadata": {
    "collapsed": false,
    "ExecuteTime": {
     "start_time": "2023-07-21T18:38:31.111882Z",
     "end_time": "2023-07-21T18:38:31.123881Z"
    }
   }
  },
  {
   "cell_type": "code",
   "execution_count": 81,
   "outputs": [],
   "source": [
    "passthrough = ColumnTransformer([\n",
    "    (\n",
    "        \"passthrough\",\n",
    "        \"passthrough\",\n",
    "        [\n",
    "\n",
    "            \"Dias Adicionados\",\n",
    "        ]\n",
    "    )\n",
    "])"
   ],
   "metadata": {
    "collapsed": false,
    "ExecuteTime": {
     "start_time": "2023-07-21T18:38:33.429838Z",
     "end_time": "2023-07-21T18:38:33.439837Z"
    }
   }
  },
  {
   "cell_type": "code",
   "execution_count": 82,
   "outputs": [],
   "source": [
    "feature_engineering_pipeline = pipe = Pipeline(\n",
    "    [\n",
    "        (\n",
    "            \"features\",\n",
    "            FeatureUnion(\n",
    "                [\n",
    "                    (\"categorical\", one_hot_encoding),\n",
    "                    (\"categorical_binarized\", one_hot_binarized),\n",
    "                    (\"scaled\", scaler),\n",
    "                    (\"pass\", passthrough)\n",
    "                ]\n",
    "            ),\n",
    "        )\n",
    "    ]\n",
    ")"
   ],
   "metadata": {
    "collapsed": false,
    "ExecuteTime": {
     "start_time": "2023-07-21T18:38:35.296878Z",
     "end_time": "2023-07-21T18:38:35.336891Z"
    }
   }
  },
  {
   "cell_type": "code",
   "execution_count": 83,
   "outputs": [
    {
     "data": {
      "text/plain": "(299310, 83)"
     },
     "execution_count": 83,
     "metadata": {},
     "output_type": "execute_result"
    }
   ],
   "source": [
    "transformed = feature_engineering_pipeline.fit_transform(train_x)\n",
    "transformed.shape"
   ],
   "metadata": {
    "collapsed": false,
    "ExecuteTime": {
     "start_time": "2023-07-21T18:38:40.799683Z",
     "end_time": "2023-07-21T18:38:42.194487Z"
    }
   }
  },
  {
   "cell_type": "code",
   "execution_count": 54,
   "outputs": [
    {
     "data": {
      "text/plain": "array([[0., 1., 0., ..., 0., 1., 0.],\n       [0., 1., 0., ..., 1., 0., 0.],\n       [0., 0., 1., ..., 1., 0., 0.],\n       ...,\n       [0., 0., 1., ..., 1., 0., 0.],\n       [0., 0., 1., ..., 1., 0., 0.],\n       [0., 1., 0., ..., 1., 0., 0.]])"
     },
     "execution_count": 54,
     "metadata": {},
     "output_type": "execute_result"
    }
   ],
   "source": [
    "transformed"
   ],
   "metadata": {
    "collapsed": false,
    "ExecuteTime": {
     "start_time": "2023-07-21T18:27:10.326038Z",
     "end_time": "2023-07-21T18:27:10.339039Z"
    }
   }
  },
  {
   "cell_type": "markdown",
   "source": [
    "# Model Trainning"
   ],
   "metadata": {
    "collapsed": false
   }
  },
  {
   "cell_type": "code",
   "execution_count": 84,
   "outputs": [],
   "source": [
    "# Get a fresh copy of the pipeline\n",
    "from sklearn.base import clone\n",
    "\n",
    "feature_transformer = clone(feature_engineering_pipeline)\n",
    "\n",
    "features_train_x = feature_transformer.fit_transform(train_x)\n",
    "features_validate_x = feature_transformer.transform(validate_x)"
   ],
   "metadata": {
    "collapsed": false,
    "ExecuteTime": {
     "start_time": "2023-07-21T18:38:47.958693Z",
     "end_time": "2023-07-21T18:38:49.342956Z"
    }
   }
  },
  {
   "cell_type": "code",
   "execution_count": 85,
   "outputs": [
    {
     "data": {
      "text/plain": "RandomForestClassifier()",
      "text/html": "<style>#sk-container-id-4 {color: black;background-color: white;}#sk-container-id-4 pre{padding: 0;}#sk-container-id-4 div.sk-toggleable {background-color: white;}#sk-container-id-4 label.sk-toggleable__label {cursor: pointer;display: block;width: 100%;margin-bottom: 0;padding: 0.3em;box-sizing: border-box;text-align: center;}#sk-container-id-4 label.sk-toggleable__label-arrow:before {content: \"▸\";float: left;margin-right: 0.25em;color: #696969;}#sk-container-id-4 label.sk-toggleable__label-arrow:hover:before {color: black;}#sk-container-id-4 div.sk-estimator:hover label.sk-toggleable__label-arrow:before {color: black;}#sk-container-id-4 div.sk-toggleable__content {max-height: 0;max-width: 0;overflow: hidden;text-align: left;background-color: #f0f8ff;}#sk-container-id-4 div.sk-toggleable__content pre {margin: 0.2em;color: black;border-radius: 0.25em;background-color: #f0f8ff;}#sk-container-id-4 input.sk-toggleable__control:checked~div.sk-toggleable__content {max-height: 200px;max-width: 100%;overflow: auto;}#sk-container-id-4 input.sk-toggleable__control:checked~label.sk-toggleable__label-arrow:before {content: \"▾\";}#sk-container-id-4 div.sk-estimator input.sk-toggleable__control:checked~label.sk-toggleable__label {background-color: #d4ebff;}#sk-container-id-4 div.sk-label input.sk-toggleable__control:checked~label.sk-toggleable__label {background-color: #d4ebff;}#sk-container-id-4 input.sk-hidden--visually {border: 0;clip: rect(1px 1px 1px 1px);clip: rect(1px, 1px, 1px, 1px);height: 1px;margin: -1px;overflow: hidden;padding: 0;position: absolute;width: 1px;}#sk-container-id-4 div.sk-estimator {font-family: monospace;background-color: #f0f8ff;border: 1px dotted black;border-radius: 0.25em;box-sizing: border-box;margin-bottom: 0.5em;}#sk-container-id-4 div.sk-estimator:hover {background-color: #d4ebff;}#sk-container-id-4 div.sk-parallel-item::after {content: \"\";width: 100%;border-bottom: 1px solid gray;flex-grow: 1;}#sk-container-id-4 div.sk-label:hover label.sk-toggleable__label {background-color: #d4ebff;}#sk-container-id-4 div.sk-serial::before {content: \"\";position: absolute;border-left: 1px solid gray;box-sizing: border-box;top: 0;bottom: 0;left: 50%;z-index: 0;}#sk-container-id-4 div.sk-serial {display: flex;flex-direction: column;align-items: center;background-color: white;padding-right: 0.2em;padding-left: 0.2em;position: relative;}#sk-container-id-4 div.sk-item {position: relative;z-index: 1;}#sk-container-id-4 div.sk-parallel {display: flex;align-items: stretch;justify-content: center;background-color: white;position: relative;}#sk-container-id-4 div.sk-item::before, #sk-container-id-4 div.sk-parallel-item::before {content: \"\";position: absolute;border-left: 1px solid gray;box-sizing: border-box;top: 0;bottom: 0;left: 50%;z-index: -1;}#sk-container-id-4 div.sk-parallel-item {display: flex;flex-direction: column;z-index: 1;position: relative;background-color: white;}#sk-container-id-4 div.sk-parallel-item:first-child::after {align-self: flex-end;width: 50%;}#sk-container-id-4 div.sk-parallel-item:last-child::after {align-self: flex-start;width: 50%;}#sk-container-id-4 div.sk-parallel-item:only-child::after {width: 0;}#sk-container-id-4 div.sk-dashed-wrapped {border: 1px dashed gray;margin: 0 0.4em 0.5em 0.4em;box-sizing: border-box;padding-bottom: 0.4em;background-color: white;}#sk-container-id-4 div.sk-label label {font-family: monospace;font-weight: bold;display: inline-block;line-height: 1.2em;}#sk-container-id-4 div.sk-label-container {text-align: center;}#sk-container-id-4 div.sk-container {/* jupyter's `normalize.less` sets `[hidden] { display: none; }` but bootstrap.min.css set `[hidden] { display: none !important; }` so we also need the `!important` here to be able to override the default hidden behavior on the sphinx rendered scikit-learn.org. See: https://github.com/scikit-learn/scikit-learn/issues/21755 */display: inline-block !important;position: relative;}#sk-container-id-4 div.sk-text-repr-fallback {display: none;}</style><div id=\"sk-container-id-4\" class=\"sk-top-container\"><div class=\"sk-text-repr-fallback\"><pre>RandomForestClassifier()</pre><b>In a Jupyter environment, please rerun this cell to show the HTML representation or trust the notebook. <br />On GitHub, the HTML representation is unable to render, please try loading this page with nbviewer.org.</b></div><div class=\"sk-container\" hidden><div class=\"sk-item\"><div class=\"sk-estimator sk-toggleable\"><input class=\"sk-toggleable__control sk-hidden--visually\" id=\"sk-estimator-id-4\" type=\"checkbox\" checked><label for=\"sk-estimator-id-4\" class=\"sk-toggleable__label sk-toggleable__label-arrow\">RandomForestClassifier</label><div class=\"sk-toggleable__content\"><pre>RandomForestClassifier()</pre></div></div></div></div></div>"
     },
     "execution_count": 85,
     "metadata": {},
     "output_type": "execute_result"
    }
   ],
   "source": [
    "from sklearn.ensemble import RandomForestClassifier\n",
    "from sklearn.svm import LinearSVC\n",
    "\n",
    "model = RandomForestClassifier(n_estimators=100)\n",
    "\n",
    "model.fit(features_train_x, train_y)"
   ],
   "metadata": {
    "collapsed": false,
    "ExecuteTime": {
     "start_time": "2023-07-21T18:38:55.963213Z",
     "end_time": "2023-07-21T18:41:28.036460Z"
    }
   }
  },
  {
   "cell_type": "markdown",
   "source": [
    "# Model Validation"
   ],
   "metadata": {
    "collapsed": false
   }
  },
  {
   "cell_type": "code",
   "execution_count": 86,
   "outputs": [
    {
     "name": "stdout",
     "output_type": "stream",
     "text": [
      "0.8666332564899268\n",
      "0.769608441083191\n"
     ]
    }
   ],
   "source": [
    "from sklearn.metrics import accuracy_score, recall_score\n",
    "\n",
    "pred_y = model.predict(features_validate_x)\n",
    "\n",
    "print(accuracy_score(validate_y, pred_y))\n",
    "print(recall_score(validate_y, pred_y))"
   ],
   "metadata": {
    "collapsed": false,
    "ExecuteTime": {
     "start_time": "2023-07-21T18:42:43.833793Z",
     "end_time": "2023-07-21T18:42:49.436409Z"
    }
   }
  },
  {
   "cell_type": "code",
   "execution_count": 88,
   "outputs": [],
   "source": [
    "final_inference_pipeline = Pipeline([\n",
    "    (\"feature_engineering\", clone(feature_engineering_pipeline)),\n",
    "    (\"model\", RandomForestClassifier(n_estimators=100))\n",
    "])"
   ],
   "metadata": {
    "collapsed": false,
    "ExecuteTime": {
     "start_time": "2023-07-21T18:45:39.860418Z",
     "end_time": "2023-07-21T18:45:39.877416Z"
    }
   }
  },
  {
   "cell_type": "code",
   "execution_count": 89,
   "outputs": [],
   "source": [
    "final_training_dataset = pd.concat([train_x, validate_x])\n",
    "final_training_response = pd.concat([train_y, validate_y])"
   ],
   "metadata": {
    "collapsed": false,
    "ExecuteTime": {
     "start_time": "2023-07-21T18:45:42.437224Z",
     "end_time": "2023-07-21T18:45:42.539224Z"
    }
   }
  },
  {
   "cell_type": "code",
   "execution_count": 90,
   "outputs": [
    {
     "data": {
      "text/plain": "Pipeline(steps=[('feature_engineering',\n                 Pipeline(steps=[('features',\n                                  FeatureUnion(transformer_list=[('categorical',\n                                                                  ColumnTransformer(transformers=[('one_hot_encode',\n                                                                                                   OneHotEncoder(handle_unknown='ignore',\n                                                                                                                 sparse_output=False),\n                                                                                                   ['Orden',\n                                                                                                    'Entidad '\n                                                                                                    'Centralizada',\n                                                                                                    'Modalidad '\n                                                                                                    'de '\n                                                                                                    'Contratacion',\n                                                                                                    'Destino '\n                                                                                                    'Gasto',\n                                                                                                    'Género '\n                                                                                                    'Representante '\n                                                                                                    'Legal',\n                                                                                                    'Departamento'])]...\n                                                                                   OneHotEncoder(handle_unknown='ignore',\n                                                                                                 sparse_output=False))])),\n                                                                 ('scaled',\n                                                                  ColumnTransformer(transformers=[('scaler',\n                                                                                                   RobustScaler(),\n                                                                                                   ['Valor '\n                                                                                                    'del '\n                                                                                                    'Contrato',\n                                                                                                    'Valor '\n                                                                                                    'Facturado',\n                                                                                                    'Valor '\n                                                                                                    'Pendiente '\n                                                                                                    'de '\n                                                                                                    'Pago',\n                                                                                                    'Saldo '\n                                                                                                    'CDP'])])),\n                                                                 ('pass',\n                                                                  ColumnTransformer(transformers=[('passthrough',\n                                                                                                   'passthrough',\n                                                                                                   ['Dias '\n                                                                                                    'Adicionados'])]))]))])),\n                ('model', RandomForestClassifier())])",
      "text/html": "<style>#sk-container-id-5 {color: black;background-color: white;}#sk-container-id-5 pre{padding: 0;}#sk-container-id-5 div.sk-toggleable {background-color: white;}#sk-container-id-5 label.sk-toggleable__label {cursor: pointer;display: block;width: 100%;margin-bottom: 0;padding: 0.3em;box-sizing: border-box;text-align: center;}#sk-container-id-5 label.sk-toggleable__label-arrow:before {content: \"▸\";float: left;margin-right: 0.25em;color: #696969;}#sk-container-id-5 label.sk-toggleable__label-arrow:hover:before {color: black;}#sk-container-id-5 div.sk-estimator:hover label.sk-toggleable__label-arrow:before {color: black;}#sk-container-id-5 div.sk-toggleable__content {max-height: 0;max-width: 0;overflow: hidden;text-align: left;background-color: #f0f8ff;}#sk-container-id-5 div.sk-toggleable__content pre {margin: 0.2em;color: black;border-radius: 0.25em;background-color: #f0f8ff;}#sk-container-id-5 input.sk-toggleable__control:checked~div.sk-toggleable__content {max-height: 200px;max-width: 100%;overflow: auto;}#sk-container-id-5 input.sk-toggleable__control:checked~label.sk-toggleable__label-arrow:before {content: \"▾\";}#sk-container-id-5 div.sk-estimator input.sk-toggleable__control:checked~label.sk-toggleable__label {background-color: #d4ebff;}#sk-container-id-5 div.sk-label input.sk-toggleable__control:checked~label.sk-toggleable__label {background-color: #d4ebff;}#sk-container-id-5 input.sk-hidden--visually {border: 0;clip: rect(1px 1px 1px 1px);clip: rect(1px, 1px, 1px, 1px);height: 1px;margin: -1px;overflow: hidden;padding: 0;position: absolute;width: 1px;}#sk-container-id-5 div.sk-estimator {font-family: monospace;background-color: #f0f8ff;border: 1px dotted black;border-radius: 0.25em;box-sizing: border-box;margin-bottom: 0.5em;}#sk-container-id-5 div.sk-estimator:hover {background-color: #d4ebff;}#sk-container-id-5 div.sk-parallel-item::after {content: \"\";width: 100%;border-bottom: 1px solid gray;flex-grow: 1;}#sk-container-id-5 div.sk-label:hover label.sk-toggleable__label {background-color: #d4ebff;}#sk-container-id-5 div.sk-serial::before {content: \"\";position: absolute;border-left: 1px solid gray;box-sizing: border-box;top: 0;bottom: 0;left: 50%;z-index: 0;}#sk-container-id-5 div.sk-serial {display: flex;flex-direction: column;align-items: center;background-color: white;padding-right: 0.2em;padding-left: 0.2em;position: relative;}#sk-container-id-5 div.sk-item {position: relative;z-index: 1;}#sk-container-id-5 div.sk-parallel {display: flex;align-items: stretch;justify-content: center;background-color: white;position: relative;}#sk-container-id-5 div.sk-item::before, #sk-container-id-5 div.sk-parallel-item::before {content: \"\";position: absolute;border-left: 1px solid gray;box-sizing: border-box;top: 0;bottom: 0;left: 50%;z-index: -1;}#sk-container-id-5 div.sk-parallel-item {display: flex;flex-direction: column;z-index: 1;position: relative;background-color: white;}#sk-container-id-5 div.sk-parallel-item:first-child::after {align-self: flex-end;width: 50%;}#sk-container-id-5 div.sk-parallel-item:last-child::after {align-self: flex-start;width: 50%;}#sk-container-id-5 div.sk-parallel-item:only-child::after {width: 0;}#sk-container-id-5 div.sk-dashed-wrapped {border: 1px dashed gray;margin: 0 0.4em 0.5em 0.4em;box-sizing: border-box;padding-bottom: 0.4em;background-color: white;}#sk-container-id-5 div.sk-label label {font-family: monospace;font-weight: bold;display: inline-block;line-height: 1.2em;}#sk-container-id-5 div.sk-label-container {text-align: center;}#sk-container-id-5 div.sk-container {/* jupyter's `normalize.less` sets `[hidden] { display: none; }` but bootstrap.min.css set `[hidden] { display: none !important; }` so we also need the `!important` here to be able to override the default hidden behavior on the sphinx rendered scikit-learn.org. See: https://github.com/scikit-learn/scikit-learn/issues/21755 */display: inline-block !important;position: relative;}#sk-container-id-5 div.sk-text-repr-fallback {display: none;}</style><div id=\"sk-container-id-5\" class=\"sk-top-container\"><div class=\"sk-text-repr-fallback\"><pre>Pipeline(steps=[(&#x27;feature_engineering&#x27;,\n                 Pipeline(steps=[(&#x27;features&#x27;,\n                                  FeatureUnion(transformer_list=[(&#x27;categorical&#x27;,\n                                                                  ColumnTransformer(transformers=[(&#x27;one_hot_encode&#x27;,\n                                                                                                   OneHotEncoder(handle_unknown=&#x27;ignore&#x27;,\n                                                                                                                 sparse_output=False),\n                                                                                                   [&#x27;Orden&#x27;,\n                                                                                                    &#x27;Entidad &#x27;\n                                                                                                    &#x27;Centralizada&#x27;,\n                                                                                                    &#x27;Modalidad &#x27;\n                                                                                                    &#x27;de &#x27;\n                                                                                                    &#x27;Contratacion&#x27;,\n                                                                                                    &#x27;Destino &#x27;\n                                                                                                    &#x27;Gasto&#x27;,\n                                                                                                    &#x27;Género &#x27;\n                                                                                                    &#x27;Representante &#x27;\n                                                                                                    &#x27;Legal&#x27;,\n                                                                                                    &#x27;Departamento&#x27;])]...\n                                                                                   OneHotEncoder(handle_unknown=&#x27;ignore&#x27;,\n                                                                                                 sparse_output=False))])),\n                                                                 (&#x27;scaled&#x27;,\n                                                                  ColumnTransformer(transformers=[(&#x27;scaler&#x27;,\n                                                                                                   RobustScaler(),\n                                                                                                   [&#x27;Valor &#x27;\n                                                                                                    &#x27;del &#x27;\n                                                                                                    &#x27;Contrato&#x27;,\n                                                                                                    &#x27;Valor &#x27;\n                                                                                                    &#x27;Facturado&#x27;,\n                                                                                                    &#x27;Valor &#x27;\n                                                                                                    &#x27;Pendiente &#x27;\n                                                                                                    &#x27;de &#x27;\n                                                                                                    &#x27;Pago&#x27;,\n                                                                                                    &#x27;Saldo &#x27;\n                                                                                                    &#x27;CDP&#x27;])])),\n                                                                 (&#x27;pass&#x27;,\n                                                                  ColumnTransformer(transformers=[(&#x27;passthrough&#x27;,\n                                                                                                   &#x27;passthrough&#x27;,\n                                                                                                   [&#x27;Dias &#x27;\n                                                                                                    &#x27;Adicionados&#x27;])]))]))])),\n                (&#x27;model&#x27;, RandomForestClassifier())])</pre><b>In a Jupyter environment, please rerun this cell to show the HTML representation or trust the notebook. <br />On GitHub, the HTML representation is unable to render, please try loading this page with nbviewer.org.</b></div><div class=\"sk-container\" hidden><div class=\"sk-item sk-dashed-wrapped\"><div class=\"sk-label-container\"><div class=\"sk-label sk-toggleable\"><input class=\"sk-toggleable__control sk-hidden--visually\" id=\"sk-estimator-id-5\" type=\"checkbox\" ><label for=\"sk-estimator-id-5\" class=\"sk-toggleable__label sk-toggleable__label-arrow\">Pipeline</label><div class=\"sk-toggleable__content\"><pre>Pipeline(steps=[(&#x27;feature_engineering&#x27;,\n                 Pipeline(steps=[(&#x27;features&#x27;,\n                                  FeatureUnion(transformer_list=[(&#x27;categorical&#x27;,\n                                                                  ColumnTransformer(transformers=[(&#x27;one_hot_encode&#x27;,\n                                                                                                   OneHotEncoder(handle_unknown=&#x27;ignore&#x27;,\n                                                                                                                 sparse_output=False),\n                                                                                                   [&#x27;Orden&#x27;,\n                                                                                                    &#x27;Entidad &#x27;\n                                                                                                    &#x27;Centralizada&#x27;,\n                                                                                                    &#x27;Modalidad &#x27;\n                                                                                                    &#x27;de &#x27;\n                                                                                                    &#x27;Contratacion&#x27;,\n                                                                                                    &#x27;Destino &#x27;\n                                                                                                    &#x27;Gasto&#x27;,\n                                                                                                    &#x27;Género &#x27;\n                                                                                                    &#x27;Representante &#x27;\n                                                                                                    &#x27;Legal&#x27;,\n                                                                                                    &#x27;Departamento&#x27;])]...\n                                                                                   OneHotEncoder(handle_unknown=&#x27;ignore&#x27;,\n                                                                                                 sparse_output=False))])),\n                                                                 (&#x27;scaled&#x27;,\n                                                                  ColumnTransformer(transformers=[(&#x27;scaler&#x27;,\n                                                                                                   RobustScaler(),\n                                                                                                   [&#x27;Valor &#x27;\n                                                                                                    &#x27;del &#x27;\n                                                                                                    &#x27;Contrato&#x27;,\n                                                                                                    &#x27;Valor &#x27;\n                                                                                                    &#x27;Facturado&#x27;,\n                                                                                                    &#x27;Valor &#x27;\n                                                                                                    &#x27;Pendiente &#x27;\n                                                                                                    &#x27;de &#x27;\n                                                                                                    &#x27;Pago&#x27;,\n                                                                                                    &#x27;Saldo &#x27;\n                                                                                                    &#x27;CDP&#x27;])])),\n                                                                 (&#x27;pass&#x27;,\n                                                                  ColumnTransformer(transformers=[(&#x27;passthrough&#x27;,\n                                                                                                   &#x27;passthrough&#x27;,\n                                                                                                   [&#x27;Dias &#x27;\n                                                                                                    &#x27;Adicionados&#x27;])]))]))])),\n                (&#x27;model&#x27;, RandomForestClassifier())])</pre></div></div></div><div class=\"sk-serial\"><div class=\"sk-item\"><div class=\"sk-label-container\"><div class=\"sk-label sk-toggleable\"><input class=\"sk-toggleable__control sk-hidden--visually\" id=\"sk-estimator-id-6\" type=\"checkbox\" ><label for=\"sk-estimator-id-6\" class=\"sk-toggleable__label sk-toggleable__label-arrow\">feature_engineering: Pipeline</label><div class=\"sk-toggleable__content\"><pre>Pipeline(steps=[(&#x27;features&#x27;,\n                 FeatureUnion(transformer_list=[(&#x27;categorical&#x27;,\n                                                 ColumnTransformer(transformers=[(&#x27;one_hot_encode&#x27;,\n                                                                                  OneHotEncoder(handle_unknown=&#x27;ignore&#x27;,\n                                                                                                sparse_output=False),\n                                                                                  [&#x27;Orden&#x27;,\n                                                                                   &#x27;Entidad &#x27;\n                                                                                   &#x27;Centralizada&#x27;,\n                                                                                   &#x27;Modalidad &#x27;\n                                                                                   &#x27;de &#x27;\n                                                                                   &#x27;Contratacion&#x27;,\n                                                                                   &#x27;Destino &#x27;\n                                                                                   &#x27;Gasto&#x27;,\n                                                                                   &#x27;Género &#x27;\n                                                                                   &#x27;Representante &#x27;\n                                                                                   &#x27;Legal&#x27;,\n                                                                                   &#x27;Departamento&#x27;])])),\n                                                (&#x27;categorical_binarized&#x27;,\n                                                 Pipeline(st...\n                                                                                                    &#x27;PostConflicto&#x27;])])),\n                                                                 (&#x27;one_hot_encoder&#x27;,\n                                                                  OneHotEncoder(handle_unknown=&#x27;ignore&#x27;,\n                                                                                sparse_output=False))])),\n                                                (&#x27;scaled&#x27;,\n                                                 ColumnTransformer(transformers=[(&#x27;scaler&#x27;,\n                                                                                  RobustScaler(),\n                                                                                  [&#x27;Valor &#x27;\n                                                                                   &#x27;del &#x27;\n                                                                                   &#x27;Contrato&#x27;,\n                                                                                   &#x27;Valor &#x27;\n                                                                                   &#x27;Facturado&#x27;,\n                                                                                   &#x27;Valor &#x27;\n                                                                                   &#x27;Pendiente &#x27;\n                                                                                   &#x27;de &#x27;\n                                                                                   &#x27;Pago&#x27;,\n                                                                                   &#x27;Saldo &#x27;\n                                                                                   &#x27;CDP&#x27;])])),\n                                                (&#x27;pass&#x27;,\n                                                 ColumnTransformer(transformers=[(&#x27;passthrough&#x27;,\n                                                                                  &#x27;passthrough&#x27;,\n                                                                                  [&#x27;Dias &#x27;\n                                                                                   &#x27;Adicionados&#x27;])]))]))])</pre></div></div></div><div class=\"sk-serial\"><div class=\"sk-item sk-dashed-wrapped\"><div class=\"sk-label-container\"><div class=\"sk-label sk-toggleable\"><input class=\"sk-toggleable__control sk-hidden--visually\" id=\"sk-estimator-id-7\" type=\"checkbox\" ><label for=\"sk-estimator-id-7\" class=\"sk-toggleable__label sk-toggleable__label-arrow\">features: FeatureUnion</label><div class=\"sk-toggleable__content\"><pre>FeatureUnion(transformer_list=[(&#x27;categorical&#x27;,\n                                ColumnTransformer(transformers=[(&#x27;one_hot_encode&#x27;,\n                                                                 OneHotEncoder(handle_unknown=&#x27;ignore&#x27;,\n                                                                               sparse_output=False),\n                                                                 [&#x27;Orden&#x27;,\n                                                                  &#x27;Entidad &#x27;\n                                                                  &#x27;Centralizada&#x27;,\n                                                                  &#x27;Modalidad &#x27;\n                                                                  &#x27;de &#x27;\n                                                                  &#x27;Contratacion&#x27;,\n                                                                  &#x27;Destino &#x27;\n                                                                  &#x27;Gasto&#x27;,\n                                                                  &#x27;Género &#x27;\n                                                                  &#x27;Representante &#x27;\n                                                                  &#x27;Legal&#x27;,\n                                                                  &#x27;Departamento&#x27;])])),\n                               (&#x27;categorical_binarized&#x27;,\n                                Pipeline(steps=[(&#x27;binarizer&#x27;,\n                                                 ColumnTran...\n                                                                                   &#x27;PostConflicto&#x27;])])),\n                                                (&#x27;one_hot_encoder&#x27;,\n                                                 OneHotEncoder(handle_unknown=&#x27;ignore&#x27;,\n                                                               sparse_output=False))])),\n                               (&#x27;scaled&#x27;,\n                                ColumnTransformer(transformers=[(&#x27;scaler&#x27;,\n                                                                 RobustScaler(),\n                                                                 [&#x27;Valor del &#x27;\n                                                                  &#x27;Contrato&#x27;,\n                                                                  &#x27;Valor &#x27;\n                                                                  &#x27;Facturado&#x27;,\n                                                                  &#x27;Valor &#x27;\n                                                                  &#x27;Pendiente &#x27;\n                                                                  &#x27;de Pago&#x27;,\n                                                                  &#x27;Saldo &#x27;\n                                                                  &#x27;CDP&#x27;])])),\n                               (&#x27;pass&#x27;,\n                                ColumnTransformer(transformers=[(&#x27;passthrough&#x27;,\n                                                                 &#x27;passthrough&#x27;,\n                                                                 [&#x27;Dias &#x27;\n                                                                  &#x27;Adicionados&#x27;])]))])</pre></div></div></div><div class=\"sk-parallel\"><div class=\"sk-parallel-item\"><div class=\"sk-item\"><div class=\"sk-label-container\"><div class=\"sk-label sk-toggleable\"><label>categorical</label></div></div><div class=\"sk-serial\"><div class=\"sk-item sk-dashed-wrapped\"><div class=\"sk-parallel\"><div class=\"sk-parallel-item\"><div class=\"sk-item\"><div class=\"sk-label-container\"><div class=\"sk-label sk-toggleable\"><input class=\"sk-toggleable__control sk-hidden--visually\" id=\"sk-estimator-id-8\" type=\"checkbox\" ><label for=\"sk-estimator-id-8\" class=\"sk-toggleable__label sk-toggleable__label-arrow\">one_hot_encode</label><div class=\"sk-toggleable__content\"><pre>[&#x27;Orden&#x27;, &#x27;Entidad Centralizada&#x27;, &#x27;Modalidad de Contratacion&#x27;, &#x27;Destino Gasto&#x27;, &#x27;Género Representante Legal&#x27;, &#x27;Departamento&#x27;]</pre></div></div></div><div class=\"sk-serial\"><div class=\"sk-item\"><div class=\"sk-estimator sk-toggleable\"><input class=\"sk-toggleable__control sk-hidden--visually\" id=\"sk-estimator-id-9\" type=\"checkbox\" ><label for=\"sk-estimator-id-9\" class=\"sk-toggleable__label sk-toggleable__label-arrow\">OneHotEncoder</label><div class=\"sk-toggleable__content\"><pre>OneHotEncoder(handle_unknown=&#x27;ignore&#x27;, sparse_output=False)</pre></div></div></div></div></div></div></div></div></div></div></div><div class=\"sk-parallel-item\"><div class=\"sk-item\"><div class=\"sk-label-container\"><div class=\"sk-label sk-toggleable\"><label>categorical_binarized</label></div></div><div class=\"sk-serial\"><div class=\"sk-item\"><div class=\"sk-serial\"><div class=\"sk-item sk-dashed-wrapped\"><div class=\"sk-label-container\"><div class=\"sk-label sk-toggleable\"><input class=\"sk-toggleable__control sk-hidden--visually\" id=\"sk-estimator-id-10\" type=\"checkbox\" ><label for=\"sk-estimator-id-10\" class=\"sk-toggleable__label sk-toggleable__label-arrow\">binarizer: ColumnTransformer</label><div class=\"sk-toggleable__content\"><pre>ColumnTransformer(transformers=[(&#x27;binarizer&#x27;, Binarizer(),\n                                 [&#x27;EsServicioPublico&#x27;, &#x27;EsRecursosPropios&#x27;,\n                                  &#x27;EsGrupo&#x27;, &#x27;EsPrestacionServicios&#x27;, &#x27;EsPyme&#x27;,\n                                  &#x27;EstaLiquidado&#x27;, &#x27;EsObligacionAmbiental&#x27;,\n                                  &#x27;Es PostConflicto&#x27;])])</pre></div></div></div><div class=\"sk-parallel\"><div class=\"sk-parallel-item\"><div class=\"sk-item\"><div class=\"sk-label-container\"><div class=\"sk-label sk-toggleable\"><input class=\"sk-toggleable__control sk-hidden--visually\" id=\"sk-estimator-id-11\" type=\"checkbox\" ><label for=\"sk-estimator-id-11\" class=\"sk-toggleable__label sk-toggleable__label-arrow\">binarizer</label><div class=\"sk-toggleable__content\"><pre>[&#x27;EsServicioPublico&#x27;, &#x27;EsRecursosPropios&#x27;, &#x27;EsGrupo&#x27;, &#x27;EsPrestacionServicios&#x27;, &#x27;EsPyme&#x27;, &#x27;EstaLiquidado&#x27;, &#x27;EsObligacionAmbiental&#x27;, &#x27;Es PostConflicto&#x27;]</pre></div></div></div><div class=\"sk-serial\"><div class=\"sk-item\"><div class=\"sk-estimator sk-toggleable\"><input class=\"sk-toggleable__control sk-hidden--visually\" id=\"sk-estimator-id-12\" type=\"checkbox\" ><label for=\"sk-estimator-id-12\" class=\"sk-toggleable__label sk-toggleable__label-arrow\">Binarizer</label><div class=\"sk-toggleable__content\"><pre>Binarizer()</pre></div></div></div></div></div></div></div></div><div class=\"sk-item\"><div class=\"sk-estimator sk-toggleable\"><input class=\"sk-toggleable__control sk-hidden--visually\" id=\"sk-estimator-id-13\" type=\"checkbox\" ><label for=\"sk-estimator-id-13\" class=\"sk-toggleable__label sk-toggleable__label-arrow\">OneHotEncoder</label><div class=\"sk-toggleable__content\"><pre>OneHotEncoder(handle_unknown=&#x27;ignore&#x27;, sparse_output=False)</pre></div></div></div></div></div></div></div></div><div class=\"sk-parallel-item\"><div class=\"sk-item\"><div class=\"sk-label-container\"><div class=\"sk-label sk-toggleable\"><label>scaled</label></div></div><div class=\"sk-serial\"><div class=\"sk-item sk-dashed-wrapped\"><div class=\"sk-parallel\"><div class=\"sk-parallel-item\"><div class=\"sk-item\"><div class=\"sk-label-container\"><div class=\"sk-label sk-toggleable\"><input class=\"sk-toggleable__control sk-hidden--visually\" id=\"sk-estimator-id-14\" type=\"checkbox\" ><label for=\"sk-estimator-id-14\" class=\"sk-toggleable__label sk-toggleable__label-arrow\">scaler</label><div class=\"sk-toggleable__content\"><pre>[&#x27;Valor del Contrato&#x27;, &#x27;Valor Facturado&#x27;, &#x27;Valor Pendiente de Pago&#x27;, &#x27;Saldo CDP&#x27;]</pre></div></div></div><div class=\"sk-serial\"><div class=\"sk-item\"><div class=\"sk-estimator sk-toggleable\"><input class=\"sk-toggleable__control sk-hidden--visually\" id=\"sk-estimator-id-15\" type=\"checkbox\" ><label for=\"sk-estimator-id-15\" class=\"sk-toggleable__label sk-toggleable__label-arrow\">RobustScaler</label><div class=\"sk-toggleable__content\"><pre>RobustScaler()</pre></div></div></div></div></div></div></div></div></div></div></div><div class=\"sk-parallel-item\"><div class=\"sk-item\"><div class=\"sk-label-container\"><div class=\"sk-label sk-toggleable\"><label>pass</label></div></div><div class=\"sk-serial\"><div class=\"sk-item sk-dashed-wrapped\"><div class=\"sk-parallel\"><div class=\"sk-parallel-item\"><div class=\"sk-item\"><div class=\"sk-label-container\"><div class=\"sk-label sk-toggleable\"><input class=\"sk-toggleable__control sk-hidden--visually\" id=\"sk-estimator-id-16\" type=\"checkbox\" ><label for=\"sk-estimator-id-16\" class=\"sk-toggleable__label sk-toggleable__label-arrow\">passthrough</label><div class=\"sk-toggleable__content\"><pre>[&#x27;Dias Adicionados&#x27;]</pre></div></div></div><div class=\"sk-serial\"><div class=\"sk-item\"><div class=\"sk-estimator sk-toggleable\"><input class=\"sk-toggleable__control sk-hidden--visually\" id=\"sk-estimator-id-17\" type=\"checkbox\" ><label for=\"sk-estimator-id-17\" class=\"sk-toggleable__label sk-toggleable__label-arrow\">passthrough</label><div class=\"sk-toggleable__content\"><pre>passthrough</pre></div></div></div></div></div></div></div></div></div></div></div></div></div></div></div><div class=\"sk-item\"><div class=\"sk-estimator sk-toggleable\"><input class=\"sk-toggleable__control sk-hidden--visually\" id=\"sk-estimator-id-18\" type=\"checkbox\" ><label for=\"sk-estimator-id-18\" class=\"sk-toggleable__label sk-toggleable__label-arrow\">RandomForestClassifier</label><div class=\"sk-toggleable__content\"><pre>RandomForestClassifier()</pre></div></div></div></div></div></div></div>"
     },
     "execution_count": 90,
     "metadata": {},
     "output_type": "execute_result"
    }
   ],
   "source": [
    "final_inference_pipeline.fit(final_training_dataset, final_training_response)"
   ],
   "metadata": {
    "collapsed": false,
    "ExecuteTime": {
     "start_time": "2023-07-21T18:45:47.192889Z",
     "end_time": "2023-07-21T18:49:48.149864Z"
    }
   }
  },
  {
   "cell_type": "code",
   "execution_count": 91,
   "outputs": [
    {
     "name": "stdout",
     "output_type": "stream",
     "text": [
      "0.8740202465671043\n",
      "0.8243667842257134\n"
     ]
    }
   ],
   "source": [
    "test_pred_y = final_inference_pipeline.predict(test_x)\n",
    "\n",
    "print(accuracy_score(test_pred_y, test_y))\n",
    "print(recall_score(test_pred_y, test_y))"
   ],
   "metadata": {
    "collapsed": false,
    "ExecuteTime": {
     "start_time": "2023-07-21T18:49:57.931679Z",
     "end_time": "2023-07-21T18:50:04.180333Z"
    }
   }
  },
  {
   "cell_type": "code",
   "execution_count": 92,
   "outputs": [
    {
     "data": {
      "text/plain": "['Cecop_pipeline.joblib']"
     },
     "execution_count": 92,
     "metadata": {},
     "output_type": "execute_result"
    }
   ],
   "source": [
    "from joblib import dump\n",
    "\n",
    "dump(final_inference_pipeline, \"Cecop_pipeline.joblib\")"
   ],
   "metadata": {
    "collapsed": false,
    "ExecuteTime": {
     "start_time": "2023-07-21T18:51:16.437757Z",
     "end_time": "2023-07-21T18:51:17.812788Z"
    }
   }
  },
  {
   "cell_type": "code",
   "execution_count": null,
   "outputs": [],
   "source": [],
   "metadata": {
    "collapsed": false
   }
  }
 ],
 "metadata": {
  "kernelspec": {
   "display_name": "Python 3",
   "language": "python",
   "name": "python3"
  },
  "language_info": {
   "codemirror_mode": {
    "name": "ipython",
    "version": 2
   },
   "file_extension": ".py",
   "mimetype": "text/x-python",
   "name": "python",
   "nbconvert_exporter": "python",
   "pygments_lexer": "ipython2",
   "version": "2.7.6"
  }
 },
 "nbformat": 4,
 "nbformat_minor": 0
}
